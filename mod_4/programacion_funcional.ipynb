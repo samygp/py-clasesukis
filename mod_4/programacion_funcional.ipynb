{
 "metadata": {
  "language_info": {
   "codemirror_mode": {
    "name": "ipython",
    "version": 3
   },
   "file_extension": ".py",
   "mimetype": "text/x-python",
   "name": "python",
   "nbconvert_exporter": "python",
   "pygments_lexer": "ipython3",
   "version": "3.7.5-final"
  },
  "orig_nbformat": 2,
  "kernelspec": {
   "name": "python37564bitpyenvvenvd4b75a7901ba4a5292e75ea444303d15",
   "display_name": "Python 3.7.5 64-bit ('pyenv': venv)"
  }
 },
 "nbformat": 4,
 "nbformat_minor": 2,
 "cells": [
  {
   "cell_type": "markdown",
   "metadata": {},
   "source": [
    "# Introducción A Programación Funcional: Listas Por Comprensión Y Funciones Lambda\n",
    "\n",
    "Este podría ser un tema que te va a revolver un poco las ideas, pero al mismo tiempo te puede abrir un mundo completamente nuevo para estructurar tu código. Entonces empezaré por darte una breve advertencia: esto necesita que te sientas bien afianzado de lo demás de este curso, porque se construye encima de todo eso.\n",
    "\n",
    "El termino \"Programación Funcional\" puede sonar un poco redundante al principio; ¿cómo que \"Programación Funcional\"? ¿No se supone que lo que programas ya debe funcionar? Y sí, efectivamente, que funcione es un muy buen inicio para tu código, pero en este caso \"funcional\" se refiere a que este enfoque de programación está primariamente basado en funciones.\n",
    "\n",
    "Si recuerdas, uno de los argumentos a favor de escribir funciones que se discutieron en las primeras lecciones era que hacen tu código más fácil de leer, lo cual es cierto. La programación funcional hace especial énfasis en ese punto, para que el código se lea de una manera muy fácil de entender, porque las funciones hacen prácticamente todo el trabajo, y el código \"principal\" se lee casi exclusivamente con los nombres de funciones.\n",
    "\n",
    "Empecemos con un ejemplo, hagamos un programa básico con el ejemplo que ya conoces muy bien para separar números pares o impares."
   ]
  },
  {
   "cell_type": "code",
   "execution_count": 1,
   "metadata": {
    "tags": []
   },
   "outputs": [
    {
     "output_type": "stream",
     "name": "stdout",
     "text": "[2, 4, 6, 8, 10]\n[1, 3, 5, 7, 9]\n"
    }
   ],
   "source": [
    "numeros = [1,2,3,4,5,6,7,8,9,10]\n",
    "\n",
    "pares = []\n",
    "impares = []\n",
    "\n",
    "for num in numeros:\n",
    "    if num % 2 == 0:\n",
    "        pares.append(num)\n",
    "    else:\n",
    "        impares.append(num)\n",
    "\n",
    "print(pares)\n",
    "print(impares)"
   ]
  },
  {
   "cell_type": "markdown",
   "metadata": {},
   "source": [
    "Todo bien, todo normal, funciona, pero puede mejorar. Para casos así de simples, donde creas arreglos nuevos basados en una condición que es fácil de leer, Python tiene una herramienta de la que personalmente soy fan: las listas por comprensión. La idea detrás de una lista por comprensión es \"una lista que **comprende** (o esta hecha de...) elementos que comparten una característica\". Por ejemplo, podemos hacer una lista que **comprende** todos los números pares de otra lista original, y otra lista que **comprende** los números impares.\n",
    "\n",
    "La sintaxis de estas listas en Python es así:\n",
    " \n",
    "```\n",
    "          (2)         (              1                 )       (3 - opcional)                 (4 - opcional)\n",
    "[(expresión elemento) for elemento in iterable_original if (condicion para elemento) else (elemento alternativo)]\n",
    "```\n",
    "\n",
    "Puede que se lea muy largo, y es cierto, es largo como lo escribí, pero es sólo para ponerle nombre a cada una de las partes en una expresión que define estas listas. Así que mejor veamos cada sección por separado, en el orden que están enumeradas arriba:\n",
    "\n",
    "1) Esta sección define cómo llamar la variable que representa cada elemento en un iterable, prácticamente idéntico a los enunciados `for` que representan `for elemento in lista` o `for i in range(numero)`.\n",
    "2) El elemento, o la operación a aplicar a ese elemento (por ejemplo, convertirlo a cadena, o dejarlo con su valor original).\n",
    "3) Esta sección es opcional, e implica una condición que define si el elemento se incluirá o no en la lista final. Si esta condición se cumple, se incluirá el elemento, pero si la expresión regresa un valor falso, se omitirá.\n",
    "4) Esta sección también es opcional, y depende que exista la sección 3. Si la condición evalúa a un valor falso, nos permite definir qué hacer con el elemento, o qué otro valor utilizar si no queremos utilizar el elemento original.\n",
    "\n",
    "Y quizás incluso después de estos detalles adicionales no quede del todo claro, pero te prometo que una vez que empiezas a escribir tus propias listas por comprensión se vuelve más intuitivo y cómodo que escribir expresiones que normalmente te llevarían varias líneas.\n",
    "\n",
    "Convirtamos el ejemplo de separar pares e impares a listas por comprensión."
   ]
  },
  {
   "cell_type": "code",
   "execution_count": 2,
   "metadata": {
    "tags": []
   },
   "outputs": [
    {
     "output_type": "stream",
     "name": "stdout",
     "text": "[2, 4, 6, 8, 10]\n[1, 3, 5, 7, 9]\n"
    }
   ],
   "source": [
    "numeros = [1,2,3,4,5,6,7,8,9,10]\n",
    "\n",
    "# Esto se leería de la siguiente forma:\n",
    "# Una lista con elementos \"num\", para cada \"num\"\n",
    "# que contenga la lista \"numeros\", sólo si el\n",
    "# residuo de ese \"num\" dividido entre 2 es 0\n",
    "pares = [num for num in numeros if num % 2 == 0]\n",
    "# Misma operación pero evaluando si el residuo\n",
    "# es DIFERENTE de 0\n",
    "impares = [num for num in numeros if num % 2 != 0]\n",
    "\n",
    "print(pares)\n",
    "print(impares)"
   ]
  },
  {
   "cell_type": "markdown",
   "metadata": {},
   "source": [
    "Como verás, hace exactamente lo mismo que el primer bloque de código, pero en menos líneas de código, y cuando estás acostumbrado a esta sintaxis, se vuelve más cómodo de leer en palabras humanas. Pero puede mejorar todavía más. ¿Recuerdas cómo hicimos las funciones \"es_par\" en otras lecciones? Originalmente se veía algo así:\n",
    "\n",
    "```python\n",
    "def es_par(numero):\n",
    "    return numero % 2 == 0\n",
    "```\n",
    "\n",
    "Eso nos da una función que acepta un parámetro y regresa el resultado de evaluar si su módulo de 2 es igual a 0, un booleano. Y la podemos utilizar en las listas de comprensión de la siguiente manera:\n"
   ]
  },
  {
   "cell_type": "code",
   "execution_count": 4,
   "metadata": {
    "tags": []
   },
   "outputs": [
    {
     "output_type": "stream",
     "name": "stdout",
     "text": "[2, 4, 6, 8, 10]\n[1, 3, 5, 7, 9]\n"
    }
   ],
   "source": [
    "def es_par(numero):\n",
    "    return numero % 2 == 0\n",
    "\n",
    "numeros = [1,2,3,4,5,6,7,8,9,10]\n",
    "pares = [num for num in numeros if es_par(num)]\n",
    "impares = [num for num in numeros if not es_par(num)]\n",
    "print(pares)\n",
    "print(impares)"
   ]
  },
  {
   "cell_type": "markdown",
   "metadata": {},
   "source": [
    "Cada vez es más fácil de leer la expresión (sobre todo, por ejemplo, cuando quieres explicar qué hace a alguien más). \"Quiero elementos 'num' tal que ese 'num' venga de la lista 'numeros', pero solamente si 'es_par'\".\n",
    "\n",
    "Ahora, algunos somos muy holgazanes para escribir, y nos parece un poco incómodo tener que escribir dos líneas para una función que sólo compara un número, y afortunadamente alguien pensó en nosotros y nos dió una sintaxis distinta para cuando tenemos esta clase de funciones que se reducen en operaciones de una línea: las funciones lambda.\n",
    "\n",
    "Esta clase de funciones por sí mismas no tienen nombres, y se utilizan frecuentemente como parámetro para una operación. Las funciones lambda derivan de una rama en matemáticas llamada \"cálculo lambda\" que es bastante amplio para explicar en esta lección, pero representa el corazón de la programación funcional: las operaciones están todas definidas en forma de funciones, y funciones reciben otras funciones, y resultados de otras funciones para operar porque todo son funciones.\n",
    "\n",
    "Esta es la parte de la que te advertí al principio, y de verdad vale la pena cuando lo logras hacer bien, porque vuelve tu código elegante de leerse y bastante más fácil de modificar y utilizar; cuando utilizas el **paradigma** de programación funcional, el propósito es enfocarte en \"qué\" quieres hacer, y no tanto en \"cómo\" hacerlo. El propósito de definir funciones es que cuando las utilices, ya puedes dar por entendido \"qué\" hace la función, y no tienes que leer cada vez \"cómo\" lo hace.\n",
    "\n",
    "Implícitamente utilizamos algo similar a funciones lambda en las listas por comprensión, porque están basadas en el mismo principio. La sintaxis es la siguiente\n",
    "\n",
    "```python\n",
    "            (1)                (2)\n",
    "lambda parametros: operacion con los parametros\n",
    "```\n",
    "\n",
    "Los parámetros en una función lambda pueden ser uno o más, y la operación debe ser de una sóla línea (de otra forma es mejor estructurar varias operaciones en una función normal). Adicionalmente, las funciones lambda tienen el propósito de ser utilizadas en un fragmento del código, sólo una vez.\n",
    "\n",
    "Veamos cómo sería la representación en forma de función lambda de una función que sea el opuesto de \"es_par\", o sea, una que nos diga si el número es impar."
   ]
  },
  {
   "cell_type": "code",
   "execution_count": 5,
   "metadata": {
    "tags": []
   },
   "outputs": [
    {
     "output_type": "stream",
     "name": "stdout",
     "text": "[2, 4, 6, 8, 10]\n[1, 3, 5, 7, 9]\n"
    }
   ],
   "source": [
    "es_impar = lambda num : num % 2 != 0\n",
    "\n",
    "numeros = [1,2,3,4,5,6,7,8,9,10]\n",
    "pares = [num for num in numeros if not es_impar(num)]\n",
    "impares = [num for num in numeros if es_impar(num)]\n",
    "\n",
    "print(pares)\n",
    "print(impares)"
   ]
  },
  {
   "cell_type": "markdown",
   "metadata": {},
   "source": [
    "Todos los ejemplos hasta ahora han sido sobre un arreglo estático, pero también puedes utilizar las listas por comprensión para \"generar\" nuevas listas de números (que es de las cosas que más me gusta hacer con las listas por comprensión).\n",
    "\n",
    "Pero espera, hay un paso todavía más interesante que podemos tomar con el paradigma funcional: las funciones en Python pueden recibir como parámetros otras funciones. No importa si estas funciones fueron definidas como lambda o con la palabra `def`, ambas se consideran la misma cosa en Python: objetos. Específicamente, objetos tipo función. Y siendo todo en Python objetos, todas las variables y funciones que se te ocurran son, abstractamente, de la misma familia, y todo se puede usar como parámetro en una función.\n",
    "\n",
    "El siguiente ejemplo hará algo que normalmente sería un poco tedioso de estructurar para dos arreglos diferentes, o tres, porque para cada una tendríamos que escribir la definición de una lista por comprensión, pero si creamos una función que genere estas listas, y utilice una "
   ]
  },
  {
   "cell_type": "code",
   "execution_count": 6,
   "metadata": {
    "tags": []
   },
   "outputs": [
    {
     "output_type": "stream",
     "name": "stdout",
     "text": "Numeros pares: [2, 4, 6, 8, 10]\nNumeros impares: [1, 3, 5, 7, 9]\nTodos los números: [1, 2, 3, 4, 5, 6, 7, 8, 9, 10]\n"
    }
   ],
   "source": [
    "def nuevo_rango(inicio, fin, funcion_filtro):\n",
    "    # El fin del rango será \"fin + 1\" para volverlo inclusivo (incluir el último número del rango)\n",
    "    return [num for num in range(inicio, fin + 1) if funcion_filtro(num)]\n",
    "\n",
    "# También se puede definir una función lambda sin incluirla en una variable\n",
    "pares = nuevo_rango(1, 10, lambda num: num % 2 == 0)\n",
    "\n",
    "es_impar = lambda num: num % 2 != 0 # Regresa el resultado de evaluar si el número es impar\n",
    "impares = nuevo_rango(1, 10, es_impar)\n",
    "\n",
    "es_cualquiera = lambda num: num == num # Regresa el resultado de evaluar si el número es igual a sí mismo (siempre True)\n",
    "todos = nuevo_rango(1, 10, es_cualquiera)\n",
    "\n",
    "print(\"Numeros pares:\", pares)\n",
    "print(\"Numeros impares:\", impares)\n",
    "print(\"Todos los números:\", todos)"
   ]
  }
 ]
}