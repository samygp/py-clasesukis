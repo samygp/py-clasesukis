{
 "metadata": {
  "language_info": {
   "codemirror_mode": {
    "name": "ipython",
    "version": 3
   },
   "file_extension": ".py",
   "mimetype": "text/x-python",
   "name": "python",
   "nbconvert_exporter": "python",
   "pygments_lexer": "ipython3",
   "version": "3.7.5-final"
  },
  "orig_nbformat": 2,
  "kernelspec": {
   "name": "python37564bitpyenvvenvd4b75a7901ba4a5292e75ea444303d15",
   "display_name": "Python 3.7.5 64-bit ('pyenv': venv)"
  }
 },
 "nbformat": 4,
 "nbformat_minor": 2,
 "cells": [
  {
   "cell_type": "markdown",
   "metadata": {},
   "source": [
    "# Operaciones Comunes Con Cadenas\n",
    "\n",
    "En lecciones anteriores hemos visto cómo iterar una cadena letra por letra, cómo se representan algunos caracteres como el salto de línea o los tabuladores, y cómo concatenar dos cadenas para hacer una cadena más grande, pero hay más cosas que en ocasiones necesitaríamos hacer con una cadena, por ejemplo, buscar si la cadena contiene una palabra, o puede ser que nos hayan pasado una lista de palabras (o incluso números) separados por comas, o por saltos de línea. Este tipo de operaciones son muy, muy, pero muy comunes, porque una muy buena parte de la información actualmente está en formato de texto, o sea, son un montón de cadenas viajando de un lado a otro, de programa en programa en el que cada uno hace algo diferente, la manipula y lo manda de regreso, o lo envía a otro servicio diferente.\n",
    "\n",
    "Así, pues, te imaginarás también que si es algo tan común de hacer, alguien se habría tomado la molestia de hacer más fácil trabajar con ese tipo de información para operaciones que son tan frecuentes. Cuando se trata de programación, muy frecuentemente ocurre esto: alguien tuvo que trabajar haciendo algo más de una vez, entonces lo automatizó, e hizo un pedacito de programa que hace lo mismo, pero más fácil. Podrías pensarlo como \"un montón de funciones (como las que ya has hecho antes) que se usan para algo común\".\n",
    "\n",
    "En esta ocasión, podrás aprender a usar las operaciones que me parecen las más frecuentes, pero hay muchísimas más, tantas como te puedas imaginar que necesites \"malabarear\" tu información."
   ]
  },
  {
   "cell_type": "markdown",
   "metadata": {},
   "source": [
    "## Buscar una sub-cadena dentro de una cadena\n",
    "\n",
    "La más fácil de imaginar, y al mismo tiempo la más fácil de hacer (por lo menos en Python), es buscar si una cadena contiene otro fragmento de texto. Por ejemplo, nos puede servir para saber si un texto contiene palabras prohibidas, como en los foros de internet donde las agresiones entre usuarios no están permitidos, o porque hay niños incluídos en la audiencia. Por razones bastante obvias no puedo incluír un ejemplo real de todas las palabras que no están permitidas en un foro normalmente, así que sólo propondré un ejemplo que busca una palabra \"prohibida\"; imagínalo más bien como en el juego donde la gente describe algo, pero no pueden decir su nombre, pueden dar todas las pistas que necesite, pero no puede incluír el nombre del objeto, o sinónimos.\n",
    "\n",
    "Vamos a definir una función que revise si la \"pista\" propuesta por un usuario contiene, o no, la respuesta. Habrá un arreglo que contiene todas las cadenas que representan pistas, y sólo imprimiremos las pistas que son válidas; puedes imaginar que son las que sí se envían a la persona que está jugando del otro lado, y tratando de adivinar la respuesta.\n",
    "\n",
    "¿Y cómo revisas si una cadena contiene otro fragmento de cadena? Es tan fácil que sólo lo voy a escribir en el código, y sabrás qué es."
   ]
  },
  {
   "cell_type": "code",
   "execution_count": 1,
   "metadata": {
    "tags": []
   },
   "outputs": [
    {
     "output_type": "stream",
     "name": "stdout",
     "text": "\nPista número: 1\nEs un animal de 4 patas\n\nPista número: 2\nPertenece al grupo de mamíferos 'equino'\n\nPista número: 3\nLa pista contiene la respuesta, no se puede utilizar en el juego\n\nPista número: 4\nRelincha\n"
    }
   ],
   "source": [
    "def contiene_respuesta(pista, respuesta):\n",
    "    if respuesta in pista:\n",
    "        print(\"La pista contiene la respuesta, no se puede utilizar en el juego\")\n",
    "        return True\n",
    "    return False\n",
    "\n",
    "pistas = [\"Es un animal de 4 patas\", \"Pertenece al grupo de mamíferos 'equino'\", \"Es un caballo\", \"Relincha\"]\n",
    "respuesta = \"caballo\"\n",
    "\n",
    "for i in range(len(pistas)):\n",
    "    print(\"\\nPista número:\", i+1)\n",
    "    if not contiene_respuesta(pistas[i], respuesta):\n",
    "        print(pistas[i])"
   ]
  },
  {
   "cell_type": "markdown",
   "metadata": {},
   "source": [
    "Como ya te habrás dado cuenta, es el operador \"`in`\" el que realiza toda la \"magia\" de saber si tu cadena contiene otro elemento, o mejor dicho, si un elemento está contenida \"EN\" tu cadena principal.\n",
    "\n",
    "## Convertir a mayúsculas o minúsculas\n",
    "\n",
    "Ahora, en lo anterior hay un pequeño problema que quizás no se te haya ocurrido: Python distingue entre letras mayúsculas y minúsculas como cosas completamente distintas, entonces para Python (y casi cualquier lenguaje de programación) no es lo mismo \"Caballo\" que \"caballo\" o \"cAbAlLo\"."
   ]
  },
  {
   "cell_type": "code",
   "execution_count": 2,
   "metadata": {
    "tags": []
   },
   "outputs": [
    {
     "output_type": "stream",
     "name": "stdout",
     "text": "\nPista número: 1\nEs un animal de 4 patas\n\nPista número: 2\nPertenece al grupo de mamíferos 'equino'\n\nPista número: 3\nEs un caballo\n\nPista número: 4\nRelincha\n"
    }
   ],
   "source": [
    "pistas = [\"Es un animal de 4 patas\", \"Pertenece al grupo de mamíferos 'equino'\", \"Es un caballo\", \"Relincha\"]\n",
    "respuesta = \"cAbAlLo\"\n",
    "\n",
    "for i in range(len(pistas)):\n",
    "    print(\"\\nPista número:\", i+1)\n",
    "    if not contiene_respuesta(pistas[i], respuesta):\n",
    "        print(pistas[i])"
   ]
  },
  {
   "cell_type": "markdown",
   "metadata": {},
   "source": [
    "¡Oh no! ¡Alguien dijo la respuesta y no lo pudimos prevenir! Aunque en realidad, sí pudimos, sólo que no lo hicimos. Un problema tan común, también tiene una solución a la que recurrimos seguido: simplemente volvemos todo minúsculas o mayúsculas. No es la solución más eficiente, pero funciona para muchos casos (cuando no estás trabajando con textos medianos o largos de, digamos, decenas de miles de palabras). Para esto seguiremos usando el formato de mensajes cortos del juego de pistas.\n",
    "\n",
    "Convertir una cadena a mayúsculas o minúsculas es prácticamente igual, siendo la única diferencia el nombre de la función que utilizas. La función para convertir una cadena a mayúsculas es \"`upper`\" y para minúsculas \"`lower`\" (en inglés \"mayúsculas\" se traducen como \"upper case\" y minúsculas como \"lower case\")."
   ]
  },
  {
   "cell_type": "code",
   "execution_count": 3,
   "metadata": {
    "tags": []
   },
   "outputs": [
    {
     "output_type": "stream",
     "name": "stdout",
     "text": "ESTO ESTA ESCRITO EN MAYUSCULAS\nesto esta escrito en minusculas\n"
    }
   ],
   "source": [
    "print(\"esto esta escrito en mayusculas\".upper())\n",
    "print(\"eStO estA ESCRito en MINusculAs\".lower())"
   ]
  },
  {
   "cell_type": "markdown",
   "metadata": {},
   "source": [
    "Y así, podemos modificar nuestro código anterior para primero convertir ambas partes a mayúsculas o minúsculas antes de evaluar si contiene nuestra subcadena."
   ]
  },
  {
   "cell_type": "code",
   "execution_count": 4,
   "metadata": {
    "tags": []
   },
   "outputs": [
    {
     "output_type": "stream",
     "name": "stdout",
     "text": "\nPista número: 1\nEs un animal de 4 patas\n\nPista número: 2\nPertenece al grupo de mamíferos 'equino'\n\nPista número: 3\nLa pista contiene la respuesta, no se puede utilizar en el juego\n\nPista número: 4\nRelincha\n"
    }
   ],
   "source": [
    "def contiene_respuesta(pista, respuesta):\n",
    "    # Convertimos ambas a mayúsculas antes de comparar\n",
    "    if respuesta.lower() in pista.lower():\n",
    "        print(\"La pista contiene la respuesta, no se puede utilizar en el juego\")\n",
    "        return True\n",
    "    return False\n",
    "\n",
    "pistas = [\"Es un animal de 4 patas\", \"Pertenece al grupo de mamíferos 'equino'\", \"Es un caballo\", \"Relincha\"]\n",
    "respuesta = \"cAbAlLo\"\n",
    "\n",
    "for i in range(len(pistas)):\n",
    "    print(\"\\nPista número:\", i+1)\n",
    "    if not contiene_respuesta(pistas[i], respuesta):\n",
    "        print(pistas[i])"
   ]
  },
  {
   "cell_type": "markdown",
   "metadata": {},
   "source": [
    "> **Nota importante:** Estos métodos usan la cadena original para producir una **nueva cadena**, porque, como recordarás de las primeras lecciones sobre cadenas, las cadenas en Python son **inmutables** o sea, no se pueden modificar en ningún punto, por lo que Python crea cadenas nuevas cuando se le aplican muchas de las operaciones de cadenas, jamás modificando la original."
   ]
  },
  {
   "cell_type": "markdown",
   "metadata": {},
   "source": [
    "## Reemplazar contenido en una cadena\n",
    "\n",
    "Imagina que queremos volver al juego de las palabras prohibidas, pero ahora queremos hacerlo en base a \"ocultar\" la palabra prohibida, en vez de solamente no mostrar el texto si la contiene. Lo que queremos es de alguna manera decir \"aquí había algo, pero lo tapamos con otra cosa\". Y para eso existe un método que hace justo eso: reemplazar una parte del texto con otra cosa. La función se llama `replace` y espera como parámetro 2 cadenas distintas: la primera significa \"qué queremos reemplazar\" y la segunda cadena \"con qué lo queremos reemplazar\". Por ejemplo `cadena.replace(\"hola\", \"adios\")` reemplazará todas las ocurrencias de la palabra \"hola\" con la palabra \"adios\".\n",
    "\n",
    "> Nota importante: esta operación es sensible a mayúsculas y minúsculas, por lo que posiblemente también necesitarías convertir tu texto original para encontrar esas ocurrencias. Además, igual que los métodos `lower` y `upper`, el resultado no modifica la variable o valor original, sino que regresa un resultado nuevo, que puedes (o no) guardar en otra variable, pero el valor original permanece intacto."
   ]
  },
  {
   "cell_type": "code",
   "execution_count": 5,
   "metadata": {
    "tags": []
   },
   "outputs": [
    {
     "output_type": "stream",
     "name": "stdout",
     "text": "El caballo es un animal de 4 patas. Pertenece al grupo de mamíferos 'equino'. Es bien sabido que un caballo relincha\nEl #### es un animal de 4 patas. Pertenece al grupo de mamíferos 'equino'. Es bien sabido que un #### relincha\n"
    }
   ],
   "source": [
    "texto_original = \"El caballo es un animal de 4 patas. Pertenece al grupo de mamíferos 'equino'. Es bien sabido que un caballo relincha\"\n",
    "texto_reemplazado = texto_original.replace(\"caballo\", \"####\")\n",
    "\n",
    "print(texto_original)\n",
    "print(texto_reemplazado)"
   ]
  },
  {
   "cell_type": "markdown",
   "metadata": {},
   "source": [
    "## Partir una cadena\n",
    "\n",
    "Otra operación muy común al trabajar con cadenas es el caso en que recibimos una lista de cosas en un solo archivo de texto, y estos valores están separados por algún \"caracter especial\". Por ejemplo, imagina que te dan una lista de nombres, todos separados por una símbolo de #. Para saber cuál es cada nombre contenido en la lista lo único que tenemos que pedir que Python haga es \"partir\" la cadena cada que encuentre el caracter `#`, y afortunadamente el nombre de la función es exactamente la traducción de eso: partir -> `split`. `split` espera como parámetro el caracter (o más precisamente, cualquier sub-cadena), que cada que se encuentre en el texto, y que por cada elemento separado por ese caracter o sub-cadena, creará un nuevo elemento en un arreglo que se irá formando mientras busca todas las ocurrencias en nuestra cadena original.\n",
    "\n",
    "Entonces, si tenemos `\"María#Pepe#Carla#Ramón\"`, como nuestra cadena original, y le aplicamos la operación \"`split`\", el resultado será un arreglo con 4 elementos: `[\"María\", \"Pepe\", \"Carla\", \"Ramón\"]`."
   ]
  },
  {
   "cell_type": "code",
   "execution_count": 6,
   "metadata": {
    "tags": []
   },
   "outputs": [
    {
     "output_type": "stream",
     "name": "stdout",
     "text": "La lista contiene 4 nombres\nArreglo completo de nombres: ['María', 'Pepe', 'Carla', 'Ramón']\nMaría\nPepe\nCarla\nRamón\n"
    }
   ],
   "source": [
    "nombres = \"María#Pepe#Carla#Ramón\"\n",
    "lista_nombres = nombres.split(\"#\")\n",
    "\n",
    "print(\"La lista contiene\", len(lista_nombres), \"nombres\")\n",
    "print(\"Arreglo completo de nombres:\", lista_nombres)\n",
    "\n",
    "for nombre in lista_nombres:\n",
    "    print(nombre)"
   ]
  },
  {
   "cell_type": "markdown",
   "metadata": {},
   "source": [
    "### Paréntesis cultural: archivos CSV\n",
    "\n",
    "Es tan, tan, tan común esta operación, que hasta este tipo de utilidad tiene nombre, porque es precisamente el caso de cómo funcionan los archivos con extensión \"`.csv`\" (comma-separated values); lo que contienen es un montón de texto que al final se interpreta como una tabla, como en una hoja de cálculo. El archivo tiene como primera fila (o renglón) todos los nombres de los encabezados, entonces si tu tabla tiene cosas como \"Nombre\" o \"Número de teléfono\" para el contenido de las columnas, será lo que conforme la primera línea, que está a su vez compuesta de texto separado por comas. Entonces la línea de encabezado se vería\n",
    "\n",
    "```\n",
    "Nombre,Número de teléfono\n",
    "```\n",
    "\n",
    "A partir de la segunda línea es cuando comienzan a incluirse los valores para cada columna en cada fila. Cada nuevo renglón contiene, en el mismo orden que los encabezados, el contenido para cada columna que le corresponde, entonces un archivo completo se vería así:\n",
    "\n",
    "```\n",
    "Nombre,Número de teléfono\n",
    "Pepe,555-123-4444\n",
    "Carla,353-654-1234\n",
    "```\n",
    "\n",
    "Y podríamos hacer una función muy sencilla que interprete un archivo simple de CSV (imaginando que el texto no contenga por sí mismo comas y esté correctamente separado por saltos de línea cada renglón)."
   ]
  },
  {
   "cell_type": "code",
   "execution_count": 7,
   "metadata": {
    "tags": []
   },
   "outputs": [
    {
     "output_type": "stream",
     "name": "stdout",
     "text": "\nLinea 1\nNombre : Pepe\nTeléfono : 555-123-4444\n\nLinea 2\nNombre : Carla\nTeléfono : 353-654-1234\n"
    }
   ],
   "source": [
    "def leer_csv(texto):\n",
    "    lineas = texto.split(\"\\n\")\n",
    "    # Obtenemos los nombres de las columnas separando por comas la primera línea\n",
    "    columnas = lineas[0].split(\",\")\n",
    "    # Iteramos las demás líneas (desde la segunda hasta el final)\n",
    "    numero_linea = 1\n",
    "    for linea in lineas[1:]:\n",
    "        valores = linea.split(\",\")\n",
    "        print(\"\\nLinea\", numero_linea)\n",
    "        for j in range(len(columnas)):\n",
    "            print(columnas[j], \":\", valores[j])\n",
    "        numero_linea += 1\n",
    "\n",
    "texto_csv = \"\"\"Nombre,Teléfono\n",
    "Pepe,555-123-4444\n",
    "Carla,353-654-1234\"\"\"\n",
    "\n",
    "leer_csv(texto_csv)"
   ]
  }
 ]
}