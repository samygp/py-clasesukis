{
 "cells": [
  {
   "cell_type": "markdown",
   "metadata": {},
   "source": [
    "# Iterar un arreglo/lista\n",
    "\n",
    "Los arreglos pertenecen a una categoría que llamamos \"iterables\". Un iterable, es algo que puedes navegar/desplazarte/recorrerlo (iterar) elemento por elemento, paso a paso (iteración por iteración). Python tiene varios tipos de objetos iterables, pero por ahora sólo nos concentraremos en las listas.\n",
    "\n",
    "En el caso de los arreglos y listas, se pueden iterar usando su índice entre corchetes, pero si tuviera que siempre hacer referencia a los valores de un arreglo uno por uno, tardaría muchísimo si quisiera imprimir algo como una lista de 200 números, y tendría que escribir muchísimo código. \n",
    "\n",
    "Afortunadamente, hay otra forma mucho más pragmática y programática de iterar las cosas.\n",
    "\n",
    "## El ciclo \"for\"\n",
    "\n",
    "En muchos lenguajes existe el ciclo `for`. En la mayoría se interpreta \"for an element, as long as a condition is met, do this\" (para un elemento, mientras que se cumpla una condición, haz lo siguiente).\n",
    "\n",
    "En `Javascript`, por ejemplo, un ciclo `for` se ve así:"
   ]
  },
  {
   "cell_type": "code",
   "execution_count": 1,
   "metadata": {},
   "outputs": [
    {
     "data": {
      "application/javascript": [
       "var arr = [\"a\", \"b\", \"c\"]; \n",
       "var longitud = arr.length; \n",
       "\n",
       "//Inicializo mi variable i=0, y mientras que i sea menor que la longitud, voy a sumar 1 a la variable i\n",
       "for(var i=0; i < longitud; i+=1){\n",
       "    //Agregar a la salida (output) el valor en el arreglo y un salto\n",
       "    element.append(arr[i] + \"<br/>\");\n",
       "}\n"
      ],
      "text/plain": [
       "<IPython.core.display.Javascript object>"
      ]
     },
     "metadata": {},
     "output_type": "display_data"
    }
   ],
   "source": [
    "%%javascript\n",
    "var arr = [\"a\", \"b\", \"c\"]; \n",
    "var longitud = arr.length; \n",
    "\n",
    "//Inicializo mi variable i=0, y mientras que i sea menor que la longitud, voy a sumar 1 a la variable i\n",
    "for(var i=0; i < longitud; i+=1){\n",
    "    //Agregar a la salida (output) el valor en el arreglo y un salto\n",
    "    element.append(arr[i] + \"<br/>\");\n",
    "}"
   ]
  },
  {
   "cell_type": "markdown",
   "metadata": {},
   "source": [
    "Se leería algo así: «Para una variable `i=0`, mientras `i < longitud`, agrega 1 y guárdalo en `i`», y mientras la condición se siga cumpliendo, se ejecutará el código contenido entre las llaves `{}`.\n",
    "\n",
    "El ejemplo anterior hará que la variable `i` aumente en 1 en cada iteración, mientras que `i` sea menor que la longitud del arreglo (3 en este caso). Entonces pasaría lo siguiente:\n",
    "\n",
    "1. i = 0 -> Revisa la condición: `i < longitud`. Como `i` es 0 y longitud es 3, console.log va a imprimir \"`arr[i]`\" o sea `arr[0]`, y la tercera parte de los paréntesis aumentará 1 a mi variable `i`.\n",
    "2. i = 1 -> Revisa la condición: `i < longitud`. Como `i` es 1 y longitud es 3, console.log va a imprimir \"`arr[i]`\" o sea `arr[1]`, y la tercera parte de los paréntesis aumentará 1 a mi variable `i`.\n",
    "3. i = 2 -> Revisa la condición: `i < longitud`. Como `i` es 1 y longitud es 3, console.log va a imprimir \"`arr[i]`\" o sea `arr[2]`, y la tercera parte de los paréntesis aumentará 1 a mi variable `i`.\n",
    "4. i = 3 -> La condición no se cumple, entonces el ciclo `for` termina.\n",
    "\n",
    "O visto en forma de tabla para cada iteración:\n",
    "\n",
    "| Iteración     |  i  | i < longitud | `arr[i]` | Operación |\n",
    "|:-------------:|:---:|:------------:|:--------:|:---------:|\n",
    "| 1             |  0  |   `False`    |     a    |   i += 1  |\n",
    "| 2             |  1  |   `False`    |     b    |   i += 1  |\n",
    "| 3             |  2  |   `False`    |     c    |   i += 1  |\n",
    "| 4             |  3  |   `True`     |    N/A   |   STOP    |\n",
    "\n",
    "### La versión de Python\n",
    "\n",
    "Y pues, es bonito, y está bien, pero al sujeto que hizo Python (Guido Van Rossum) se le hacía no muy entendible (no sé si tenga que ver con que es Suizo), le parecía «poco idiomático» y muy largo de explicar. Entonces en Python, la palabra \"for\" se interpreta como \"for each element in an iterable, do this\" (por cada elemento en un iterable, haz esto). Mucho más fácil de interpretar humanamente.\n",
    "\n",
    "Ahora, si tengo mis numeritos en un arreglo, podría, quizás, imprimirlos de uno en uno así:"
   ]
  },
  {
   "cell_type": "code",
   "execution_count": 2,
   "metadata": {},
   "outputs": [
    {
     "name": "stdout",
     "output_type": "stream",
     "text": [
      "1\n",
      "2\n",
      "3\n",
      "4\n",
      "5\n"
     ]
    }
   ],
   "source": [
    "numeritos = [1, 2, 3, 4, 5]\n",
    "print(numeritos[0])\n",
    "print(numeritos[1])\n",
    "print(numeritos[2])\n",
    "print(numeritos[3])\n",
    "print(numeritos[4])"
   ]
  },
  {
   "cell_type": "markdown",
   "metadata": {},
   "source": [
    "Pero no es nada práctico cuando el arreglo se vuelve más largo. Y para quitarme mucha carga de escribir, mejor itero usando un ciclo \"for\", para hacer algo \"por cada elemento...\".\n",
    "\n",
    "Voy a hacer que por cada elemento me imprima su valor:"
   ]
  },
  {
   "cell_type": "code",
   "execution_count": 3,
   "metadata": {},
   "outputs": [
    {
     "name": "stdout",
     "output_type": "stream",
     "text": [
      "1\n",
      "2\n",
      "3\n",
      "4\n",
      "5\n"
     ]
    }
   ],
   "source": [
    "for numero in numeritos:\n",
    "    print(numero)"
   ]
  },
  {
   "cell_type": "markdown",
   "metadata": {},
   "source": [
    "Imprimir todo con un for es mucho más fácil de escribir, y de leer.\n",
    "\n",
    "Pero no hay por qué detenerse ahí, se puede hacer lo que tú quieras con cada elemento de un arreglo. Y puedes escribir tantas líneas como necesites. Mientras sigan estando indentadas en el mismo bloque, pueden seguir utilizando la variable temporal \"numero\".\n",
    "\n",
    "### Indentación\n",
    "\n",
    "En programación hay una práctica que es muy común, la **indentación**. Indentación es el nombre que le dan a la sangría de texto en programación, o sea, al espacio en blanco que hay desde el inicio de una línea y dónde empieza la primera letra de esa línea.\n",
    "\n",
    "Por ejemplo, las siguientes líneas están indentadas:\n",
    "```\n",
    "    a=1 #indentado con 4 espacios en blanco\n",
    "  a=2 #indentado con 2 espacios en blanco\n",
    "```\n",
    "\n",
    "En Python esto no es solamente cosmético para que se vea bonito (aunque sí ayuda a que se vea más bonito). En Python la indentación sirve para decir dónde inicia y dónde termina un bloque de código que sigue a, por ejemplo, un ciclo `for` un `if`, y varias otras cosas que se incluyen en controles de flujo, ciclos, funciones, clases, etc.\n",
    "\n",
    "Lo importante es que si una línea que sigue a la declaración de un ciclo `for` está indentada con 4 espacios (se recomiendan 2 o 4 espacios en blanco), todas las demás líneas que pertenezcan al mismo bloque deberán tener la misma indentación, y cuando el bloque termina, la siguiente línea ya no debe tener indentación.\n",
    "\n",
    "Veamos un ejemplo:"
   ]
  },
  {
   "cell_type": "code",
   "execution_count": 4,
   "metadata": {},
   "outputs": [
    {
     "name": "stdout",
     "output_type": "stream",
     "text": [
      "Aquí está por iniciar mi ciclo for\n",
      "\n",
      "El número actual es: 1\n",
      "Este número multiplicado por 2 es igual a: 2\n",
      "Este número dividido por 2 es igual a: 0.5\n",
      "\n",
      "El número actual es: 2\n",
      "Este número multiplicado por 2 es igual a: 4\n",
      "Este número dividido por 2 es igual a: 1.0\n",
      "\n",
      "El número actual es: 3\n",
      "Este número multiplicado por 2 es igual a: 6\n",
      "Este número dividido por 2 es igual a: 1.5\n",
      "\n",
      "El número actual es: 4\n",
      "Este número multiplicado por 2 es igual a: 8\n",
      "Este número dividido por 2 es igual a: 2.0\n",
      "\n",
      "El número actual es: 5\n",
      "Este número multiplicado por 2 es igual a: 10\n",
      "Este número dividido por 2 es igual a: 2.5\n",
      "\n",
      "Aquí termina mi ciclo for\n"
     ]
    }
   ],
   "source": [
    "print(\"Aquí está por iniciar mi ciclo for\")\n",
    "\n",
    "for numero in numeritos:\n",
    "    print(\"\") #Imprimir una línea vacía\n",
    "    print(\"El número actual es:\", numero)\n",
    "    print(\"Este número multiplicado por 2 es igual a:\", numero*2)\n",
    "    print(\"Este número dividido por 2 es igual a:\", numero/2)\n",
    "\n",
    "print(\"\\nAquí termina mi ciclo for\")"
   ]
  },
  {
   "cell_type": "markdown",
   "metadata": {},
   "source": [
    "El nombre que se le da a cada elemento del arreglo puede ser el que tú quieras, pero lo importante está en recordar que ese nombre o variable que representa a cada elemento, sólo tiene sentido **DENTRO** del bloque indentado que representa al \"for\".\n",
    "\n",
    "Esto significa que cuando termina tu \"for\" y Python ejecuta la siguiente línea, el nombre que le diste a tu variable sigue existiendo, y va a representar el último valor que tuvo en el for que acaba de terminar.\n",
    "\n",
    "Por ejemplo, aquí voy a imprimir el valor de \"numero\", estando fuera del bloque indentado del \"for\" anterior."
   ]
  },
  {
   "cell_type": "code",
   "execution_count": 5,
   "metadata": {},
   "outputs": [
    {
     "name": "stdout",
     "output_type": "stream",
     "text": [
      "Mi variable 'numero' contiene:  5\n"
     ]
    }
   ],
   "source": [
    "print(\"Mi variable 'numero' contiene: \", numero)"
   ]
  },
  {
   "cell_type": "markdown",
   "metadata": {},
   "source": [
    "#### Ejemplo: sumatoria\n",
    "\n",
    "Es mucho más fácil sumar todos los elementos de un arreglo usando \"for\", para que por cada elemento, sume su valor a otra variable, y al final imprima el resultado que calculé sumando todo:"
   ]
  },
  {
   "cell_type": "code",
   "execution_count": 6,
   "metadata": {},
   "outputs": [
    {
     "name": "stdout",
     "output_type": "stream",
     "text": [
      "\n",
      "Hasta este punto, la sumatoria vale:  0\n",
      "Ahora le voy a sumar el numero:  1\n",
      "\n",
      "Hasta este punto, la sumatoria vale:  1\n",
      "Ahora le voy a sumar el numero:  2\n",
      "\n",
      "Hasta este punto, la sumatoria vale:  3\n",
      "Ahora le voy a sumar el numero:  3\n",
      "\n",
      "Hasta este punto, la sumatoria vale:  6\n",
      "Ahora le voy a sumar el numero:  4\n",
      "\n",
      "Hasta este punto, la sumatoria vale:  10\n",
      "Ahora le voy a sumar el numero:  5\n",
      "\n",
      "Y al final la sumatoria vale:  15\n"
     ]
    }
   ],
   "source": [
    "la_sumatoria = 0\n",
    "for numero in numeritos:\n",
    "    print(\"\\nHasta este punto, la sumatoria vale: \", la_sumatoria)\n",
    "    print(\"Ahora le voy a sumar el numero: \", numero)\n",
    "    la_sumatoria += numero\n",
    "\n",
    "print(\"\\nY al final la sumatoria vale: \", la_sumatoria)"
   ]
  },
  {
   "cell_type": "markdown",
   "metadata": {},
   "source": [
    "#### Ejemplo: encontrar el mínimo elemento de una lista\n",
    "\n",
    "Ahora haremos otra operación que es común, vamos a encontrar el menor valor de un arreglo desordenado. Para esto, primero tenemos que guardar en una variable el primer valor del arreglo.\n",
    "\n",
    "Después, debemos recorrer el arreglo y compararcada número contra el que tenemos guardado en la variable. Si el número\n",
    "que estamos iterando es menor que el que está guardado en la variable, vamos a cambiar el valor guardado en la variable por el valor actual."
   ]
  },
  {
   "cell_type": "code",
   "execution_count": 7,
   "metadata": {},
   "outputs": [
    {
     "name": "stdout",
     "output_type": "stream",
     "text": [
      "\n",
      "El número actual es: 90\n",
      "El menor número hasta ahora es: 90\n",
      "90 es menor que 90 ?\n",
      "No, 90 no es menor que 90\n",
      "\n",
      "El número actual es: 20\n",
      "El menor número hasta ahora es: 90\n",
      "20 es menor que 90 ?\n",
      "Sí, 20 es menor que 90\n",
      "\n",
      "El número actual es: 50\n",
      "El menor número hasta ahora es: 20\n",
      "50 es menor que 20 ?\n",
      "No, 50 no es menor que 20\n",
      "\n",
      "El número actual es: 8\n",
      "El menor número hasta ahora es: 20\n",
      "8 es menor que 20 ?\n",
      "Sí, 8 es menor que 20\n",
      "\n",
      "El número actual es: 123\n",
      "El menor número hasta ahora es: 8\n",
      "123 es menor que 8 ?\n",
      "No, 123 no es menor que 8\n",
      "\n",
      "El número actual es: 6\n",
      "El menor número hasta ahora es: 8\n",
      "6 es menor que 8 ?\n",
      "Sí, 6 es menor que 8\n",
      "\n",
      "El número actual es: 8888\n",
      "El menor número hasta ahora es: 6\n",
      "8888 es menor que 6 ?\n",
      "No, 8888 no es menor que 6\n",
      "\n",
      "El número actual es: 15\n",
      "El menor número hasta ahora es: 6\n",
      "15 es menor que 6 ?\n",
      "No, 15 no es menor que 6\n",
      "\n",
      "El menor número en el arreglo es: 6\n"
     ]
    }
   ],
   "source": [
    "arr = [90, 20, 50, 8, 123, 6, 8888, 15]\n",
    "#Al inicio, el menor elemento podemos considerarlo como el primer elemento del arreglo\n",
    "el_menor = arr[0]\n",
    "\n",
    "#Iteramos cada elemento del arreglo\n",
    "for numero in arr:\n",
    "    print(\"\\nEl número actual es:\", numero)\n",
    "    print(\"El menor número hasta ahora es:\", el_menor)\n",
    "    print(numero, \"es menor que\", el_menor, \"?\")\n",
    "    #Tenemos una expresión \"if\"\n",
    "    #entonces las operaciones del siguiente bloque\n",
    "    #deben estar indentadas con 4 espacios más \n",
    "    #(8 en total, desde el inicio de la línea)\n",
    "    if numero < el_menor:\n",
    "        print(\"Sí,\", numero, \"es menor que\", el_menor)\n",
    "        el_menor = numero\n",
    "    else:\n",
    "        print(\"No,\", numero, \"no es menor que\", el_menor)\n",
    "\n",
    "print(\"\\nEl menor número en el arreglo es:\", el_menor)"
   ]
  }
 ],
 "metadata": {
  "kernelspec": {
   "display_name": "Python 3.7.2 64-bit ('pyenv': venv)",
   "language": "python",
   "name": "python37264bitpyenvvenv741dbc4229c94ea89598f7037c7bb955"
  },
  "language_info": {
   "codemirror_mode": {
    "name": "ipython",
    "version": 3
   },
   "file_extension": ".py",
   "mimetype": "text/x-python",
   "name": "python",
   "nbconvert_exporter": "python",
   "pygments_lexer": "ipython3",
   "version": "3.7.2"
  }
 },
 "nbformat": 4,
 "nbformat_minor": 4
}
