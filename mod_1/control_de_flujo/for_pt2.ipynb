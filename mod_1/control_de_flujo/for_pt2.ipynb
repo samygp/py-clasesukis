{
 "nbformat": 4,
 "nbformat_minor": 2,
 "metadata": {
  "language_info": {
   "name": "python",
   "codemirror_mode": {
    "name": "ipython",
    "version": 3
   },
   "version": "3.7.5-final"
  },
  "orig_nbformat": 2,
  "file_extension": ".py",
  "mimetype": "text/x-python",
  "name": "python",
  "npconvert_exporter": "python",
  "pygments_lexer": "ipython3",
  "version": 3,
  "kernelspec": {
   "name": "python37564bitpyenvvenvd4b75a7901ba4a5292e75ea444303d15",
   "display_name": "Python 3.7.5 64-bit ('pyenv': venv)"
  }
 },
 "cells": [
  {
   "cell_type": "markdown",
   "metadata": {},
   "source": [
    "# Índices y Rangos\n",
    "\n",
    "En la lección anterior del ciclo for, se mostró cómo iterar los `elementos` contenidos en un arreglo, pero hay otra forma que también es necesario dominar para poder iterar listas y varias otras colecciones en Python: `índices`.\n",
    "\n",
    "Al principio de la lección anterior mencionamos cómo iterar un arreglo usando un ciclo for en `Javascript`, que era algo similar a esto: \n",
    "\n",
    "```\n",
    "for(var i=0; i < longitud; i+=1){\n",
    "    //hacer algo aquí...\n",
    "}\n",
    "```\n",
    "\n",
    "> **Dato curioso:** Ahora que ya te familiarizaste con la indentación, te resultará más fácil notar que también en otros lenguajes, aunque no es obligatorio, se acostumbra usar la indentación para agrupar el código que forma parte de un mismo ciclo o enunciado de control de flujo (en Python sí es obligatorio).\n",
    "\n",
    "Bien, pues esta lección te ayudará a entender cómo iterar una lista o cualquier objeto indizado de una forma similar (pero no te preocupes, la sintaxis sigue siendo más sencilla que en `Javascript`)."
   ]
  },
  {
   "cell_type": "markdown",
   "metadata": {},
   "source": [
    "### ¿Por qué iterar índices?\n",
    "\n",
    "Es una pregunta muy válida. ¿Por qué me debería importar el índice de un elemento? ¿No es, entonces, el valor de ese elemento lo principal? Y la respuesta es una de mis favoritas: **depende**. En ocasiones quieres saber cuáles son los índices que hacen referencia a uno o más elementos que te interesen, por ejemplo, si tu arreglo contiene cadenas o algo más grande que un número, porque guardar números usa menos memoria que duplicar objetos más grandes. O si lo que quieres es hacer alguna operación que use **ese elemento**, sí, y de hecho es lo que la mayor parte de las veces necesitarás, pero hay otro tipo de operaciones para los que nos interesa, además del valor, **el orden** en el que se encuentran.\n",
    "\n",
    "Uno de los ejemplos más obvios para esto sería ordenar un arreglo de menor a mayor (o viceversa). Ordenar tus colecciones de objetos hace mucho más rápidas y sencillas las búsquedas de un elemento específico (¿te imaginas si un diccionario no estuviera ordenado alfabéticamente?).\n",
    "\n",
    "Los métodos de ordenamiento son un tema del que hablaremos en más detalle después, pero de forma muy breve, consisten la mayoría de las veces en buscar el índice del menor objeto, y cambiar su posición (índice) con otro objeto de mayor valor. Por ejemplo:\n",
    "```\n",
    " El arreglo, actualmente, contiene los valores en desorden\n",
    "arr[2, 3, 1]\n",
    "\n",
    " Para ordenarlo de menor a mayor, hay que cambiar de posición dos elementos, si uno mayor está a la izquierda de otro menor.\n",
    "\n",
    "       👇  👇\n",
    "arr[2,  3,  1] <- Intercambiamos el elemento con índice 1, con el que tiene índice 2\n",
    "   [0] [1] [2] <- [índice]\n",
    "\n",
    "   👇  👇\n",
    "arr[2,  1,  3] <- Intercambiamos el elemento del índice 0, con el del índice 1\n",
    "   [0] [1] [2] <- [índice]\n",
    "\n",
    " Y finalmente obtenemos el arreglo en orden ascendente.\n",
    "arr[1, 2, 3]\n",
    "```"
   ]
  },
  {
   "cell_type": "markdown",
   "metadata": {},
   "source": [
    "## La función `range`\n",
    "\n",
    "Anteriormente conocimos cómo usar `rangos` dentro de los corchetes que definen el índice de un arreglo para obtener segmentos (o slices) de un arreglo, y que estos rangos eran `inclusivos` en el límite inferior (o sea, que incluyen ese índice) y `exclusivos` en el límite superior (que no lo incluyen dentro del resultado). Por ejemplo, el rango `1:3` incluiría los elementos desde el segundo (índice 1, porque en Python los índices comienzan en 0), hasta el tercero (índice 2). O sea, que de un arreglo con `['a', 'b', 'c', 'd']` si obtuviéramos `arreglo[1:3]` esto nos regresaría como resultado `['b', 'c']`."
   ]
  },
  {
   "cell_type": "code",
   "execution_count": 1,
   "metadata": {},
   "outputs": [
    {
     "output_type": "stream",
     "name": "stdout",
     "text": "Los elementos en arr[1:3]:  ['b', 'c']\n"
    }
   ],
   "source": [
    "arr = ['a', 'b', 'c', 'd']\n",
    "print(\"Los elementos en arr[1:3]: \", arr[1:3])"
   ]
  },
  {
   "cell_type": "markdown",
   "metadata": {},
   "source": [
    "¿Pero qué pasa si quisieras imprimir uno por uno los elementos en ese mismo rango? Quizás podrías hacer utilizar `print` con cada elemento."
   ]
  },
  {
   "cell_type": "code",
   "execution_count": 2,
   "metadata": {},
   "outputs": [
    {
     "output_type": "stream",
     "name": "stdout",
     "text": "b\nc\n"
    }
   ],
   "source": [
    "print(arr[1])\n",
    "print(arr[2])"
   ]
  },
  {
   "cell_type": "markdown",
   "metadata": {},
   "source": [
    "Para lograr iterar índices en un arreglo podemos utilizar una función bastante peculiar: `range`. Esta función **genera dinámicamente** números en un rango que es inclusivo del número que se da como primer parámetro, y exclusivo del número que se da como segundo parámetro. Por ejemplo, `range(1, 10)` generará los números del 1 al 9, y `range(0, 11)` generará los números del 0 al 10.\n",
    "\n",
    "Ahora ¿por qué el énfasis en **generar dinámicamente**? Bueno, esta es la parte peculiar de `range`. Esta función **debe** utilizarse en ciclo que la itere, porque los números que produce no están guardados en ningún lado, y no crea algo parecido a un arreglo. La función `range`, siendo muy técnicos, produce un objeto iterable de tipo `range`. Sí, sé que esto es medio redundante y no tan claro, pero permíteme dar algo más de detalle y un par de ejemplos para que se entienda mejor.\n",
    "\n",
    "Hasta ahora, el único iterable que hemos conocido son las listas de Python, pero no son el único objeto que puedes iterar en un for. Existen también, por ejemplo, las `tuplas`. Que tienen una sintaxis parecida a los arreglos, pero tienen la particularidad de que los objetos contenidos en esta tupla son **inmutables**, o sea, no los puedes modificar. Una vez que se crea una tupla, sus elementos siempre serán los mismos, y si se intenta cambiar (o \"mutar\") un elemento, Python va a arrojar un error."
   ]
  },
  {
   "cell_type": "code",
   "execution_count": 3,
   "metadata": {},
   "outputs": [
    {
     "output_type": "stream",
     "name": "stdout",
     "text": "una_tupla[1] 3\nImprimir los elementos de la tupla iterando:\n5\n3\n4\nIntentar modificar un elemento de la tupla\n"
    },
    {
     "output_type": "error",
     "ename": "TypeError",
     "evalue": "'tuple' object does not support item assignment",
     "traceback": [
      "\u001b[0;31m---------------------------------------------------------------------------\u001b[0m",
      "\u001b[0;31mTypeError\u001b[0m                                 Traceback (most recent call last)",
      "\u001b[0;32m<ipython-input-3-ea35ed71fffa>\u001b[0m in \u001b[0;36m<module>\u001b[0;34m\u001b[0m\n\u001b[1;32m      7\u001b[0m \u001b[0;34m\u001b[0m\u001b[0m\n\u001b[1;32m      8\u001b[0m \u001b[0mprint\u001b[0m\u001b[0;34m(\u001b[0m\u001b[0;34m\"Intentar modificar un elemento de la tupla\"\u001b[0m\u001b[0;34m)\u001b[0m\u001b[0;34m\u001b[0m\u001b[0;34m\u001b[0m\u001b[0m\n\u001b[0;32m----> 9\u001b[0;31m \u001b[0muna_tupla\u001b[0m\u001b[0;34m[\u001b[0m\u001b[0;36m1\u001b[0m\u001b[0;34m]\u001b[0m \u001b[0;34m=\u001b[0m \u001b[0;36m10\u001b[0m\u001b[0;34m\u001b[0m\u001b[0;34m\u001b[0m\u001b[0m\n\u001b[0m",
      "\u001b[0;31mTypeError\u001b[0m: 'tuple' object does not support item assignment"
     ]
    }
   ],
   "source": [
    "una_tupla = (5, 3, 4)\n",
    "print(\"una_tupla[1]\", una_tupla[1])\n",
    "\n",
    "print(\"Imprimir los elementos de la tupla iterando:\")\n",
    "for num in una_tupla:\n",
    "    print(num)\n",
    "\n",
    "print(\"Intentar modificar un elemento de la tupla\")\n",
    "una_tupla[1] = 10"
   ]
  },
  {
   "cell_type": "markdown",
   "metadata": {},
   "source": [
    "En varias maneras es parecido a una lista, pero la más importante es que se puede iterar igual que una lista. Y como este hay varios más que utilizaremos en otras lecciones, pero volvamos a la función `range`.\n",
    "\n",
    "`range` produce un iterable de ese mismo tipo (o sea, que lo podemos iterar como las tuplas o litas), y también tiene índices, pero en éste, los números que contiene sólo existen en el momento que se accede a ellos. O sea, que solamente cuando use un elemento del rango, va a existir, y los demás no (a diferencia de una lista o tupla, que siempre tiene guardados todos sus elementos).\n",
    "\n",
    "También se puede utilizar `range` con sólo un parámetro, y esto hará que asuma que el rango empieza en 0 y llega hasta el número especificado. Por ejemplo, `range(5)` generará los números desde el 0 hasta el 4."
   ]
  },
  {
   "cell_type": "code",
   "execution_count": 9,
   "metadata": {},
   "outputs": [
    {
     "output_type": "stream",
     "name": "stdout",
     "text": "elemento en índice 0: 0\nelemento en índice 2: 2\nIterar el rango completo\n0\n1\n2\n3\n4\n"
    }
   ],
   "source": [
    "mi_rango = range(0, 5)\n",
    "\n",
    "print(\"elemento en índice 0:\", mi_rango[0])\n",
    "print(\"elemento en índice 2:\", mi_rango[2])\n",
    "\n",
    "print(\"Iterar un rango\")\n",
    "for num in range(5):\n",
    "    print(num)"
   ]
  },
  {
   "cell_type": "markdown",
   "metadata": {},
   "source": [
    "#### Ejemplo con range: la tabla del 2"
   ]
  },
  {
   "cell_type": "code",
   "execution_count": 16,
   "metadata": {},
   "outputs": [
    {
     "output_type": "stream",
     "name": "stdout",
     "text": "1 multiplicado por 2: 2\n2 multiplicado por 2: 4\n3 multiplicado por 2: 6\n4 multiplicado por 2: 8\n5 multiplicado por 2: 10\n6 multiplicado por 2: 12\n7 multiplicado por 2: 14\n8 multiplicado por 2: 16\n9 multiplicado por 2: 18\n10 multiplicado por 2: 20\n"
    }
   ],
   "source": [
    "for num in range(1, 11):\n",
    "    print(num,\"multiplicado por 2:\", num*2)"
   ]
  },
  {
   "cell_type": "markdown",
   "metadata": {},
   "source": [
    "## Iterar listas usango `range`\n",
    "\n",
    "La generación dinámica de estos números es muy conveniente porque hace que no tengamos que utilizar 1000 espacios de memoria reservados para números si queremos los números del 1 al 1000. Y esto, al mismo tiempo, como produce los números que coinciden con cómo están ordenados los índices en una lista de Python, nos permite recorrer cada índice de los elementos en esa lista.\n",
    "\n",
    "> **Nota:** No le prestes demasiada atención a la sintaxis del siguiente ejemplo, quizás se vea algo confuso, pero el punto es imprimir en el recuadro de resultados de una forma más gráfica cómo visualizar cuando estás iterando los índices de un arreglo."
   ]
  },
  {
   "cell_type": "code",
   "execution_count": 15,
   "metadata": {},
   "outputs": [
    {
     "output_type": "stream",
     "name": "stdout",
     "text": "Indice (i): 0\nElemento actual (arreglo[i]): 5\n 👇\n['5', '8', '1', '3', '6']\n [0]  [1]  [2]  [3]  [4]  <- índices\n\n\n\nIndice (i): 1\nElemento actual (arreglo[i]): 8\n      👇\n['5', '8', '1', '3', '6']\n [0]  [1]  [2]  [3]  [4]  <- índices\n\n\n\nIndice (i): 2\nElemento actual (arreglo[i]): 1\n           👇\n['5', '8', '1', '3', '6']\n [0]  [1]  [2]  [3]  [4]  <- índices\n\n\n\nIndice (i): 3\nElemento actual (arreglo[i]): 3\n                👇\n['5', '8', '1', '3', '6']\n [0]  [1]  [2]  [3]  [4]  <- índices\n\n\n\nIndice (i): 4\nElemento actual (arreglo[i]): 6\n                     👇\n['5', '8', '1', '3', '6']\n [0]  [1]  [2]  [3]  [4]  <- índices\n\n\n\n"
    }
   ],
   "source": [
    "arreglo = [5, 8, 1, 3, 6]\n",
    "longitud = len(arreglo)\n",
    "\n",
    "# Ignora esta sección, es sólo para imprimir en el for de abajo\n",
    "texto_indices = \" \"+\"  \".join([f\"[{x}]\" for x in range(longitud)]) + \"  <- índices\"\n",
    "texto_elementos = [f'{x}' for x in arreglo]\n",
    "# Ignora esta sección, es sólo para imprimir en el for de abajo\n",
    "\n",
    "\n",
    "# Iteramos un rango que va desde 0 hasta 'l' (que representa la longitud del arreglo, 5 en este caso)\n",
    "for i in range(longitud):\n",
    "  print(\"Indice (i):\",i)\n",
    "  print(\"Elemento actual (arreglo[i]):\", arreglo[i])\n",
    "  print(\"     \"*i + \" 👇\")\n",
    "  print(texto_elementos)\n",
    "  print(texto_indices)\n",
    "  print(\"\\n\\n\")"
   ]
  },
  {
   "cell_type": "markdown",
   "metadata": {},
   "source": [
    "#### Ejemplo: encontrar índice de un elemento en específico\n",
    "\n",
    "En el siguiente ejemplo vamos a buscar un elemento en una lista, e imprimir el índice de este elemento."
   ]
  },
  {
   "cell_type": "code",
   "execution_count": 17,
   "metadata": {},
   "outputs": [
    {
     "output_type": "stream",
     "name": "stdout",
     "text": "El indice del elemento buscado es: 3\n"
    }
   ],
   "source": [
    "mi_lista = ['f', 'g', 'a', 'i', 'h', 'j', 'c']\n",
    "l = len(mi_lista) #Guardamos en una variable la longitud de la lista\n",
    "elem_buscado = 'i' # la variable 'elem_buscado' va a ser el elemento que busco, que contiene la letra \"i\".\n",
    "\n",
    "for i in range(l): #producimos un rango del tamaño de la lista\n",
    "    elem_actual = mi_lista[i] # guardamos en una variable el elemento en el índice actual\n",
    "    if elem_actual == elem_buscado:\n",
    "        print(\"El indice del elemento buscado es:\", i) # imprimo el índice actual"
   ]
  },
  {
   "cell_type": "markdown",
   "metadata": {},
   "source": [
    "#### Ejemplo: siguiente capítulo\n",
    "\n",
    "En este ejemplo vamos a mostrar una lista que contiene los nombres de los capítulos de un libro. Vamos a buscar primero cuál es el índice de un elemento que buscamos, y si no es el último capítulo, vamos a imprimir el nombre del capítulo que le sigue. Si es el último elemento de la lista, imprimiremos \"Es el último capítulo\"."
   ]
  },
  {
   "cell_type": "code",
   "execution_count": 20,
   "metadata": {},
   "outputs": [
    {
     "output_type": "stream",
     "name": "stdout",
     "text": "Buscando: El desenlace\nEl capítulo que busco ( El desenlace ) está en el índice: 5\nSiguiente capítulo: El Finalito\n\nBuscando: El Finalito\nEl capítulo que busco ( El Finalito ) está en el índice: 6\nEs el último capítulo\n"
    }
   ],
   "source": [
    "capitulos = [\"El Principito\", \"El segundo\", \"El dramón\", \"El dramononón\", \"El cómico\", \"El desenlace\", \"El Finalito\"]\n",
    "l = len(capitulos) #longitud del arreglo de los capítulos\n",
    "ultimo_indice = l - 1 #El último índice posible de un arreglo es la longitud - 1 (recordemos que los índices empiezan a contar en 0 y no en 1, y la longitud nos dice \"cuántos elementos tiene\", o sea que si un arreglo tiene 3 elementos, el último índice posible es 2).\n",
    "\n",
    "capitulo_que_busco = \"El desenlace\"\n",
    "print(\"Buscando:\", capitulo_que_busco)\n",
    "\n",
    "for i in range(l):\n",
    "    # Comparar si el capítulo del índice actual es el capítulo que busco\n",
    "    if capitulos[i] == capitulo_que_busco:\n",
    "        print(\"El capítulo que busco (\", capitulo_que_busco ,\") está en el índice:\", i)\n",
    "        # Comparamos si el índice actual es menor que el último índice posible\n",
    "        if i < ultimo_indice: \n",
    "            siguiente_capitulo = capitulos[i + 1] # Elemento en el índice que sigue del actual\n",
    "            print(\"Siguiente capítulo:\", siguiente_capitulo)\n",
    "        else: # Si el índice actual no es menor que el último índice posible, entonces es igual, o sea que es el último capítulo\n",
    "            print(\"Es el último capítulo\")\n",
    "\n",
    "\n",
    "capitulo_que_busco = \"El Finalito\"\n",
    "print(\"\\nBuscando:\", capitulo_que_busco)\n",
    "for i in range(l):\n",
    "    # Comparar si el capítulo del índice actual es el capítulo que busco\n",
    "    if capitulos[i] == capitulo_que_busco:\n",
    "        print(\"El capítulo que busco (\", capitulo_que_busco ,\") está en el índice:\", i)\n",
    "        # Comparamos si el índice actual es menor que el último índice posible\n",
    "        if i < ultimo_indice: \n",
    "            siguiente_capitulo = capitulos[i + 1] # Elemento en el índice que sigue del actual\n",
    "            print(\"Siguiente capítulo:\", siguiente_capitulo)\n",
    "        else: # Si el índice actual no es menor que el último índice posible, entonces es igual, o sea que es el último capítulo\n",
    "            print(\"Es el último capítulo\")"
   ]
  }
 ]
}