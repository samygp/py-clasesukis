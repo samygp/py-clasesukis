{
 "nbformat": 4,
 "nbformat_minor": 2,
 "metadata": {
  "language_info": {
   "name": "python",
   "codemirror_mode": {
    "name": "ipython",
    "version": 3
   },
   "version": "3.7.5-final"
  },
  "orig_nbformat": 2,
  "file_extension": ".py",
  "mimetype": "text/x-python",
  "name": "python",
  "npconvert_exporter": "python",
  "pygments_lexer": "ipython3",
  "version": 3,
  "kernelspec": {
   "name": "python37564bitpyenvvenvd4b75a7901ba4a5292e75ea444303d15",
   "display_name": "Python 3.7.5 64-bit ('pyenv': venv)"
  }
 },
 "cells": [
  {
   "cell_type": "markdown",
   "metadata": {},
   "source": [
    "# Operaciones Booleanas (Parte 2)\n",
    "\n",
    "Hasta este punto hemos visto cómo controlar el flujo de un programa usando enunciados `if`, `elif` y `else`, las condiciones que se evalúan utilizando operadores relacionales (`<`, `>`, `==`, `!=`, `>=`, `<=`), así como el código **indentado** que se ejecuta cuando las condiciones evalúan al valor de `True` en estos enunciados.\n",
    "\n",
    "Esto ya te da quizás una idea de dónde empieza a tener sentido programar. Por ejemplo, algo muy burdo sería clasificar exámenes de alumnos en \"aprobado\" y \"reprobado\". Digamos que la condición es \"si la calificación es mayor o igual a 60, el alumno aprueba, si no, el alumno reprueba\"."
   ]
  },
  {
   "cell_type": "code",
   "execution_count": 1,
   "metadata": {},
   "outputs": [
    {
     "output_type": "stream",
     "name": "stdout",
     "text": "Examen1 reprobado\nExamen2 aprobado\nExamen3 aprobado\n"
    }
   ],
   "source": [
    "examen1 = 58\n",
    "if examen1 >= 60:\n",
    "    print(\"Examen1 aprobado\")\n",
    "else:\n",
    "    print(\"Examen1 reprobado\")"
   ]
  },
  {
   "cell_type": "markdown",
   "metadata": {},
   "source": [
    "¿Pero qué pasa si queremos evaluar dos condiciones independientes? Por ejemplo, cuando queremos evaluar dos exámenes del alumno para saber si debe presentar un tercer examen, en caso de que haya reprobado uno y tenga una última oportunidad de pasar. Puesto de otra forma:\n",
    "- Si el alumno pasó por los dos exámenes, no se necesita un tercer examen, automáticamente pasó el curso.\n",
    "- Si el alumno reprobó los dos exámenes, no se necesita un tercer examen, automáticamente reprobó el curso.\n",
    "- Si el alumno pasó **por lo menos** un examen, se necesita un tercer examen.\n",
    "\n",
    "Quizás podríamos intentarlo de la siguiente manera:"
   ]
  },
  {
   "cell_type": "code",
   "execution_count": 3,
   "metadata": {},
   "outputs": [
    {
     "output_type": "stream",
     "name": "stdout",
     "text": "Examen1: 57\nExamen2: 80\nSe necesita un tercer examen\n"
    }
   ],
   "source": [
    "examen1 = 57\n",
    "examen2 = 80\n",
    "\n",
    "print(\"Examen1:\", examen1)\n",
    "print(\"Examen2:\", examen2)\n",
    "if examen1 >= 60:\n",
    "    if examen2 >= 60:\n",
    "        print(\"El alumno aprobó el curso\")\n",
    "    else:\n",
    "        print(\"Se necesita un tercer examen\")\n",
    "elif examen2 >= 60:\n",
    "    if examen1 >= 60:\n",
    "        print(\"El alumno aprobó el curso\")\n",
    "    else:\n",
    "        print(\"Se necesita un tercer examen\")\n",
    "else:\n",
    "    print(\"El alumno reprobó el curso\")\n",
    ""
   ]
  },
  {
   "cell_type": "markdown",
   "metadata": {},
   "source": [
    "Sí, probablemente funcione, pero se vuelve difícil de entender si se plantean de esa forma las condiciones. ¿No sería más fácil decirlo de esta forma?:\n",
    "- Si aprobó examen1 `y` examen2, el alumno aprobó el curso\n",
    "- Si aprobó examen1 `o` examen2 (por lo menos 1), el alumno necesita un tercer examen\n",
    "- Si no aprobó examen1 ni examen2, el alumno reprobó el curso\n",
    "\n",
    "Eso lo haría probablemente más fácil de entender ¿no?\n",
    "\n",
    "## Operadores Booleanos\n",
    "\n",
    "Los operadores Booleanos (no confundir con los operadores relacionales que mencionamos en la parte 1 de la lección) son aquellos que permiten realizar álgebra Booleana, o sea, aquellas que traducen operaciones que normalmente haríamos con números a ser operaciones que se hacen con valores de verdadero y falso (`True` | `False`), que normalmente interpretaríamos con números binarios (`1` y `0`). O sea, traducir `1 + 0 = 1`, en `True + False = True`, por ejemplo."
   ]
  },
  {
   "cell_type": "markdown",
   "metadata": {},
   "source": [
    "### Álgebra Booleana (versión resumida)\n",
    "\n",
    "Las operaciones de álgebra booleana se reducen a tres básicas: sumas, multiplicaciones y negaciones. Estas operaciones funcionan de la siguiente manera.\n",
    "\n",
    "#### Multiplicación (operación AND)\n",
    "\n",
    "Las multiplicaciones en álgebra booleana ocurren para saber si ambos valores son verdaderos o no. Esto porque las propiedades de multiplicaciones en aritmética normal nos ayudan a saber si dos afirmaciones son verdaderas, dado que sólo dos valores de `True` o `1` pueden producir un `1`. O sea, con un formato `A * B = R`:\n",
    "- `1 * 1 = 1`\n",
    "- `0 * 1 = 0`\n",
    "- `1 * 0 = 0`\n",
    "- `0 * 0 = 0`\n",
    "\n",
    "Estos valores, en álgebra Booleana traducen los `1` por valores `True` y los `0` por valores `False` y el operador `*` por `AND`.\n",
    "- `True AND True = True`\n",
    "- `False AND True = False`\n",
    "- `True AND False = False`\n",
    "- `False AND False = False`\n",
    "\n",
    "Esto resulta útil para plantear si **ambas** afirmaciones son verdaderas, porque en lógica formal no existen \"verdades a medias\", cuando decimos A y B, sólo es completamente cierto si A es cierto y B es también cierto. Por ejemplo, \"si sé programación Y programo, soy programador\".\n",
    "- Si **sé programación** y además **programo**, puedo efectivamente llamarme \"programador\".\n",
    "- Si **NO sé programación** y **SÍ programo**, no puedo ser programador, porque puedo intentar hacer algo, pero no va a funcionar.\n",
    "- Si **sé programación** y **NO programo**, en realidad no soy un programador, solamente sé cómo funciona.\n",
    "- Si **NO sé programación** y **NO programo** sobra decir que evidentemente no soy programador.\n",
    "\n",
    "La otra forma de visualizar (por simplicidad y hacerlo más compacto) los posibles resultados de operaciones booleanas es con las llamadas \"tablas de verdad\" donde en formato de tabla se muestran dos posibles valores (`A` y `B`) y el resultado que tendrían si se les aplica una operación booleana. En el caso de AND:\n",
    "\n",
    "`Operación AND`\n",
    "\n",
    "|  A    |  B    | Resultado |\n",
    "|:-----:|:-----:|:---------:|\n",
    "| True  | True  |   True    |\n",
    "| True  | False |   False   |\n",
    "| False | True  |   False   |\n",
    "| False | False |   False   |\n",
    "\n",
    "A partir de este punto usaremos este formato para representar los posibles resultados de las demás operaciones."
   ]
  },
  {
   "cell_type": "markdown",
   "metadata": {},
   "source": [
    "#### Sumas (operación OR)\n",
    "\n",
    "Las sumas en álgebra booleana se representan con la operación OR. El objetivo de la suma en álgebra booleana es saber si el resultado es **mayor a 0**, para representar \"si por lo menos una condición resulta verdadera, el resultado es verdadero\". En álgebra no-booleana se interpreta de la siguiente manera en forma de `A + B = R`.\n",
    "- `1 + 1 = 2`, pero como operamos con binarios y sólo nos importa saber si es \"por lo menos 1\" lo cambiamos a `1 + 1 = 1`\n",
    "- `0 + 1 = 1`\n",
    "- `1 + 0 = 1`\n",
    "- `0 + 0 = 0`\n",
    "\n",
    "Por ejemplo \"Si soy mayor de 18 años o voy a acompañado de un adulto, puedo ver una película clasificada para adultos\". Podemos evaluar que esto es cierto porque:\n",
    "- Si `soy MENOR de 18 años` pero `voy acompañado de un adulto`, me dejan entrar a la película.\n",
    "- Si `soy MAYOR de 18 años` pero `NO voy acompañado de otro adulto`, me dejan entrar, porque soy adulto.\n",
    "- Si `soy MENOR de 18 años` y `NO voy acompañado de un adulto`, no me dejarán entrar.\n",
    "\n",
    "La tabla de verdad para la operación `OR` es la siguiente:\n",
    "\n",
    "`Operación OR`\n",
    "\n",
    "|  A    |  B    | Resultado |\n",
    "|:-----:|:-----:|:---------:|\n",
    "| True  | True  |   True    |\n",
    "| True  | False |   True    |\n",
    "| False | True  |   True    |\n",
    "| False | False |   False   |"
   ]
  },
  {
   "cell_type": "markdown",
   "metadata": {},
   "source": [
    "#### Negación (operación NOT)\n",
    "\n",
    "La operación de negación, a diferencia de las dos anteriores, no utiliza dos operadores, utiliza solamente uno. El objetivo es muy simple: negar el valor original, o sea que convierte `1` en `0` y viceversa y se interpreta como `~A = R`.\n",
    "- `~1 = 0`\n",
    "- `~0 = 1`\n",
    "\n",
    "Si lo utilizamos con la expresión \"voy a salir de casa\", nuestra operación en una forma más común se vería así:\n",
    "- NO \"voy a salir de casa\" implica que me voy a quedar en casa.\n",
    "- NO \"NO voy a salir de casa\" implica el opuesto de NO salir de casa, o sea que no me voy a quedar.\n",
    "\n",
    "La tabla de verdad es la siguiente:\n",
    "\n",
    "`Operación NOT`\n",
    "\n",
    "|  A    | Resultado |\n",
    "|:-----:|:---------:|\n",
    "| True  |   False   |\n",
    "| False |   True    |"
   ]
  },
  {
   "cell_type": "markdown",
   "metadata": {},
   "source": [
    "Como estas operaciones hay varias más que son parte del álgebra booleana, pero todas las demás están compuestas de estas 3 básicas, y en realidad para cualquier fin práctico, estas operaciones son todo lo que necesitas para representar cualquier condición o expresión lógica en el lenguaje que quieras (incluso español).\n",
    "\n",
    "## Operadores booleanos en Python\n",
    "\n",
    "La buena noticia, después de todo lo anterior, es que la sintaxis en Python para utilizar estos operadores, es exactamente como se lee. La operación `AND` en Python se escribe `and`, la operación `OR` se expresa con `or` y la operación `NOT` con `not`, y hacen exactamente lo que describimos.\n",
    "\n",
    "Veamos cómo replicar lo que describimos en la tabla de verdad para la operación `AND`."
   ]
  },
  {
   "cell_type": "code",
   "execution_count": 4,
   "metadata": {},
   "outputs": [
    {
     "output_type": "stream",
     "name": "stdout",
     "text": "1. True and True: True\n2. True and False: False\n3. False and True: False\n4. False and False: False\n"
    }
   ],
   "source": [
    "print(\"1. True and True:\", True and True)\n",
    "print(\"2. True and False:\", True and False)\n",
    "print(\"3. False and True:\", False and True)\n",
    "print(\"4. False and False:\", False and False)"
   ]
  },
  {
   "cell_type": "markdown",
   "metadata": {},
   "source": [
    "Ahora veamos cómo se escriben expresiones con el operador `OR`."
   ]
  },
  {
   "cell_type": "code",
   "execution_count": 5,
   "metadata": {},
   "outputs": [
    {
     "output_type": "stream",
     "name": "stdout",
     "text": "1. True or True: True\n2. True or False: True\n3. False or True: True\n4. False or False: False\n"
    }
   ],
   "source": [
    "print(\"1. True or True:\", True or True)\n",
    "print(\"2. True or False:\", True or False)\n",
    "print(\"3. False or True:\", False or True)\n",
    "print(\"4. False or False:\", False or False)"
   ]
  },
  {
   "cell_type": "markdown",
   "metadata": {},
   "source": [
    "Y finalmente, veamos cómo se escriben enunciados con el operador `NOT`."
   ]
  },
  {
   "cell_type": "code",
   "execution_count": 6,
   "metadata": {},
   "outputs": [
    {
     "output_type": "stream",
     "name": "stdout",
     "text": "1. not True False\n2. not False True\n"
    }
   ],
   "source": [
    "print(\"1. not True\", not True)\n",
    "print(\"2. not False\", not False)"
   ]
  },
  {
   "cell_type": "markdown",
   "metadata": {},
   "source": [
    "### Usos y ejemplos de operadores booleanos\n",
    "\n",
    "Retomemos ahora el ejemplo con el que empezamos en esta ocasión. Escribamos las mismas condiciones que mencionamos cuando queríamos mejorar nuestro código original:\n",
    "- Si aprobó examen1 `y` examen2, el alumno aprobó el curso\n",
    "- Si aprobó examen1 `o` examen2 (por lo menos 1), el alumno necesita un tercer examen\n",
    "- Si no aprobó examen1 ni examen2, el alumno reprobó el curso"
   ]
  },
  {
   "cell_type": "code",
   "execution_count": 7,
   "metadata": {},
   "outputs": [
    {
     "output_type": "stream",
     "name": "stdout",
     "text": "Resultados de los exámenes originales:\nExamen1:  57\nExamen2:  80\nSe necesita un tercer examen\n"
    }
   ],
   "source": [
    "print(\"Resultados de los exámenes originales:\")\n",
    "print(\"Examen1: \", examen1)\n",
    "print(\"Examen2: \", examen2)\n",
    "\n",
    "if examen1 >= 60 and examen2 >= 60: #Si aprobó ambos exámenes\n",
    "    print(\"El alumno aprobó el curso\")\n",
    "elif examen1 >= 60 or examen2 >= 60: #Si aprobó examen1 o aprobó examen2\n",
    "    print(\"Se necesita un tercer examen\")\n",
    "else: #Si no aprobó ninguno de los dos\n",
    "    print(\"El alumno reprobó el curso\")"
   ]
  },
  {
   "cell_type": "markdown",
   "metadata": {},
   "source": [
    "Analiza por qué los siguientes enunciados \"if\" sí ejecutan el bloque indentado en cada uno."
   ]
  },
  {
   "cell_type": "code",
   "execution_count": 9,
   "metadata": {},
   "outputs": [
    {
     "output_type": "stream",
     "name": "stdout",
     "text": "if not False: True\nif not not True: True\nun_falso == False: True\n"
    }
   ],
   "source": [
    "if not False:\n",
    "  print(\"if not False:\", not False)\n",
    "\n",
    "if not not True:\n",
    "  print(\"if not not True:\", not not True)\n",
    "\n",
    "un_falso = False\n",
    "if un_falso == False:\n",
    "  print(\"un_falso == False:\", un_falso == False)"
   ]
  },
  {
   "cell_type": "markdown",
   "metadata": {},
   "source": [
    "Antes de leer los resultados del siguiente código, intenta predecir cuál de los siguientes enunciados evaluará a True y ejecutará el código indentado en ese bloque, y por qué los otros enunciados de esa misma sección no ejecutaron el código que contiene cada enunciado."
   ]
  },
  {
   "cell_type": "code",
   "execution_count": 8,
   "metadata": {},
   "outputs": [
    {
     "output_type": "stream",
     "name": "stdout",
     "text": "1. Primer ejemplo\nEntró en el enunciado elif\n\n2. Segundo ejemplo\nEntró en el primer if\n\n3. Tercer ejemplo\nNinguna de las condiciones anteriores se cumplió, y terminó evaluanto en el bloque else\n"
    }
   ],
   "source": [
    "print(\"1. Primer ejemplo\")\n",
    "if False:\n",
    "  print(\"Entró en el primer if\")\n",
    "elif True:\n",
    "  print(\"Entró en el enunciado elif\")\n",
    "else:\n",
    "  print(\"Ninguna de las condiciones anteriores se cumplió, y terminó evaluanto en el bloque else\")\n",
    "\n",
    "print(\"\\n2. Segundo ejemplo\")\n",
    "if True:\n",
    "  print(\"Entró en el primer if\")\n",
    "elif True:\n",
    "  print(\"Entró en el enunciado elif\")\n",
    "else:\n",
    "  print(\"Ninguna de las condiciones anteriores se cumplió, y terminó evaluanto en el bloque else\")\n",
    "\n",
    "print(\"\\n3. Tercer ejemplo\")\n",
    "if False == True:\n",
    "  print(\"Entró en el primer if\")\n",
    "elif False != False:\n",
    "  print(\"Entró en el enunciado elif\")\n",
    "else:\n",
    "  print(\"Ninguna de las condiciones anteriores se cumplió, y terminó evaluanto en el bloque else\")"
   ]
  },
  {
   "cell_type": "markdown",
   "metadata": {},
   "source": [
    "#### Ejemplo: saber si un número es múltiplo de otro\n",
    "\n",
    "Hay una propiedad divertida de los números, entre tantas otras, que nos dice que si un número es múltiplo de otros dos números distintos, también es múltiplo de la multiplicación de esos dos números.\n",
    "\n",
    "Por ejemplo, si un número es múltiplo de 3, y también es múltiplo de 5, entonces ese número también es divisible entre 15 (`3 * 5`)."
   ]
  },
  {
   "cell_type": "code",
   "execution_count": 12,
   "metadata": {},
   "outputs": [
    {
     "output_type": "stream",
     "name": "stdout",
     "text": "numero1: 50\nnumero1 no es múltiplo de 15, pero sí de por lo menos 3 o 5\n\nnumero2: 45\nnumero2 es múltiplo de 15\n\nnumero3: 34\nnumero3 no es múltiplo de 3 ni de 5, por lo tanto, tampoco de 15\n"
    }
   ],
   "source": [
    "numero1 = 50\n",
    "numero2 = 45\n",
    "numero3 = 34\n",
    "\n",
    "print(\"numero1:\", numero1)\n",
    "if numero1 % 3 == 0 and numero1 % 5 == 0:\n",
    "    print(\"numero1 es múltiplo de 15\")\n",
    "elif numero1 % 3 == 0 or numero1 % 5 == 0:\n",
    "    print(\"numero1 no es múltiplo de 15, pero sí de por lo menos 3 o 5\")\n",
    "else:\n",
    "    print(\"numero1 no es múltiplo de 3 ni de 5, por lo tanto, tampoco de 15\")\n",
    "\n",
    "print(\"\\nnumero2:\", numero2)\n",
    "if numero2 % 3 == 0 and numero2 % 5 == 0:\n",
    "    print(\"numero2 es múltiplo de 15\")\n",
    "elif numero2 % 3 == 0 or numero2 % 5 == 0:\n",
    "    print(\"numero2 no es múltiplo de 15, pero sí de por lo menos 3 o 5\")\n",
    "else:\n",
    "    print(\"numero2 no es múltiplo de 3 ni de 5, por lo tanto, tampoco de 15\")\n",
    "\n",
    "print(\"\\nnumero3:\", numero3)\n",
    "if numero3 % 3 == 0 and numero3 % 5 == 0:\n",
    "    print(\"numero3 es múltiplo de 15\")\n",
    "elif numero3 % 3 == 0 or numero3 % 5 == 0:\n",
    "    print(\"numero3 no es múltiplo de 15, pero sí de por lo menos 3 o 5\")\n",
    "else:\n",
    "    print(\"numero3 no es múltiplo de 3 ni de 5, por lo tanto, tampoco de 15\")"
   ]
  },
  {
   "cell_type": "code",
   "execution_count": null,
   "metadata": {},
   "outputs": [],
   "source": []
  }
 ]
}