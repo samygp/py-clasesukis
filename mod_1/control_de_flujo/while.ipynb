{
 "nbformat": 4,
 "nbformat_minor": 2,
 "metadata": {
  "language_info": {
   "name": "python",
   "codemirror_mode": {
    "name": "ipython",
    "version": 3
   },
   "version": "3.7.5-final"
  },
  "orig_nbformat": 2,
  "file_extension": ".py",
  "mimetype": "text/x-python",
  "name": "python",
  "npconvert_exporter": "python",
  "pygments_lexer": "ipython3",
  "version": 3,
  "kernelspec": {
   "name": "python37564bitpyenvvenvd4b75a7901ba4a5292e75ea444303d15",
   "display_name": "Python 3.7.5 64-bit ('pyenv': venv)"
  }
 },
 "cells": [
  {
   "cell_type": "markdown",
   "metadata": {},
   "source": [
    "# Iterar basado en condicionales: el ciclo `while`\n",
    "\n",
    "En este punto ya probablemente tengas un conocimiento decente sobre qué significa iterar y cómo evaluar condiciones. El siguiente paso viene cuando tenemos necesidad de iterar indefinidamente, o sea, no estar limitados por una lista, un rango, o un iterable; hay ocasiones donde es necesario realizar una operación repetidamente, pero no hay una lista u objeto iterable que defina hasta cuándo o cuántas veces debemos repetir la operación.\n",
    "\n",
    "Con una lista normalmente hacemos una operación en la que utilizamos los elementos que contiene como punto de referencia, por ejemplo \"por cada número del 1 al 10, multiplica cada número por `x` cantidad\", o \"por cada cadena en mi lista imprime esa cadena\", o \"busca dentro de esta lista un `elemento`\". Te darás cuenta de que todos estos ejemplos tienen en común que la lista, o el objeto iterable (como un rango) definen cuántas veces vamos a iterar, y, más importante aún **qué** vamos a iterar.\n",
    "\n",
    "Sin embargo, hay situaciones que no dependen de un iterable, sino de una condición. A grandes rasgos se puede definir de la siguiente manera: *\"Mientras se cumpla mi condición, haz lo siguiente...\"*. Esto se puede plantear usando el ciclo `while`, que es una forma de repetir una operación **mientras** (\"while\" en inglés) una condición se siga cumpliendo. Más o menos como si repitieras la operación de un enunciado `if`. La sintaxis es la siguiente:\n",
    "\n",
    "```\n",
    "while <CONDICION>:\n",
    "    <EJECUTAR CODIGO>\n",
    "    <INDENTADO>\n",
    "```\n",
    "\n",
    "### Ejemplo 1\n",
    "\n",
    "Imagina el siguiente caso:\n",
    ">\"Un niño tiene una cierta cantidad de monedas, y va a la tienda para comprar golosinas. Las golosinas cuestan 3 monedas. **Mientras el niño siga teniendo monedas suficientes**, va a seguir comprando golosinas\".\n",
    "\n",
    " Veamos este ejemplo en código de Python:"
   ]
  },
  {
   "cell_type": "code",
   "execution_count": 16,
   "metadata": {},
   "outputs": [
    {
     "output_type": "stream",
     "name": "stdout",
     "text": "Al principio hay 11 monedas\n\nHasta ahora ha comprado 1 golosinas\nAhora le quedan 8 monedas\n\nHasta ahora ha comprado 2 golosinas\nAhora le quedan 5 monedas\n\nHasta ahora ha comprado 3 golosinas\nAhora le quedan 2 monedas\n\nAl final pudo comprar 3 golosinas y le sobraron 2 monedas\n"
    }
   ],
   "source": [
    "monedas = 11\n",
    "compradas = 0\n",
    "\n",
    "print(\"Al principio hay\", monedas, \"monedas\\n\")\n",
    "\n",
    "while monedas >= 3: #Revisamos que tengamos por lo menos 3 monedas para comprar otra golosina\n",
    "    monedas -= 3 #Restamos el costo de la golosina\n",
    "    compradas += 1 #Aumentamos el número de golosinas compradas\n",
    "    print(\"Hasta ahora ha comprado\", compradas, \"golosinas\")\n",
    "    print(\"Ahora le quedan\", monedas, \"monedas\\n\")\n",
    "\n",
    "# Ahora fuera del ciclo (código no indentado)\n",
    "print(\"Al final pudo comprar\", compradas, \"golosinas y le sobraron\", monedas, \"monedas\")"
   ]
  },
  {
   "cell_type": "markdown",
   "metadata": {},
   "source": [
    "Quizás este sea un ejemplo poco práctico, porque podríamos simplemente haber dividido el número de monedas entre el costo de cada golosina y con eso obtendríamos el resultado directamente de cuántas golosinas se pueden comprar, pero es solamente con el fin de poner un ejemplo muy simple de un `while`.\n",
    "\n",
    "### Ejemplo 2\n",
    "\n",
    "Otro ejemplo que podríamos utilizar es una manera de iterar hasta llegar a un número, sin utilizar la función range."
   ]
  },
  {
   "cell_type": "code",
   "execution_count": 10,
   "metadata": {},
   "outputs": [
    {
     "output_type": "stream",
     "name": "stdout",
     "text": "El número actual es: 0\nEl número actual es: 1\nEl número actual es: 2\nEl número actual es: 3\nEl número actual es: 4\n"
    }
   ],
   "source": [
    "i = 0\n",
    "\n",
    "while i < 5:\n",
    "    print(\"El número actual es:\", i)\n",
    "    i += 1"
   ]
  },
  {
   "cell_type": "markdown",
   "metadata": {},
   "source": [
    "### Ejemplo 3\n",
    "\n",
    "Y usando esta misma estrategia puedes también iterar los índices de una lista."
   ]
  },
  {
   "cell_type": "code",
   "execution_count": 13,
   "metadata": {},
   "outputs": [
    {
     "output_type": "stream",
     "name": "stdout",
     "text": "Indice actual (i): 0 Elemento actual: elemento a\nIndice actual (i): 1 Elemento actual: elemento b\nIndice actual (i): 2 Elemento actual: elemento c\nIndice actual (i): 3 Elemento actual: elemento d\n"
    }
   ],
   "source": [
    "mi_lista = [\"elemento a\", \"elemento b\", \"elemento c\", \"elemento d\"]\n",
    "i = 0\n",
    "\n",
    "while i < len(mi_lista): #mientras i sea menor que la longitud de la lista\n",
    "    print(\"Indice actual (i):\", i, \"Elemento actual:\", mi_lista[i])\n",
    "    i += 1"
   ]
  },
  {
   "cell_type": "markdown",
   "metadata": {},
   "source": [
    "Con los ejemplos anteriores, probablemente ya notaste cómo funciona la ejecución de un ciclo `while`, en cada iteración (desde la primera) evalúa la condición (igual que un enunciado condicional `if`) y después ejecuta el código indentado; esto quiere decir que en el momento que la condición no se cumpla se interrumpirá la ejecución del ciclo, y continuará la ejecución del código fuera del bloque indentado.\n",
    "\n",
    ">**Nota:** Pon especial atención a que en cada uno de los ciclos `while` que definimos anteriormente hay *algo* dentro del bloque de código indentado que actualiza un valor relacionado con la condición, y seguirá cambiando hasta que la condición no se cumpla. Si la condición nunca deja de cumplirse, el ciclo nunca terminará, y esto podría ocasionar que tu código nunca termine de ejecutarse.\n",
    "\n",
    "### Ejemplo 4\n",
    "\n",
    "En un tren caben hasta 30 personas. En la lista de espera están anotados grupos de personas (familias y grupos de amigos) que quieren viajar en el tren, cada elemento de la lista contiene el número de pasajeros en cada grupo. Los grupos en la lista van a abordar el tren en el orden que se anotaron mientras sigan cabiendo personas en el tren. ¿Cuántas personas pudieron abordar el primer viaje?"
   ]
  },
  {
   "cell_type": "code",
   "execution_count": 19,
   "metadata": {},
   "outputs": [
    {
     "output_type": "stream",
     "name": "stdout",
     "text": "Aborda el grupo ' 0 ' con 7 personas\nAborda el grupo ' 1 ' con 3 personas\nAborda el grupo ' 2 ' con 5 personas\nAborda el grupo ' 3 ' con 2 personas\nAborda el grupo ' 4 ' con 9 personas\nEn el primer viaje pudieron abordar 26 personas\n"
    }
   ],
   "source": [
    "capacidad_maxima = 30 #Capacidad maxima del tren\n",
    "grupos = [7, 3, 5, 2, 9, 11, 8, 4] #Cada elemento indica cuántas personas hay en ese grupo\n",
    "\n",
    "capacidad_actual = 0 #Gente actualmente abordando el tren\n",
    "i = 0 #variable para iterar los índices de la lista\n",
    "\n",
    "# Mientras el grupo en el índice actual + la capacidad actual sea menor que el límite,\n",
    "# y que el índice 'i' sea un índice menor a la longitud de la lista seguiremos iterando.\n",
    "while (grupos[i] + capacidad_actual) < capacidad_maxima and i < len(grupos):\n",
    "    print(\"Aborda el grupo '\", i, \"' con\", grupos[i], \"personas\")\n",
    "    capacidad_actual += grupos[i] #Sumamos el actual grupo a la capacidad actual\n",
    "    i += 1 #Recorremos en 1 el índice actual de la lista\n",
    "\n",
    "print(\"En el primer viaje pudieron abordar\", capacidad_actual, \"personas\")"
   ]
  },
  {
   "cell_type": "code",
   "execution_count": null,
   "metadata": {},
   "outputs": [],
   "source": []
  }
 ]
}