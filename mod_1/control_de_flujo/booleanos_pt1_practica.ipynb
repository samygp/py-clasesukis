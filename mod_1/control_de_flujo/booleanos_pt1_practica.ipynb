{
 "cells": [
  {
   "cell_type": "markdown",
   "metadata": {},
   "source": [
    "### Ejercicio 1\n",
    "\n",
    "Completa el código del siguiente bloque con los operadores necesarios (`<, >, ==, <=, >=`) para que las condiciones tengan sentido en relación con lo que imprima cada una."
   ]
  },
  {
   "cell_type": "code",
   "execution_count": null,
   "metadata": {},
   "outputs": [],
   "source": [
    "#Reemplaza los paréntesis () con el operador que corresponda\n",
    "if 100 () 200:\n",
    "    print(\"100 es mayor que 200\")\n",
    "elif 100 () 200:\n",
    "    print(\"100 es menor o igual que 200\")"
   ]
  },
  {
   "cell_type": "code",
   "execution_count": null,
   "metadata": {},
   "outputs": [],
   "source": [
    "#Crear las variables num1 y num2\n",
    "num1 = 9\n",
    "num2 = 28"
   ]
  },
  {
   "cell_type": "markdown",
   "metadata": {},
   "source": [
    "### Ejercicio 2\n",
    "\n",
    "Crea una variable que se llame `es_igual` que guarde el resultado de evaluar si num1 es igual a num2"
   ]
  },
  {
   "cell_type": "code",
   "execution_count": null,
   "metadata": {},
   "outputs": [],
   "source": [
    "###Completa el código aquí abajo\n",
    "es_igual = \n",
    "###OK, hasta aquí"
   ]
  },
  {
   "cell_type": "markdown",
   "metadata": {},
   "source": [
    "Ahora crea una variable llamada `es_mayor` que guarde el resultado de evaluar si num1 es mayor que num2.\n",
    "\n",
    "Crea también otra variable llamada `es_menor` que guarde el resultado de evaluar si num1 es menor que num2."
   ]
  },
  {
   "cell_type": "code",
   "execution_count": null,
   "metadata": {},
   "outputs": [],
   "source": [
    "###Completa el código aquí abajo\n",
    "es_mayor = \n",
    "es_menor = "
   ]
  },
  {
   "cell_type": "code",
   "execution_count": null,
   "metadata": {},
   "outputs": [],
   "source": [
    "#***NO EDITAR***\n",
    "#Comprobación de los pasos anteriores\n",
    "print(\"El valor guardado en 'es_igual'\", es_igual)\n",
    "print(\"El valor guardado en 'es_mayor'\", es_mayor)\n",
    "print(\"El valor guardado en 'es_menor'\", es_menor)\n",
    "#***NO EDITAR***\n",
    "#Comprobación de los pasos anteriores"
   ]
  },
  {
   "cell_type": "markdown",
   "metadata": {},
   "source": [
    "### Ejercicio 3\n",
    "\n",
    "Crea un enunciado `if` que imprima \"```Los dos números son iguales```\" si la variable `es_igual` guarda un valor de `True`."
   ]
  },
  {
   "cell_type": "code",
   "execution_count": null,
   "metadata": {},
   "outputs": [],
   "source": [
    "###Agrega el código aquí abajo\n"
   ]
  },
  {
   "cell_type": "markdown",
   "metadata": {},
   "source": [
    "Ahora agrega los enunciados condicionales (`if, elif, else`), necesarios, usando las variables que creaste antes, para expresar lo siguiente:\n",
    "\n",
    "1. Si num1 es mayor que num2 imprime \"El primer número es mayor\"\n",
    "2. Si num1 es menor que num2 imprime \"El segundo número es mayor\"\n",
    "3. Si ninguna de las anteriores condiciones se cumple, imprime \"Los números son iguales\""
   ]
  },
  {
   "cell_type": "code",
   "execution_count": null,
   "metadata": {},
   "outputs": [],
   "source": [
    "###Agrega el código aquíe abajo\n"
   ]
  },
  {
   "cell_type": "markdown",
   "metadata": {},
   "source": [
    "### Ejercicio 4\n",
    "\n",
    "Completa el código siguiente (agrega los números del enunciado `if`) para que se imprima sólo el resultado del enunciado `else`"
   ]
  },
  {
   "cell_type": "code",
   "execution_count": null,
   "metadata": {},
   "outputs": [],
   "source": [
    "if >= :\n",
    "    print(\"El primer número es mayor o igual que el segundo\")\n",
    "else:\n",
    "    print(\"El primer número es menor que el segundo\")"
   ]
  },
  {
   "cell_type": "markdown",
   "metadata": {},
   "source": [
    "### Ejercicio 5\n",
    "\n",
    "Usa las dos variables declaradas en el bloque siguiente (`num1_es_par` y `num2_es_par`) para crear los siguientes enunciados condicionales:\n",
    "\n",
    "1. Si ambas variables contienen un valor de True, imprime \"Ambos números son pares\"\n",
    "2. Si num1_es_par es verdaderos, o num2_es_par es verdadero, imprime \"Uno de los números es par\"\n",
    "3. Si ninguna de las dos condiciones anteriores se cumple, imprime \"Ninguno de los dos números es pares\""
   ]
  },
  {
   "cell_type": "code",
   "execution_count": null,
   "metadata": {},
   "outputs": [],
   "source": [
    "#***NO EDITAR ESTA SECCIÓN***\n",
    "num1_es_par = (num1 % 2) == 0\n",
    "num2_es_par = (num2 % 2) == 0\n",
    "#***NO EDITAR ESTA SECCIÓN***\n",
    "\n",
    "#Escribe tu código con los enunciados condicionales aquí abajo\n"
   ]
  }
 ],
 "metadata": {
  "file_extension": ".py",
  "kernelspec": {
   "display_name": "Python 3",
   "language": "python",
   "name": "python3"
  },
  "language_info": {
   "codemirror_mode": {
    "name": "ipython",
    "version": 3
   },
   "file_extension": ".py",
   "mimetype": "text/x-python",
   "name": "python",
   "nbconvert_exporter": "python",
   "pygments_lexer": "ipython3",
   "version": "3.7.2"
  },
  "mimetype": "text/x-python",
  "name": "python",
  "npconvert_exporter": "python",
  "pygments_lexer": "ipython3",
  "version": 3
 },
 "nbformat": 4,
 "nbformat_minor": 2
}
