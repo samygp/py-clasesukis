{
 "cells": [
  {
   "cell_type": "markdown",
   "metadata": {},
   "source": [
    "# Anidación\n",
    "\n",
    "En lecciones anteriores hemos hecho referencia a este concepto implícitamente; es algo que quizás para este punto ya sepas, pero no sabes que lo sabes. Entonces ¿qué es?\n",
    "\n",
    "La **anidación** ocurre cuando un enunciado de control de flujo (`if`, `for`, `while`) está contenido dentro de otro enunciado de control de flujo del mismo tipo. Esto es, que haya un enunciado `if` dentro del bloque indentado de otro enunciado `if`, o un ciclo `for` adentro de otro ciclo `for`.\n",
    "\n",
    "## Enunciados `if` anidados\n",
    "\n",
    "El caso más sencillo sería utilizando enunciados condicionales `if`, en los que hay una serie de condiciones que pueden ser dependientes una de la anterior. Por ejemplo, en el siguiente caso:\n",
    "\n",
    "- Si una persona es menor de 18 años:\n",
    "  - Si la persona es de sexo femenino, es **niña**\n",
    "  - Si la persona es de sexo masculino, es **niño**\n",
    "- Si una persona es mayor de 18 años:\n",
    "  - Si la persona es de sexo femenino, es **mujer**\n",
    "  - Si la persona es de sexo masculino, es **hombre**"
   ]
  },
  {
   "cell_type": "code",
   "execution_count": 3,
   "metadata": {},
   "outputs": [
    {
     "output_type": "stream",
     "name": "stdout",
     "text": "Es mujer\n"
    }
   ],
   "source": [
    "edad = 18\n",
    "sexo = \"F\"\n",
    "\n",
    "if edad < 18:\n",
    "    if sexo == \"F\":\n",
    "        print(\"Es niña\")\n",
    "    elif sexo == \"M\":\n",
    "        print(\"Es niño\")\n",
    "elif edad >= 18:\n",
    "    if sexo == \"F\":\n",
    "        print(\"Es mujer\")\n",
    "    elif sexo == \"M\":\n",
    "        print(\"Es hombre\")"
   ]
  },
  {
   "cell_type": "markdown",
   "metadata": {},
   "source": [
    "Esto también se podría plantear de la siguiente manera:"
   ]
  },
  {
   "cell_type": "code",
   "execution_count": 4,
   "metadata": {},
   "outputs": [
    {
     "output_type": "stream",
     "name": "stdout",
     "text": "Es mujer\n"
    }
   ],
   "source": [
    "if edad < 18 and sexo == \"F\":\n",
    "    print(\"Es niña\")\n",
    "elif edad < 18 and sexo == \"M\":\n",
    "    print(\"Es niño\")\n",
    "elif edad >= 18 and sexo == \"F\":\n",
    "    print(\"Es mujer\")\n",
    "elif edad >= 18 and sexo == \"M\":\n",
    "    print(\"Es hombre\")"
   ]
  },
  {
   "cell_type": "markdown",
   "metadata": {},
   "source": [
    "Y a simple vista parecería que funciona igual, excepto que tiene varias desventajas comparado con la primera versión:\n",
    "\n",
    "1. Las condiciones se evalúan una tras otra, por lo que seguirá evaluando todas las comparaciones que contengan los enunciados `if` hasta que se cumpla uno de ellos, o llegue al último.\n",
    "2. Cada enunciado tiene dos condiciones, en vez de una, entonces si llega al cuarto caso, evalúa 8 condiciones antes de imprimir el resultado. Si lo comparamos con la versión anidada, la versión anidada siempre va a evaluar **máximo** cuatro condiciones; en caso de que falle la primera `edad < 18`, la segunda condición `edad >= 18` se cumplirá, y dentro de cada caso, si falla la primera condición anidada `sexo == \"F\"` (que existe en ambos casos), se cumplirá la segunda `sexo == \"M\"`.\n",
    "3. Es más legible agrupar las condiciones cuando dos o más casos tienen como dependiente una condición. En este caso pueden estar agrupadas por cualquiera de los dos valores (sexo o edad), porque hay dos casos que dependen de si el sexo es femenino o masculino, y también hay dos casos para cada grupo de edades.\n",
    "\n",
    "El caso con los if anidados podría incluso simplificarse de la siguiente forma, en la que evaluaría **máximo** dos condiciones para todos los casos, lo que significa que en comparación con la segunda versión, en su peor caso (8 comparaciones), funcionaría **4 veces más rápido**."
   ]
  },
  {
   "cell_type": "code",
   "execution_count": 5,
   "metadata": {},
   "outputs": [
    {
     "output_type": "stream",
     "name": "stdout",
     "text": "Es mujer\n"
    }
   ],
   "source": [
    "if edad < 18:\n",
    "    if sexo == \"F\":\n",
    "        print(\"Es niña\")\n",
    "    else:\n",
    "        print(\"Es niño\")\n",
    "else:\n",
    "    if sexo == \"F\":\n",
    "        print(\"Es mujer\")\n",
    "    else:\n",
    "        print(\"Es hombre\")"
   ]
  },
  {
   "cell_type": "markdown",
   "metadata": {},
   "source": [
    "## Ciclos `for` anidados\n",
    "\n",
    "El caso de los ciclos anidados es un caso bastante común, porque hay veces que tenemos que recorrer más de una lista al mismo tiempo. El caso más básico para esto sería mostrando las tablas de multiplicar con números del 1 al 10.\n",
    "\n",
    "#### Ejemplo: Tablas de multiplicar\n",
    "\n",
    "En este caso, por simplicidad del espacio de lectura, mostraremos las tablas de los números del 1 al 3.\n",
    "\n",
    "> **Nota:** Recordemos que la función `range` genera un rango que en el límite superior (el segundo número) es **exclusivo**, por lo que si queremos los números del 1 al 3, debemos pedir un `range(1, 4)` (4, en vez de 3 como límite) y para los números del 1 al 10 debemos usar `range(1, 11)` (11 en vez de 10 como límite)."
   ]
  },
  {
   "cell_type": "code",
   "execution_count": 9,
   "metadata": {},
   "outputs": [
    {
     "output_type": "stream",
     "name": "stdout",
     "text": "La tabla del número: 1\n1 x 1 = 1\n1 x 2 = 2\n1 x 3 = 3\n1 x 4 = 4\n1 x 5 = 5\n1 x 6 = 6\n1 x 7 = 7\n1 x 8 = 8\n1 x 9 = 9\n1 x 10 = 10\nLa tabla del número: 2\n2 x 1 = 2\n2 x 2 = 4\n2 x 3 = 6\n2 x 4 = 8\n2 x 5 = 10\n2 x 6 = 12\n2 x 7 = 14\n2 x 8 = 16\n2 x 9 = 18\n2 x 10 = 20\nLa tabla del número: 3\n3 x 1 = 3\n3 x 2 = 6\n3 x 3 = 9\n3 x 4 = 12\n3 x 5 = 15\n3 x 6 = 18\n3 x 7 = 21\n3 x 8 = 24\n3 x 9 = 27\n3 x 10 = 30\n"
    }
   ],
   "source": [
    "#Iteramos los números del 1 al 3, cada uno asignado en la variable 'a'\n",
    "for a in range(1, 4):\n",
    "    print(\"La tabla del número:\", a)\n",
    "    #Iteramos los números del 1 al 10, cada uno asignado en la variable 'b'\n",
    "    for b in range(1, 11): \n",
    "        print(a, \"x\", b, \"=\", a*b)"
   ]
  },
  {
   "cell_type": "markdown",
   "metadata": {},
   "source": [
    "#### Ejemplo: Recorrer una lista de listas\n",
    "\n",
    "Posiblemente te da curiosidad (o quizás no, pero qué más da) qué otras cosas pueden estar contenidas en una lista. La respuesta es bastante fácil: **pueden contener lo que sea**. Un ejemplo que tampoco es muy raro de encontrar es una lista que contiene otras listas (u otros iterables, como tuplas).\n",
    "\n",
    "En el siguiente ejemplo tenemos una lista de listas que contiene lo siguiente dentro de cada uno de sus elementos:\n",
    "\n",
    "- El primer elemento de cada lista es el nombre de la persona.\n",
    "- A partir del tercer elemento, la lista contiene el precio de todo lo que ha comprado últimamente.\n",
    "\n",
    "Lo que queremos lograr es imprimir el nombre de la persona y el total de dinero que ha gastado últimamente, por lo que usaremos un rango que vaya desde 1 hasta el tamaño que tenga cada lista (para iterar usando el índice de cada elemento), porque pueden tener muchos cada una, y no sabemos cuál es el límite en todos los casos."
   ]
  },
  {
   "cell_type": "code",
   "execution_count": 11,
   "metadata": {},
   "outputs": [
    {
     "output_type": "stream",
     "name": "stdout",
     "text": "Mario gastó en total: 394\nJuan gastó en total: 1500\nLauriano gastó en total: 35\n"
    }
   ],
   "source": [
    "compradores = [\n",
    "    ['Mario', 19, 52, 99, 192, 32],\n",
    "    ['Juan', 5, 91, 944, 383, 11, 1, 65],\n",
    "    ['Lauriano', 35]\n",
    "]\n",
    "\n",
    "for lista in compradores:\n",
    "    #Inicializamos el total gastado para cada persona en 0 para sumarle los demás elementos\n",
    "    total = 0 \n",
    "    #Obtenemos el rango de números desde 1 hasta el final de cada lista\n",
    "    for i in range(1, len(lista)): \n",
    "        #Sumamos al total el elemento en el índice actual\n",
    "        total += lista[i] \n",
    "    print(lista[0], \"gastó en total:\", total)"
   ]
  },
  {
   "cell_type": "markdown",
   "metadata": {},
   "source": [
    "## Ciclos `while` anidados\n",
    "\n",
    "Este es un caso que suele ser menos común que los ciclos `for` anidados, pero también es posible anidar ciclos while.\n",
    "\n",
    "#### Ejemplo: Agrupar productos en cajas\n",
    "\n",
    "En esta ocasión tenemos una lista de objetos que compró una persona. Cada elemento en la lista representa el peso de cada producto. Las cajas en las que se van a empacar esos productos resisten hasta 15 kg cada una, entonces debemos mostrar el contenido de cada caja con los productos que contiene, el peso total de esa caja y cuántos elementos contiene.\n",
    "\n",
    "Para resolver esto haremos lo siguiente:\n",
    "\n",
    "- Recorreremos la lista de productos usando sus índices\n",
    "- Mientras que el índice que estamos recorriendo no haya llegado al final de la lista:\n",
    "  1. Cada caja, representada por una lista, comenzará estando vacía (`[]`)\n",
    "  2. El peso de cada caja comenzará siendo cero (`0`).\n",
    "  3. Mientras el índice no haya llegado al final y el peso actual de la caja sumado con el del producto en el índice actual no rebase el límite de 15 kg:\n",
    "    - Sumaremos el peso del siguiente producto (elemento en el índice actual)\n",
    "    - Agregaremos a la caja el producto (apendizar al arreglo de la caja)\n",
    "    - Recorreremos el índice (`índice += 1`)\n",
    "  4. Imprimir el contenido de la caja (objetos, número de elementos y peso total)"
   ]
  },
  {
   "cell_type": "code",
   "execution_count": 14,
   "metadata": {},
   "outputs": [
    {
     "output_type": "stream",
     "name": "stdout",
     "text": "La siguiente caja contiene estos 3 productos, que en total pesan  13 kg: [5, 5, 3]\nLa siguiente caja contiene estos 2 productos, que en total pesan  13 kg: [7, 6]\nLa siguiente caja contiene estos 3 productos, que en total pesan  13 kg: [3, 4, 6]\nLa siguiente caja contiene estos 2 productos, que en total pesan  10 kg: [7, 3]\nLa siguiente caja contiene estos 2 productos, que en total pesan  14 kg: [7, 7]\nLa siguiente caja contiene estos 3 productos, que en total pesan  14 kg: [5, 7, 2]\nLa siguiente caja contiene estos 4 productos, que en total pesan  12 kg: [3, 3, 4, 2]\nLa siguiente caja contiene estos 2 productos, que en total pesan  13 kg: [6, 7]\nLa siguiente caja contiene estos 4 productos, que en total pesan  11 kg: [3, 3, 2, 3]\nLa siguiente caja contiene estos 2 productos, que en total pesan  11 kg: [5, 6]\nLa siguiente caja contiene estos 2 productos, que en total pesan  11 kg: [6, 5]\nLa siguiente caja contiene estos 1 productos, que en total pesan  4 kg: [4]\n"
    }
   ],
   "source": [
    "productos = [5, 5, 3, 7, 6, 3, 4, 6, 7, 3, 7, 7, 5, 7, 2, 3, 3, 4, 2, 6, 7, 3, 3, 2, 3, 5, 6, 6, 5, 4]\n",
    "\n",
    "i = 0\n",
    "while i < len(productos):\n",
    "    caja = []\n",
    "    peso_caja = 0\n",
    "    while i < len(productos) and (peso_caja + productos[i]) < 15:\n",
    "        peso_caja += productos[i]\n",
    "        caja.append(productos[i])\n",
    "        i += 1\n",
    "    print(\"La siguiente caja contiene estos\", len(caja), \"productos, que en total pesan \", peso_caja, \"kg:\", caja)"
   ]
  },
  {
   "cell_type": "markdown",
   "metadata": {},
   "source": [
    "## En resumen\n",
    "\n",
    "Habrá ocasiones donde deberás anidar un ciclo del mismo tipo dentro de otro para resolver problemas como los que pusimos en los ejemplos, aunque la realidad es que lo más normal es ver combinaciones de estos controles de flujo (como un `for` adentro de un `while`, o viceversa). Por ejemplo, es común que `mientras` una condición se siga cumpliendo, se apliquen operaciones a elementos de una lista que se iteren con un `for`, o puede ser que dentro de cualquier ciclo, a cada elemento le debas evaluar una serie de condiciones en las que, si son dependientes, podrías anidar los enunciados `if` que las utilicen para simplificar la agrupación de la lógica, y posiblemente incluso mejorar el tiempo de ejecución de tu programa.\n",
    "\n",
    "Finalmente, todo lo que está incluído en estas lecciones son herramientas que puedes añadir a tu cinturón y usar la que mejor acomode a cada problema cuando tengas que resolverlo."
   ]
  }
 ],
 "metadata": {
  "language_info": {
   "name": "python",
   "codemirror_mode": {
    "name": "ipython",
    "version": 3
   },
   "version": "3.7.5-final"
  },
  "orig_nbformat": 2,
  "file_extension": ".py",
  "mimetype": "text/x-python",
  "name": "python",
  "npconvert_exporter": "python",
  "pygments_lexer": "ipython3",
  "version": 3,
  "kernelspec": {
   "name": "python37564bitpyenvvenvd4b75a7901ba4a5292e75ea444303d15",
   "display_name": "Python 3.7.5 64-bit ('pyenv': venv)"
  }
 },
 "nbformat": 4,
 "nbformat_minor": 2
}