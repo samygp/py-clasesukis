{
 "cells": [
  {
   "cell_type": "markdown",
   "metadata": {},
   "source": [
    "### Ejerecicio 1\n",
    "\n",
    "Réstale a la variable `num1` todos los valores contenidos en `arreglo1` usando un ciclo for."
   ]
  },
  {
   "cell_type": "code",
   "execution_count": null,
   "metadata": {},
   "outputs": [],
   "source": [
    "num1 = 150\n",
    "arreglo1 = [10, 20, 30, 40, 50]\n",
    "###Completa el código aquí\n",
    "\n",
    "###Ok, hasta aquí"
   ]
  },
  {
   "cell_type": "code",
   "execution_count": null,
   "metadata": {},
   "outputs": [],
   "source": [
    "#***NO EDITAR***\n",
    "#Comprobación de los pasos anteriores\n",
    "if num1 == 0:\n",
    "    print(\"Bien, el resultado es correcto\")\n",
    "else:\n",
    "    print(\"Algo salió mal calculando el resultado\")\n",
    "#***NO EDITAR***\n",
    "#Comprobación de los pasos anteriores"
   ]
  },
  {
   "cell_type": "markdown",
   "metadata": {},
   "source": [
    "### Ejercicio 2\n",
    "\n",
    "Ahora, con un ciclo for, haz que la variable `arreglo_doble` tenga los números de `arreglo1`, pero multiplicados por 2 (el doble de cada número).\n",
    "\n",
    "Los números en `arreglo_doble` deberán estar en el orden inverso que en '`arreglo1`. O sea, si los números originales fueran:\n",
    "```\n",
    "[1, 2, 3]\n",
    "```\n",
    "el resultado (multiplicando por dos cada número, y ordenados al revés) deberá ser\n",
    "```\n",
    "[6, 4, 2]\n",
    "```\n",
    "\n",
    "**pista:** lo puedes lograr recorriendo en orden el primer arreglo, e insertando el resultado de cada elemento como primer elemento de `arreglo_doble`"
   ]
  },
  {
   "cell_type": "code",
   "execution_count": null,
   "metadata": {},
   "outputs": [],
   "source": [
    "arreglo_doble = []\n",
    "###Completa el código aquí\n",
    "\n",
    "###Ok, hasta aquí"
   ]
  },
  {
   "cell_type": "code",
   "execution_count": null,
   "metadata": {},
   "outputs": [],
   "source": [
    "#***NO EDITAR***\n",
    "#Comprobación de los pasos anteriores\n",
    "if arreglo_doble == [100, 80, 60, 40, 20]:\n",
    "    print(\"Bien, el resultado es correcto\")\n",
    "else:\n",
    "    print(\"Algo salió mal calculando el resultado\")\n",
    "#***NO EDITAR***\n",
    "#Comprobación de los pasos anteriores"
   ]
  },
  {
   "cell_type": "markdown",
   "metadata": {},
   "source": [
    "### Ejercicio 3\n",
    "\n",
    "Encuentra el mayor número de `arreglo2`, guárdarlo en la variable `el_mayor`. No hace falta que imprimas cada iteración, sólo importa el resultado que guardes en 'el_mayor'."
   ]
  },
  {
   "cell_type": "code",
   "execution_count": null,
   "metadata": {},
   "outputs": [],
   "source": [
    "arreglo2 = [90, 20, 30, 89, 100, 1, -99, 91, 300, 5, 10, 56]\n",
    "el_mayor = arreglo2[0] #Inicializamos el_mayor como el primer elemento por default\n",
    "\n",
    "###Completa el código aquí\n",
    "\n",
    "###Ok, hasta aquí"
   ]
  },
  {
   "cell_type": "code",
   "execution_count": null,
   "metadata": {},
   "outputs": [],
   "source": [
    "#***NO EDITAR***\n",
    "#Comprobación de los pasos anteriores\n",
    "if el_mayor == 300:\n",
    "    print(\"Bien, el resultado es correcto\")\n",
    "else:\n",
    "    print(\"Algo salió mal calculando el resultado\")\n",
    "#***NO EDITAR***\n",
    "#Comprobación de los pasos anteriores"
   ]
  },
  {
   "cell_type": "markdown",
   "metadata": {},
   "source": [
    "### Ejercicio 4\n",
    "\n",
    "Ahora, recorre `arreglo1`, `arreglo2` y `arreglo_doble` (necesitarás tres ciclos for, uno por cada arreglo). En el arreglo `los_pares` guarda todos los elementos de arreglo1 y arreglo2 que sean pares. En el arreglo 'los_impares' guarda todos los elementos de arreglo1 y arreglo2 que sean impares"
   ]
  },
  {
   "cell_type": "code",
   "execution_count": null,
   "metadata": {},
   "outputs": [],
   "source": [
    "los_pares = []\n",
    "los_impares = []\n",
    "###Completa el código aquí\n",
    "\n",
    "###Ok, hasta aquí"
   ]
  },
  {
   "cell_type": "code",
   "execution_count": null,
   "metadata": {},
   "outputs": [],
   "source": [
    "#***NO EDITAR***\n",
    "#Comprobación de los pasos anteriores\n",
    "print(\"los impares:\",len(los_impares), los_impares, \"Los pares:\", len(los_pares), los_pares)\n",
    "if len(los_impares) == 5:\n",
    "    print(\"El número de impares encontrados es correcto\")\n",
    "else:\n",
    "    print(\"El número de impares encontrados es incorrecto\")\n",
    "\n",
    "if len(los_pares) == 17:\n",
    "    print(\"El número de pares encontrados es correcto\")\n",
    "else:\n",
    "    print(\"El número de pares encontrados es incorrecto\")\n",
    "#***NO EDITAR***\n",
    "#Comprobación de los pasos anteriores"
   ]
  }
 ],
 "metadata": {
  "kernelspec": {
   "display_name": "Python 3.7.2 64-bit ('pyenv': venv)",
   "language": "python",
   "name": "python37264bitpyenvvenvc673da5bded546ba9bf3ee42c3e4e2ae"
  },
  "language_info": {
   "codemirror_mode": {
    "name": "ipython",
    "version": 3
   },
   "file_extension": ".py",
   "mimetype": "text/x-python",
   "name": "python",
   "nbconvert_exporter": "python",
   "pygments_lexer": "ipython3",
   "version": "3.7.2"
  }
 },
 "nbformat": 4,
 "nbformat_minor": 4
}
