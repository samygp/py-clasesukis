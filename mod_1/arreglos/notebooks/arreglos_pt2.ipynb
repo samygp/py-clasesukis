{
 "nbformat": 4,
 "nbformat_minor": 2,
 "metadata": {
  "language_info": {
   "name": "python",
   "codemirror_mode": {
    "name": "ipython",
    "version": 3
   },
   "version": "3.7.2-final"
  },
  "orig_nbformat": 2,
  "file_extension": ".py",
  "mimetype": "text/x-python",
  "name": "python",
  "npconvert_exporter": "python",
  "pygments_lexer": "ipython3",
  "version": 3,
  "kernelspec": {
   "name": "python37264bitpyenvvenv741dbc4229c94ea89598f7037c7bb955",
   "display_name": "Python 3.7.2 64-bit ('pyenv': venv)"
  }
 },
 "cells": [
  {
   "cell_type": "markdown",
   "execution_count": null,
   "metadata": {},
   "outputs": [],
   "source": [
    "# Arreglos (2)\n",
    "\n",
    "Imagina que te dicen que vas a tener invitados para comer en tu casa. Sabes que Martín, Laura y Pepe van a venir, entonces alrededor de tu mesa pones 4 sillas (una para cada invitado y una para ti). Viéndolo en forma de arreglo podríamos imaginarlo así. Tu mesa sería un arreglo, y cada silla alrededor de ella sería uno de los elementos.\n",
    "\n",
    "```\n",
    "#Invitados originales\n",
    "mesa = [\"Yo\", \"Martín\", \"Laura\", \"Pepe\"]\n",
    "print(\"Los invitados a la mesa son:\", mesa)\n",
    "```"
   ]
  },
  {
   "cell_type": "code",
   "execution_count": 2,
   "metadata": {},
   "outputs": [
    {
     "name": "stdout",
     "output_type": "stream",
     "text": "Los invitados a la mesa son: ['Yo', 'Martín', 'Laura', 'Pepe']\n"
    }
   ],
   "source": [
    "#Invitados originales\n",
    "mesa = [\"Yo\", \"Martín\", \"Laura\", \"Pepe\"]\n",
    "print(\"Los invitados a la mesa son:\", mesa)"
   ]
  },
  {
   "cell_type": "markdown",
   "execution_count": null,
   "metadata": {},
   "outputs": [],
   "source": [
    "Pero imagina que Pepe lleva también a Juan, su amigo. ¿Qué hacer entonces si sólo habías puesto 4 sillas? Quizás le podrías ceder tu asiento a Juan."
   ]
  },
  {
   "cell_type": "code",
   "execution_count": 5,
   "metadata": {},
   "outputs": [
    {
     "name": "stdout",
     "output_type": "stream",
     "text": "Los invitados a la mesa son: ['Juan', 'Martín', 'Laura', 'Pepe']\n"
    }
   ],
   "source": [
    "mesa[0] = \"Juan\"\n",
    "print(\"Los invitados a la mesa son:\", mesa)"
   ]
  },
  {
   "cell_type": "markdown",
   "execution_count": null,
   "metadata": {},
   "outputs": [],
   "source": [
    "¿Pero y si Laura también lleva a Alejandra? ¿Y Martín invitó a toda su familia porque les quería mostrar que tienes una casa muy bonita?\n",
    "\n",
    "Por lo menos en un arreglo, no podemos así como así poner gente en el índice que se nos ocurra, porque el arreglo ya tiene un tamaño definido, y si, por ejemplo, queremos asignar un elemento en el índice `4` para que sea el quinto elemento del arreglo, Python mostrará un error, diciendo que ese índice no existe. Esto es porque no podemos simplemente poner el índice que se nos ocurra para asignar algo, porque para Python esa dirección de memoria donde guardaría algo no existe.\n",
    "\n",
    "Pero no te preocupes, la cena en tu mesa sí tiene solución."
   ]
  },
  {
   "cell_type": "markdown",
   "execution_count": null,
   "metadata": {},
   "outputs": [],
   "source": [
    "## Arreglos vacíos\n",
    "\n",
    "Se puede crear un arreglo vacío asignando a una variable vacía el valor \"[]\". Esto es muy común porque habrá ocasiones en que nosotros **sabemos** que habrá elementos que vamos a utilizar después, pero quizás los tenemos que recibir de otra parte. En estos casos no sabemos cuáles son los elementos que contendrá, o cuántos serán.\n",
    "\n",
    "De esta manera Python sabe que hay un lugar en la memoria (nuestra variable con el arreglo) donde empezarán a añadirse elementos, pero todavía no contiene ninguno."
   ]
  },
  {
   "cell_type": "code",
   "execution_count": 12,
   "metadata": {},
   "outputs": [
    {
     "name": "stdout",
     "output_type": "stream",
     "text": "La mesa contiene: []\nLa cantidad de elementos en la mesa es 0\n"
    }
   ],
   "source": [
    "mesa = []\n",
    "print(\"La mesa contiene:\", mesa)\n",
    "print(\"La cantidad de elementos en la mesa es\", len(mesa))"
   ]
  },
  {
   "cell_type": "markdown",
   "execution_count": null,
   "metadata": {},
   "outputs": [],
   "source": [
    "## Apendizar elementos (append)\n",
    "\n",
    "La palabra \"apendizar\" no tiene mucho que ver con algún órgano del cuerpo humano, la palabra \"`apéndice`\" realmente significa (según la RAE) «Cosa adjunta o añadida a otra, de la cual es como parte accesoria o dependiente.»\n",
    "\n",
    "Esto, volviendo al contexto de un arreglo, quiere decir que podemos **añadir** más elementos, siendo su posición **dependiente** de la actual longitud del arreglo. Prácticamente como pegar algo al final. Esto quiere decir que si mi arreglo tiene una longitud actual de `4`, puedo apendizar un elemento y tendrá el índice `4` (porque será el quinto elemento, contando desde la posición `0`).\n",
    "\n",
    "En Python puedes utilizar el método `arreglo.append(valor)` en la variable que representa el arreglo. Este método requiere como parámetro el valor que se vaya a insertar dentro del arreglo.\n",
    "\n",
    "Volvamos a nuestra situación con la mesa. Imagina que tienes sillas infinitas, no te preocupes de dónde salieron. Empezando con la mesa vacía, vamos a darle una silla a cada invitado que vaya llegando. Primero llegan Pepe y Juan."
   ]
  },
  {
   "cell_type": "code",
   "execution_count": 26,
   "metadata": {},
   "outputs": [
    {
     "name": "stdout",
     "output_type": "stream",
     "text": "Llegan Pepe y Juan\nAhora la mesa contiene: ['Pepe', 'Juan']\nEl número de elementos en la mesa es: 2\n\nLlegan Martín y su familia\nAhora la mesa contiene: ['Pepe', 'Juan', 'Martín', 'Blanca', 'Jorgito', 'Amandita']\nEl número de elementos en la mesa es: 6\n"
    }
   ],
   "source": [
    "mesa = []\n",
    "print(\"Llegan Pepe y Juan\")\n",
    "mesa.append(\"Pepe\") #Agregamos a Pepe\n",
    "mesa.append(\"Juan\") #Agregamos a Juan\n",
    "print(\"Ahora la mesa contiene:\", mesa)\n",
    "print(\"El número de elementos en la mesa es:\", len(mesa))\n",
    "\n",
    "print(\"\\nLlegan Martín y su familia\")\n",
    "mesa.append(\"Martín\")\n",
    "mesa.append(\"Blanca\")\n",
    "mesa.append(\"Jorgito\")\n",
    "mesa.append(\"Amandita\")\n",
    "print(\"Ahora la mesa contiene:\", mesa)\n",
    "print(\"El número de elementos en la mesa es:\", len(mesa))"
   ]
  },
  {
   "cell_type": "markdown",
   "execution_count": null,
   "metadata": {},
   "outputs": [],
   "source": [
    "## Insertar elementos (insert)\n",
    "\n",
    "Apendizar elementos es conveniente si no nos preocupa realmente en qué parte del arreglo se encuentren, pero también es posible insertar elementos en un índice específico.\n",
    "\n",
    "Para insertar un elemento en cualquier posición dentro del arreglo (incluyendo el principio), se puede utilizar el método `arreglo.insert(indice, valor)`. El método 'insert' requiere dos parámetros, el primero es el índice en el que se quiere insertar un valor, y el segundo parámetro es el valor que se quiere agregar en la lista.\n",
    "\n",
    "Esta operación aumenta en 1 los índices de todos los elementos subsecuentes, esto quiere decir que si se inserta en el índice 2, todos los demás índices incrementarían en 1, o sea, el que antes era el índice 2, ahora será el 3, el que solía ser el 3, ahora será el 4, y así sucesivamente.\n",
    "\n",
    "Imagina que llegan Laura y Alejandra, pero les da flojera caminar hasta el final de la mesa (en el índice 6), y se quieren sentar al principio (índice 0). Podemos hacer esto usando la operación `insert` en el índice 0 para que cada una tome su silla al principio de la mesa, y los demás se recorran un lugar."
   ]
  },
  {
   "cell_type": "code",
   "execution_count": 27,
   "metadata": {},
   "outputs": [
    {
     "name": "stdout",
     "output_type": "stream",
     "text": "Laura se sienta al principio\nAhora la primera persona en la mesa es Laura\n\nAhora Alejandra llega a sentarse al principio de la mesa\nAhora la primera persona en la mesa es Alejandra y la segunda es Laura\n\nLa mesa completa se ve así: ['Alejandra', 'Laura', 'Pepe', 'Juan', 'Martín', 'Blanca', 'Jorgito', 'Amandita']\n"
    }
   ],
   "source": [
    "print(\"Laura se sienta al principio\")\n",
    "mesa.insert(0, \"Laura\")\n",
    "print(\"Ahora la primera persona en la mesa es\", mesa[0])\n",
    "\n",
    "print(\"\\nAhora Alejandra llega a sentarse al principio de la mesa\")\n",
    "mesa.insert(0, \"Alejandra\")\n",
    "print(\"Ahora la primera persona en la mesa es\", mesa[0], \"y la segunda es\", mesa[1])\n",
    "\n",
    "print(\"\\nLa mesa completa se ve así:\",mesa)"
   ]
  },
  {
   "cell_type": "markdown",
   "execution_count": null,
   "metadata": {},
   "outputs": [],
   "source": [
    "Ahora que llegaron todos los invitados, tú te quieres sentar en medio de Laura y Pepe, que son tus buenos amigos de la infancia y están felices por cómo quedó de bonita tu casa.\n",
    "\n",
    "Laura está en la segunda silla (índice 1), y Pepe está en la tercera silla (índice 2). Esto significa que tu silla debería insertarse para ser la nueva tercera silla en la mesa, y Pepe junto con los demás deberían recorrerse a la derecha."
   ]
  },
  {
   "cell_type": "code",
   "execution_count": 28,
   "metadata": {},
   "outputs": [
    {
     "name": "stdout",
     "output_type": "stream",
     "text": "Por fin puedes tomar asiento, y pones tu silla en la tercera posición\nY ahora la mesa se ve así: ['Alejandra', 'Laura', 'Yo', 'Pepe', 'Juan', 'Martín', 'Blanca', 'Jorgito', 'Amandita']\n"
    }
   ],
   "source": [
    "print(\"Por fin puedes tomar asiento, y pones tu silla en la tercera posición\")\n",
    "mesa.insert(2, \"Yo\")\n",
    "print(\"Y ahora la mesa se ve así:\", mesa)"
   ]
  },
  {
   "cell_type": "markdown",
   "execution_count": null,
   "metadata": {},
   "outputs": [],
   "source": [
    "## Botar elementos (pop)\n",
    "\n",
    "Así como se pueden insertar y apendizar elementos en los arreglos, se pueden 'botar' objetos de un arreglo.\n",
    "\n",
    "Para eliminar un elemento del final del arreglo, se puede utilizar la operación `arreglo.pop(índice)` (botar, como cuando bota el corcho de una botella), y se utiliza con, o sin parámetro de índice. Cuando se utiliza sin índice, esta operación es el opuesto de `append`, es decir, bota el último elemento del arreglo (en vez de agregarlo). Cuando se usa con índice, es el opuesto de `insert`, porque bota un elemento en un índice específico del arreglo, y reduce el valor todos los índices subsecuentes en una posición (todos los que estaban a la derecha se recorrerán una posición a la izquierda).\n",
    "\n",
    "Esta operación, además, devuelve (da como resultado) el objeto que se acaba de botar, y ese elemento botado se puede guardar en una variable por separado.\n",
    "\n",
    "Termina la cena, todos están satisfechos, y Martín junto con su familia regresan a su casa, porque Jorgito y Amandita tienen escuela al día siguiente. Hagamos un arreglo nuevo que represente el coche en el que Martín y su familia regresan a casa."
   ]
  },
  {
   "cell_type": "code",
   "execution_count": 33,
   "metadata": {},
   "outputs": [
    {
     "name": "stdout",
     "output_type": "stream",
     "text": "El último invitado sale de la mesa, y quitamos su silla. Guardamos su nombre en otra variable llamada 'pasajero'.\nAhora la mesa se ve así: ['Alejandra', 'Laura', 'Yo', 'Pepe', 'Juan', 'Martín', 'Blanca', 'Jorgito'] y nuestra variable pasajero contiene: Amandita\n\nSubimos a esa persona al coche, que actualmente está vacío: []\nY ahora el coche se ve así: ['Amandita']\n\nRepitamos lo mismo con los siguientes 3 integrantes que se encuentran al final de la mesa.\nY finalmente nuestro coche se ve así: ['Amandita', 'Jorgito', 'Blanca', 'Martín']\nY la mesa se ve así: ['Alejandra', 'Laura', 'Yo', 'Pepe', 'Juan']\n"
    }
   ],
   "source": [
    "coche = []\n",
    "print(\"El último invitado sale de la mesa, y quitamos su silla. Guardamos su nombre en otra variable llamada 'pasajero'.\")\n",
    "pasajero = mesa.pop()\n",
    "print(\"\\nAhora la mesa se ve así:\", mesa, \"y nuestra variable pasajero contiene a:\",pasajero)\n",
    "\n",
    "print(\"\\nSubimos a esa persona al coche, que actualmente está vacío:\", coche)\n",
    "coche.append(pasajero)\n",
    "print(\"Y ahora el coche se ve así:\", coche)\n",
    "\n",
    "print(\"\\nRepetimos lo mismo con los siguientes 3 integrantes que se encuentran al final de la mesa.\")\n",
    "#Segundo pasajero\n",
    "pasajero = mesa.pop()\n",
    "coche.append(pasajero)\n",
    "#Tercer pasajero\n",
    "pasajero = mesa.pop()\n",
    "coche.append(pasajero)\n",
    "#Cuarto pasajero\n",
    "pasajero = mesa.pop()\n",
    "coche.append(pasajero)\n",
    "print(\"\\nY finalmente nuestro coche se ve así:\", coche)\n",
    "print(\"Y la mesa se ve así:\", mesa)"
   ]
  },
  {
   "cell_type": "markdown",
   "execution_count": null,
   "metadata": {},
   "outputs": [],
   "source": [
    "Un rato después de que la familia regresó a casa, Laura y Alejandra salen y piden un taxi, entonces botamos del arreglo los primeros dos elementos, y los subimos al taxi."
   ]
  },
  {
   "cell_type": "code",
   "execution_count": 34,
   "metadata": {},
   "outputs": [
    {
     "name": "stdout",
     "output_type": "stream",
     "text": "Subimos al taxi a la persona que se encuentra al principio de la mesa\nDespués a la siguiente\n\nY ahora el taxi se ve así: ['Alejandra', 'Laura']\n\nLa mesa ahora tiene a: ['Yo', 'Pepe', 'Juan']\n"
    }
   ],
   "source": [
    "taxi = []\n",
    "print(\"Subimos al taxi a la persona que se encuentra al principio de la mesa\")\n",
    "taxi.append(mesa.pop(0))\n",
    "print(\"Después a la siguiente\")\n",
    "taxi.append(mesa.pop(0))\n",
    "print(\"\\nY ahora el taxi se ve así:\", taxi)\n",
    "print(\"\\nLa mesa ahora tiene a:\", mesa)"
   ]
  },
  {
   "cell_type": "markdown",
   "execution_count": 35,
   "metadata": {},
   "outputs": [
    {
     "name": "stdout",
     "output_type": "stream",
     "text": "\nPor último, para eliminar un elemento en cualquier otro índice del arreglo\nse puede utilizar el método 'arreglo.pop(indice)', que requiere como\nparámetro el índice en el arreglo que se quiere eliminar.\nNota que utilizar 'pop' en índices que no son el último elemento\ntambién ocasiona que los índices de cada elemento se reorganicen,\n(todos los elementos subsecuentes al eliminado se reducirán en 1)\n\nRemoviendo el primer elemento con numeritos.pop(0)\n"
    },
    {
     "ename": "IndexError",
     "evalue": "pop from empty list",
     "output_type": "error",
     "traceback": [
      "\u001b[0;31m---------------------------------------------------------------------------\u001b[0m",
      "\u001b[0;31mIndexError\u001b[0m                                Traceback (most recent call last)",
      "\u001b[0;32m<ipython-input-35-6b59d2bfdda7>\u001b[0m in \u001b[0;36m<module>\u001b[0;34m\u001b[0m\n\u001b[1;32m      9\u001b[0m \"\"\")\n\u001b[1;32m     10\u001b[0m \u001b[0mprint\u001b[0m\u001b[0;34m(\u001b[0m\u001b[0;34m\"Removiendo el primer elemento con numeritos.pop(0)\"\u001b[0m\u001b[0;34m)\u001b[0m\u001b[0;34m\u001b[0m\u001b[0;34m\u001b[0m\u001b[0m\n\u001b[0;32m---> 11\u001b[0;31m \u001b[0muno_especifico\u001b[0m \u001b[0;34m=\u001b[0m \u001b[0mnumeritos\u001b[0m\u001b[0;34m.\u001b[0m\u001b[0mpop\u001b[0m\u001b[0;34m(\u001b[0m\u001b[0;36m0\u001b[0m\u001b[0;34m)\u001b[0m\u001b[0;34m\u001b[0m\u001b[0;34m\u001b[0m\u001b[0m\n\u001b[0m\u001b[1;32m     12\u001b[0m \u001b[0;34m\u001b[0m\u001b[0m\n\u001b[1;32m     13\u001b[0m \u001b[0mprint\u001b[0m\u001b[0;34m(\u001b[0m\u001b[0;34m\"Obtenemos que el primer elemento era:\"\u001b[0m\u001b[0;34m,\u001b[0m \u001b[0muno_especifico\u001b[0m\u001b[0;34m,\u001b[0m \u001b[0;34m\"y ahora mis numeritos contienen\"\u001b[0m\u001b[0;34m,\u001b[0m \u001b[0mnumeritos\u001b[0m\u001b[0;34m)\u001b[0m\u001b[0;34m\u001b[0m\u001b[0;34m\u001b[0m\u001b[0m\n",
      "\u001b[0;31mIndexError\u001b[0m: pop from empty list"
     ]
    }
   ],
   "source": [
    "Al final de la noche, Pepe y Juan se van caminando, y tú terminas de guardar las sillas en las que estaban sentados. Ellos no se van en taxi, se van caminando."
   ]
  },
  {
   "cell_type": "code",
   "execution_count": 36,
   "metadata": {},
   "outputs": [
    {
     "name": "stdout",
     "output_type": "stream",
     "text": "Sale de la mesa: Juan\nSale de la mesa: Pepe\nSale de la mesa: Yo\n\nY ahora la mesa está vacía []\n"
    }
   ],
   "source": [
    "print(\"Sale de la mesa:\",mesa.pop())\n",
    "print(\"Sale de la mesa:\",mesa.pop())\n",
    "print(\"Sale de la mesa:\",mesa.pop())\n",
    "print(\"\\nY ahora la mesa está vacía\", mesa)"
   ]
  }
 ]
}