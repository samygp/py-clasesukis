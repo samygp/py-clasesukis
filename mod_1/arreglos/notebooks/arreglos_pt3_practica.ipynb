{
 "cells": [
  {
   "cell_type": "markdown",
   "metadata": {},
   "source": [
    "### Ejercicio 1\n",
    "\n",
    "Crea un arreglo que contenga 8 elementos tipo número, guárdalo en una variable que se llame `arreglo1`. Asegúrate de incluír números variados, positivos y negativos."
   ]
  },
  {
   "cell_type": "code",
   "execution_count": null,
   "metadata": {},
   "outputs": [],
   "source": [
    "###Agrega tu código aquí abajo\n",
    "\n",
    "\n",
    "###Ok, hasta aquí"
   ]
  },
  {
   "cell_type": "code",
   "execution_count": null,
   "metadata": {},
   "outputs": [],
   "source": [
    "#***NO EDITAR***\n",
    "#Comprobación de los pasos anteriores\n",
    "if len(arreglo1) == 8:\n",
    "    print(\"Bien, la longitud es correcta\")\n",
    "else:\n",
    "    print(\"La longitud no es correcta\")\n",
    "\n",
    "print(\"Aquí está tu arreglo:\", arreglo1)\n",
    "#***NO EDITAR***\n",
    "#Comprobación de los pasos anteriores"
   ]
  },
  {
   "cell_type": "markdown",
   "metadata": {},
   "source": [
    "### Ejercicio 2\n",
    "\n",
    "Imprime aquí abajo los elementos de `arreglo1` del tercero al séptimo"
   ]
  },
  {
   "cell_type": "code",
   "execution_count": null,
   "metadata": {},
   "outputs": [],
   "source": [
    "###Agrega tu código aquí abajo\n",
    "\n",
    "\n",
    "###Ok, hasta aquí"
   ]
  },
  {
   "cell_type": "markdown",
   "metadata": {},
   "source": [
    "Imprime aquí abajo el penúltimo elemento de `arreglo1`"
   ]
  },
  {
   "cell_type": "code",
   "execution_count": null,
   "metadata": {},
   "outputs": [],
   "source": [
    "###Agrega tu código aquí abajo\n",
    "\n",
    "\n",
    "###Ok, hasta aquí"
   ]
  },
  {
   "cell_type": "markdown",
   "metadata": {},
   "source": [
    "Imprime aquí abajo los últimos 4 elementos de `arreglo1`"
   ]
  },
  {
   "cell_type": "code",
   "execution_count": null,
   "metadata": {},
   "outputs": [],
   "source": [
    "###Agrega tu código aquí abajo\n",
    "\n",
    "\n",
    "###Ok, hasta aquí"
   ]
  },
  {
   "cell_type": "markdown",
   "metadata": {},
   "source": [
    "### Ejercicio 3\n",
    "\n",
    "Imprime cada cuarto elemento de `arreglo1`."
   ]
  },
  {
   "cell_type": "code",
   "execution_count": null,
   "metadata": {},
   "outputs": [],
   "source": [
    "###Agrega tu código aquí abajo\n",
    "\n",
    "\n",
    "###Ok, hasta aquí"
   ]
  },
  {
   "cell_type": "markdown",
   "metadata": {},
   "source": [
    "Imprime cada segundo elemento de `arreglo1`, desde el segundo elemento hasta el sexto elemento."
   ]
  },
  {
   "cell_type": "code",
   "execution_count": null,
   "metadata": {},
   "outputs": [],
   "source": [
    "###Agrega tu código aquí abajo\n",
    "\n",
    "\n",
    "###Ok, hasta aquí"
   ]
  },
  {
   "cell_type": "markdown",
   "metadata": {},
   "source": [
    "### Ejercicio 4\n",
    "\n",
    "Obtén los primeros cuatro elementos de arreglo1, y asígnalos a una variable que se llame `sub_arreglo`."
   ]
  },
  {
   "cell_type": "code",
   "execution_count": null,
   "metadata": {},
   "outputs": [],
   "source": [
    "###Agrega tu código aquí abajo\n",
    "\n",
    "\n",
    "###Ok, hasta aquí"
   ]
  },
  {
   "cell_type": "markdown",
   "metadata": {},
   "source": [
    "Calcula la suma de todos los elementos de arreglo1 y la suma de todos los elementos de sub_arreglo.\n",
    "Si la sumatoria de `arreglo1` es mayora a la de sub_arreglo imprime `arreglo1 es más grande`, si no, imprime `arreglo1 es más pequeño`."
   ]
  },
  {
   "cell_type": "code",
   "execution_count": null,
   "metadata": {},
   "outputs": [],
   "source": [
    "###Agrega tu código aquí abajo\n",
    "\n",
    "\n",
    "###Ok, hasta aquí"
   ]
  },
  {
   "cell_type": "markdown",
   "metadata": {},
   "source": [
    "### Ejercicio 5\n",
    "\n",
    "Imprime todos los elementos, al revés, de `mi_frasesita`"
   ]
  },
  {
   "cell_type": "code",
   "execution_count": null,
   "metadata": {},
   "outputs": [],
   "source": [
    "mi_frasesita = [\"esto\", \"está\", \"muy\", \"bonito\"]\n",
    "###Agrega tu código aquí abajo\n",
    "\n",
    "###Ok, hasta aquí"
   ]
  },
  {
   "cell_type": "markdown",
   "metadata": {},
   "source": [
    "Finalmente, usando `mi_frasesita`, imprime `muy bonito esto está`"
   ]
  },
  {
   "cell_type": "code",
   "execution_count": null,
   "metadata": {},
   "outputs": [],
   "source": [
    "###COMPLETA el código aquí abajo\n",
    "print(mi_frasesita[], mi_frasesita[])\n",
    "###Ok, hasta aquí"
   ]
  }
 ],
 "metadata": {
  "kernelspec": {
   "display_name": "Python 3.7.2 64-bit ('pyenv': venv)",
   "language": "python",
   "name": "python37264bitpyenvvenvc673da5bded546ba9bf3ee42c3e4e2ae"
  },
  "language_info": {
   "codemirror_mode": {
    "name": "ipython",
    "version": 3
   },
   "file_extension": ".py",
   "mimetype": "text/x-python",
   "name": "python",
   "nbconvert_exporter": "python",
   "pygments_lexer": "ipython3",
   "version": "3.7.2"
  }
 },
 "nbformat": 4,
 "nbformat_minor": 4
}
