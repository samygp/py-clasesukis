{
 "nbformat": 4,
 "nbformat_minor": 2,
 "metadata": {
  "language_info": {
   "name": "python",
   "codemirror_mode": {
    "name": "ipython",
    "version": 3
   },
   "version": "3.7.2-final"
  },
  "orig_nbformat": 2,
  "file_extension": ".py",
  "mimetype": "text/x-python",
  "name": "python",
  "npconvert_exporter": "python",
  "pygments_lexer": "ipython3",
  "version": 3,
  "kernelspec": {
   "name": "python37264bitpyenvvenv741dbc4229c94ea89598f7037c7bb955",
   "display_name": "Python 3.7.2 64-bit ('pyenv': venv)"
  }
 },
 "cells": [
  {
   "cell_type": "markdown",
   "execution_count": null,
   "metadata": {},
   "outputs": [],
   "source": [
    "### Ejercicio 1\n",
    "\n",
    "Crea un arreglo vacío en una variable que se llame `el_arreglo`."
   ]
  },
  {
   "cell_type": "code",
   "execution_count": null,
   "metadata": {},
   "outputs": [],
   "source": [
    "###Crea tu arreglo aquí\n",
    "el_arreglo =\n",
    "###Ok, hasta aquí"
   ]
  },
  {
   "cell_type": "code",
   "execution_count": null,
   "metadata": {},
   "outputs": [],
   "source": [
    "#***NO EDITAR***\n",
    "#Comprobación de los pasos anteriores\n",
    "print(\"El arreglo:\", el_arreglo)\n",
    "\n",
    "if len(el_arreglo) == 0:\n",
    "    print(\"Bien, el arreglo está vacío\")\n",
    "else:\n",
    "    print(\"El arreglo debe estar vacío, recuerda que se hace asignando el valor '[]' a tu variable\")\n",
    "#***NO EDITAR***\n",
    "#Comprobación de los pasos anteriores"
   ]
  },
  {
   "cell_type": "markdown",
   "execution_count": null,
   "metadata": {},
   "outputs": [],
   "source": [
    "### Ejercicio 2\n",
    "\n",
    "Apendiza a tu arreglo el número 20, luego el 40, luego el 90."
   ]
  },
  {
   "cell_type": "code",
   "execution_count": null,
   "metadata": {},
   "outputs": [],
   "source": [
    "#Asigna los valores aquí\n",
    "\n",
    "\n",
    "###Ok, hasta aquí"
   ]
  },
  {
   "cell_type": "code",
   "execution_count": null,
   "metadata": {},
   "outputs": [],
   "source": [
    "#***NO EDITAR***\n",
    "#Comprobación de los pasos anteriores\n",
    "if el_arreglo == [20, 40, 90]:\n",
    "    print(\"Bien, el arreglo tiene lo que debería tener\")\n",
    "else:\n",
    "    print(\"Algo salió mal asignando los valores\")\n",
    "#***NO EDITAR***\n",
    "#Comprobación de los pasos anteriores"
   ]
  },
  {
   "cell_type": "markdown",
   "execution_count": null,
   "metadata": {},
   "outputs": [],
   "source": [
    "Ahora agrega el número 100 al final del arreglo"
   ]
  },
  {
   "cell_type": "code",
   "execution_count": null,
   "metadata": {},
   "outputs": [],
   "source": [
    "#Asigna los valores aquí\n",
    "\n",
    "###Ok, hasta aquí"
   ]
  },
  {
   "cell_type": "code",
   "execution_count": null,
   "metadata": {},
   "outputs": [],
   "source": [
    "#***NO EDITAR***\n",
    "#Comprobación de los pasos anteriores\n",
    "\n",
    "if el_arreglo[len(el_arreglo) - 1] == 100:\n",
    "    print(\"Bien, el arreglo tiene lo que debería tener\")\n",
    "else:\n",
    "    print(\"Algo salió mal asignando los valores\")\n",
    "\n",
    "#***NO EDITAR***\n",
    "#Comprobación de los pasos anteriores"
   ]
  },
  {
   "cell_type": "markdown",
   "execution_count": null,
   "metadata": {},
   "outputs": [],
   "source": [
    "Ahora agrega el valor 60 entre el 40 y el 90"
   ]
  },
  {
   "cell_type": "code",
   "execution_count": null,
   "metadata": {},
   "outputs": [],
   "source": [
    "###Asigna los valores aquí\n",
    "\n",
    "###Ok, hasta aquí"
   ]
  },
  {
   "cell_type": "code",
   "execution_count": null,
   "metadata": {},
   "outputs": [],
   "source": [
    "#***NO EDITAR***\n",
    "#Comprobación de los pasos anteriores\n",
    "if el_arreglo.index(60) == (el_arreglo.index(40) + 1):\n",
    "    print(\"Bien, el arreglo tiene lo que debería tener\")\n",
    "else:\n",
    "    print(\"Algo salió mal asignando los valores\")\n",
    "#***NO EDITAR***\n",
    "#Comprobación de los pasos anteriores"
   ]
  },
  {
   "cell_type": "markdown",
   "execution_count": null,
   "metadata": {},
   "outputs": [],
   "source": [
    "Agrega el valor 80 entre el 60 y el 90"
   ]
  },
  {
   "cell_type": "code",
   "execution_count": null,
   "metadata": {},
   "outputs": [],
   "source": [
    "###Asigna los valores aquí\n",
    "\n",
    "###Ok, hasta aquí"
   ]
  },
  {
   "cell_type": "code",
   "execution_count": null,
   "metadata": {},
   "outputs": [],
   "source": [
    "#***NO EDITAR***\n",
    "#Comprobación de los pasos anteriores\n",
    "if el_arreglo.index(80) == (el_arreglo.index(90) - 1):\n",
    "    print(\"Bien, el arreglo tiene lo que debería tener\")\n",
    "else:\n",
    "    print(\"Algo salió mal asignando los valores\")\n",
    "\n",
    "#***NO EDITAR***\n",
    "#Comprobación de los pasos anteriores"
   ]
  },
  {
   "cell_type": "markdown",
   "metadata": {},
   "source": [
    "### Ejercicio 3\n",
    "\n",
    "Remueve el valor que se encuentra en el índice 2, guárdalo en una variable que se llame `el_segundo`"
   ]
  },
  {
   "cell_type": "code",
   "execution_count": null,
   "metadata": {},
   "outputs": [],
   "source": [
    "###Completa el código aquí\n",
    "\n",
    "###Ok, hasta aquí"
   ]
  },
  {
   "cell_type": "code",
   "execution_count": null,
   "metadata": {},
   "outputs": [],
   "source": [
    "#***NO EDITAR***\n",
    "#Comprobación de los pasos anteriores\n",
    "if el_segundo == 60:\n",
    "    print(\"Bien, ese era el valor correcto\")\n",
    "else:\n",
    "    print(\"Algo no anda bien, el elemento en la variable 'el_segundo' debería ser igual a 60\")\n",
    "#***NO EDITAR***\n",
    "#Comprobación de los pasos anteriores"
   ]
  },
  {
   "cell_type": "markdown",
   "metadata": {},
   "source": [
    "Ahora remueve los dos últimos elementos del arreglo"
   ]
  },
  {
   "cell_type": "code",
   "execution_count": null,
   "metadata": {},
   "outputs": [],
   "source": [
    "###Completa el código aquí\n",
    "\n",
    "###Ok, hasta aquí"
   ]
  },
  {
   "cell_type": "code",
   "execution_count": null,
   "metadata": {},
   "outputs": [],
   "source": [
    "#***NO EDITAR***\n",
    "#Comprobación de los pasos anteriores\n",
    "print(el_arreglo)\n",
    "if el_arreglo == [20, 40, 80]:\n",
    "    print(\"Bien, el arreglo tiene lo que debería tener\")\n",
    "else:\n",
    "    print(\"Algo salió mal asignando los valores\")\n",
    "#***NO EDITAR***\n",
    "#Comprobación de los pasos anteriores"
   ]
  },
  {
   "cell_type": "markdown",
   "metadata": {},
   "source": [
    "Ahora elimina los dos primeros elementos del arreglo"
   ]
  },
  {
   "cell_type": "code",
   "execution_count": null,
   "metadata": {},
   "outputs": [],
   "source": [
    "###Completa el código aquí\n",
    "\n",
    "###Ok, hasta aquí"
   ]
  },
  {
   "cell_type": "code",
   "execution_count": null,
   "metadata": {},
   "outputs": [],
   "source": [
    "\n",
    "if el_arreglo == [80]:\n",
    "    print(\"Bien, el arreglo tiene lo que debería tener\")\n",
    "else:\n",
    "    print(\"Algo salió mal asignando los valores\")"
   ]
  }
 ]
}