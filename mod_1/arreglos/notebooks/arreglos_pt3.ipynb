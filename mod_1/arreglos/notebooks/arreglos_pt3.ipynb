{
 "cells": [
  {
   "cell_type": "markdown",
   "metadata": {},
   "source": [
    "## Nota antes de comenzar (advertencia)\n",
    "\n",
    "El contenido de este tema es exclusivo de Python, la forma de usar índices a continuación no son notación común en la mayoría de los lenguajes de programación, pero en Python son MUY convenientes, y nos permiten hacer operaciones que en otros lenguajes llevarían más trabajo (más líneas de código) lograr.\n",
    "\n",
    "## Índices negativos\n",
    "\n",
    "Las listas en python tienen más de una forma de acceder a los elementos, utilizando sus índices en más formas. Se puede, por ejemplo, utilizar índices con valores negativos para obtener elementos contando desde el final de la lista. \n",
    "\n",
    "Esto significa que para obtener el último elemento de un arreglo, en vez de averiguar la longitud del arreglo, restarle uno, y utilizar ese número como índice, podemos mejor obtener el elemento del índice `-1` en nuestra lista.\n",
    "\n",
    "Con un arreglo `arr = [3, 5, 8, 1, 9, 12, 4]` Podemos obtener el último elemento haciendo lo siguiente."
   ]
  },
  {
   "cell_type": "code",
   "execution_count": 1,
   "metadata": {},
   "outputs": [
    {
     "name": "stdout",
     "output_type": "stream",
     "text": [
      "arr[-1]: 4\n",
      "El penúltimo elemento sería arr[-2]: 12\n",
      "Y así sucesivamente\n"
     ]
    }
   ],
   "source": [
    "arr = [3, 5, 8, 1, 9, 12, 4]\n",
    "print(\"arr[-1]:\", arr[-1])\n",
    "print(\"El penúltimo elemento sería arr[-2]:\", arr[-2])\n",
    "print(\"Y así sucesivamente\")"
   ]
  },
  {
   "cell_type": "markdown",
   "metadata": {},
   "source": [
    "## Rangos de índices\n",
    "\n",
    "En ocasiones necesitaremos sólo fragmentos del arreglo, o \"rebanadas\" (`slices`). Estos sub-arreglos se pueden obtener\n",
    "usando índices en forma de rangos (desde índice A hasta índice B). El resultado de esto nos devuelve otra lista, con la selección de los elementos contenidos en ese `rango`.\n",
    "\n",
    "La notación en Python para obtener slices es de la siguiente forma: `arreglo[desde:hasta]`.\n",
    "\n",
    "Cabe notar que el índice inferior (desde) es inclusivo (incluye el elemento en ese índice), pero el índice\n",
    "superior es exclusivo (excluye el elemento de ese índice). Usando nuestro arreglo anterior, si quiero los elementos \n",
    "**DESDE** el primero (índice 0) **HASTA** el cuarto (índice 3), puedo hacerlo de la siguiente forma:"
   ]
  },
  {
   "cell_type": "code",
   "execution_count": 2,
   "metadata": {},
   "outputs": [
    {
     "name": "stdout",
     "output_type": "stream",
     "text": [
      "[3, 5, 8, 1, 9, 12, 4]\n",
      "arr[0:4] devuelve: [3, 5, 8, 1]\n"
     ]
    }
   ],
   "source": [
    "print(arr)\n",
    "print(\"arr[0:4] devuelve:\", arr[0:4])"
   ]
  },
  {
   "cell_type": "markdown",
   "metadata": {},
   "source": [
    "Si deseamos obtener desde el primer elemento hasta algún otro también podemos omitir el índice 0, y dejar vacío el primer índice, y sólo especifiando el final del rango."
   ]
  },
  {
   "cell_type": "code",
   "execution_count": 3,
   "metadata": {},
   "outputs": [
    {
     "name": "stdout",
     "output_type": "stream",
     "text": [
      "arr[:4] es equivalente a arr[0:4] obtenemos: [3, 5, 8, 1]\n"
     ]
    }
   ],
   "source": [
    "print(\"arr[:4] es equivalente a arr[0:4] obtenemos:\", arr[:4])"
   ]
  },
  {
   "cell_type": "markdown",
   "metadata": {},
   "source": [
    "Análogamente, si omitimos el segundo parámetro, Python asume que la selección implica ir hasta el final del arreglo."
   ]
  },
  {
   "cell_type": "code",
   "execution_count": 4,
   "metadata": {},
   "outputs": [
    {
     "name": "stdout",
     "output_type": "stream",
     "text": [
      "Todos los elementos desde el tercer índice: arr[3:] obtenemos: [1, 9, 12, 4]\n",
      "Si se omiten ambos, devuelve el slice del arreglo entero arr[:] obtenemos: [3, 5, 8, 1, 9, 12, 4]\n"
     ]
    }
   ],
   "source": [
    "print(\"Todos los elementos desde el tercer índice: arr[3:] obtenemos:\", arr[3:])\n",
    "print(\"Si se omiten ambos, devuelve el slice del arreglo entero arr[:] obtenemos:\", arr[:])"
   ]
  },
  {
   "cell_type": "markdown",
   "metadata": {},
   "source": [
    "## Rangos con índices negativos\n",
    "\n",
    "Esta forma de obtener slices también funciona con índices negativos. Esto se puede utilizar para obtener los elementos desde el primero hasta antes de los últimos `n` elementos (`arreglo[:-n]`) y desde el `n-último` (penúltimo, ante-penúltimo, tercer último...) hasta el final (`arreglo[-n:]`)."
   ]
  },
  {
   "cell_type": "code",
   "execution_count": 5,
   "metadata": {},
   "outputs": [
    {
     "name": "stdout",
     "output_type": "stream",
     "text": [
      "[3, 5, 8, 1, 9, 12, 4]\n",
      "Los últimos 3 elementos usando índices negativos obtenemos: [9, 12, 4]\n",
      "Los elementos desde el principio hasta antes de los últimos tres: [3, 5, 8, 1]\n"
     ]
    }
   ],
   "source": [
    "print(arr)\n",
    "print(\"Los últimos 3 elementos usando índices negativos obtenemos:\", arr[-3:])\n",
    "print(\"Los elementos desde el principio hasta antes de los últimos tres:\", arr[:-3])"
   ]
  },
  {
   "cell_type": "markdown",
   "metadata": {},
   "source": [
    "## Rangos con saltos (steps)\n",
    "\n",
    "La última parte que se puede especificar en los índices de un slice es con un tercer parámetro que indica los \"saltos\" entre un elemento y el siguiente del slice.\n",
    "\n",
    "Por ejemplo, si queremos un slice que nos devuelva los primeros 5 elementos, pero en saltos de dos (omitir un elemento de cada dos) podemos hacer lo siguiente:"
   ]
  },
  {
   "cell_type": "code",
   "execution_count": 6,
   "metadata": {},
   "outputs": [
    {
     "name": "stdout",
     "output_type": "stream",
     "text": [
      "El arreglo contiene: [3, 5, 8, 1, 9, 12, 4]\n",
      "Primeros cinco elementos, en saltos de 2, arr[0:5:2] obtenemos: [3, 8, 9]\n",
      "Ahora todos los elementos, en saltos de 3, arr[::3] obtenemos: [3, 1, 4]\n"
     ]
    }
   ],
   "source": [
    "print(\"El arreglo contiene:\", arr)\n",
    "print(\"Primeros cinco elementos, en saltos de 2, arr[0:5:2] obtenemos:\", arr[0:5:2])\n",
    "print(\"Ahora todos los elementos, en saltos de 3, arr[::3] obtenemos:\", arr[::3])"
   ]
  },
  {
   "cell_type": "markdown",
   "metadata": {},
   "source": [
    "Cuando utilizamos los saltos con índice negativo, el slice estará en orden invertido."
   ]
  },
  {
   "cell_type": "code",
   "execution_count": 7,
   "metadata": {},
   "outputs": [
    {
     "name": "stdout",
     "output_type": "stream",
     "text": [
      "Todos los elementos, al revés, arr[::-1] [4, 12, 9, 1, 8, 5, 3]\n"
     ]
    }
   ],
   "source": [
    "print(\"Todos los elementos, al revés, arr[::-1]\", arr[::-1])"
   ]
  },
  {
   "cell_type": "markdown",
   "metadata": {},
   "source": [
    "Atención: Cuando queremos obtener los últimos elementos con saltos negativos, **SE DEBE OMITIR EL ÍNDICE 0**, de otra manera Python lo interpreta de forma literal:\n",
    "Desde el índice 0 hasta el negativo especificado, y como el arreglo no tiene en realidad índices negativos, el slice estará vacío."
   ]
  },
  {
   "cell_type": "code",
   "execution_count": 8,
   "metadata": {},
   "outputs": [
    {
     "name": "stdout",
     "output_type": "stream",
     "text": [
      "El arreglo contiene: [3, 5, 8, 1, 9, 12, 4]\n",
      "Los últimos 3 elementos, en orden invertido, arr[:-4:-1] obtenemos [4, 12, 9]\n",
      "Slice mal especificado, arr[0:-4:-1] obtenemos: []\n"
     ]
    }
   ],
   "source": [
    "print(\"El arreglo contiene:\", arr)\n",
    "print(\"Los últimos 3 elementos, en orden invertido, arr[:-4:-1] obtenemos\", arr[:-4:-1])\n",
    "print(\"Slice mal especificado, arr[0:-4:-1] obtenemos:\", arr[0:-4:-1])"
   ]
  }
 ],
 "metadata": {
  "kernelspec": {
   "display_name": "Python 3.7.2 64-bit ('pyenv': venv)",
   "language": "python",
   "name": "python37264bitpyenvvenvc673da5bded546ba9bf3ee42c3e4e2ae"
  },
  "language_info": {
   "codemirror_mode": {
    "name": "ipython",
    "version": 3
   },
   "file_extension": ".py",
   "mimetype": "text/x-python",
   "name": "python",
   "nbconvert_exporter": "python",
   "pygments_lexer": "ipython3",
   "version": "3.7.2"
  }
 },
 "nbformat": 4,
 "nbformat_minor": 4
}
