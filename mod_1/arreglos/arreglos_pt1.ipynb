{
 "cells": [
  {
   "cell_type": "markdown",
   "metadata": {},
   "source": [
    "# Arreglos\n",
    "\n",
    "Los arreglos son colecciones de variables de un mismo tipo que son nombradas bajo el mismo nombre de variable. Esto es comunmente utilizado para no tener que declarar muchos nombres de variables diferentes para guardar una colección de elementos.\n",
    "\n",
    "El nombre \"arreglo\" puedes compararlo con un arreglo de flores, por ejemplo. Tienes flores, agrupadas en un mismo sitio. Puedes ver cada una de las flores, pero juntas forman una colección que puedes sujetar juntas.\n",
    "\n",
    "<img src=\"https://c.pxhere.com/photos/cb/14/flowers_dahlias_vases_garden_pink_botanical_floral_flower_arrangements-553467.jpg!d\" alt=\"drawing\" width=\"300\"/>\n",
    "\n",
    "## Crear un arreglo\n",
    "Usar arreglos facilita mucho hacer la asignación de números en una variable. La sintaxis para crear un arreglo es asignando a una variable elementos (de cualquier tipo, números, cadenas, booleanos, etc.) separados por coma, agrupados por corchetes (`[]`).\n",
    "\n",
    "```\n",
    "mi_variable = [valor1, valor2, valor3, valor4, ...]\n",
    "```\n",
    "\n",
    "Si quiero guardar 5 números, en vez de hacer algo como\n",
    "```\n",
    "num1 = 1\n",
    "num2 = 2\n",
    "num3 = 3\n",
    "num4 = 4\n",
    "num5 = 5\n",
    "```\n",
    "Puedo asignar un arreglo con números, cada uno separado por comas:\n",
    "```\n",
    "numeros = [1, 2, 3, 4, 5]\n",
    "```\n",
    "Estos valores pueden pueden ser explícitamente declarados en el arreglo (escribir el número o cadena, o cualquier valor que componga a cada elemento), o asignarlo con una variable que contenga ese valor, como en el siguiente ejemplo."
   ]
  },
  {
   "cell_type": "code",
   "execution_count": 1,
   "metadata": {},
   "outputs": [
    {
     "name": "stdout",
     "output_type": "stream",
     "text": [
      "Mis numeritos contendrán los números del 1 al 5:\n",
      "[1, 2, 3, 4, 5]\n"
     ]
    }
   ],
   "source": [
    "num1 = 1\n",
    "num3 = 3\n",
    "print(\"Mis numeritos contendrán los números del 1 al 5:\")\n",
    "numeritos = [num1, 2, num3, 4, 5]\n",
    "print(numeritos)"
   ]
  },
  {
   "cell_type": "markdown",
   "metadata": {},
   "source": [
    "## Índices\n",
    "\n",
    "En el ejemplo anterior, todos mis números estén contenidos en el nombre \"`numeritos`\", y cada uno tiene un índice, entonces para hacer referencia o usar cualquier elemento en específico dentro de un arreglo, debo usar su número de índice, que se escribe entre corchetes [] después del nombre de la variable que contiene el arreglo.\n",
    "\n",
    "El índice de los elementos empieza en 0, y el último índice va a ser el tamaño de tu arreglo menos 1. O sea, si tu arreglo tiene 5 elementos, el primer índice es \"0\", y el último índice va a ser el \"4\".\n",
    "\n",
    "Imaginemos que tenemos el siguiente arreglo:\n",
    "```\n",
    "arr = [10, 99, 22, 42, 1]\n",
    "```\n",
    "\n",
    "Podemos visualizar en esta tabla el contenido de nuestro arreglo \"`arr`\":\n",
    "\n",
    "|Referencia| Índice | Contenido |\n",
    "|----:|:--------:|:-----------|\n",
    "|arr[0]|   0    |     10     |\n",
    "|arr[1]|   1    |     99     |\n",
    "|arr[2]|   2    |     22    |\n",
    "|arr[3]|   3    |    42     |\n",
    "|arr[4]|   4    |     1     |\n"
   ]
  },
  {
   "cell_type": "code",
   "execution_count": 2,
   "metadata": {},
   "outputs": [
    {
     "name": "stdout",
     "output_type": "stream",
     "text": [
      "El primer elemento, en el índice 0 de mis numeritos es: 1\n",
      "El último elemento, en el índice 4 de mis numeritos es: 5\n"
     ]
    }
   ],
   "source": [
    "print(\"El primer elemento, en el índice 0 de mis numeritos es:\", numeritos[0])\n",
    "print(\"El último elemento, en el índice 4 de mis numeritos es:\", numeritos[4])"
   ]
  },
  {
   "cell_type": "markdown",
   "metadata": {},
   "source": [
    "Cualquier variable que contenga un número también puede usarse para hacer referencia al índice de un arreglo.\n",
    "\n",
    "Por ejemplo, si tengo el siguiente código:\n",
    "\n",
    "```\n",
    "mi_indice = 3\n",
    "arr = [999, 444, 777, 222, 111]\n",
    "```\n",
    "\n",
    "Es lo mismo hacer `arr[3]` que `arr[mi_indice]`; ambos retornarán el elemento que mi arreglo contiene en su índice 3 (o sea, el cuarto elemento, recordemos que los índices de un arreglo empiezan a contar desde el número `0`)"
   ]
  },
  {
   "cell_type": "code",
   "execution_count": 3,
   "metadata": {},
   "outputs": [
    {
     "name": "stdout",
     "output_type": "stream",
     "text": [
      "Imprimir usando el número como índice: 222\n",
      "Imprimir usando una variable con el mismo número dentro del índice: 222\n"
     ]
    }
   ],
   "source": [
    "mi_indice = 3\n",
    "arr = [999, 444, 777, 222, 111]\n",
    "\n",
    "print(\"Imprimir usando el número como índice:\", arr[3])\n",
    "print(\"Imprimir usando una variable con el mismo número dentro del índice:\", arr[mi_indice])"
   ]
  },
  {
   "cell_type": "markdown",
   "metadata": {},
   "source": [
    "## Longitud de un arreglo\n",
    "\n",
    "Podemos definir la longitud de un arreglo como la cantidad de elementos que contiene. Por ejemplo, un arreglo con 0 elementos, tiene longitud 0, y un arreglo con 10 elementos, tiene una longitud de 10.\n",
    "\n",
    "El siguiente arreglo:\n",
    "\n",
    "```\n",
    "arr = [\"a\", \"b\", \"c\", \"Hola\"]\n",
    "```\n",
    "\n",
    "Tiene longitud 4.\n",
    "\n",
    "Para obtener la longitud de un arreglo, se puede utilizar len(), (abreviación de \"length\" - longitud), que recibe como parámetro entre los paréntesis un arreglo."
   ]
  },
  {
   "cell_type": "code",
   "execution_count": 4,
   "metadata": {},
   "outputs": [
    {
     "name": "stdout",
     "output_type": "stream",
     "text": [
      "La longitud de mi arreglo de numeritos es: 5\n"
     ]
    }
   ],
   "source": [
    "la_longitud = len(numeritos)\n",
    "print(\"La longitud de mi arreglo de numeritos es:\", la_longitud)"
   ]
  },
  {
   "cell_type": "markdown",
   "metadata": {},
   "source": [
    "Esto nos ayuda también a obtener el último índice de nuestro arreglo (índice del último elemento en el arreglo).\n",
    "\n",
    "Lo que debemos hacer es primero recordar que si mi arreglo tiene longitud `n` (o sea, contiene `n` elementos), el último índice será `n-1`. Esto es, para un arreglo con 6 elementos, el último índice será `5`, porque su longitud es `6`, y `6 - 1` es igual a `5`.\n",
    "\n",
    "Entonces podemos calcular el valor del último índice con el siguiente código, reutilizando la variable `la_longitud` que creamos en el bloque de código anterior."
   ]
  },
  {
   "cell_type": "code",
   "execution_count": 5,
   "metadata": {},
   "outputs": [
    {
     "name": "stdout",
     "output_type": "stream",
     "text": [
      "El último índice de mi arreglo es: 4\n",
      "Entonces el último elemento es lo que guardé en mi arreglo es: 5\n"
     ]
    }
   ],
   "source": [
    "ultimo_indice = la_longitud - 1\n",
    "print(\"El último índice de mi arreglo es:\", ultimo_indice)\n",
    "print(\"Entonces el último elemento es lo que guardé en mi arreglo es:\", numeritos[ultimo_indice])"
   ]
  },
  {
   "cell_type": "markdown",
   "metadata": {},
   "source": [
    "Hay una parte importante con la que debemos tener cuidado: si nos salimos del rango de índices, e intentamos acceder a un elemento con un índice mayor a la longitud del arreglo, Python arrojará un error.\n",
    "\n",
    "Esto significa que si mi arreglo tiene longitud 5, podemos utilizar cualquier índice del rango de números entre 0 y 4, pero si yo intento acceder al índice 7, o cualquier número mayor al último índice (4 en este caso), Python mostrará un error por el número fuera de rango."
   ]
  },
  {
   "cell_type": "code",
   "execution_count": 6,
   "metadata": {},
   "outputs": [
    {
     "ename": "IndexError",
     "evalue": "list index out of range",
     "output_type": "error",
     "traceback": [
      "\u001b[0;31m---------------------------------------------------------------------------\u001b[0m",
      "\u001b[0;31mIndexError\u001b[0m                                Traceback (most recent call last)",
      "\u001b[0;32m<ipython-input-6-35d14b78b5b3>\u001b[0m in \u001b[0;36m<module>\u001b[0;34m\u001b[0m\n\u001b[0;32m----> 1\u001b[0;31m \u001b[0mprint\u001b[0m\u001b[0;34m(\u001b[0m\u001b[0mnumeritos\u001b[0m\u001b[0;34m[\u001b[0m\u001b[0;36m7\u001b[0m\u001b[0;34m]\u001b[0m\u001b[0;34m)\u001b[0m\u001b[0;34m\u001b[0m\u001b[0;34m\u001b[0m\u001b[0m\n\u001b[0m",
      "\u001b[0;31mIndexError\u001b[0m: list index out of range"
     ]
    }
   ],
   "source": [
    "print(numeritos[7])"
   ]
  }
 ],
 "metadata": {
  "file_extension": ".py",
  "kernelspec": {
   "display_name": "Python 3.7.2 64-bit ('pyenv': venv)",
   "language": "python",
   "name": "python37264bitpyenvvenv741dbc4229c94ea89598f7037c7bb955"
  },
  "language_info": {
   "codemirror_mode": {
    "name": "ipython",
    "version": 3
   },
   "file_extension": ".py",
   "mimetype": "text/x-python",
   "name": "python",
   "nbconvert_exporter": "python",
   "pygments_lexer": "ipython3",
   "version": "3.7.2"
  },
  "mimetype": "text/x-python",
  "name": "python",
  "npconvert_exporter": "python",
  "pygments_lexer": "ipython3",
  "version": 3
 },
 "nbformat": 4,
 "nbformat_minor": 2
}
