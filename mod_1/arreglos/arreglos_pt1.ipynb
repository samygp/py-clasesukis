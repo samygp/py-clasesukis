{
 "cells": [
  {
   "cell_type": "markdown",
   "metadata": {},
   "source": [
    "# Arreglos\n",
    "\n",
    "Los arreglos son colecciones de variables de un mismo tipo que\n",
    "son nombradas bajo el mismo nombre de variable.\n",
    "\n",
    "## Crear un arreglo\n",
    "Entonces si quiero guardar 5 números, en vez de hacer algo como\n",
    "```\n",
    "num1 = 1\n",
    "num2 = 2\n",
    "num3 = 3\n",
    "num4 = 4\n",
    "num5 = 5\n",
    "```\n",
    "Puedo asignar un arreglo con números, cada uno separado por comas:\n",
    "```\n",
    "mi_variable = [valor1, valor2, valor3, valor4]\n",
    "```\n",
    "Estos valores pueden venir de un número, cadena, booleano,\n",
    "o cualquier otro valor, y puede ser explícitamente declarado,\n",
    "o sea, escribir el valor, o asignarlo con una variable."
   ]
  },
  {
   "cell_type": "code",
   "execution_count": 1,
   "metadata": {},
   "outputs": [
    {
     "name": "stdout",
     "output_type": "stream",
     "text": [
      "Mis numeritos contendrán los números del 1 al 5:\n",
      "[1, 2, 3, 4, 5]\n"
     ]
    }
   ],
   "source": [
    "num1 = 1\n",
    "num3 = 3\n",
    "print(\"Mis numeritos contendrán los números del 1 al 5:\")\n",
    "numeritos = [num1, 2, num3, 4, 5]\n",
    "print(numeritos)"
   ]
  },
  {
   "cell_type": "markdown",
   "metadata": {},
   "source": [
    "## Índices\n",
    "\n",
    "Esto hace que todos mis numeritos estén contenidos en el nombre \"numeritos\", y cada uno tiene un índice, entonces para hacer referencia o usar cualquier elemento específico en un arreglo debo usar su número de índice, que se escribe entre corchetes [].\n",
    "El índice de los elementos empieza en 0, y el último índice va a ser el tamaño de tu arreglo menos 1. O sea, si tu arreglo tiene 5 elementos, el primer índice es \"0\", y el último índice va a ser el \"4\"."
   ]
  },
  {
   "cell_type": "code",
   "execution_count": 2,
   "metadata": {},
   "outputs": [
    {
     "name": "stdout",
     "output_type": "stream",
     "text": [
      "El primer elemento, en el índice 0 de mis numeritos es: 1\n",
      "El último elemento, en el índice 4 de mis numeritos es: 5\n"
     ]
    }
   ],
   "source": [
    "print(\"El primer elemento, en el índice 0 de mis numeritos es:\", numeritos[0])\n",
    "print(\"El último elemento, en el índice 4 de mis numeritos es:\", numeritos[4])"
   ]
  },
  {
   "cell_type": "markdown",
   "metadata": {},
   "source": [
    "## Longitud de un arreglo\n",
    "\n",
    "Para saber la longitud (tamaño) de un arreglo, se puede utilizar len(), (abreviación de \"length\" - longitud), que recibe como parámetro un arreglo, o una variable que haga referencia a un arreglo."
   ]
  },
  {
   "cell_type": "code",
   "execution_count": 3,
   "metadata": {},
   "outputs": [
    {
     "name": "stdout",
     "output_type": "stream",
     "text": [
      "La longitud de mi arreglo de numeritos es: 5\n"
     ]
    }
   ],
   "source": [
    "la_longitud = len(numeritos)\n",
    "print(\"La longitud de mi arreglo de numeritos es:\", la_longitud)"
   ]
  },
  {
   "cell_type": "markdown",
   "metadata": {},
   "source": [
    "Ahora quiero que me muestre el último elemento (recordando que es \n",
    "la longitud, menos 1). Porque si hago referencia a un índice que no existe, va a tronar como chilacayote\"."
   ]
  },
  {
   "cell_type": "code",
   "execution_count": 4,
   "metadata": {},
   "outputs": [
    {
     "name": "stdout",
     "output_type": "stream",
     "text": [
      "Entonces el último elemento es lo que guardé en 'la_longitud', menos 1:  5\n"
     ]
    }
   ],
   "source": [
    "print(\"Entonces el último elemento es lo que guardé en 'la_longitud', menos 1: \", numeritos[la_longitud - 1])"
   ]
  }
 ],
 "metadata": {
  "file_extension": ".py",
  "kernelspec": {
   "display_name": "Python 3.7.2 64-bit ('pyenv': venv)",
   "language": "python",
   "name": "python37264bitpyenvvenv741dbc4229c94ea89598f7037c7bb955"
  },
  "language_info": {
   "codemirror_mode": {
    "name": "ipython",
    "version": 3
   },
   "file_extension": ".py",
   "mimetype": "text/x-python",
   "name": "python",
   "nbconvert_exporter": "python",
   "pygments_lexer": "ipython3",
   "version": "3.7.2"
  },
  "mimetype": "text/x-python",
  "name": "python",
  "npconvert_exporter": "python",
  "pygments_lexer": "ipython3",
  "version": 3
 },
 "nbformat": 4,
 "nbformat_minor": 2
}
