{
 "nbformat": 4,
 "nbformat_minor": 2,
 "metadata": {
  "language_info": {
   "name": "python",
   "codemirror_mode": {
    "name": "ipython",
    "version": 3
   }
  },
  "orig_nbformat": 2,
  "file_extension": ".py",
  "mimetype": "text/x-python",
  "name": "python",
  "npconvert_exporter": "python",
  "pygments_lexer": "ipython3",
  "version": 3
 },
 "cells": [
  {
   "cell_type": "code",
   "execution_count": null,
   "metadata": {},
   "outputs": [],
   "source": [
    "#Inicializamos dos números\n",
    "num1 = 129387\n",
    "num2 = 6464647"
   ]
  },
  {
   "cell_type": "markdown",
   "execution_count": null,
   "metadata": {},
   "outputs": [],
   "source": [
    "Crea un arreglo que contenga como primer elemento el primer número ingresado, como segundo número debe contener el segundo número ingresado, y como tercer número debe contener la suma de ambos.\n",
    "\n",
    "Intenta hacerlo sin declarar variables adicionales para guardar el resultado de la suma (calcúlalo dentro de la declaración del arreglo).\n",
    "Llama a la variable del arreglo \"`el_arreglo`\"."
   ]
  },
  {
   "cell_type": "code",
   "execution_count": null,
   "metadata": {},
   "outputs": [],
   "source": [
    "###Crea tu arreglo aquí\n",
    "\n",
    "###Ok, hasta aquí"
   ]
  },
  {
   "cell_type": "code",
   "execution_count": null,
   "metadata": {},
   "outputs": [],
   "source": [
    "if el_arreglo[2] == (el_arreglo[0] + el_arreglo[1]):\n",
    "    print(\"Bien, el arreglo tiene lo que debería tener\")\n",
    "else:\n",
    "    print(\"Algo no anda bien, el último valor no equivale a la suma de los primeros dos\")"
   ]
  },
  {
   "cell_type": "code",
   "execution_count": null,
   "metadata": {},
   "outputs": [],
   "source": [
    "#Imprime el valor de la longitud del arreglo (agrega el parámetro que falta al print)\n",
    "print(\"La longitud del arreglo es:\", )"
   ]
  },
  {
   "cell_type": "code",
   "execution_count": null,
   "metadata": {},
   "outputs": [],
   "source": [
    "#Imprime el arreglo entero(agrega el parámetro que falta al print)\n",
    "print(\"El arreglo completo es:\")"
   ]
  },
  {
   "cell_type": "markdown",
   "execution_count": null,
   "metadata": {},
   "outputs": [],
   "source": [
    "Asigna en una variable llamada \"ultimo_indice\" el valor del último índice. Calcúlalo apoyándote de la longitud del arreglo.\n",
    "\n",
    "Atención: para este punto la longitud del arreglo es \"3\", pero el último índice es 2.\n"
   ]
  },
  {
   "cell_type": "code",
   "execution_count": null,
   "metadata": {},
   "outputs": [],
   "source": [
    "###Calcula tu valor aquí\n",
    "\n",
    "\n",
    "###Ok, hasta aquí"
   ]
  },
  {
   "cell_type": "code",
   "execution_count": null,
   "metadata": {},
   "outputs": [],
   "source": [
    "if el_arreglo[ultimo_indice] == (el_arreglo[0] + el_arreglo[1]):\n",
    "    print(\"Bien, ese era el valor correcto\")\n",
    "else:\n",
    "    print(\"Algo no anda bien, el último valor no equivale a la suma de los primeros dos\")\n",
    "\n"
   ]
  },
  {
   "cell_type": "markdown",
   "execution_count": null,
   "metadata": {},
   "outputs": [],
   "source": [
    "Crea un arreglo que tenga 6 elementos, llama a esta variable \"`otro_arreglo`\"."
   ]
  },
  {
   "cell_type": "code",
   "execution_count": null,
   "metadata": {},
   "outputs": [],
   "source": [
    "###Crea tu arreglo aquí\n",
    "\n",
    "###Ok, hasta aquí\n",
    "\n",
    "print(otro_arreglo)"
   ]
  },
  {
   "cell_type": "markdown",
   "execution_count": null,
   "metadata": {},
   "outputs": [],
   "source": [
    "Imprime el elemento que está a la mitad del arreglo (debería ser el tercer elemento).\n",
    "\n",
    "Calcula el índice apoyándote de la longitud, y asígnalo a una variable que se llame \"la_mitad\"."
   ]
  },
  {
   "cell_type": "code",
   "execution_count": null,
   "metadata": {},
   "outputs": [],
   "source": [
    "###Calcula tu valor aquí\n",
    "\n",
    "\n",
    "###Ok, hasta aquí"
   ]
  },
  {
   "cell_type": "code",
   "execution_count": null,
   "metadata": {},
   "outputs": [],
   "source": []
  }
 ]
}