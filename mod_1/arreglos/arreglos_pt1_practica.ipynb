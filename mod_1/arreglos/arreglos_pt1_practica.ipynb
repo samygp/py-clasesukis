{
 "cells": [
  {
   "cell_type": "code",
   "execution_count": 1,
   "metadata": {},
   "outputs": [],
   "source": [
    "#Inicializamos dos números\n",
    "num1 = 129387\n",
    "num2 = 6464647"
   ]
  },
  {
   "cell_type": "markdown",
   "metadata": {},
   "source": [
    "### Ejercicio 1\n",
    "Crea un arreglo que contenga como primer elemento el primer número ingresado, como segundo número debe contener el segundo número ingresado, y como tercer número debe contener la suma de ambos.\n",
    "\n",
    "Intenta hacerlo sin declarar variables adicionales para guardar el resultado de la suma (calcúlalo dentro de la declaración del arreglo).\n",
    "Llama a la variable del arreglo \"`el_arreglo`\"."
   ]
  },
  {
   "cell_type": "code",
   "execution_count": 2,
   "metadata": {},
   "outputs": [],
   "source": [
    "###Crea tu arreglo aquí\n",
    "el_arreglo = [num1, num2, num1 + num2]\n",
    "###Ok, hasta aquí"
   ]
  },
  {
   "cell_type": "code",
   "execution_count": 3,
   "metadata": {},
   "outputs": [
    {
     "name": "stdout",
     "output_type": "stream",
     "text": [
      "Bien, el arreglo tiene lo que debería tener\n"
     ]
    }
   ],
   "source": [
    "#Comprobación de los pasos anteriores ***NO EDITAR***\n",
    "if el_arreglo[2] == (el_arreglo[0] + el_arreglo[1]):\n",
    "    print(\"Bien, el arreglo tiene lo que debería tener\")\n",
    "else:\n",
    "    print(\"Algo no anda bien, el último valor no equivale a la suma de los primeros dos\")\n",
    "#Comprobación de los pasos anteriores ***NO EDITAR***"
   ]
  },
  {
   "cell_type": "code",
   "execution_count": 5,
   "metadata": {},
   "outputs": [
    {
     "name": "stdout",
     "output_type": "stream",
     "text": [
      "La longitud del arreglo es: 3\n"
     ]
    }
   ],
   "source": [
    "#Imprime el valor de la longitud del arreglo (agrega el parámetro que falta al print)\n",
    "print(\"La longitud del arreglo es:\", len(el_arreglo) )"
   ]
  },
  {
   "cell_type": "code",
   "execution_count": 6,
   "metadata": {},
   "outputs": [
    {
     "name": "stdout",
     "output_type": "stream",
     "text": [
      "El arreglo completo es: [129387, 6464647, 6594034]\n"
     ]
    }
   ],
   "source": [
    "#Imprime el arreglo entero(agrega el parámetro que falta al print)\n",
    "print(\"El arreglo completo es:\", el_arreglo)"
   ]
  },
  {
   "cell_type": "markdown",
   "metadata": {},
   "source": [
    "### Ejercicio 2\n",
    "Asigna en una variable llamada `ultimo_indice` cuál es el número de índice del último elemento en `el_arreglo`. Calcúlalo apoyándote de la longitud del arreglo.\n",
    "\n",
    "Atención: para este punto la longitud del arreglo es \"3\", pero el último índice es 2.\n"
   ]
  },
  {
   "cell_type": "code",
   "execution_count": 9,
   "metadata": {},
   "outputs": [
    {
     "name": "stdout",
     "output_type": "stream",
     "text": [
      "2\n"
     ]
    }
   ],
   "source": [
    "###Calcula tu valor aquí\n",
    "\n",
    "ultimo_indice = len(el_arreglo) - 1\n",
    "###Ok, hasta aquí\n",
    "print(ultimo_indice)"
   ]
  },
  {
   "cell_type": "code",
   "execution_count": 8,
   "metadata": {},
   "outputs": [
    {
     "name": "stdout",
     "output_type": "stream",
     "text": [
      "Bien, ese era el valor correcto\n"
     ]
    }
   ],
   "source": [
    "#Comprobación de los pasos anteriores ***NO EDITAR***\n",
    "if el_arreglo[ultimo_indice] == (el_arreglo[0] + el_arreglo[1]):\n",
    "    print(\"Bien, ese era el valor correcto\")\n",
    "else:\n",
    "    print(\"Algo no anda bien, el último valor no equivale a la suma de los primeros dos\")\n",
    "#Comprobación de los pasos anteriores ***NO EDITAR***"
   ]
  },
  {
   "cell_type": "markdown",
   "metadata": {},
   "source": [
    "### Ejercicio 3\n",
    "\n",
    "Crea un arreglo que tenga 6 elementos, llama a esta variable \"`otro_arreglo`\"."
   ]
  },
  {
   "cell_type": "code",
   "execution_count": 10,
   "metadata": {},
   "outputs": [
    {
     "name": "stdout",
     "output_type": "stream",
     "text": [
      "['el sam', 'la eri', 'el caca', 'la coco cacas', 'la Janey pooh', 'la galona y dori']\n"
     ]
    }
   ],
   "source": [
    "###Crea tu arreglo aquí\n",
    "otro_arreglo = [\"el sam\", \"la eri\", \"el caca\", \"la coco cacas\", \"la Janey pooh\", \"la galona y dori\"]\n",
    "###Ok, hasta aquí\n",
    "\n",
    "print(otro_arreglo)"
   ]
  },
  {
   "cell_type": "markdown",
   "metadata": {},
   "source": [
    "Imprime el elemento que está a la mitad del arreglo (debería ser el tercer elemento).\n",
    "\n",
    "Calcula el índice apoyándote de la longitud, y asígnalo a una variable que se llame \"la_mitad\"."
   ]
  },
  {
   "cell_type": "code",
   "execution_count": 13,
   "metadata": {},
   "outputs": [],
   "source": [
    "###Calcula tu valor aquí\n",
    "\n",
    "la_mitad = len(otro_arreglo)//2\n",
    "la_mitad -= 1\n",
    "\n",
    "###Ok, hasta aquí"
   ]
  },
  {
   "cell_type": "code",
   "execution_count": 14,
   "metadata": {},
   "outputs": [
    {
     "name": "stdout",
     "output_type": "stream",
     "text": [
      "El elemento que está a la mitad es: el caca\n"
     ]
    }
   ],
   "source": [
    "print(\"El elemento que está a la mitad es:\", otro_arreglo[la_mitad])"
   ]
  },
  {
   "cell_type": "code",
   "execution_count": null,
   "metadata": {},
   "outputs": [],
   "source": []
  }
 ],
 "metadata": {
  "file_extension": ".py",
  "kernelspec": {
   "display_name": "Python 3",
   "language": "python",
   "name": "python3"
  },
  "language_info": {
   "codemirror_mode": {
    "name": "ipython",
    "version": 3
   },
   "file_extension": ".py",
   "mimetype": "text/x-python",
   "name": "python",
   "nbconvert_exporter": "python",
   "pygments_lexer": "ipython3",
   "version": "3.7.2"
  },
  "mimetype": "text/x-python",
  "name": "python",
  "npconvert_exporter": "python",
  "pygments_lexer": "ipython3",
  "version": 3
 },
 "nbformat": 4,
 "nbformat_minor": 2
}
