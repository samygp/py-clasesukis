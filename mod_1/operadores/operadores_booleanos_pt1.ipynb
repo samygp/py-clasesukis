{
 "cells": [
  {
   "cell_type": "markdown",
   "metadata": {},
   "source": [
    "# Operaciones Booleanas (Parte 1)"
   ]
  },
  {
   "cell_type": "markdown",
   "metadata": {},
   "source": [
    "Las operaciones Booleanas son los que nos permiten realizar álgebra Booleana (operaciones lógicas).\n",
    "\n",
    "Estas operaciones se realizan para evaluar condiciones, que nos permiten controlar el flujo del programa, para que, basado en una condición, algo suceda o no.\n",
    "\n",
    "Los valores que representan el resultado de cualquier operación Booleana son \"verdadero\" y \"falso\", que en Python se representan como: \"`True`\" y \"`False`\".\n",
    "`Atención: Igual que todas las palabras en Python, los valores True y False son sensibles a mayúsculas y minúsculas`"
   ]
  },
  {
   "cell_type": "code",
   "execution_count": 1,
   "metadata": {},
   "outputs": [
    {
     "name": "stdout",
     "output_type": "stream",
     "text": [
      "Imprimir un True: True\n",
      "Imprimir un False: False\n"
     ]
    }
   ],
   "source": [
    "print(\"Imprimir un True:\", True)\n",
    "print(\"Imprimir un False:\", False)"
   ]
  },
  {
   "cell_type": "markdown",
   "metadata": {},
   "source": [
    "## Operadores relacionales\n",
    "\n",
    "Los operadores relacionales son los que comparan dos elementos (uno en relación con el otro), que realizan principalmente las siguientes cuatro operaciones.\n",
    "\n",
    "- Comparar si dos elementos son iguales (`==`)\n",
    "- Comparar si un elemento es menor que otro (`<`)\n",
    "- Comparar si un elemento es mayor que otro (`>`)\n",
    "- Comparar si un elemento es diferente del otro (`!=`)\n",
    "\n",
    "Estos operadores devuelven como resultado los valores de `True` y `False`, según el resultado de cada operación.\n",
    "\n",
    "### Comparar si dos cosas son iguales o diferentes\n",
    "\n",
    "Las más básicas de estas operaciones son comparar si dos valores son iguales `==`, o diferentes \"`!=`. El signo de \"diferente de\" o \"no es igual a\" se escribe con un `!=`, entre otras razones, porque en la mayoría de los teclados es poco práctico escribir un símbolo de igualdad `=` tachado (`≠`), pero representa precisamente el concepto de un signo de igualdad anulado o tachado."
   ]
  },
  {
   "cell_type": "code",
   "execution_count": 2,
   "metadata": {},
   "outputs": [
    {
     "name": "stdout",
     "output_type": "stream",
     "text": [
      "1 es igual a 1? True\n",
      "1 es diferente de 1? False\n",
      "1 es igual a 2? False\n",
      "1 es diferente de 2? True\n"
     ]
    }
   ],
   "source": [
    "#Comparemos si dos números son iguales o diferentes\n",
    "print(\"1 es igual a 1?\", 1 == 1)\n",
    "print(\"1 es diferente de 1?\", 1 != 1)\n",
    "print(\"1 es igual a 2?\", 1 == 2)\n",
    "print(\"1 es diferente de 2?\", 1 != 2)"
   ]
  },
  {
   "cell_type": "markdown",
   "metadata": {},
   "source": [
    "### Comparar si una cosa es menor o mayor que la otra\n",
    "\n",
    "Los operadores de `<` y `>` nos ayudan a comparar si el primer elemento es menor o mayor que el siguiente.\n",
    "\n",
    "Estas operaciones tienen sus variaciones de menor o igual a `<=` y mayor o igual a `>=`, que evalúan dos cosas al mismo tiempo: si el primer elemento es mayor/menor al segundo y si ambos elementos son iguales.\n",
    "\n",
    "Por ejemplo, imaginemos que tenemos dos variables numéricas: `estatura_juan` y `estatura_pepe`, que significan el número de centímetros que mide cada uno.\n",
    "```\n",
    "estatura_juan = 135\n",
    "estatura_pepe = 140\n",
    "```\n",
    "Y la condición para subir a un juego es medir **por lo menos 1.35 metros (135 centímetros)**. Esto significaría que ambos podrían subir al juego, porque `estatura_pepe` sí es mayor a 135 centímetros, pero también cumple `estatura_juan`, porque la condición es `si estatura >= 135 entonces pueden subir`, entonces aunque no mide más de 135 centímetros, su estatura sí es, por lo menos, igual a la de la condición. Se la van a pasar bien."
   ]
  },
  {
   "cell_type": "code",
   "execution_count": 3,
   "metadata": {},
   "outputs": [
    {
     "name": "stdout",
     "output_type": "stream",
     "text": [
      "1 es menor que 1? False\n",
      "1 es mayor que 1? False\n",
      "1 es menor que 2? True\n",
      "1 es mayor que 2? False\n",
      "2 es mayor que 1? True\n",
      "2 es menor que 1? False\n"
     ]
    }
   ],
   "source": [
    "#Comparar números con los operadores > y <\n",
    "print(\"1 es menor que 1?\", 1 < 1)\n",
    "print(\"1 es mayor que 1?\", 1 > 1)\n",
    "print(\"1 es menor que 2?\", 1 < 2)\n",
    "print(\"1 es mayor que 2?\", 1 > 2)\n",
    "print(\"2 es mayor que 1?\", 2 > 1)\n",
    "print(\"2 es menor que 1?\", 2 < 1)"
   ]
  },
  {
   "cell_type": "code",
   "execution_count": 4,
   "metadata": {},
   "outputs": [
    {
     "name": "stdout",
     "output_type": "stream",
     "text": [
      "1 es menor o igual que 1? True\n",
      "1 es mayor o igual que 1? True\n",
      "1 es menor o igual que 2? True\n",
      "1 es mayor o igual que 2? False\n",
      "2 es mayor o igual que 1? True\n",
      "2 es menor o igual que 1? False\n"
     ]
    }
   ],
   "source": [
    "#Comparar números con los operadores >= y <=\n",
    "print(\"1 es menor o igual que 1?\", 1 <= 1)\n",
    "print(\"1 es mayor o igual que 1?\", 1 >= 1)\n",
    "print(\"1 es menor o igual que 2?\", 1 <= 2)\n",
    "print(\"1 es mayor o igual que 2?\", 1 >= 2)\n",
    "print(\"2 es mayor o igual que 1?\", 2 >= 1)\n",
    "print(\"2 es menor o igual que 1?\", 2 <= 1)"
   ]
  },
  {
   "cell_type": "markdown",
   "metadata": {},
   "source": [
    "Podemos resumir lo anterior en la siguiente tabla:\n",
    "\n",
    "|Valor A|Valor B| A > B | A < B | A >= B| A <= B| A == B | A != B|\n",
    "|:-----:|:-----:|:-----:|:-----:|:-----:|:-----:|:------:|:-----:|\n",
    "|  1    |   5   | False | True  | False | True  | False  | True  |\n",
    "|  5    |   1   | True  | False | True  | False | False  | True  |\n",
    "|  5    |   5   | False | False | True  | True  | True   | False |"
   ]
  },
  {
   "cell_type": "markdown",
   "metadata": {},
   "source": [
    "Estos resultados se pueden igualmente guardar en variables.\n",
    "\n",
    "Guardemos el resultado de si 1 es menor que 4 en una variable llamada `es_menor`."
   ]
  },
  {
   "cell_type": "code",
   "execution_count": 5,
   "metadata": {},
   "outputs": [
    {
     "name": "stdout",
     "output_type": "stream",
     "text": [
      "La variable 'es_menor' contiene: True\n"
     ]
    }
   ],
   "source": [
    "es_menor = 1 < 4\n",
    "print(\"La variable 'es_menor' contiene:\", es_menor)"
   ]
  },
  {
   "cell_type": "markdown",
   "metadata": {},
   "source": [
    "## Controlar el flujo de un programa (if, elif, else)\n",
    "\n",
    "La forma en que controlamos el flujo de un programa es con enunciados de tipo \"`if`\", que se traducen del inglés «if this, then that» (si esto, entonces aquello). Esto significa que \"Si mi condición se cumple, entonces haz lo siguiente\".\n",
    "\n",
    "Los enunciados condicionales `if` deben contener una operación que evalúe a un resultado de tipo Booleano (`True` o `False`). La acción dentro del bloque que siga al enunciado `if` sólo se ejecutará si la operacción o el valor evaluado dentro de esa cláusula condicional `if` regresa un valor de `True`.\n",
    "\n",
    "El bloque que sigue al if debe estar indentado (indentación es el nombre que le dan a la sangría de texto en programación)."
   ]
  },
  {
   "cell_type": "code",
   "execution_count": 6,
   "metadata": {},
   "outputs": [
    {
     "name": "stdout",
     "output_type": "stream",
     "text": [
      "2 es menor que 3?\n",
      "Sí\n",
      "2 es menor que 3\n",
      "1 es mayor que 6?\n"
     ]
    }
   ],
   "source": [
    "print(\"2 es menor que 3?\")\n",
    "#El bloque de código de la siguiente condición\n",
    "#(el bloque con las operaciones \"print\")\n",
    "#sí se va a ejecutar, porque 2 < 3 devuelve un resultado de \"True\"\n",
    "if 2 < 3:\n",
    "    print(\"Sí\")\n",
    "    print(\"2 es menor que 3\")\n",
    "\n",
    "#El bloque de código de la siguiente condición\n",
    "#NO se va a ejecutar, porque 1 > 6 devuelve un resultado de \"False\"\n",
    "print(\"1 es mayor que 6?\")\n",
    "if 1 > 6:\n",
    "    print(\"Sí\")\n",
    "    print(\"1 es mayor que 6\")\n",
    "    "
   ]
  },
  {
   "cell_type": "markdown",
   "metadata": {},
   "source": [
    "E igual que en un lenguaje natural/humano, podemos decir en el programa qué pasa si nuestra condición no se cumple, utilizando la palabra \"`else`\" (del inglés \"o si no...\")."
   ]
  },
  {
   "cell_type": "code",
   "execution_count": 7,
   "metadata": {},
   "outputs": [
    {
     "name": "stdout",
     "output_type": "stream",
     "text": [
      "5 es mayor que 8?\n",
      "No, 5 no es mayor que 8\n"
     ]
    }
   ],
   "source": [
    "print(\"5 es mayor que 8?\")\n",
    "if 5 > 8:\n",
    "    print(\"Sí, 5 es mayor que 8\")\n",
    "else:\n",
    "    print(\"No, 5 no es mayor que 8\")"
   ]
  },
  {
   "cell_type": "markdown",
   "metadata": {},
   "source": [
    "Las variables que guardan un valor Booleano pueden usarse igualmente en las condiciones de los enunciados condicionales, porque el valor que contienen es `True` o `False`, que es justo lo que evalúan los enunciados condicionales."
   ]
  },
  {
   "cell_type": "code",
   "execution_count": 8,
   "metadata": {},
   "outputs": [
    {
     "name": "stdout",
     "output_type": "stream",
     "text": [
      "5 es diferente de 9?\n",
      "Sí, 5 es diferente de 9\n"
     ]
    }
   ],
   "source": [
    "es_diferente = 5 != 9\n",
    "print(\"5 es diferente de 9?\")\n",
    "\n",
    "if es_diferente:\n",
    "    print(\"Sí, 5 es diferente de 9\")\n",
    "else:\n",
    "    print(\"No, 5 no es diferente de 9\")"
   ]
  },
  {
   "cell_type": "markdown",
   "metadata": {},
   "source": [
    "Adicionalmente, podemos usar enunciados \"`elif`\" (abreviación de \"else if\" - si no es lo anterior, pero sí esta condición...) para decir que si no se cumplió la condición anterior, pero sí se cumple una condición diferente, ocurra algo."
   ]
  },
  {
   "cell_type": "code",
   "execution_count": 9,
   "metadata": {},
   "outputs": [
    {
     "name": "stdout",
     "output_type": "stream",
     "text": [
      "9 es igual a 8?\n",
      "No, 9 es mayor que 8\n"
     ]
    }
   ],
   "source": [
    "es_igual = 9 == 8\n",
    "es_menor = 9 < 8\n",
    "\n",
    "print(\"9 es igual a 8?\")\n",
    "\n",
    "if es_igual:\n",
    "    print(\"Sí, 9 es igual de 8\")\n",
    "elif es_menor:\n",
    "    print(\"No, 9 es menor que 8\")\n",
    "elif 9 > 8:\n",
    "    print(\"No, 9 es mayor que 8\")\n",
    "else:\n",
    "    print(\"Ninguna de las anteriores\")"
   ]
  }
 ],
 "metadata": {
  "file_extension": ".py",
  "kernelspec": {
   "display_name": "Python 3",
   "language": "python",
   "name": "python3"
  },
  "language_info": {
   "codemirror_mode": {
    "name": "ipython",
    "version": 3
   },
   "file_extension": ".py",
   "mimetype": "text/x-python",
   "name": "python",
   "nbconvert_exporter": "python",
   "pygments_lexer": "ipython3",
   "version": "3.7.2"
  },
  "mimetype": "text/x-python",
  "name": "python",
  "npconvert_exporter": "python",
  "pygments_lexer": "ipython3",
  "version": 3
 },
 "nbformat": 4,
 "nbformat_minor": 2
}
