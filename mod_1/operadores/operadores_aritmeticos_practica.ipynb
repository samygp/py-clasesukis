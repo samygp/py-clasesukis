{
 "cells": [
  {
   "cell_type": "markdown",
   "metadata": {},
   "source": [
    "### Ejercicio 1\n",
    "\n",
    "Calcula la quinta potencia de 3, y guardalo en la siguiente variable"
   ]
  },
  {
   "cell_type": "code",
   "execution_count": null,
   "metadata": {},
   "outputs": [],
   "source": [
    "###Escríbelo aquí abajito\n",
    "\n",
    "num1 = 0 #Reemplaza el 0 por la operación que corresponde\n",
    "\n",
    "###OK, hasta aquí"
   ]
  },
  {
   "cell_type": "code",
   "execution_count": null,
   "metadata": {},
   "outputs": [],
   "source": [
    "#***NO EDITAR***\n",
    "#Comprobación de los pasos anteriores\n",
    "print(\"Primera respuesta:\")\n",
    "if num1 == 243:\n",
    "    print(\"Suave, sí es\")\n",
    "else:\n",
    "    print(\"Chale, no es\")\n",
    "#Comprobación de los pasos anteriores\n",
    "#***NO EDITAR***"
   ]
  },
  {
   "cell_type": "markdown",
   "metadata": {},
   "source": [
    "### Ejercicio 2\n",
    "\n",
    "Divide `num1` entre 9 y guárdalo en num1."
   ]
  },
  {
   "cell_type": "code",
   "execution_count": null,
   "metadata": {},
   "outputs": [],
   "source": [
    "######Escríbelo aquí abajito\n",
    "\n",
    "######Ok, hasta aquí"
   ]
  },
  {
   "cell_type": "code",
   "execution_count": null,
   "metadata": {},
   "outputs": [],
   "source": [
    "#***NO EDITAR***\n",
    "#Comprobación de los pasos anteriores\n",
    "print(\"Segunda respuesta:\")\n",
    "if num1 == 27:\n",
    "    print(\"Suave, sí es\")\n",
    "else:\n",
    "    print(\"Chale, no es\")\n",
    "#Comprobación de los pasos anteriores\n",
    "#***NO EDITAR***"
   ]
  },
  {
   "cell_type": "markdown",
   "metadata": {},
   "source": [
    "### Ejercicio 3\n",
    "\n",
    "Ahora multiplica `num1` por diez, sigue usando la misma variable"
   ]
  },
  {
   "cell_type": "code",
   "execution_count": null,
   "metadata": {},
   "outputs": [],
   "source": [
    "######Escríbelo aquí abajito\n",
    "\n",
    "######Ok, hasta aquí"
   ]
  },
  {
   "cell_type": "code",
   "execution_count": null,
   "metadata": {},
   "outputs": [],
   "source": [
    "#***NO EDITAR***\n",
    "#Comprobación de los pasos anteriores\n",
    "print(\"Tercera respuesta:\")\n",
    "if num1 == 270:\n",
    "    print(\"Suave, sí es\")\n",
    "else:\n",
    "    print(\"Chale, no es\")\n",
    "#Comprobación de los pasos anteriores\n",
    "#***NO EDITAR***"
   ]
  }
 ],
 "metadata": {
  "file_extension": ".py",
  "kernelspec": {
   "display_name": "Python 3.7.2 64-bit ('pyenv': venv)",
   "language": "python",
   "name": "python37264bitpyenvvenv741dbc4229c94ea89598f7037c7bb955"
  },
  "language_info": {
   "codemirror_mode": {
    "name": "ipython",
    "version": 3
   },
   "file_extension": ".py",
   "mimetype": "text/x-python",
   "name": "python",
   "nbconvert_exporter": "python",
   "pygments_lexer": "ipython3",
   "version": "3.7.2"
  },
  "mimetype": "text/x-python",
  "name": "python",
  "npconvert_exporter": "python",
  "pygments_lexer": "ipython3",
  "version": 3
 },
 "nbformat": 4,
 "nbformat_minor": 2
}
