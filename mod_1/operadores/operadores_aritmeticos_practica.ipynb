{
 "nbformat": 4,
 "nbformat_minor": 2,
 "metadata": {
  "language_info": {
   "name": "python",
   "codemirror_mode": {
    "name": "ipython",
    "version": 3
   }
  },
  "orig_nbformat": 2,
  "file_extension": ".py",
  "mimetype": "text/x-python",
  "name": "python",
  "npconvert_exporter": "python",
  "pygments_lexer": "ipython3",
  "version": 3
 },
 "cells": [
  {
   "cell_type": "markdown",
   "execution_count": null,
   "metadata": {},
   "outputs": [],
   "source": [
    "Calcula la quinta potencia de 3, y guardalo en la siguiente variable"
   ]
  },
  {
   "cell_type": "code",
   "execution_count": null,
   "metadata": {},
   "outputs": [],
   "source": [
    "###Escríbelo aquí abajito\n",
    "\n",
    "num1 = 0 #Reemplaza el 0 por la operación que corresponde\n",
    "\n",
    "###OK, hasta aquí"
   ]
  },
  {
   "cell_type": "code",
   "execution_count": null,
   "metadata": {},
   "outputs": [],
   "source": [
    "print(\"Primera respuesta:\")\n",
    "if num1 == 243:\n",
    "    print(\"Suave, sí es\")\n",
    "else:\n",
    "    print(\"Chale, no es\")"
   ]
  },
  {
   "cell_type": "markdown",
   "execution_count": null,
   "metadata": {},
   "outputs": [],
   "source": [
    "Divide num1 entre 9 y guárdalo en num1."
   ]
  },
  {
   "cell_type": "code",
   "execution_count": null,
   "metadata": {},
   "outputs": [],
   "source": [
    "######Escríbelo aquí abajito\n",
    "\n",
    "######Ok, hasta aquí"
   ]
  },
  {
   "cell_type": "code",
   "execution_count": null,
   "metadata": {},
   "outputs": [],
   "source": [
    "print(\"Segunda respuesta:\")\n",
    "if num1 == 27:\n",
    "    print(\"Suave, sí es\")\n",
    "else:\n",
    "    print(\"Chale, no es\")"
   ]
  },
  {
   "cell_type": "markdown",
   "execution_count": null,
   "metadata": {},
   "outputs": [],
   "source": [
    "Ahora multiplícalo por diez, sigue usando la misma variable"
   ]
  },
  {
   "cell_type": "code",
   "execution_count": null,
   "metadata": {},
   "outputs": [],
   "source": [
    "######Escríbelo aquí abajito\n",
    "\n",
    "######Ok, hasta aquí"
   ]
  }
 ]
}