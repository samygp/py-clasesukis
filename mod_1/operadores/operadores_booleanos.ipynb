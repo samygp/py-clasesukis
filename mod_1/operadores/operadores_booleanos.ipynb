{
 "nbformat": 4,
 "nbformat_minor": 2,
 "metadata": {
  "language_info": {
   "name": "python",
   "codemirror_mode": {
    "name": "ipython",
    "version": 3
   }
  },
  "orig_nbformat": 2,
  "file_extension": ".py",
  "mimetype": "text/x-python",
  "name": "python",
  "npconvert_exporter": "python",
  "pygments_lexer": "ipython3",
  "version": 3
 },
 "cells": [
  {
   "cell_type": "markdown",
   "execution_count": null,
   "metadata": {},
   "outputs": [],
   "source": [
    "# Operadores Booleanos"
   ]
  },
  {
   "cell_type": "markdown",
   "execution_count": null,
   "metadata": {},
   "outputs": [],
   "source": [
    "Los operadores Booleanos son los que nos permiten realizar\n",
    "álgebra Booleana (operaciones lógicas).\n",
    "Estas operaciones se realizan para evaluar condiciones, que\n",
    "nos permiten controlar el flujo del programa, para que, basado\n",
    "en una condición, algo suceda o no.\n",
    "Los valores que representan el resultado de cualquier\n",
    "operación Booleana en Python: \"True\" y \"False\""
   ]
  },
  {
   "cell_type": "code",
   "execution_count": null,
   "metadata": {},
   "outputs": [],
   "source": [
    "print(\"Imprimir un True:\", True)\n",
    "print(\"Imprimir un False:\", False)"
   ]
  },
  {
   "cell_type": "markdown",
   "execution_count": null,
   "metadata": {},
   "outputs": [],
   "source": [
    "Estos valores se obtienen como resultado cuando se evalúa\n",
    "una operación lógica. Las más básicas de estas operaciones son\n",
    "comparar si dos valores son iguales `==`, o diferentes \"!=\"."
   ]
  },
  {
   "cell_type": "code",
   "execution_count": null,
   "metadata": {},
   "outputs": [],
   "source": []
  }
 ]
}