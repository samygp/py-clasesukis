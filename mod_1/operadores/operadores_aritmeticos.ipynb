{
 "cells": [
  {
   "cell_type": "markdown",
   "metadata": {},
   "source": [
    "# Operadores aritméticos\n",
    "Habrá ocasiones en que quieras sumar el resultado de una operación\n",
    "en la misma variable, para no tener que crear un montón de variables\n",
    "y tampoco usar tanta memoria (recuerda que cada variable abarca espacios \n",
    "de memoria).\n",
    "Por ejemplo, tengo una variable `contador`, y le quiero sumar 1."
   ]
  },
  {
   "cell_type": "code",
   "execution_count": 1,
   "metadata": {},
   "outputs": [
    {
     "name": "stdout",
     "output_type": "stream",
     "text": [
      "1\n",
      "2\n",
      "3\n"
     ]
    }
   ],
   "source": [
    "contador = 0\n",
    "print(contador)\n",
    "\n",
    "#A contador le sumo 1\n",
    "contador = contador + 1\n",
    "#Ahora contador vale 1\n",
    "print(contador)\n",
    "\n",
    "#A contador le sumo 1\n",
    "contador = contador + 1\n",
    "#Ahora contador vale 2\n",
    "print(contador)"
   ]
  },
  {
   "cell_type": "markdown",
   "metadata": {},
   "source": [
    "### Operadores de acumulación `+=, -=, *=, /=`\n",
    "Aquí vas a aprender de un nuevo operador: `+=`.\n",
    "Se utiliza `+=` cuando tienes una variable a la que le quieres agregar una cantidad. Hace lo mismo que la forma anterior, pero con mucho menos texto (comunmente llamado *\"syntactic sugar\"*, porque vuelve más \"dulce\" de leer el código)."
   ]
  },
  {
   "cell_type": "code",
   "execution_count": 2,
   "metadata": {},
   "outputs": [
    {
     "name": "stdout",
     "output_type": "stream",
     "text": [
      "0\n",
      "1\n",
      "2\n"
     ]
    }
   ],
   "source": [
    "contador = 0\n",
    "print(contador)\n",
    "\n",
    "#A contador le sumo 1\n",
    "contador += 1\n",
    "#Ahora contador vale 1\n",
    "print(contador)\n",
    "\n",
    "#A contador le sumo 1\n",
    "contador += 1\n",
    "#Ahora contador vale 2\n",
    "print(contador)"
   ]
  },
  {
   "cell_type": "markdown",
   "metadata": {},
   "source": [
    "Y esto maravillosamente aplica para todas las operaciones básicas aritméticas."
   ]
  },
  {
   "cell_type": "code",
   "execution_count": 3,
   "metadata": {},
   "outputs": [
    {
     "name": "stdout",
     "output_type": "stream",
     "text": [
      "\n",
      "Contador al reves:\n",
      "3\n",
      "2\n",
      "1\n",
      "0\n"
     ]
    }
   ],
   "source": [
    "print(\"\\nContador al reves:\")\n",
    "contador_al_reves = 3\n",
    "print(contador_al_reves)\n",
    "contador_al_reves -= 1\n",
    "print(contador_al_reves)\n",
    "contador_al_reves -= 1\n",
    "print(contador_al_reves)\n",
    "contador_al_reves -= 1\n",
    "print(contador_al_reves)"
   ]
  },
  {
   "cell_type": "code",
   "execution_count": 4,
   "metadata": {},
   "outputs": [
    {
     "name": "stdout",
     "output_type": "stream",
     "text": [
      "\n",
      "Duplicador:\n",
      "2\n",
      "4\n",
      "8\n",
      "16\n"
     ]
    }
   ],
   "source": [
    "print(\"\\nDuplicador:\")\n",
    "duplicador = 2\n",
    "print(duplicador)\n",
    "duplicador *= 2 #Lo multiplico por 2 y lo guardo en la misma variable, ahora vale 2\n",
    "print(duplicador)\n",
    "duplicador *= 2 #Lo vuelvo a duplicar y lo guardo, ahora vale 4\n",
    "print(duplicador)\n",
    "duplicador *= 2 #Ahora vale 8\n",
    "print(duplicador)"
   ]
  },
  {
   "cell_type": "code",
   "execution_count": 5,
   "metadata": {},
   "outputs": [
    {
     "name": "stdout",
     "output_type": "stream",
     "text": [
      "\n",
      "Dividir cosito:\n",
      "27\n",
      "9.0\n",
      "3.0\n",
      "1.0\n"
     ]
    }
   ],
   "source": [
    "print(\"\\nDividir cosito:\")\n",
    "#Escribir el operador de multiplicación (*) dos veces significa\n",
    "#Elevar a la \"x\" potencia. Por ejemplo 3 ** 5 significa \"elevar 3 a la 5 potencia\"\n",
    "dividir_cosito = 3 ** 3\n",
    "print(dividir_cosito)\n",
    "dividir_cosito /= 3 #Lo divido entre 3 y lo guardo\n",
    "print(dividir_cosito)\n",
    "dividir_cosito /= 3 #Lo vuelvo a dividir entre 3\n",
    "print(dividir_cosito)\n",
    "dividir_cosito /= 3 #Lo vuelvo a dividir entre 3\n",
    "print(dividir_cosito)"
   ]
  }
 ],
 "metadata": {
  "file_extension": ".py",
  "kernelspec": {
   "display_name": "Python 3.7.2 64-bit ('pyenv': venv)",
   "language": "python",
   "name": "python37264bitpyenvvenv741dbc4229c94ea89598f7037c7bb955"
  },
  "language_info": {
   "codemirror_mode": {
    "name": "ipython",
    "version": 3
   },
   "file_extension": ".py",
   "mimetype": "text/x-python",
   "name": "python",
   "nbconvert_exporter": "python",
   "pygments_lexer": "ipython3",
   "version": "3.7.2"
  },
  "mimetype": "text/x-python",
  "name": "python",
  "npconvert_exporter": "python",
  "pygments_lexer": "ipython3",
  "version": 3
 },
 "nbformat": 4,
 "nbformat_minor": 2
}
