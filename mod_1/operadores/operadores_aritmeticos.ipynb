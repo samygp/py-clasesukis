{
 "nbformat": 4,
 "nbformat_minor": 2,
 "metadata": {
  "language_info": {
   "name": "python",
   "codemirror_mode": {
    "name": "ipython",
    "version": 3
   },
   "version": "3.7.2-final"
  },
  "orig_nbformat": 2,
  "file_extension": ".py",
  "mimetype": "text/x-python",
  "name": "python",
  "npconvert_exporter": "python",
  "pygments_lexer": "ipython3",
  "version": 3,
  "kernelspec": {
   "name": "python37264bitpyenvvenv741dbc4229c94ea89598f7037c7bb955",
   "display_name": "Python 3.7.2 64-bit ('pyenv': venv)"
  }
 },
 "cells": [
  {
   "cell_type": "markdown",
   "execution_count": 1,
   "metadata": {},
   "outputs": [
    {
     "name": "stdout",
     "output_type": "stream",
     "text": "Holi\n"
    }
   ],
   "source": [
    "# Operadores aritméticos\n",
    "Habrá ocasiones en que quieras sumar el resultado de una operación\n",
    "en la misma variable, para no tener que crear un montón de variables\n",
    "y tampoco usar tanta memoria (recuerda que cada variable abarca espacios \n",
    "de memoria).\n",
    "Por ejemplo, tengo una variable `contador`, y le quiero sumar 1."
   ]
  },
  {
   "cell_type": "code",
   "execution_count": 1,
   "metadata": {},
   "outputs": [
    {
     "name": "stdout",
     "output_type": "stream",
     "text": "0\n1\n2\n"
    }
   ],
   "source": [
    "contador = 0\n",
    "print(contador)\n",
    "\n",
    "#A contador le sumo 1\n",
    "contador = contador + 1\n",
    "#Ahora contador vale 1\n",
    "print(contador)\n",
    "\n",
    "#A contador le sumo 1\n",
    "contador = contador + 1\n",
    "#Ahora contador vale 2\n",
    "print(contador)"
   ]
  },
  {
   "cell_type": "markdown",
   "execution_count": null,
   "metadata": {},
   "outputs": [],
   "source": [
    "Aquí vas a aprender de un nuevo operador: `+=`.\n",
    "Se utiliza `+=` cuando tienes una variable a la que le quieres agregar una cantidad. Hace lo mismo que la forma anterior, pero con mucho menos texto (comunmente llamado *\"syntactic sugar\"*, porque vuelve más \"dulce\" de leer el código)."
   ]
  },
  {
   "cell_type": "code",
   "execution_count": 2,
   "metadata": {},
   "outputs": [
    {
     "name": "stdout",
     "output_type": "stream",
     "text": "0\n1\n2\n"
    }
   ],
   "source": [
    "contador = 0\n",
    "print(contador)\n",
    "\n",
    "#A contador le sumo 1\n",
    "contador += 1\n",
    "#Ahora contador vale 1\n",
    "print(contador)\n",
    "\n",
    "#A contador le sumo 1\n",
    "contador += 1\n",
    "#Ahora contador vale 2\n",
    "print(contador)"
   ]
  },
  {
   "cell_type": "markdown",
   "execution_count": null,
   "metadata": {},
   "outputs": [],
   "source": [
    "Y esto maravillosamente aplica para todas las operaciones básicas aritméticas."
   ]
  },
  {
   "cell_type": "code",
   "execution_count": 3,
   "metadata": {},
   "outputs": [
    {
     "name": "stdout",
     "output_type": "stream",
     "text": "\nContador al reves:\n3\n2\n1\n0\n"
    }
   ],
   "source": [
    "print(\"\\nContador al reves:\")\n",
    "contador_al_reves = 3\n",
    "print(contador_al_reves)\n",
    "contador_al_reves -= 1\n",
    "print(contador_al_reves)\n",
    "contador_al_reves -= 1\n",
    "print(contador_al_reves)\n",
    "contador_al_reves -= 1\n",
    "print(contador_al_reves)"
   ]
  },
  {
   "cell_type": "code",
   "execution_count": 4,
   "metadata": {},
   "outputs": [
    {
     "name": "stdout",
     "output_type": "stream",
     "text": "\nDuplicador:\n2\n4\n8\n16\n"
    }
   ],
   "source": [
    "print(\"\\nDuplicador:\")\n",
    "duplicador = 2\n",
    "print(duplicador)\n",
    "duplicador *= 2 #Lo multiplico por 2 y lo guardo en la misma variable, ahora vale 2\n",
    "print(duplicador)\n",
    "duplicador *= 2 #Lo vuelvo a duplicar y lo guardo, ahora vale 4\n",
    "print(duplicador)\n",
    "duplicador *= 2 #Ahora vale 8\n",
    "print(duplicador)"
   ]
  },
  {
   "cell_type": "code",
   "execution_count": 5,
   "metadata": {},
   "outputs": [
    {
     "name": "stdout",
     "output_type": "stream",
     "text": "\nDividir cosito:\n27\n9.0\n3.0\n1.0\n"
    }
   ],
   "source": [
    "print(\"\\nDividir cosito:\")\n",
    "#Escribir el operador de multiplicación (*) dos veces significa\n",
    "#Elevar a la \"x\" potencia. Por ejemplo 3 ** 5 significa \"elevar 3 a la 5 potencia\"\n",
    "dividir_cosito = 3 ** 3\n",
    "print(dividir_cosito)\n",
    "dividir_cosito /= 3 #Lo divido entre 3 y lo guardo\n",
    "print(dividir_cosito)\n",
    "dividir_cosito /= 3 #Lo vuelvo a dividir entre 3\n",
    "print(dividir_cosito)\n",
    "dividir_cosito /= 3 #Lo vuelvo a dividir entre 3\n",
    "print(dividir_cosito)"
   ]
  }
 ]
}