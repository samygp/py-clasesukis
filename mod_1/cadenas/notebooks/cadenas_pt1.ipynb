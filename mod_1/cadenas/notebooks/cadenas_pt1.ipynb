{
 "cells": [
  {
   "cell_type": "markdown",
   "metadata": {},
   "source": [
    "# Cadenas (strings)\n",
    "\n",
    "## ¿Qué es \"texto\"?\n",
    "\n",
    "Antes de entender sobre cadenas, valdría la pena primero entender qué es lo que hace que las computadoras puedan mostrar texto en primer lugar. Sabemos que las computadoras sólo entienden números, eso probablemente no sea una sorpresa, ¿pero cómo es que estos números producen letras y cosas que no se parecen a un número? Bueno, la respuesta empieza con algo que quizás te suene: código ASCII (se pronuncia \"aski\").\n",
    "\n"
   ],
   "execution_count": null,
   "outputs": []
  },
  {
   "cell_type": "markdown",
   "metadata": {},
   "source": [
    "### Codificación de caracteres\n",
    "\n",
    "No me voy a meter en los detalles de la historia del código ASCII, pero para describirlo de forma muy breve, el código ASCII es como un diccionario, que guarda una relación entre \"qué número\" produce \"qué letra\" o, mejor dicho, \"qué caracter\" (sin tilde, y acentuado en la sílaba \"ter\").\n",
    "\n",
    "Los `caracteres` (que cabe diferenciar de \"carácter/carácteres\" que describe rasgos de personalidad), son la representación de \"texto\" que una computadora puede formar para una letra, dígito, o símbolo. Estos caracteres no representan un número con el que vamos a operar, sino algo que queremos interpretar como parte de texto de un lenguaje humano. Entonces, cada número y letra que usamos los humanos (por lo menos en las lenguas que se utilizan actualmente) tienen su representación en forma de caracteres también. Por ejemplo, para el alfabeto romano que utilizamos en muchas lenguas occidentales (de la 'A' a la 'Z') se puede representar cada una de sus letras como texto en tu computadora, porque cada letra es un `caracter`.\n",
    "\n",
    "Volviendo al código ASCII, por ejemplo, el número 65 (en decimal) se puede traducir en la letra `A` (mayúscula), y el número 97 en la letra `a`, y algo que quizás te parezca extraño, el número 57 se usa para representar el caracter `9`. ¿Cómo? ¿El número 9 no es lo mismo que el caracter `9`? Pues sí, porque el número 9, en ASCII, se utiliza para representar un caracter de tabulación (cuando presionas la tecla `Tab`). Y así, puedes usar todos los números desde el 0 hasta el 255 para representar los 256 caracteres de la tabla ASCII, los puedes consultar en esta liga: http://www.asciitable.com/\n",
    "\n",
    "Sin embargo, hay un punto importante sobre ASCII, y es precisamente estar limitado a sus 256 caracteres, entre los cuales no se encuentran las letras con tildes que utilizamos, por ejemplo, en el español (á, é, í, ó, ú). La razón por la que sólo hay 256 caracteres es porque utilizan sólo 1 byte de información, entonces cada letra es 1 byte, pero ¿entonces qué hay que hacer si quiero escribir con acentos?\n",
    "\n",
    "Afortunadamente hay más de una codificación para caracteres, y otra de las más ampliamente usadas es UNICODE. Bueno, en realidad no es UNICODE \"tal cual\" lo que se utiliza, sino implementaciones o \"versiones\" (por decirlo de alguna forma) de UNICODE, que permiten utilizar más de 1 byte (usualmente 2, que pueden representar más de 65000 caracteres difernentes, pero en ocasiones puede ser usado hasta con 4 bytes), y entre estos tantos caracteres puedes encontrar también nuestros tan queridos \"emojis\" 😁👍.\n",
    "\n",
    "Y finalmente, como te puedes dar cuenta, las letras no van solas, sino que para formar palabras las agrupamos. A las agrupaciones de caracteres en la memoria de tu computadora (que se despliegan en tu pantalla) se les conoce como \"cadenas de caracteres\" o simplemente `cadenas`, porque son caracteres encadenados, donde cada caracter está ligado al siguiente, como si fuera una especie de trenesito 🚂.\n",
    "\n",
    "Ahora que sabemos que los números de nuestra computadora forman caracteres ¿cómo guarda relación esto con Python?"
   ],
   "execution_count": null,
   "outputs": []
  },
  {
   "cell_type": "markdown",
   "metadata": {},
   "source": [
    "## Cadenas en Python\n",
    "\n",
    "Python, para simplificar las cosas, sólo tiene las representaciones de texto en forma de cadenas. Si quieres usar un solo caracter, o una oración completa en forma de texto, para Python es lo mismo; ambas son cadenas.\n",
    "\n",
    "Las cadenas en Python se pueden representar poniendo texto encerrado entre comillas `\"` o entre apóstrofes `'`. Y al igual que cualquier otro tipo de dato, se puede guardar en variables.\n",
    "\n",
    "Por ejemplo: `mi_cadena = \"Tengo texto\"`"
   ],
   "execution_count": null,
   "outputs": []
  },
  {
   "cell_type": "code",
   "execution_count": 1,
   "metadata": {},
   "outputs": [
    {
     "output_type": "stream",
     "name": "stdout",
     "text": "Si imprimo lo que tiene mi_cadena: Una cadena\nmi_cadena ahora contiene: Tengo texto\n"
    }
   ],
   "source": [
    "mi_cadena = \"Una cadena\"\n",
    "print(\"Si imprimo lo que tiene mi_cadena:\", mi_cadena)\n",
    "#También puedo asignar con comillas simples (o apóstrofes) el valor de una cadena\n",
    "mi_cadena = 'Tengo texto'\n",
    "print(\"mi_cadena ahora contiene:\", mi_cadena)"
   ]
  },
  {
   "cell_type": "markdown",
   "metadata": {},
   "source": [
    "### Familiares no-tan-distantes: Arreglos y Cadenas\n",
    "\n",
    "En Python las cadenas funcionan de forma similar a los arreglos; son colecciones de elementos de un mismo tipo de dato (cada caracter), y cada uno tiene un índice dentro de la cadena. En algunos lenguajes, son exactamente eso, una cadena es literalmente un arreglo de acaracteres. Así, pues, igual que en algunos otros lenguajes, se puede obtener la longitud de una cadena midiendo cuántos elementos tiene (igual que en los arreglos), y se puede acceder a un caracter específico de la cadena usando el índice de ese caracter (sí, también igual que en los arreglos)."
   ],
   "execution_count": null,
   "outputs": []
  },
  {
   "cell_type": "code",
   "execution_count": 2,
   "metadata": {},
   "outputs": [
    {
     "output_type": "stream",
     "name": "stdout",
     "text": "La longitud de mi_cadena es: 11\n\nLo que contiene en el índice 0 (mi_cadena[0]): T\n\nLo que contiene en el índice 0 (mi_cadena[1]): e\n"
    }
   ],
   "source": [
    "print(\"La longitud de mi_cadena es:\", len(mi_cadena))\n",
    "print(\"\\nLo que contiene en el índice 0 (mi_cadena[0]):\", mi_cadena[0])\n",
    "print(\"\\nLo que contiene en el índice 0 (mi_cadena[1]):\", mi_cadena[1])"
   ]
  },
  {
   "cell_type": "markdown",
   "metadata": {},
   "source": [
    "De igual forma, las mismas técnicas de rangos de índices en un arreglo se pueden utilizar en las cadenas."
   ],
   "execution_count": null,
   "outputs": []
  },
  {
   "cell_type": "code",
   "execution_count": 3,
   "metadata": {},
   "outputs": [
    {
     "output_type": "stream",
     "name": "stdout",
     "text": "Los primeros 5 caracteres (mi_cadena[:5]): Tengo\n\nLos últimos 5 caracteres (mi_cadena[-5:]) texto\n\nLos caracteres del tercero al octavo(mi_cadena[2:8]) ngo te\n\nTodos los caracteres, en saltos de 2 (mi_cadena[::2]) Tnotxo\n"
    }
   ],
   "source": [
    "print(\"Los primeros 5 caracteres (mi_cadena[:5]):\", mi_cadena[:5])\n",
    "print(\"\\nLos últimos 5 caracteres (mi_cadena[-5:])\", mi_cadena[-5:])\n",
    "print(\"\\nLos caracteres del tercero al octavo(mi_cadena[2:8])\", mi_cadena[2:8])\n",
    "print(\"\\nTodos los caracteres, en saltos de 2 (mi_cadena[::2])\", mi_cadena[::2])"
   ]
  },
  {
   "cell_type": "markdown",
   "metadata": {},
   "source": [
    "### Operaciones con cadenas\n",
    "\n",
    "Hasta ahora sólo hemos mostrado cómo guardar una cadena y cómo mostrarla en partes o entera, pero no tendría mucho de interesante si las cadenas sirvieran sólo para mostrarse en un `print`, ¿cierto?\n",
    "\n",
    "Una pregunta que alguien se podría hacer es, por ejemplo ¿cómo puedo combinar dos cadenas que originalmente existen por separado? Esta, en realidad, es una operación muy, muy común y muy útil cuando se trabaja con texto, y es tan común que hasta tiene su propio nombre: **concatenación**.\n",
    "\n",
    "Y precisamente para eso los strings también pueden utilizar varios operadores operadores aritméticos: el de suma (`+`) y el de multiplicación (`*`), con sus respectivas variaciones de acumulación (`+=` y `*=`).\n",
    "\n",
    "Cuando se utiliza la suma (`+`) se concatenan dos strings, y puedes usarlo para concatenar uno tras otro todos los strings que necesites.\n",
    "\n",
    "> **Nota importante:**\n",
    "> La concatenación sólo se puede realizar entre dos cadenas, si se intenta usar el operador de suma (`+`) con algún otro tipo de dato (flotantes, booleanos, etc.) Python arrojará un error."
   ],
   "execution_count": null,
   "outputs": []
  },
  {
   "cell_type": "code",
   "execution_count": 4,
   "metadata": {},
   "outputs": [
    {
     "output_type": "stream",
     "name": "stdout",
     "text": "Podemos concatenar mi_cadena con algo más:\n\nTengo texto aqui mero\n\nPero eso no se guarda en la variable 'mi_cadena', sólo lo utiliza en ESA operación (print, en este caso)\nmi_cadena sigue conteniendo solamente: Tengo texto\n\nPrimer saludo:\nHola Sam.\n\nUn cumplido\nHola Sam. Qué agradable sujeto.\n"
    }
   ],
   "source": [
    "print(\"Podemos concatenar mi_cadena con algo más:\\n\")\n",
    "print(mi_cadena + \" aqui mero\")\n",
    "print(\"\\nPero eso no se guarda en la variable 'mi_cadena', sólo lo utiliza en ESA operación (print, en este caso)\")\n",
    "print(\"mi_cadena sigue conteniendo solamente:\", mi_cadena)\n",
    "\n",
    "nombre = \"Sam\"\n",
    "saludo1 = \"Hola \" + nombre + \".\"\n",
    "print(\"\\nPrimer saludo:\")\n",
    "print(saludo1)\n",
    "\n",
    "cumplido = saludo1 + \" \" + \"Qué agradable sujeto.\"\n",
    "print(\"\\nUn cumplido\")\n",
    "print(cumplido)"
   ]
  },
  {
   "cell_type": "markdown",
   "metadata": {},
   "source": [
    "Y así como se pueden concatenar dos strings y guardarse en otra variable, puedes concatenar y acumular dentro de la misma variable varias cadenas."
   ],
   "execution_count": null,
   "outputs": []
  },
  {
   "cell_type": "code",
   "execution_count": 5,
   "metadata": {},
   "outputs": [
    {
     "output_type": "stream",
     "name": "stdout",
     "text": "varios_saludos contiene:\n Hola Sam.\n\nvarios_saludos contiene:\n Hola Sam. Hola Tony.\n"
    }
   ],
   "source": [
    "nombre = \"Tony\"\n",
    "saludo2 = \"Hola \" + nombre + \".\"\n",
    "\n",
    "varios_saludos = saludo1\n",
    "print(\"varios_saludos contiene:\\n\", varios_saludos)\n",
    "varios_saludos += \" \"\n",
    "varios_saludos += saludo2\n",
    "print(\"\\nvarios_saludos contiene:\\n\", varios_saludos)"
   ]
  },
  {
   "cell_type": "markdown",
   "metadata": {},
   "source": [
    "Por otra parte, el operador de multiplicación `*` se utiliza para concatenar una misma cadena múltiples veces, o sea, repetirla el número de veces que indique el número por el que \"multipliquemos\" la cadena.\n",
    "\n",
    "> **Nota importante:**\n",
    "> Sólo se puede multiplicar una cadena por números enteros, si se intenta multiplicar por algún otro tipo de dato (flotantes, booleanos u otras cadenas) Python arrojará un error."
   ],
   "execution_count": null,
   "outputs": []
  },
  {
   "cell_type": "code",
   "execution_count": 6,
   "metadata": {},
   "outputs": [
    {
     "output_type": "stream",
     "name": "stdout",
     "text": "hola \nhola hola hola hola hola \n"
    }
   ],
   "source": [
    "hola = \"hola \"\n",
    "muchos_hola = hola * 5\n",
    "print(hola)\n",
    "print(muchos_hola)"
   ]
  },
  {
   "cell_type": "markdown",
   "metadata": {},
   "source": [
    "Y de la misma manera, se puede acumular en la misma variable la concatenación con multiplicadores."
   ],
   "execution_count": null,
   "outputs": []
  },
  {
   "cell_type": "code",
   "execution_count": 7,
   "metadata": {},
   "outputs": [
    {
     "output_type": "stream",
     "name": "stdout",
     "text": "hasta luego hasta luego hasta luego hasta luego hasta luego hasta luego hasta luego hasta luego hasta luego hasta luego \n"
    }
   ],
   "source": [
    "varios_hasta_luego = \"hasta luego \"\n",
    "varios_hasta_luego *= 10\n",
    "print(varios_hasta_luego)"
   ]
  },
  {
   "cell_type": "markdown",
   "metadata": {},
   "source": [
    "## Inmutabilidad de las cadenas\n",
    "\n",
    "Quizás recuerdes que en ejemplos pasados de arreglos podíamos editar cada uno de los elementos del arreglo, como en el siguiente ejemplo."
   ],
   "execution_count": null,
   "outputs": []
  },
  {
   "cell_type": "code",
   "execution_count": 8,
   "metadata": {},
   "outputs": [
    {
     "output_type": "stream",
     "name": "stdout",
     "text": "mi_arreglo contiene: [1, 4, 7, 123, -5]\n\nmi_arreglo contiene: [99, 4, 111, 123, -5]\n"
    }
   ],
   "source": [
    "mi_arreglo = [1, 4, 7, 123, -5]\n",
    "print(\"mi_arreglo contiene:\", mi_arreglo)\n",
    "\n",
    "mi_arreglo[2] = 111 # Cambiamos el valor en el índice 2 del arreglo\n",
    "mi_arreglo[0] = 99 # cambiamos el valor del primer índice del arreglo\n",
    "\n",
    "print(\"\\nmi_arreglo contiene:\", mi_arreglo)"
   ]
  },
  {
   "cell_type": "markdown",
   "metadata": {},
   "source": [
    "Sin embargo, aunque el comporamiento para **leer** el contenido de nuestro arreglo, y apendizar (o, en este caso, concatenar) elementos sea muy similar al de los arreglos, las cadenas tienen una diferencia muy importante con respecto a los arreglos: las cadenas son **inmutables**.\n",
    "\n",
    "Esto significa que no se puede modificar (o mutar) una cadena en un elemento específico de ésta. Si se intenta modificar un elemento de una cadena, Python arrojará un error e interrumpirá la ejecución."
   ],
   "execution_count": null,
   "outputs": []
  },
  {
   "cell_type": "code",
   "execution_count": 9,
   "metadata": {},
   "outputs": [
    {
     "output_type": "stream",
     "name": "stdout",
     "text": "No me puedes mutar, soy una cadena\n"
    },
    {
     "output_type": "error",
     "ename": "TypeError",
     "evalue": "'str' object does not support item assignment",
     "traceback": [
      "\u001b[0;31m---------------------------------------------------------------------------\u001b[0m",
      "\u001b[0;31mTypeError\u001b[0m                                 Traceback (most recent call last)",
      "\u001b[0;32m<ipython-input-9-3bd20a02e6a7>\u001b[0m in \u001b[0;36m<module>\u001b[0;34m\u001b[0m\n\u001b[1;32m      2\u001b[0m \u001b[0mprint\u001b[0m\u001b[0;34m(\u001b[0m\u001b[0mcadena_inmutable\u001b[0m\u001b[0;34m)\u001b[0m\u001b[0;34m\u001b[0m\u001b[0;34m\u001b[0m\u001b[0m\n\u001b[1;32m      3\u001b[0m \u001b[0;31m#Intentar mutar un elemento de la cadena resultará en un error\u001b[0m\u001b[0;34m\u001b[0m\u001b[0;34m\u001b[0m\u001b[0;34m\u001b[0m\u001b[0m\n\u001b[0;32m----> 4\u001b[0;31m \u001b[0mcadena_inmutable\u001b[0m\u001b[0;34m[\u001b[0m\u001b[0;36m0\u001b[0m\u001b[0;34m]\u001b[0m \u001b[0;34m=\u001b[0m \u001b[0;34m\"a\"\u001b[0m\u001b[0;34m\u001b[0m\u001b[0;34m\u001b[0m\u001b[0m\n\u001b[0m",
      "\u001b[0;31mTypeError\u001b[0m: 'str' object does not support item assignment"
     ]
    }
   ],
   "source": [
    "cadena_inmutable = \"No me puedes mutar, soy una cadena\"\n",
    "print(cadena_inmutable)\n",
    "#Intentar mutar un elemento de la cadena resultará en un error\n",
    "cadena_inmutable[0] = \"a\""
   ]
  }
 ],
 "metadata": {
  "kernelspec": {
   "display_name": "Python 3.7.5 64-bit ('pyenv': venv)",
   "language": "python",
   "name": "python37564bitpyenvvenvd4b75a7901ba4a5292e75ea444303d15"
  },
  "language_info": {
   "codemirror_mode": {
    "name": "ipython",
    "version": 3
   },
   "file_extension": ".py",
   "mimetype": "text/x-python",
   "name": "python",
   "nbconvert_exporter": "python",
   "pygments_lexer": "ipython3",
   "version": "3.7.5-final"
  }
 },
 "nbformat": 4,
 "nbformat_minor": 4
}