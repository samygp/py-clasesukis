{
 "metadata": {
  "language_info": {
   "codemirror_mode": {
    "name": "ipython",
    "version": 3
   },
   "file_extension": ".py",
   "mimetype": "text/x-python",
   "name": "python",
   "nbconvert_exporter": "python",
   "pygments_lexer": "ipython3",
   "version": "3.7.5-final"
  },
  "orig_nbformat": 2,
  "kernelspec": {
   "name": "python37564bitpyenvvenvd4b75a7901ba4a5292e75ea444303d15",
   "display_name": "Python 3.7.5 64-bit ('pyenv': venv)"
  }
 },
 "nbformat": 4,
 "nbformat_minor": 2,
 "cells": [
  {
   "cell_type": "markdown",
   "metadata": {},
   "source": [
    "# Análisis De Algoritmos (Introducción)\n",
    "\n",
    "Ahora que estás familiarizado con cómo hacer tus propias clases, algunas estructuras de datos básicas, estructuras de control de flujo, cómo operar con diferentes tipos de datos (oye, nada mal, ya tienes algo recorrido), el siguiente paso es procurar hacer tus procedimientos y algoritmos de manera que entiendas el impacto que pueden tener diferentes soluciones a un mismo problema en cuanto al tiempo de procesamiento y cuánta memoria utilizan.\n",
    "\n",
    "> **Nota importante:** Cuando se habla de **memoria** nos referimos a la memoria de acceso aleatorio (RAM, *random access memory*), que no debe ser confundida con el **almacenamiento**, que puede ser de un disco duro (HDD, *hard disk drive*) o en un dispositivo de estado sólido (SSD, *solid state drive*). La información en memoria desaparece cuando la computadora se apaga o reinicia, la que se guarda en almacenamiento persiste mientras el usuario no la borre o el dispositivo falle.\n",
    "\n",
    "Quizás puedas tener curiosidad de por qué nos importan estas dos cosas cuando actualmente son tan ridículamente rápidas y relativamente baratas las computadoras, si las comparamos con las computadoras que existían cuando muchos algoritmos populares tomaron forma, que dependiendo del año en que las busques podían ir desde el tamaño de un librero hasta el tamaño de un sótano completo, y tenían menos de 1MB de memoria (en comparación, las computadoras actuales vienen con por lo menos 2GB de memoria, que es 2048 veces 1MB)."
   ]
  },
  {
   "cell_type": "markdown",
   "metadata": {},
   "source": [
    "## ¿Por qué importa la eficiencia en un programa?\n",
    "\n",
    "Entonces ¿por qué estresarnos del tiempo que toman nuestras soluciones? Principalmente porque los programas que alguien hace no son la **única** cosa que vaya a estar ejecutando tu computadora. Las computadoras, mientras más rápidas se han fabricado, más cosas nos permiten procesar al mismo tiempo. Un ejemplo simple: cuando estás usando tu computadora para casi cualquier cosa, estoy casi seguro que utilizas por lo menos un navegador de internet, en el que probablemente tienes abierta por lo menos una pestaña de alguna red social, algún servicio de reproducción de música, adicionalmente puedes trabajar en un ensayo con algún procesador de texto, o con hojas de cálculo. Cada una de esas cosas requiere de memoria y de tiempo de procesamiento para que realicen su función, y algo que puedes escuchar comunmente es que hay *ciertos* navegadores de internet que consumen **demasiada** memoria y hacen que tu computadora se sienta \"lenta\". Ese tipo de \"fugas de memoria\" o de procesamiento ineficiente en **un** solo programa son suficientes para que todo el desempeño de la computadora sufra.\n",
    "\n",
    "Si lo comparamos con una clase de escuela con el que quizás te puedas sentir identificado, podría ser una clase de primaria donde los alumnos están haciendo manualidades con papel periódico y pegamento. Imagina que hay suficiente periódico para todos, pero solamente hay una botella de pegamento para cada uno. Idealmente eso sería suficiente para que todos trabajen bien, pero todos sabemos que la vida real no funciona así. En algún punto un niño puede estar usando más botellas de pegamento que la que tiene asignada, y eso le deja sin oportunidad de seguir trabajando a otro alumno. O quizás en otro punto un niño hace algo extraño, como ponerse pegamento en la nariz, entonces la maestra debe dedicar su atención completa al niño con la nariz pegada.\n",
    "\n",
    "En el caso de una computadora, el niño que usa más pegamento que los demás, a veces mucho más, serían los programas o procesos que usan mucha memoria y eso hace que los demás programas no puedan utilizar la que necesitan hasta que alguien más desocupe memoria, porque a final de cuenta todo lo que una computadora está procesando debe estar en memoria cuando lo utiliza. Y cuando el niño se pegó la nariz e hizo que la maestra tuviera que dedicarle su atención, ese caso se parece a cuando un programa requiere demasiado tiempo de procesamiento porque su solución tarda mucho en ejecutarse, como cuando tomas el camino largo a casa en lugar del camino corto."
   ]
  },
  {
   "cell_type": "markdown",
   "metadata": {},
   "source": [
    "## ¿Qué es un algoritmo?\n",
    "\n",
    "Anteriormente hemos utilizado de un par de veces, muy casualmente, esa palabra; \"algoritmo\", pero es momento de darle un significado más concreto. Puedes buscar más definiciones en internet para que tengas una mejor noción, o una más completa de qué implica esa palabra, pero la mejor forma en que lo puedo poner con mis palabras sería:\n",
    "\n",
    "> **Algoritmo:** Secuencia de pasos y reglas (o condiciones) que llevan a una solución consistente, que para las mismos parámetros de entrada, tendrá el mismo resultado.\n",
    "\n",
    "Dicho de otra forma más casual, los algoritmos son como \"recetas\". Tiene pasos bien definidos y condiciones para llegar a un mismo resultado siempre, si sigues los mismos pasos, con los mismos \"ingredientes\""
   ]
  },
  {
   "cell_type": "markdown",
   "metadata": {},
   "source": [
    "Un ejemplo sería cómo preparar un vaso de leche con chocolate. Nuestro algoritmo sería el siguiente:\n",
    "\n",
    "```\n",
    "-- INICIA ALGORITMO --\n",
    "\n",
    "0. Conseguir ingredientes: vaso con 355 ml de capacidad, polvo para leche con chocolate, cuchara, leche\n",
    "1. Colocar el vaso encima de una mesa\n",
    "2. Colocar 200 ml de leche en el vaso\n",
    "3. Agregar una cucharada de polvo para leche con chocolate\n",
    "\n",
    "# Inicia Ciclo\n",
    "4. Mientras la mezcla de la leche y el polvo no sean homogéneas\n",
    "    4.1 Sujetando la cuchara por el mango, mezclar leche y polvo moviendo la cuchara dentro del vaso con movimientos circulares, con la punta de la cuchara tocando el fondo del vaso.\n",
    "# Termina Ciclo\n",
    "\n",
    "5. Probar una cucharada de la mezcla de leche con chocolate.\n",
    "\n",
    "# Inicia Condición\n",
    "6. Si no sabe suficientemente chocolatoso, regresar al paso 3\n",
    "# Termina Condición\n",
    "\n",
    "-- FIN DEL ALGORITMO --\n",
    "```"
   ]
  },
  {
   "cell_type": "markdown",
   "metadata": {},
   "source": [
    "Es quizás una forma un poco tosca y, para un humano promedio, demasiado estricta de cómo preparar leche con chocolate, pero esta clase de ejemplo es necesaria para explicar qué es un algoritmo, porque encontrarás que tiene más detalles de los que normalmente una persona asumiría para preparar la leche con chocolate. Por ejemplo, la mayoría no medimos precisamente cuánta leche hay en el vaso, ni hacemos tan explícita la condición de \"si la mezcla no es homogénea, seguir batiendo\". Esto es porque un algoritmo necesita no dejar lugar a ambigüedades, entonces nuestro algoritmo de la leche con chocolate todavía no es suficientemente preciso para una computadora, porque no sabe, por ejemplo, qué significa que la leche con chocolate sepa \"suficientemente chocolatosa\", probablemente deberíamos hacer algo como \"si la densidad de partículas de polvo de chocolate supera las `x` partículas por millón de partículas de leche...\", pero bueno, esto debería bastar para entender que un algoritmo debe detallar dónde empieza y termina cada secuencia de pasos, condiciones, ser explícito en cómo se ejecuta cada paso o instrucción, etc."
   ]
  },
  {
   "cell_type": "markdown",
   "metadata": {},
   "source": [
    "## ¿De qué se trata el análisis de algoritmos?\n",
    "\n",
    "Es poco probable que al escuchar \"análisis de algoritmos\" por primera vez una persona entienda qué se hace cuando hablamos de \"analizar\" un algoritmo. Ya sabemos qué son y para qué sirven pero ¿cómo analizarlos? ¿Por qué?\n",
    "\n",
    "El proceso de análisis en cualquier cosa implica entender y observar con detenimiento qué hace, cómo es y cómo se comporta lo que tenemos en frente. En el caso de los algoritmos, intentamos principalmente entender qué tan eficiente en uso de memoria y en tiempo de procesamiento es, y para eso necesitamos entender cómo influyen las operaciones que realizamos en cada uno de esos dos parámetros a evaluar.\n",
    "\n",
    "Lo primero que hay que entender sobre analizar un algoritmo es que no todas las ejecuciones del mismo algoritmo van a tardar lo mismo, porque no van a evaluar siempre la exacta misma información, e incluso si lo hacen, el estado actual de la computadora (no sabemos todo el tiempo exactamente qué otras cosas hace detrás de cámaras nuestra computadora) pueden influir en que si, por ejemplo, buscamos el vigésimo número de la secuencia fibonacci, nuestra computadora pueda tardar (imaginemos) entre 0.05 segundos la primera vez que lo ejecutamos, 0.04 segundos la segunda vez que ejecutamos la exacta misma operación y 0.06 segundos la tercera.\n",
    "\n",
    "Hay que tener en mente que hay variabilidad en cosas sobre las que normalmente no tendremos control, entonces lo que buscamos es un **estimado** para entender cómo se comportará nuestro algoritmo si le pedimos cosas cada vez más complejas, que casi siempre se traduce en si la entrada para el algoritmo son más números, o el número a encontrar es más grande. Por ejemplo, es obvio que tarda más en ejecutarse buscar el vigésimo (fib(20)) número de la secuencia fibonacci que el décimo (fib(10)) número. Pero haciendo uso del análisis de algoritmos notarás qué tan diferentes pueden ser en eficiencia dos soluciones para el mismo problema; por ejemplo, usando el algoritmo recursivo para calcular la secuencia de Fibonacci, `fib(20)` tarda 1024 veces más que `fib(10)`. Y más adelante veremos que si se utiliza una solución iterativa en lugar de recursiva se pueden obtener ambos números en un tiempo muchísimo menor que con la solución recursiva."
   ]
  },
  {
   "cell_type": "markdown",
   "metadata": {},
   "source": [
    "## ¿Y cómo se analiza un algoritmo?\n",
    "\n",
    "Analizar un algoritmo no se trata solamente de leer una y otra vez un algoritmo hasta que encuentres algo nuevo. Se trata, dicho un tanto sobresimplificado, de contar cuántos pasos realizará un algoritmo para llegar a su solución. Esto depende de muchas cosas, y por eso será mejor por empezar analizando un algoritmo muy básico, una suma."
   ]
  },
  {
   "cell_type": "code",
   "execution_count": null,
   "metadata": {},
   "outputs": [],
   "source": [
    "def sumar_numeros(a, b):\n",
    "    suma = a + b\n",
    "    return suma"
   ]
  },
  {
   "cell_type": "markdown",
   "metadata": {},
   "source": [
    "Nuestra función que contiene el algoritmo para sumar dos números contiene realmente sólo un comando, pero esto a su vez realiza más cosas. Cada cosa que hace la computadora cuenta como un paso, en este caso las operaciones que se realizan:\n",
    "\n",
    "- Buscar el valor de una variable en la memoria\n",
    "- Sumar dos números\n",
    "- Crear una nueva variable con la suma de los dos números\n",
    "\n",
    "Analicemos en más detalle cada sección de esta operación y contemos las operaciones realizadas:\n",
    "\n",
    "1. Buscar el valor de `a` en la memoria\n",
    "2. Buscar el valor de `b` en la memoria\n",
    "3. Sumar los valores numéricos de `a` y `b`\n",
    "4. Guardar el resultado en una nueva dirección de memoria (la variable `suma`)\n",
    "\n",
    "Esto nos da en total 4 pasos. Entonces, este resultado, como tiene un solo camino a tomar (no tiene ninguna condición que cambie el posible resultado), siempre nos tomará 4 operaciones llegar al resultado final. Esto se escribe en una forma que llaman \"notación O grande\", que se escribe de la siguiente forma: `O(4)`. Notarás que lo primero es una \"O\" grande... y entre paréntesis lleva el número de pasos a realizar en nuestro algoritmo. A esto se le conoce como \"complejidad\" del algoritmo, y en nuestro caso para la suma se describiría así: \"El algoritmo tiene una complejidad de orden 4\". La realidad es que casi nunca se utilizan valores numéricos en la complejidad de un algoritmo para describirla, por lo antes mencionado; según el estado actual de la computadora un mismo paso puede tardar más o menos que en otras ocasiones aunque la operación sea la misma.\n",
    "\n",
    "Entonces, como en este caso el número de pasos nunca cambia, se le conoce como que tiene una complejidad constante, que se puede solamente describir como `O(1)` que indica que el algoritmo siempre realizará la misma cantidad de operaciones, sin importar los números que reciba como parámetros nuestra suma.\n",
    "\n",
    "Evaluemos otro ejemplo, ahora será la sumatoria de una lista de números."
   ]
  },
  {
   "cell_type": "code",
   "execution_count": null,
   "metadata": {},
   "outputs": [],
   "source": [
    "def sumatoria(numeros):\n",
    "    resultado = 0\n",
    "    for num in numeros:\n",
    "        resultado += num\n",
    "    return resultado"
   ]
  },
  {
   "cell_type": "markdown",
   "metadata": {},
   "source": [
    "Aquí la complejidad del algoritmo será muy diferente a la del ejemplo anterior, porque el número de pasos no es fijo, ya que depende de cuántos números vamos a sumar. Una forma muy común de evaluar las operaciones cuando son de orden constante (como la suma), en operaciones que sólo involucran aritmética (sumas, restas, multiplicaciones, divisiones), accesos a memoria, o cualquier operación de orden constante (o sea `O(1)`), las contamos como si fueran solamente un 1. Esto nos ayuda a evaluar las operaciones que harán de verdad variar la complejidad de un algoritmo: cualquier cosa que involucre ciclos (`for`, `while`) o llamadas recursivas a una función.\n",
    "\n",
    "En el caso anterior, en la sumatoria, hay un ciclo `for` que depende directamente de cuántos elementos tenga la lista. Por ejemplo, para una lista con 10 elementos, tomaría 10 iteraciones de evaluar el contenido del ciclo. Para 20 elementos, 20 iteraciones, y así consecutivamente. Entonces, normalmente optamos por nombrar con una letra, comunmente la \"n\", al número de elementos de una lista. Entonces podemos decir que un ciclo toma \"n\" iteraciones, multiplicado por el orden de la suma de operaciones contenidas en el ciclo.\n",
    "\n",
    "Entonces, volvamos a escribir la sumatoria con la complejidad de cada paso."
   ]
  },
  {
   "cell_type": "code",
   "execution_count": null,
   "metadata": {},
   "outputs": [],
   "source": [
    "def sumatoria(numeros):\n",
    "    resultado = 0 # O(1) paso\n",
    "    for num in numeros: # O(n) pasos\n",
    "        resultado += num # O(1) paso\n",
    "    return resultado"
   ]
  },
  {
   "cell_type": "markdown",
   "metadata": {},
   "source": [
    "Si sumamos las complejidades de nuestros pasos obtenemos la complejidad total, que para la sumatoria resulta: `O(1 + n*1) -> O(1 + n) -> O(n)`. Notarás que se puede simplificar la expresión hasta que llegamos a `O(n)` esto es porque los órdenes numéricos, siendo constantes, se pueden descartar para el análisis de complejidad, porque siempre tendrán el mismo valor numérico, y lo que en este caso nos importa es cuánto cambia el tiempo de ejecución mientras más crezca la entrada del algoritmo. Esto nos resulta útil porque si evaluamos para un diferente número de elementos, tenemos una visión de la complejidad que escala mucho más fuerte relacionada con el tamaño del arreglo (`n`), que con respecto a los otros valores constantes.\n",
    "\n",
    "Por ejemplo, si la ecuación principal de nuestra notación \"O grande\" fue O(1 + n*1), esto significa que para los siguientes tamaños de lista \"n\", el número de operaciones a realizar serían:\n",
    "\n",
    "| Tamaño (n) | Ecuación (1 + n*1) | Operaciones a realizar |\n",
    "|:----------:|:------------------:|:----------------------:|\n",
    "|    1       |      1 + 1*1       |         2              |\n",
    "|    10      |      1 + 10*1      |         11             |\n",
    "|    100     |      1 + 100*1     |         101            |\n",
    "\n",
    "Y como podrás ver, el 1 que sumamos a la ecuación, así como el otro 1 que multiplicamos por la `n` del tamaño de la lista, influyen muy poco en cómo cambia la complejidad, o cuánto crece. Te recomiendo leer un poco más sobre este tema si estás familiarizado con cálculo; puedes buscar sobre el crecimiento \"asintótico\" de una función, que es precisamente lo que describe la notación \"O grande\", aplicada en algoritmos.\n",
    "\n",
    "Analicemos ahora un problema un poco más complejo de codificar, pero mucho más complejo para la computadora. Imagina que queremos calcular la sumatoria de todos los números dentro de un rango, que multipliquen a todos los demás números dentro del rango, uncluído el mismo número. Por ejemplo, en el rango de los números 1 al 3 (`[1,2,3]`) se vería de la siguiente forma:\n",
    "\n",
    "```\n",
    "iteración para número 1: (1 * 1) + (1 * 2) + (1 * 3) +\n",
    "iteración para número 2: (2 * 1) + (2 * 2) + (2 * 3) +\n",
    "iteración para número 3: (3 * 1) + (3 * 2) + (3 * 3) +\n",
    "```\n",
    "\n",
    " Esto se puede lograr con un par de ciclos anidados."
   ]
  },
  {
   "cell_type": "code",
   "execution_count": null,
   "metadata": {},
   "outputs": [],
   "source": [
    "def sumar_multiplicaciones(n):\n",
    "    n += 1 #Sumamos 1 al valor n, para que el rango llegue hasta el número especificado\n",
    "    resultado = 0\n",
    "    for i in range(1, n):\n",
    "        for j in range(1, n):\n",
    "            resultado += i * j\n",
    "    return resultado"
   ]
  },
  {
   "cell_type": "markdown",
   "metadata": {},
   "source": [
    "Podŕas ver que no es tan difícil de leer ni entender qué hace el algoritmo, pero encontrarás algo interesante cuando hagamos el análisis de complejidad."
   ]
  },
  {
   "cell_type": "code",
   "execution_count": null,
   "metadata": {},
   "outputs": [],
   "source": [
    "def sumar_multiplicaciones(n):\n",
    "    n += 1 # O(1)\n",
    "    resultado = 0 # O(1)\n",
    "    for i in range(1, n): # O(n)\n",
    "        for j in range(1, n): # O(n)\n",
    "            resultado += i * j # O(1)\n",
    "    return resultado"
   ]
  },
  {
   "cell_type": "markdown",
   "metadata": {},
   "source": [
    "La mayoría de las operaciones son de orden constante, excepto los ciclos. Esto nos daría la siguiente notación: `O(1 + 1 + n*n*1)`. Esto se puede simplificar descartando los valores constantes sumados: `O(n*n)` o puesto de otra forma `O(n^2)`. A este tipo de complejidad se le apoda \"cuadrática\", porque crece exponencialmente elevando al cuadrado el número de elementos de entrada, o del tamaño del número de entrada. Cuando hay un valor numérico involucrado como base o exponente del valor `n` de entrada no se pueden obviar como las otras operaciones de orden constante, porque son precisamente los órdenes exponenciales (donde `n` es base o exponente en una potencia, o sea \"n^2\" o \"2^n\"). En el ejemplo a continuación notarás por qué.\n",
    "\n",
    "En el siguiente ejemplo podrás ver cómo crece exponencialmente la complejidad para llegar al resultado final y cuánto tiempo tarda este mismo algoritmo en ejecutarse. Notarás también que tiene algunos cambios ligeros en el código, pero son sólo para llevar el conteo de pasos y el tiempo que toma llegar a la solución."
   ]
  },
  {
   "cell_type": "code",
   "execution_count": 2,
   "metadata": {
    "tags": []
   },
   "outputs": [
    {
     "output_type": "stream",
     "name": "stdout",
     "text": "Con n=10\nTomó 100 iteraciones llegar al resultado, tardó 0:00:00.000023 segundos\nEl resultado es: 3025\nCon n=100\nTomó 10000 iteraciones llegar al resultado, tardó 0:00:00.002409 segundos\nEl resultado es: 25502500\nCon n=1000\nTomó 1000000 iteraciones llegar al resultado, tardó 0:00:00.108074 segundos\nEl resultado es: 250500250000\nCon n=10000\nTomó 100000000 iteraciones llegar al resultado, tardó 0:00:09.617192 segundos\nEl resultado es: 2500500025000000\nCon n=100000\nTomó 10000000000 iteraciones llegar al resultado, tardó 0:17:20.423022 segundos\nEl resultado es: 25000500002500000000\n"
    }
   ],
   "source": [
    "import datetime as dt\n",
    "\n",
    "def sumar_multiplicaciones(n):\n",
    "    print(f\"Con n={n}\")\n",
    "    tiempo_inicio = dt.datetime.now()\n",
    "    iteraciones = 0\n",
    "    # Comienza algoritmo original\n",
    "    n += 1 # O(1)\n",
    "    resultado = 0 # O(1)\n",
    "    for i in range(1, n): # O(n)\n",
    "        for j in range(1, n): # O(n)\n",
    "            resultado += i * j # O(1)\n",
    "            iteraciones += 1\n",
    "    # Termina algoritmo original\n",
    "    tiempo_final = dt.datetime.now() - tiempo_inicio\n",
    "    print(f\"Tomó {iteraciones} iteraciones llegar al resultado, tardó {tiempo_final} segundos\")\n",
    "    print(f\"El resultado es: {resultado}\")\n",
    "\n",
    "sumar_multiplicaciones(10)\n",
    "sumar_multiplicaciones(100)\n",
    "sumar_multiplicaciones(1000)\n",
    "sumar_multiplicaciones(10000)\n",
    "sumar_multiplicaciones(100000)"
   ]
  },
  {
   "cell_type": "markdown",
   "metadata": {},
   "source": [
    "Eso puede darte una buena idea de lo importante que es pensar en una buena solución que no realice tantas iteraciones, o que no crezca tan rápido la complejidad cuando aumenta el tamaño de la entrada.\n",
    "\n",
    "Los primeros 3 casos, evaluando para 10, 100 y 1000 respectivamente, todos tardan menos de un segundo, cada entrada es la anterior multiplicada por 10, pero cuando llega a 10,000, tarda 9 segundos, y cuando llega a 100,000, tarda más de 17 minutos (sí, esperé a que terminara de correr ese bloque de código).\n",
    "\n",
    "Y aquí viene la importancia de conocer esta información: esto nos dice que es bastante deseable pensar en una solución más eficiente, y un ejemplo podría ser la siguiente: analicemos primero cuál es el resultado de cada iteración para un caso más pequeño."
   ]
  },
  {
   "cell_type": "markdown",
   "metadata": {},
   "source": [
    "Empecemos con el rango más pequeño después de 1, los números 1 y 2.\n",
    "```\n",
    "Iteración para el número 1: (1*1) + (1*2) = 1 + 2 = 3\n",
    "Iteración para el número 2: (2*1) + (2*2) = 2 + 4 = 6\n",
    "Total = 12\n",
    "```\n",
    "\n",
    "Ahora usemos el rango original con los números del 1 al 3\n",
    "```\n",
    "Iteración para el número 1: (1*1) + (1*2) + (1*3) = 1 + 2 + 3 = 6\n",
    "Iteración para el número 2: (2*1) + (2*2) + (2*3) = 2 + 4 + 6 = 12\n",
    "Iteración para el número 3: (3*1) + (3*2) + (3*3) = 3 + 6 + 9 = 18\n",
    "Total = 36\n",
    "```\n",
    "\n",
    "Ahora intentemos con uno un poco más largo, del 1 al 4\n",
    "```\n",
    "Iteración para el número 1: (1*1) + (1*2) + (1*3) + (1*4) = 1 + 2 + 3 + 4 = 10\n",
    "Iteración para el número 2: (2*1) + (2*2) + (2*3) + (2*4) = 2 + 4 + 6 + 8 = 20\n",
    "Iteración para el número 3: (3*1) + (3*2) + (3*3) + (3*4) = 3 + 6 + 9 + 12 = 30\n",
    "Iteración para el número 4: (4*1) + (4*2) + (4*3) + (4*4) = 4 + 8 + 12 + 24 = 40\n",
    "Total = 100\n",
    "```"
   ]
  },
  {
   "cell_type": "markdown",
   "metadata": {},
   "source": [
    "¿Empiezas a notar un patrón? Notarás que la primer fila es igual a la sumatoria de todos los números en el rango, no es ninguna sorpresa (todos los números multiplicados por 1 son iguales a sí mismos), pero algo interesante comienza a suceder desde la segunda fila: el resultado es igual al doble que la primera fila, y en la tercera fila el resultado es igual al triple de la primera fila.\n",
    "\n",
    "Eso quiere decir que sólo con saber la sumatoria de los números podemos calcular el resto de las filas sólo multiplicando el resultado de la primera sumatoria por el número de iteración. Vamos a implementar esta nueva idea."
   ]
  },
  {
   "cell_type": "code",
   "execution_count": 3,
   "metadata": {
    "tags": []
   },
   "outputs": [
    {
     "output_type": "stream",
     "name": "stdout",
     "text": "Con n=1\nTomó 2 iteraciones llegar al resultado, tardó 0:00:00.000005 segundos\nEl resultado es: 1\nCon n=10\nTomó 20 iteraciones llegar al resultado, tardó 0:00:00.000005 segundos\nEl resultado es: 3025\nCon n=100\nTomó 200 iteraciones llegar al resultado, tardó 0:00:00.000015 segundos\nEl resultado es: 25502500\nCon n=1000\nTomó 2000 iteraciones llegar al resultado, tardó 0:00:00.000165 segundos\nEl resultado es: 250500250000\nCon n=10000\nTomó 20000 iteraciones llegar al resultado, tardó 0:00:00.003108 segundos\nEl resultado es: 2500500025000000\nCon n=100000\nTomó 200000 iteraciones llegar al resultado, tardó 0:00:00.061045 segundos\nEl resultado es: 25000500002500000000\n"
    }
   ],
   "source": [
    "def sumar_multiplicaciones_mejorado(n):\n",
    "    print(f\"Con n={n}\")\n",
    "    tiempo_inicio = dt.datetime.now()\n",
    "    # Aquí inicia el algoritmo nuevo\n",
    "    iteraciones = 0\n",
    "    n += 1\n",
    "    resultado = 0\n",
    "    suma_rango = 0\n",
    "    # calculamos la sumatoria\n",
    "    for i in range(1, n):\n",
    "        suma_rango += i\n",
    "        iteraciones += 1\n",
    "    # multiplicamos \"n\" veces la sumatoria original y la acumulamos en el resultado\n",
    "    for i in range(1, n):\n",
    "        resultado += suma_rango * i\n",
    "        iteraciones += 1\n",
    "    # Aquí termina el algoritmo nuevo\n",
    "    tiempo_final = dt.datetime.now() - tiempo_inicio\n",
    "    print(f\"Tomó {iteraciones} iteraciones llegar al resultado, tardó {tiempo_final} segundos\")\n",
    "    print(f\"El resultado es: {resultado}\")\n",
    "\n",
    "sumar_multiplicaciones_mejorado(1)\n",
    "sumar_multiplicaciones_mejorado(10)\n",
    "sumar_multiplicaciones_mejorado(100)\n",
    "sumar_multiplicaciones_mejorado(1000)\n",
    "sumar_multiplicaciones_mejorado(10000)\n",
    "sumar_multiplicaciones_mejorado(100000)"
   ]
  },
  {
   "cell_type": "markdown",
   "metadata": {},
   "source": [
    "Como ves, llegamos al exacto mismo resultado, pero el código tardó **mucho** menos en ejecutarse, y la razón está exclusivamente en que redujimos mucho la complejidad del algoritmo. Analicemos el nuevo algoritmo."
   ]
  },
  {
   "cell_type": "code",
   "execution_count": null,
   "metadata": {},
   "outputs": [],
   "source": [
    "def sumar_multiplicaciones_mejorado(n):\n",
    "    n += 1 # O(1)\n",
    "    resultado = 0 # O(1)\n",
    "    suma_rango = 0 # O(1)\n",
    "    for i in range(1, n): # O(n)\n",
    "        suma_rango += i # O(1)\n",
    "    for i in range(1, n): # O(n)\n",
    "        resultado += suma_rango * i #O(1)"
   ]
  },
  {
   "cell_type": "markdown",
   "metadata": {},
   "source": [
    "La gran diferencia está en que en lugar de tener ciclos anidados, tenemos dos ciclos separados, ambos de orden \"n\", y eso quiere decir que nuestro algoritmo tiene una complejidad: \"`O(1 + 1 + 1 + n*1 + n*1)`\", ahora eliminando las operaciones de orden constante: \"`O(n + n)`\", simplificamos a \"`O(2n)`\" que finalmente eliminando la parte constante del orden, termina siendo un algoritmo de \"O(n)\"."
   ]
  }
 ]
}