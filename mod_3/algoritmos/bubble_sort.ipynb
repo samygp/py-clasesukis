{
 "metadata": {
  "language_info": {
   "codemirror_mode": {
    "name": "ipython",
    "version": 3
   },
   "file_extension": ".py",
   "mimetype": "text/x-python",
   "name": "python",
   "nbconvert_exporter": "python",
   "pygments_lexer": "ipython3",
   "version": "3.7.5-final"
  },
  "orig_nbformat": 2,
  "kernelspec": {
   "name": "python37564bitpyenvvenvd4b75a7901ba4a5292e75ea444303d15",
   "display_name": "Python 3.7.5 64-bit ('pyenv': venv)"
  }
 },
 "nbformat": 4,
 "nbformat_minor": 2,
 "cells": [
  {
   "cell_type": "markdown",
   "metadata": {},
   "source": [
    "# Ordenamiento\n",
    "\n",
    "Imagina que tienes una lista de números, y te piden que los ordenes de mayor a menor, o viceversa. Es algo que necesitamos más o menos seguido cuando programamos, porque a la gente, por ejemplo, cuando ve una lista de productos en una tienda, le gusta ordenarlos de menor a mayor precio para encontrar lo más barato primero, o le gusta ordenar los artistas de sus listas de reproducción por orden alfabético.\n",
    "\n",
    "Nosotros como humanos no tenemos gran dificultad en hacer este tipo de cosas, es bastante normal para un humano intuitivamente ordenar objetos por tamaño desde niños, y cuando crecemos y aprendemos a usar letras y números, nos podemos hacer más o menos buenos ordenando las cosas sin pensar exactamente cómo es que lo hacemos. En serio, ¿alguna vez te has detenido a meditar cómo es que tu cerebro paso por paso organiza una lista de números? Lo más probable, como con la mayoría de nosotros, es que solamente busques el número más pequeño en tu lista original, lo borras o lo tachas con una pluma, y lo escribes en la lista nueva. Después buscas otro número por todos lados, a la izquierda o derecha de donde estaba ese número (si tu lista la escribiste horizontalmente) y cuando encuentras quizás \"un par\" de números posibles, comparas cuál es el más pequeño de esos. Y así, repites algo similar hasta que todo está ordenado. Es difícil describir cómo realmente funciona, porque nosotros mismos, humanos, no entendemos realmente cómo nuestro cerebro produce cada instrucción o en qué orden.\n",
    "\n",
    "Ahora, para nosotros, como ya dijimos, es algo que solamente \"sabemos\", pero ¿cómo le dices a una computadora, que sólo procesa una instrucción a la vez, qué significa estar ordenada y cómo mover los números de un lado a otro para que todos estén en orden? Te puedo adelantar que hay muchas maneras de hacerlo, unas más eficientes que otras, y otras más fáciles de entender para nosotras, personas.\n",
    "\n",
    "Lo primero a considerar es ¿qué significa que la lista esté ordenada? Bueno, si queremos que esté ordenada ascendentemente, cada elemento de la lista debe ser menor que el elemento siguiente, desde el primero hasta el penúltimo elemento de la lista (porque el último no tiene un siguiente). Y si es en orden descendente, al contrario, cada elemento debe ser mayor que el siguiente desde el primero hasta el penúltimo.\n",
    "\n",
    "Lo segundo ¿cómo movemos los números de un lado a otro hasta que esté ordenada la lista? Bueno, ahí es donde depende mucho cuál sea tu idea para ordenar las cosas. Cabe recordar que las computadoras comparan solamente de dos en dos los elementos, sean dígitos o letras o lo que sea (al final para la computadora todo son números), entonces no podemos comparar la lista entera, sino que podemos sólo ver si dos elementos son iguales, o si uno es menor o mayor que el otro. Cuando haces las comparaciones entre dos elementos de tu lista, lo siguiente casi intuitivo sería, cuando estamos ordenando ascendentemente, \"mover el menor de los dos elementos a la izquierda y el mayor a la derecha\".\n",
    "\n",
    "Antes de continuar leyendo puedes intentar hacerlo con una baraja o con piezas de papel o con algo que tenga números y tratar de imaginar tu propio algoritmo para ordenar una lista de esas cartas con la condición de que sólo puedes comparar dos cartas a la vez, y mover una de esas dos cartas a la vez."
   ]
  },
  {
   "cell_type": "markdown",
   "metadata": {},
   "source": [
    "## Bubble sort (ordenamiento burbuja)\n",
    "\n",
    "Ahora te presentaré una de esas curiosas \"recetas\" para resolver esta clase de problemas. El principio es bastante parecido a lo que mencionamos en la sección anterior: comparamos dos números a la vez, y si el de la derecha es menor, lo mandamos a la izquierda, y más específicamente, al principio.\n",
    "\n",
    "Esta operación comienza desde los primeros dos números de la lista, y si el número de la derecha es menor que el primero de la lista, los cambiamos de posición (el primero queda en la segunda posición y viceversa). Después comparamos el tercer número con el primero, y si el tercero es menor, cambiamos ambos números de posición. Y así, repetimos esto hasta comparar ese primer elemento de la lista contra el último de la lista. Con esto nos aseguramos de que el primer elemento de la lista sea el menor de todos los números en la lista.\n",
    "\n",
    "Terminando esa primera iteración, repetimos los exactos mismos pasos, pero empezando con el segundo y tercer elemento de la lista (porque el primero ya está ordenado). Comparamos los números, y el menor queda en la segunda posición. Después comparamos el cuarto elemento con el segundo de la lista, y el menor de los dos queda en la segunda posición. Y así consecutivamente hasta repetir lo de la primera iteración, pero ahora asegurándonos de que el segundo elemento de la lista, sea el menor de todos los elementos de la sub-lista desde el segundo hasta el último elemento.\n",
    "\n",
    "Se le conoce ordenamiento burbuja porque es como si hiciéramos \"burbujas\" con cada lista en la que buscamos comparar cada elemento para asegurarnos de elegir el menor (o mayor). Una vez que lo encontramos, esa burbuja \"revienta\" y hay una burbuja más pequeña dentro (la nueva sub-lista desde el segundo hasta el último elemento). Repetimos las mismas operaciones hasta que encontramos el segundo menor elemento, y \"revienta\" esa burbuja, dejándonos con otra burbuja (otra sub-lista) todavía más pequeña. Esto se repite hasta que la burbuja es de tamaño 1 (o sea, sólo queda el último elemento de la lista)."
   ]
  },
  {
   "cell_type": "markdown",
   "metadata": {},
   "source": [
    "### Implementación de Bubble Sort en Python\n",
    "\n",
    "Por ahora le daremos un descanso a las estructuras de datos con apuntadores al siguiente elemento, porque es bastante más complejo hacer ordenamiento con estructuras así, necesitamos algo que maneje índices, porque necesitamos saber que estamos en dos posiciones diferentes del arreglo al mismo tiempo comparando elementos, y podamos fácilmente intercambiar de lugar los valores dentro de la misma lista.\n",
    "\n",
    "Ahora sí, el código:"
   ]
  },
  {
   "cell_type": "code",
   "execution_count": 2,
   "metadata": {
    "tags": []
   },
   "outputs": [
    {
     "output_type": "stream",
     "name": "stdout",
     "text": "Lista original: [2, 1]\nLista ordenada: [1, 2]\n\nLista original: [5, 1, 6, 2]\nLista ordenada: [1, 2, 5, 6]\n\nLista original: [7, 6, 5, 4, 3, 2, 1]\nLista ordenada: [1, 2, 3, 4, 5, 6, 7]\n\n"
    }
   ],
   "source": [
    "def burbuja(lista):\n",
    "    print(f\"Lista original: {lista}\")\n",
    "    longitud = len(lista)\n",
    "    # Recorremos desde el índice 0 hasta el último\n",
    "    for i in range(longitud):\n",
    "        # Recorremos desde el índice siguiente de \"i\" hasta el último\n",
    "        for j in range(i+1, longitud): \n",
    "            # Si el elemento de la izquierda (índice i) es mayor que el de la derecha (índice j)\n",
    "            if lista[i] > lista[j]:\n",
    "                temp = lista[i] # Guardamos temporalmente el primer valor\n",
    "                lista[i] = lista[j] # Guardamos el elemento menor en la posición \"i\"\n",
    "                lista[j] = temp # Colocamos el valor temporal del lado derecho\n",
    "    print(f\"Lista ordenada: {lista}\\n\")\n",
    "\n",
    "burbuja([2,1])\n",
    "burbuja([5,1,6,2])\n",
    "burbuja([7,6,5,4,3,2,1])"
   ]
  },
  {
   "cell_type": "markdown",
   "metadata": {},
   "source": [
    "Si leíste la lección sobre análisis de algoritmos probablemente encontrarás que este algoritmo de ordenamiento no es eficiente en lo más mínimo, pero hace su trabajo. Ahora, en este punto lo importante es que entiendas las bases de cómo ordenar una lista, y que puedas replicar este algoritmo sin tener que revisar tus notas, porque eso te ayudará a entender otros algoritmos de ordenamiento que son más difíciles de entender, o más complicados de implementar en código, pero siguen las mismas bases: comparar, y si un elemento es mayor que el otro, colocarlo antes o después, según el orden en que quieras ordenar."
   ]
  }
 ]
}