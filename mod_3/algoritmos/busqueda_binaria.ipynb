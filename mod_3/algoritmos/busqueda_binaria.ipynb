{
 "metadata": {
  "language_info": {
   "codemirror_mode": {
    "name": "ipython",
    "version": 3
   },
   "file_extension": ".py",
   "mimetype": "text/x-python",
   "name": "python",
   "nbconvert_exporter": "python",
   "pygments_lexer": "ipython3",
   "version": "3.7.5-final"
  },
  "orig_nbformat": 2,
  "kernelspec": {
   "name": "python37564bitpyenvvenvd4b75a7901ba4a5292e75ea444303d15",
   "display_name": "Python 3.7.5 64-bit ('pyenv': venv)"
  }
 },
 "nbformat": 4,
 "nbformat_minor": 2,
 "cells": [
  {
   "cell_type": "markdown",
   "metadata": {},
   "source": [
    "# Búsqueda Binaria\n",
    "\n",
    "Esta lección te resultará bastante fácil si ya sabes cómo ordenar una lista de elementos. Hay más de una manera de buscar elementos en una lista, pero es muchísimo más fácil si ya está ordenada. Por ejemplo, si buscas el elemento más grande de la lista, sólo tienes que retornar el último elemento de la lista ordenada, si buscas el menor, retornas el primero, si buscas el segundo, tercero o cuarto menor elemento, pues sólo retornas el segundo, tercero o cuarto elemento. Super fácil ¿no? Bien, esas son operaciones de orden constante, porque estás buscando un elemento al que te puedes referir con un índice que conoces de antemano.\n",
    "\n",
    "En otro caso un tanto diferente, si quieres buscar un elemento específico, digamos que tienes el arreglo `[1, 5, 9, 11, 16]`, y quieres buscar el número 9, realmente no hay manera de saber *a priori* que es el elemento que justo está en medio. Una forma de buscarlo sería más o menos evidente: buscas uno por uno desde el principio de la lista hasta que encuentres un número que sea igual a `9`. Y en este caso te tomaría 3 iteraciones encontrarlo. O, por ejemplo, puedes tener un arreglo `[1,2,3,4,5,6,7,8,9,10]`, en ese caso te tomaría 9 iteraciones buscarlo. Claro, podrías buscar desde el final y tomaría menos iteraciones, pero tampoco sabes *a priori* si no hay elementos repetidos. En el arreglo `[1,1,1,1,1,1,9,10,10,10,10,10,10]` te tomaría el mismo número de iteraciones si lo buscas desde el principio que si lo buscas desde el final hacia atrás. Y digamo, no es tan malo ni tan lento, después de todo, un algoritmo que itera una vez de principio a fin, es de orden \"O(n)\", entonces te tomaría, máximo, en el peor caso, \"n\" iteraciones encontrar un elemento. Pero de nuevo, eso significa que si tu elemento es el penúltimo o último, en una lista de 10,000 números, te tomaría prácticamente 10,000 iteraciones, o si es un número que está en el medio te tomaría cerca de 5,000 iteraciones.\n",
    "\n",
    "## Algoritmo de búsqueda binaria\n",
    "\n",
    "Pero, ¿y si te dijera que hay una forma mucho más rápida de buscar números si el arreglo ya está ordenado? ¿Que hay una manera de que un arreglo de más de 1 millón de elementos te tome máximo 20 iteraciones llegar a cualquier número? Pues sí, la hay, y lo mejor; el algoritmo es super simple, hermoso, elegante.\n",
    "\n",
    "El principio que sigue es muy sencillo:\n",
    "- Buscamos desde la mitad del arreglo, y al elemento que contiene le llamaremos \"pivote\"\n",
    "  - Si el pivote ES el que estamos buscando, terminamos\n",
    "  - Si el elemento que buscamos es menor que el pivote, descartamos todo el lado derecho del arreglo\n",
    "  - Si el elemento que encontramos es mayor que el pivote, descartamos todo el lado izquierdo del arreglo\n",
    "- Si no hemos encontrado el elemento, usamos la nueva mitad que seleccionamos en el paso anterior y repetimos desde el principio\n"
   ]
  },
  {
   "cell_type": "markdown",
   "metadata": {},
   "source": [
    "Eso es todo. Sí, en serio, eso es todo lo que hay que hacer, por lo menos \"en papel\". Ahora te explicaré en más detalle por qué esto es mucho más rápido en casi todos los casos que buscar secuencialmente.\n",
    "\n",
    "Considera el siguiente arreglo: `[2, 4, 6, 8, 10, 12, 14, 16, 18, 20, 22, 24, 26, 28, 30]`\n",
    "\n",
    "Tiene todos los números pares desde el 2 hasta el 30, y contiene 15 elementos. Ahora, si buscamos el número 16, empezamos por calcular el índice del pivote, redondeando hacia abajo el resultado, en caso de que el número de elementos (la longitud del arreglo) sea impar. Y comparamos el número que buscamos contra el pivote.\n",
    "\n",
    "### Ejemplos\n",
    "\n",
    "```\n",
    "indice_pivote = 15 // 2 -> 7\n",
    "\n",
    "# Buscamos el elemento en el índice del pivote (recuerda que los índices empiezan en 0)\n",
    "arreglo[7] -> 16\n",
    "\n",
    "```\n",
    "\n",
    "Y así, en una sola iteración, encontramos que nuestro elemento existe. Pero busquemos algo que normalmente sería el peor caso para un algoritmo de estos: uno que está en las orillas. "
   ]
  },
  {
   "cell_type": "markdown",
   "metadata": {},
   "source": [
    "Busquemos el número 30.\n",
    "\n",
    "```\n",
    "### Iteracion 1 ###\n",
    "\n",
    "indice_pivote = 15 // 2 -> 7\n",
    "# Buscamos el elemento en el índice del pivote (recuerda que los índices empiezan en 0)\n",
    "arreglo[7] -> 16\n",
    "\n",
    "# 30 es mayor que que el pivote (16), entonces buscaremos ahora en la mitad que va desde el pivote hasta el final.\n",
    "\n",
    "### Iteracion 2 ###\n",
    "\n",
    "# Nuestro nuevo arreglo es entonces: \n",
    "\n",
    " (0) (1) (2) (3) (4) (5) (6) <- Nuevos índices\n",
    "[18, 20, 22, 24, 26, 28, 30] \n",
    "\n",
    "# El nuevo arreglo tiene 7 elementos\n",
    "# Calculamos un nuevo pivote:\n",
    "indice_pivote = 7 // 2 -> 3\n",
    "# Buscamos el elemento en el índice del pivote\n",
    "arreglo[3] -> 24\n",
    "\n",
    "# 30 sigue siendo mayor que el nuevo pivote (24), entonces volvemos a buscar en la mitad derecha\n",
    "\n",
    "### Iteracion 3 ###\n",
    "\n",
    " (0) (1) (2)\n",
    "[26, 28, 30]\n",
    "\n",
    "# El nuevo arreglo tiene 7 elementos\n",
    "# Calculamos un nuevo pivote:\n",
    "indice_pivote = 3 // 2 -> 1\n",
    "# Buscamos el elemento en el índice del pivote\n",
    "arreglo[1] -> 28\n",
    "\n",
    "# 30 sigue siendo mayor que el nuevo pivote (24), entonces volvemos a buscar en la mitad derecha\n",
    "\n",
    "### Iteracion 4 ###\n",
    " (0)\n",
    "[30]\n",
    "\n",
    "# El nuevo arreglo tiene 7 elementos\n",
    "# Calculamos un nuevo pivote:\n",
    "indice_pivote = 1 // 2 -> 0\n",
    "# Buscamos el elemento en el índice del pivote\n",
    "arreglo[0] -> 30\n",
    "\n",
    "# Encontramos nuestro elemento (30)\n",
    "```\n",
    "\n",
    "Y así, nuestro peor caso son 4 iteraciones."
   ]
  },
  {
   "cell_type": "markdown",
   "metadata": {},
   "source": [
    "### Complejidad\n",
    "\n",
    "Por si te interesa saber la complejidad, la complejidad del algoritmo de búsqueda binaria es de \"O(log<sub>2</sub>(n))\", que significa que un número (normalmente 2), elevado a una determinada potencia, te daría como resultado \"n\". Esto es casi el opuesto en complejidad de los algoritmos con compejidad cuadrática o exponencial, porque este, en lugar de elevarse a una potencia, implica que el número de la potencia, en sí mismo, es el máximo número de iteraciones a realizar. En este caso, implica que `2` elevado a una determinada potencia equivale a nuestro `n`, o sea que **esa potencia** que encuentra la expresión de logaritmo base 2 (log<sub>2</sub>) siempre será mucho menor que `n`.\n",
    "\n",
    "Por ejemplo:\n",
    "- log<sub>2</sub>(8) = 3\n",
    "- log<sub>2</sub>(256) = 8\n",
    "- log<sub>2</sub>(1024) = 10\n",
    "- log<sub>2</sub>(1048576) = 20\n",
    "\n",
    "Eso nos dice que para un arreglo con 8 elementos, nos tomará **máximo** 3 iteraciones encontrar cualquier elemento, y para una lista con **1048576 elementos** nos tomará **máximo** 20 iteraciones llegar a cualquier número.\n",
    "\n",
    "Entonces, en nuestro pequeño caso, log<sub>2</sub>(15) = 3.9069, que se redondea a 4, como en el último ejemplo, que nos tomó `4` iteraciones llegar al elemento que representaría el peor caso para este algoritmo (el último elemento, o primer elemento de un arreglo). "
   ]
  },
  {
   "cell_type": "markdown",
   "metadata": {},
   "source": [
    "## Implementación recursiva en Python\n",
    "\n",
    "La implementación del código puede ser de dos maneras, iterativa o recursiva. Como encontrarás a menudo, las soluciones recursivas suelen ser más fáciles de implementar que las soluciones iterativas, pero al mismo tiempo, las soluciones recursivas pueden llegar a hacer demasiadas llamadas recursivas (como vimos en la secuencia de Fibonacci) y llega un momento en que no puede alojar más llamadas recursivas y arroja un error. Ahora, lo bueno es que eso sólo sucede cuando la entrada es prácticamente gigantesca, pero para nuestro caso, y para fines didácticos, podemos utilizarla sin mayor problema. De hecho la mayor parte del tiempo, en aplicaciones no-enormes, cualquiera de las dos funcionará bastante bien, mientras el resultado sea correcto; y para fines de este curso, te mostraré ambos métodos."
   ]
  },
  {
   "cell_type": "code",
   "execution_count": 28,
   "metadata": {
    "tags": []
   },
   "outputs": [],
   "source": [
    "# Recibimos como parámetros la lista de números (\"lista\")\n",
    "# y el número que estamos buscando (\"n\")\n",
    "def busqueda_binaria_recursiva(lista, n):\n",
    "    longitud = len(lista)\n",
    "    # Caso base: si llegamos a una lista vacía, retornamos False\n",
    "    if longitud == 0:\n",
    "        return False\n",
    "    # Caso base: si la longitud es 1 y no es el elemento que buscamos\n",
    "    elif longitud == 1 and lista[0] != n:\n",
    "        return False\n",
    "    # Calculamos el índice del pivote redondeando hacia abajo\n",
    "    # la división de la longitud / 2 (en caso de que el resultado contenga .5)\n",
    "    i_pivote = longitud // 2\n",
    "    elem_pivote = lista[i_pivote]\n",
    "    # Si encontramos el elemento retornamos True\n",
    "    if elem_pivote == n:\n",
    "        return True\n",
    "    # Si el que buscamos es menor que el pivote\n",
    "    elif n < elem_pivote:\n",
    "        # Repetimos la búsqueda en la mitad izquierda del arreglo\n",
    "        return busqueda_binaria_recursiva(lista[0:i_pivote], n)\n",
    "    else:\n",
    "        # Si no, repetimos la búsqueda en la mitad derecha del arreglo\n",
    "        return busqueda_binaria_recursiva(lista[i_pivote + 1:longitud], n)"
   ]
  },
  {
   "cell_type": "code",
   "execution_count": 29,
   "metadata": {
    "tags": []
   },
   "outputs": [
    {
     "output_type": "stream",
     "name": "stdout",
     "text": "El arreglo_par contiene sólo elementos pares, y tiene una longitud par 10\nEl arreglo_impar contiene sólo elementos impares, y tiene una longitud impar 9\n"
    }
   ],
   "source": [
    "arreglo_par = [2, 4, 6, 8, 10, 12, 14, 16, 18, 20]\n",
    "arreglo_impar = [1, 3, 5, 7, 9, 11, 13, 15, 17]\n",
    "print(f\"El arreglo_par contiene sólo elementos pares, y tiene una longitud par {len(arreglo_par)}\")\n",
    "print(f\"El arreglo_impar contiene sólo elementos impares, y tiene una longitud impar {len(arreglo_impar)}\")"
   ]
  },
  {
   "cell_type": "code",
   "execution_count": 30,
   "metadata": {
    "tags": []
   },
   "outputs": [
    {
     "output_type": "stream",
     "name": "stdout",
     "text": "Buscar el numero 6 en arreglo par: True\nBuscar el numero 14 en arreglo par: True\nBuscar el numero 13 en arreglo par: False\n"
    }
   ],
   "source": [
    "print(\"Buscar el numero 6 en arreglo par:\", busqueda_binaria_recursiva(arreglo_par, 6))\n",
    "print(\"Buscar el numero 14 en arreglo par:\", busqueda_binaria_recursiva(arreglo_par, 14))\n",
    "print(\"Buscar el numero 13 en arreglo par:\", busqueda_binaria_recursiva(arreglo_par, 13))"
   ]
  },
  {
   "cell_type": "code",
   "execution_count": 31,
   "metadata": {
    "tags": []
   },
   "outputs": [
    {
     "output_type": "stream",
     "name": "stdout",
     "text": "Buscar el numero 7 en arreglo par: True\nBuscar el numero 17 en arreglo par: True\nBuscar el numero 12 en arreglo par: False\n"
    }
   ],
   "source": [
    "print(\"Buscar el numero 7 en arreglo par:\", busqueda_binaria_recursiva(arreglo_impar, 7))\n",
    "print(\"Buscar el numero 17 en arreglo par:\", busqueda_binaria_recursiva(arreglo_impar, 17))\n",
    "print(\"Buscar el numero 12 en arreglo par:\", busqueda_binaria_recursiva(arreglo_impar, 12))"
   ]
  },
  {
   "cell_type": "markdown",
   "metadata": {},
   "source": [
    "### Implementación iterativa en Python\n",
    "\n",
    "Repito, no es tan intuitivo como la recursiva, pero en casos donde el arreglo es gigantesco (y para otros algoritmos que no son tan simples como búsqueda binaria), es frecuentemente mucho más eficiente en tiempo de ejecución cuando no se hacen llamadas recursivas.\n",
    "\n",
    "En este caso, para sustituir las llamadas recursivas en sub-arreglos, lo que haremos será llevar el control de los índices de donde termina e inicia cada parte de la sub-lista, y recorriendo uno de los índices por mitad cada iteración."
   ]
  },
  {
   "cell_type": "code",
   "execution_count": 32,
   "metadata": {},
   "outputs": [],
   "source": [
    "def busqueda_binaria_iterativa(lista, n):\n",
    "    i=0\n",
    "    j=len(lista)\n",
    "    encontrado = False\n",
    "    while not encontrado and i <= j:\n",
    "        # Calculamos el pivote como la \"longitud\" que hay\n",
    "        # entre nuestros extremos dividida entre 2\n",
    "        # Y se lo sumamos a partir de donde empieza nuestra sub-lista (índice i)\n",
    "        indice_pivote = i + ((j-i) // 2)\n",
    "        elem_pivote = lista[indice_pivote]\n",
    "        if elem_pivote == n:\n",
    "            encontrado = True\n",
    "        # Si el elemento que buscamos es menor que el pivote \n",
    "        # Recorremos el índice 'j' hacia la izquierda del pivote\n",
    "        elif n < elem_pivote:\n",
    "            j = indice_pivote - 1\n",
    "        # Si el elemento que buscamos es mayor que el pivote \n",
    "        # Recorremos el índice 'i' hacia la derecha del pivote\n",
    "        else:\n",
    "            i = indice_pivote + 1\n",
    "    return encontrado"
   ]
  },
  {
   "cell_type": "markdown",
   "metadata": {},
   "source": [
    "Y ahora usaremos los mismos ejemplos anteriores con nuestra versión iterativa del arreglo."
   ]
  },
  {
   "cell_type": "code",
   "execution_count": 33,
   "metadata": {
    "tags": []
   },
   "outputs": [
    {
     "output_type": "stream",
     "name": "stdout",
     "text": "El arreglo_par contiene sólo elementos pares, y tiene una longitud par 10\nEl arreglo_impar contiene sólo elementos impares, y tiene una longitud impar 9\n"
    }
   ],
   "source": [
    "arreglo_par = [2, 4, 6, 8, 10, 12, 14, 16, 18, 20]\n",
    "arreglo_impar = [1, 3, 5, 7, 9, 11, 13, 15, 17]\n",
    "print(f\"El arreglo_par contiene sólo elementos pares, y tiene una longitud par {len(arreglo_par)}\")\n",
    "print(f\"El arreglo_impar contiene sólo elementos impares, y tiene una longitud impar {len(arreglo_impar)}\")"
   ]
  },
  {
   "cell_type": "code",
   "execution_count": 34,
   "metadata": {
    "tags": []
   },
   "outputs": [
    {
     "output_type": "stream",
     "name": "stdout",
     "text": "Buscar el numero 6 en arreglo par: True\nBuscar el numero 14 en arreglo par: True\nBuscar el numero 13 en arreglo par: False\n"
    }
   ],
   "source": [
    "print(\"Buscar el numero 6 en arreglo par:\", busqueda_binaria_iterativa(arreglo_par, 6))\n",
    "print(\"Buscar el numero 14 en arreglo par:\", busqueda_binaria_iterativa(arreglo_par, 14))\n",
    "print(\"Buscar el numero 13 en arreglo par:\", busqueda_binaria_iterativa(arreglo_par, 13))"
   ]
  },
  {
   "cell_type": "code",
   "execution_count": 35,
   "metadata": {
    "tags": []
   },
   "outputs": [
    {
     "output_type": "stream",
     "name": "stdout",
     "text": "Buscar el numero 7 en arreglo par: True\nBuscar el numero 17 en arreglo par: True\nBuscar el numero 12 en arreglo par: False\n"
    }
   ],
   "source": [
    "print(\"Buscar el numero 7 en arreglo par:\", busqueda_binaria_iterativa(arreglo_impar, 7))\n",
    "print(\"Buscar el numero 17 en arreglo par:\", busqueda_binaria_iterativa(arreglo_impar, 17))\n",
    "print(\"Buscar el numero 12 en arreglo par:\", busqueda_binaria_iterativa(arreglo_impar, 12))"
   ]
  }
 ]
}