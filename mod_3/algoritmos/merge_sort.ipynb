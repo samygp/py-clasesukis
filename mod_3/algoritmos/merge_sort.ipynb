{
 "metadata": {
  "language_info": {
   "codemirror_mode": {
    "name": "ipython",
    "version": 3
   },
   "file_extension": ".py",
   "mimetype": "text/x-python",
   "name": "python",
   "nbconvert_exporter": "python",
   "pygments_lexer": "ipython3",
   "version": "3.7.5-final"
  },
  "orig_nbformat": 2,
  "kernelspec": {
   "name": "python37564bitpyenvvenvd4b75a7901ba4a5292e75ea444303d15",
   "display_name": "Python 3.7.5 64-bit ('pyenv': venv)"
  }
 },
 "nbformat": 4,
 "nbformat_minor": 2,
 "cells": [
  {
   "cell_type": "markdown",
   "metadata": {},
   "source": [
    "# Merge Sort\n",
    "\n",
    "Debo confesar, esta lección me gusta mucho, porque contiene mi algoritmo de ordenamiento favorito (sí, habemos los que tienen tal cosa como un algoritmo de ordenamiento favorito). Es mi favorito principalmente por tres razones: es muy sencillo de entender, es relativamente sencillo de implementar y es bastante eficiente en tiempo de ejecución (Complejidad: O(n * log<sub>2</sub>(n))).\n",
    "\n",
    "La idea central se basa en algo muy similar a la búsqueda binaria: partir el arreglo en listas más pequeñas, por mitad cada vez, hasta que llegamos a listas de tamaño 1. Una vez que tenemos estas listas de tamaño 1, repetimos el procedimiento, pero al revés, en lugar de partir a la mitad, unimos dos mitades, pero ordenando el resultado comparando ambas listas, y lo maravilloso de todo esto es que cada conjunto de sub-listas **ya está ordenado** entonces sólo hay que recorrer de izquierda a derecha ambas listas al mismo tiempo, comparando los números para irlos colocando en su lugar.\n",
    "\n",
    "Será más fácil de explicar con un ejemplo:"
   ]
  },
  {
   "cell_type": "markdown",
   "metadata": {},
   "source": [
    "```\n",
    "Arreglo original: [9, 3, 6, 2, 7, 1, 8, 5]\n",
    "Longitud: 8 elementos\n",
    "\n",
    "# Primera partición\n",
    "# partimos los 8 elementos por mitad en 2 arreglos\n",
    "[9, 3, 6, 2]-[7, 1, 8, 5]\n",
    "# Los arreglos siguen teniendo más de 1 elemento\n",
    "\n",
    "# Segunda partición\n",
    "# partimos los 4 elementos de cada arreglo en 2 arreglos por cada uno, respectivamente\n",
    "[9, 3]-[6, 2] [7, 1]-[8, 5]\n",
    "# Los arreglos siguen teniendo más de 1 elemento\n",
    "\n",
    "# Tercera partición\n",
    "# partimos cada arreglo en dos nuevamente\n",
    "[9]-[3] [6]-[2] [7]-[1] [8]-[5]\n",
    "```"
   ]
  },
  {
   "cell_type": "markdown",
   "metadata": {},
   "source": [
    "Una vez que tenemos todas las particiones individuales de tamaño 1, continuamos con la unificación/combinación (merge, en inglés) de cada par \"vecino\" de arreglos.\n",
    "\n",
    "```\n",
    "# Ahora tenemos 8 arreglos de 1 número cada uno, y vamos a hacer la \"unificación\" (merge) de cada par de arreglos\n",
    "# Los arreglos que se comparan entre sí estan unidos por un guión '-'\n",
    "\n",
    "# Unimos ordenando los arreglos [9] y [3] en un nuevo arreglo\n",
    "[9]-[3] -> 3 es menor que 9\n",
    "[3]\n",
    "\n",
    "[9]-[] -> el segundo arreglo está vacío, entonces el 9 es el único elemento que queda por agregar al final del nuevo arreglo.\n",
    "[3, 9]\n",
    "\n",
    "[]-[] -> Los dos sub-arreglos están vacíos y ahora el nuevo arreglo está ordenado\n",
    "[3, 9]\n",
    "\n",
    "# Repetimos la operación para los demás pares de arreglos de tamaño 1, y nos quedan los siguientes sub-arreglos ordenados de tamaño 2.\n",
    "[6]-[2] -> [2, 6]\n",
    "[7]-[1] -> [1, 7]\n",
    "[8]-[5] -> [5, 8]\n",
    "\n",
    "# Y ahora tenemos la nueva lista de sub-arreglos terminado el primer \"merge\".\n",
    "[3, 9]-[2, 6] [1, 7]-[5, 8]\n",
    "```"
   ]
  },
  {
   "cell_type": "markdown",
   "metadata": {},
   "source": [
    "Lo que sigue es repetir la operación de \"merge\" con los nuevos sub-arreglos vecinos, recorriendo ambos al mismo tiempo de izquierda a derecha.\n",
    "\n",
    "```\n",
    "# Empezamos ahora a comparar los nuevos sub-arreglos [3, 9] y [2, 6]\n",
    "# Mantendremos dos índices separados para recorrerlos simultaneamente\n",
    "# Ambos índices empezarán en el primer elemento de cada arreglo\n",
    "[i]      [j]\n",
    "[3, 9] - [2, 6]\n",
    "[] <- Arreglo nuevo\n",
    "\n",
    "# El elemento en el índice [j] (2) es menor que el elemento en [i] (3), entonces lo empujamos al nuevo arreglo, y desplazamos [j]\n",
    "[i]         [j]\n",
    "[3, 9] - [2, 6]\n",
    "[2] <- Arreglo nuevo\n",
    "\n",
    "# El elemento en el índice [i] (3) es menor que el elemento en [j] (6), entonces empujamos el elemento en [i] al nuevo arreglo, y desplazamos [i]\n",
    "   [i]      [j]\n",
    "[3, 9] - [2, 6]\n",
    "[2, 3] <- Arreglo nuevo\n",
    "\n",
    "# El elemento en [j] (6) es ahora menor que el elemento en [i] (9), entonces empujamos el elemento en [j] y desplazamos [j]\n",
    "   [i]          [j]\n",
    "[3, 9] - [2, 6]\n",
    "[2, 3, 6] <- Arreglo nuevo\n",
    "\n",
    "# Como ya no quedan elementos por recorrer en el segundo arreglo que recorría [j], empujamos todos los elementos restantes del arreglo [i]\n",
    "      [i]      [j]\n",
    "[3, 9] - [2, 6]\n",
    "[2, 3, 6, 9] <- Arreglo nuevo\n",
    "```\n",
    "\n",
    "Y ahora que tenemos un nuevo arreglo ordenado, repetimos merge en los siguientes dos arreglos de tamaño 2 que nos quedan.\n",
    "```\n",
    "[1, 7]-[5, 8] -> [1, 5, 7, 8]\n",
    "\n",
    "# Y nos quedamos ahora con dos arreglos ordenados de tamaño 4\n",
    "[2, 3, 6, 9] - [1, 5, 7, 8]\n",
    "```"
   ]
  },
  {
   "cell_type": "markdown",
   "metadata": {},
   "source": [
    "Finalmente hacemos el último paso de merge recorriendo los nuevos arreglos de tamaño 4\n",
    "\n",
    "```\n",
    "# [j] es menor que [i]\n",
    "[i]            [j]\n",
    "[2, 3, 6, 9] - [1, 5, 7, 8]\n",
    "[1] <- Arreglo ordenado\n",
    "\n",
    "# [i] es menor que [j]\n",
    "[i]               [j]\n",
    "[2, 3, 6, 9] - [1, 5, 7, 8]\n",
    "[1, 2] <- Arreglo ordenado\n",
    "\n",
    "# [i] es menor que [j]\n",
    "   [i]            [j]\n",
    "[2, 3, 6, 9] - [1, 5, 7, 8]\n",
    "[1, 2, 3] <- Arreglo ordenado\n",
    "\n",
    "# [j] es menor que [i]\n",
    "      [i]         [j]\n",
    "[2, 3, 6, 9] - [1, 5, 7, 8]\n",
    "[1, 2, 3, 5] <- Arreglo ordenado\n",
    "\n",
    "# [i] es menor que [j]\n",
    "      [i]            [j]\n",
    "[2, 3, 6, 9] - [1, 5, 7, 8]\n",
    "[1, 2, 3, 5, 6] <- Arreglo ordenado\n",
    "\n",
    "# [j] es menor que [i]\n",
    "         [i]         [j]\n",
    "[2, 3, 6, 9] - [1, 5, 7, 8]\n",
    "[1, 2, 3, 5, 6, 7] <- Arreglo ordenado\n",
    "\n",
    "# [j] es menor que [i]\n",
    "         [i]            [j]\n",
    "[2, 3, 6, 9] - [1, 5, 7, 8]\n",
    "[1, 2, 3, 5, 6, 7, 8] <- Arreglo ordenado\n",
    "\n",
    "# [j] ya no tiene más elementos, completamos con el resto de los elementos en [i]\n",
    "         [i]               [j]\n",
    "[2, 3, 6, 9] - [1, 5, 7, 8]\n",
    "[1, 2, 3, 5, 6, 7, 8, 9] <- Arreglo ordenado\n",
    "```"
   ]
  },
  {
   "cell_type": "markdown",
   "metadata": {},
   "source": [
    "## Implementación en Python\n",
    "\n",
    "Ahora sí podemos irnos directo al código que, como imaginarás, es fácil de implementar con recursión."
   ]
  },
  {
   "cell_type": "code",
   "execution_count": 9,
   "metadata": {},
   "outputs": [],
   "source": [
    "def merge(lista_a, lista_b):\n",
    "    resultado = []\n",
    "    # En caso que \"lista_a\" no sea de tamaño 1, hacemos la partición de la lista\n",
    "    # y ordenamos sus 2 mitades recursivamente\n",
    "    part_a = lista_a\n",
    "    if len(lista_a) > 1:\n",
    "        mitad_a = len(lista_a) // 2\n",
    "        part_a = merge(lista_a[:mitad_a], lista_a[mitad_a:])\n",
    "    # En caso que \"lista_b\" no sea de tamaño 1, hacemos la partición de la lista\n",
    "    # y ordenamos sus 2 mitades recursivamente\n",
    "    part_b = lista_b\n",
    "    if len(lista_b) > 1:\n",
    "        mitad_b = len(lista_b) // 2\n",
    "        part_b = merge(lista_b[:mitad_b], lista_b[mitad_b:])\n",
    "    i = 0\n",
    "    j = 0\n",
    "    print(f\"Particiones: {part_a} - {part_b}\")\n",
    "    # Iteramos ambas listas hasta que lleguemos al final de una de ellas\n",
    "    while i < len(part_a) and j < len(part_b):\n",
    "        if part_a[i] < part_b[j]:\n",
    "            resultado.append(part_a[i])\n",
    "            i += 1\n",
    "        else:\n",
    "            resultado.append(part_b[j])\n",
    "            j += 1\n",
    "    # Si la lista que llegó al final fue la del índice [j]\n",
    "    # agregamos todos los elementos restantes de la lista [i]\n",
    "    while i < len(part_a):\n",
    "        resultado.append(part_a[i])\n",
    "        i += 1\n",
    "    # Si la lista que llegó al final fue la del índice [j]\n",
    "    # agregamos todos los elementos restantes de la lista [i]\n",
    "    while j < len(part_b):\n",
    "        resultado.append(part_b[j])\n",
    "        j += 1\n",
    "    print(f\"Nueva sub-lista ordenada: {resultado}\")\n",
    "    return resultado\n",
    "\n",
    "def merge_sort(lista):\n",
    "    mitad = len(lista) // 2\n",
    "    return merge(lista[:mitad], lista[mitad:])"
   ]
  },
  {
   "cell_type": "code",
   "execution_count": 10,
   "metadata": {
    "tags": []
   },
   "outputs": [
    {
     "output_type": "stream",
     "name": "stdout",
     "text": "Particiones: [9] - [3]\nNueva sub-lista ordenada: [3, 9]\nParticiones: [6] - [2]\nNueva sub-lista ordenada: [2, 6]\nParticiones: [3, 9] - [2, 6]\nNueva sub-lista ordenada: [2, 3, 6, 9]\nParticiones: [7] - [1]\nNueva sub-lista ordenada: [1, 7]\nParticiones: [8] - [5]\nNueva sub-lista ordenada: [5, 8]\nParticiones: [1, 7] - [5, 8]\nNueva sub-lista ordenada: [1, 5, 7, 8]\nParticiones: [2, 3, 6, 9] - [1, 5, 7, 8]\nNueva sub-lista ordenada: [1, 2, 3, 5, 6, 7, 8, 9]\n"
    },
    {
     "output_type": "execute_result",
     "data": {
      "text/plain": "[1, 2, 3, 5, 6, 7, 8, 9]"
     },
     "metadata": {},
     "execution_count": 10
    }
   ],
   "source": [
    "merge_sort([9, 3, 6, 2, 7, 1, 8, 5])"
   ]
  },
  {
   "cell_type": "code",
   "execution_count": 12,
   "metadata": {
    "tags": []
   },
   "outputs": [
    {
     "output_type": "stream",
     "name": "stdout",
     "text": "Particiones: [5] - [3]\nNueva sub-lista ordenada: [3, 5]\nParticiones: [9] - [3, 5]\nNueva sub-lista ordenada: [3, 5, 9]\nParticiones: [4] - [8]\nNueva sub-lista ordenada: [4, 8]\nParticiones: [7] - [6]\nNueva sub-lista ordenada: [6, 7]\nParticiones: [4, 8] - [6, 7]\nNueva sub-lista ordenada: [4, 6, 7, 8]\nParticiones: [3, 5, 9] - [4, 6, 7, 8]\nNueva sub-lista ordenada: [3, 4, 5, 6, 7, 8, 9]\nParticiones: [22] - [75]\nNueva sub-lista ordenada: [22, 75]\nParticiones: [15] - [22, 75]\nNueva sub-lista ordenada: [15, 22, 75]\nParticiones: [34] - [56]\nNueva sub-lista ordenada: [34, 56]\nParticiones: [321] - [444]\nNueva sub-lista ordenada: [321, 444]\nParticiones: [34, 56] - [321, 444]\nNueva sub-lista ordenada: [34, 56, 321, 444]\nParticiones: [15, 22, 75] - [34, 56, 321, 444]\nNueva sub-lista ordenada: [15, 22, 34, 56, 75, 321, 444]\nParticiones: [3, 4, 5, 6, 7, 8, 9] - [15, 22, 34, 56, 75, 321, 444]\nNueva sub-lista ordenada: [3, 4, 5, 6, 7, 8, 9, 15, 22, 34, 56, 75, 321, 444]\n"
    },
    {
     "output_type": "execute_result",
     "data": {
      "text/plain": "[3, 4, 5, 6, 7, 8, 9, 15, 22, 34, 56, 75, 321, 444]"
     },
     "metadata": {},
     "execution_count": 12
    }
   ],
   "source": [
    "merge_sort([9,5,3,4,8,7,6,15,22,75,34,56,321,444])"
   ]
  }
 ]
}