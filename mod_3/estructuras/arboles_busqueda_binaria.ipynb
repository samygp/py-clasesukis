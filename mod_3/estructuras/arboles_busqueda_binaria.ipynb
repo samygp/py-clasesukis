{
 "metadata": {
  "language_info": {
   "codemirror_mode": {
    "name": "ipython",
    "version": 3
   },
   "file_extension": ".py",
   "mimetype": "text/x-python",
   "name": "python",
   "nbconvert_exporter": "python",
   "pygments_lexer": "ipython3",
   "version": "3.7.5-final"
  },
  "orig_nbformat": 2,
  "kernelspec": {
   "name": "python37564bitpyenvvenvd4b75a7901ba4a5292e75ea444303d15",
   "display_name": "Python 3.7.5 64-bit ('pyenv': venv)"
  }
 },
 "nbformat": 4,
 "nbformat_minor": 2,
 "cells": [
  {
   "cell_type": "markdown",
   "metadata": {},
   "source": [
    "# Árboles de Búsqueda Binaria\n",
    "\n",
    "Conoces los árboles binarios y sabes recorrerlos; excelente avance. Pero ahora sí ¿para qué sirve usar un árbol binario? Antes de continuar cabe advertir que hay muchos usos para los árboles binarios, según qué tipo de información contengan, y en qué clase de problema se utilizan. Hoy hablaremos del más común de todos: búsqueda binaria.\n",
    "\n",
    "¿Recuerdas ese algoritmo para buscar en un arreglo ordenado en el que partes por mitades el arreglo y vas saltando izquierda o derecha según si el número que buscas es mayor o menor? Bien, ahora imagina que no tuvieras que ordenar tu arreglo cada vez que quieras buscar un número. Los árboles de búsqueda binaria buscan solucionar el problema de ordenar *a posteriori* cuando el arreglo ya tenga quizás muchos elementos. Los árboles de búsqueda binaria buscan insertar elementos en el árbol en la posición correcta de manera que el árbol siga estando ordenado. Y lo mejor; es tan rápido insertar elementos como buscarlos dentro del árbol, que fundamentalmente usa el mismo algoritmo de búsqueda binaria que utilizamos para arreglos y tiene complejidad O(log<sub>2</sub>(n)).\n",
    "\n"
   ]
  },
  {
   "cell_type": "markdown",
   "metadata": {},
   "source": [
    "## Insertar elementos en un árbol binario\n",
    "\n",
    "La parte que hace la mayor diferencia entre usar un árbol y un arreglo es, como dijimos, la forma en que se van agregando elementos a la colección. El algoritmo es el siguiente, comenzando desde el nodo raíz:\n",
    "\n",
    "1. Si el valor a insertar es menor que el del nodo actual\n",
    " - Si no hay nodo izquierdo actual, insertar el nuevo valor como nodo izquierdo\n",
    " - Si hay un nodo izquierdo, visitar el nodo izquierdo y aplicar este mismo algoritmo\n",
    "2. Si el valor a insertar es mayor que el del nodo actual\n",
    " - Si no hay nodo derecho actual, insertar el nuevo valor como nodo derecho\n",
    " - Si hay un nodo derecho, visitar el nodo derecho y aplicar este mismo algoritmo\n",
    "\n"
   ]
  },
  {
   "cell_type": "markdown",
   "metadata": {},
   "source": [
    "## Buscar elementos en un árbol binario\n",
    "\n",
    "Esta es la parte fácil de todo esto. Ya que está construido el árbol binario, cuando buscamos un elemento dentro del árbol, sólo hay que aplicar el siguiente algoritmo:\n",
    "\n",
    "1. Si el elemento es igual que el del nodo actual, retornamos el valor del nodo actual, o True, según se necesite\n",
    "2. Si el elemento es menor que el del nodo actual:\n",
    " - Si hay un nodo izquierdo, visitar el nodo izquierdo y aplicar este mismo algoritmo\n",
    " - Si no hay nodo izquierdo, el elemento no existe en el árbol, y regresamos un valor vacío\n",
    "3. Si el elemento es mayor que el del nodo actual:\n",
    " - Si hay un nodo derecho, visitar el nodo derecho y aplicar este mismo algoritmo\n",
    " - Si no hay nodo derecho, el elemento no existe en el árbol, y regresamos un valor vacío"
   ]
  },
  {
   "cell_type": "markdown",
   "metadata": {},
   "source": [
    "## Eliminar elementos en un árbol binario\n",
    "\n",
    "Igual que con las otras estructuras de datos, hay más de una manera de implementar la eliminación de elementos, pero las diferencias entre una y otra casi siempre son pequeñas. El mecanismo es un tanto parecido a las listas ligadas: debemos buscar el elemento a eliminar, y una vez que lo encontramos, hay que re-estructurar las relaciones entre los nodos involucrados. Ahora, la parte donde no es tan parecido es que si borramos un nodo que, por ejemplo, no es una hoja, y que tiene otros dos nodos hijo, y esos nodos también tienen descendientes, borrar un sólo nodo podría desbalancear el acomodo del árbol. Este algoritmo en lugar de sólo \"parchar\" las referencias entre dos nodos (el padre y un nuevo hijo al eliminar el otro) tiene que actualizar más de una referencia. Es difícil poner en palabras planas por qué, pero el algoritmo por sí mismo es bastante breve de codificar y casi \"se explica a sí mismo\".\n",
    "\n",
    "Lo primero que necesitaremos es un método auxiliar que encuentre el menor valor del sub-arbol derecho (o mayor del sub-arbol izquierdo, pero en este caso optaremos por el menor) para que cuando tengamos que reemplazar un nodo como el del caso que mencionamos anteriormente (con descendientes de ambos lados), sustituyamos el nodo actual con el valor del nodo que sería \"el siguiente mayor\" en el árbol.\n",
    "\n",
    "Algoritmo del método auxiliar:\n",
    "1. Mientras el nodo tenga un nodo izquierdo (menor que el actual):\n",
    "    - El nuevo nodo actual es el nodo izquierdo\n",
    "2. Retornar el valor del mínimo nodo encontrado\n",
    "\n",
    "Algoritmo para eliminar un nodo:\n",
    "\n",
    "1. Si el nodo en el que estamos buscando está vacío (porque buscamos en un nodo \"hijo\" quen no existe), retornamos el valor vacío (None)\n",
    "2. Si el valor que buscamos eliminar es diferente que el del nodo actual\n",
    " - Si es menor que el nodo actual, el nuevo hijo izquierdo del nodo actual, será el resultado de aplicar este algoritmo en el nodo izquierdo\n",
    " - Si es mayor que el nodo actual, el nuevo hijo derecho del nodo actual, será el resultado de aplicar este algoritmo en el nodo derecho\n",
    "3. Si encontramos el valor:\n",
    " - Si el nodo actual sólo tiene un hijo derecho, retornamos el nodo derecho\n",
    " - Si el nodo actual sólo tiene un hijo izquierdo, retornamos el nodo izquierdo\n",
    " - Si tiene ambos descendientes:\n",
    "    - Buscamos el valor del menor nodo del lado derecho.\n",
    "    - Copiamos el valor del menor nodo del lado derecho para que sea el nuevo valor del nodo actual.\n",
    "    - Aplicamos este algoritmo para eliminar el nodo que contiene el menor valor (que acabamos de copiar), partiendo desde el hijo derecho\n",
    "4. Retornamos el nodo actual con referencias izquierda y derecha (y valor, en el caso de los nodos con ambos hijos) actualizado."
   ]
  },
  {
   "cell_type": "markdown",
   "metadata": {},
   "source": [
    "## Implementación en Python de un árbol de búsqueda binaria\n",
    "\n",
    "Lo único que nos queda es crear nuestra clase con los métodos para insertar, buscar y eliminar elementos.\n",
    "\n",
    "Notarás que tenemos dos métodos que hacen referencia a \"buscar\", \"eliminar\" y a \"insertar\", para cada uno respectivamente. El que se llama solamente \"`eliminar`\" o \"`insertar`\" es el que usaremos para iniciar la eliminación o inserción desde la raíz, y revisa el caso base en el que no haya raíz, y para las implementaciones recursivas (cuando sí hay raíz) se utilizarán los métodos con el sufijo \"aux\" (`insertar_aux`, `eliminar_aux`, `buscar_aux`).\n",
    "\n",
    "Adicionalmente también implementaremos el mismo algoritmo de recorrido en-orden del tema anterior para comprobar que nuestro árbol sigue estando ordenado."
   ]
  },
  {
   "cell_type": "code",
   "execution_count": 1,
   "metadata": {},
   "outputs": [],
   "source": [
    "class Nodo:\n",
    "    def __init__(self, val):\n",
    "        self.valor = val\n",
    "        self.izquierda = None\n",
    "        self.derecha = None\n",
    "\n",
    "class Arbol:\n",
    "    def __init__(self):\n",
    "        self.raiz = None\n",
    "    \n",
    "    def menor_valor(self, nodo):\n",
    "        menor = nodo\n",
    "        while menor.izquierda is not None:\n",
    "            menor = menor.izquierda\n",
    "        return menor.valor\n",
    "\n",
    "    def eliminar_aux(self, nodo, val): \n",
    "        # Caso base\n",
    "        if nodo is None:\n",
    "            return None\n",
    "        \n",
    "        if val < nodo.valor: # Si es menor que el nodo actual\n",
    "            nodo.izquierda = self.eliminar_aux(nodo.izquierda, val)\n",
    "        elif val > nodo.valor: # Si es mayor que el nodo actual\n",
    "            nodo.derecha = self.eliminar_aux(nodo.derecha, val)\n",
    "        # Los siguientes casos consideran que el valor que encontramos no es mayor\n",
    "        # ni menor, o sea igual, que el valor en el nodo actual.\n",
    "        # Si el nodo actual tiene sólo un hijo:\n",
    "        elif nodo.izquierda is None or nodo.derecha is None:\n",
    "            # Retornamos el nodo derecho si el izquierdo está vacío o viceversa\n",
    "            return nodo.derecha if nodo.izquierda is None else nodo.izquierda\n",
    "        else: # Si tiene ambos descendientes\n",
    "            nodo.valor = self.menor_valor(nodo.derecha)\n",
    "            # Eliminamos el nodo que originalmente contiene ese menor valor\n",
    "            nodo.derecha = self.eliminar_aux(nodo.derecha , nodo.valor)\n",
    "        return nodo\n",
    "    \n",
    "    def eliminar(self, val):\n",
    "        if self.raiz is None:\n",
    "            return None\n",
    "        self.raiz = self.eliminar_aux(self.raiz, val)\n",
    "    \n",
    "    def insertar_aux(self, nodo, val):\n",
    "        if val < nodo.valor:\n",
    "            if nodo.izquierda is None:\n",
    "                nodo.izquierda = Nodo(val)\n",
    "            else:\n",
    "                self.insertar_aux(nodo.izquierda, val)\n",
    "        else:\n",
    "            if nodo.derecha is None:\n",
    "                nodo.derecha = Nodo(val)\n",
    "            else:\n",
    "                self.insertar_aux(nodo.derecha, val)\n",
    "\n",
    "    def insertar(self, val):\n",
    "        if self.raiz is None:\n",
    "            self.raiz = Nodo(val)\n",
    "            return\n",
    "        self.insertar_aux(self.raiz, val)\n",
    "    \n",
    "    def buscar_aux(self, nodo, val):\n",
    "        if nodo is None:\n",
    "            return False\n",
    "        elif nodo.valor == val:\n",
    "            return True\n",
    "        elif val < nodo.valor:\n",
    "            return self.buscar_aux(nodo.izquierda, val)\n",
    "        return self.buscar_aux(nodo.derecha, val)\n",
    "\n",
    "    def buscar(self, val):\n",
    "        if self.raiz is None:\n",
    "            return False\n",
    "        return self.buscar_aux(self.raiz, val)\n",
    "    \n",
    "def en_orden(nodo):\n",
    "    if nodo.izquierda is not None:\n",
    "        en_orden(nodo.izquierda)\n",
    "    print(nodo.valor)\n",
    "    if nodo.derecha is not None:\n",
    "        en_orden(nodo.derecha)\n",
    "    "
   ]
  },
  {
   "cell_type": "code",
   "execution_count": 2,
   "metadata": {
    "tags": []
   },
   "outputs": [
    {
     "output_type": "stream",
     "name": "stdout",
     "text": "Imprimir en orden con elementos, 4, 2 y 6:\n2\n4\n6\nImprimir en orden con elementos del 1 al 6:\n1\n2\n3\n4\n5\n6\n"
    }
   ],
   "source": [
    "arbolito = Arbol()\n",
    "arbolito.insertar(4)\n",
    "arbolito.insertar(2)\n",
    "arbolito.insertar(6)\n",
    "\n",
    "print(\"Imprimir en orden con elementos, 4, 2 y 6:\")\n",
    "en_orden(arbolito.raiz)\n",
    "\n",
    "arbolito.insertar(1)\n",
    "arbolito.insertar(3)\n",
    "arbolito.insertar(5)\n",
    "\n",
    "print(\"Imprimir en orden con elementos del 1 al 6:\")\n",
    "en_orden(arbolito.raiz)"
   ]
  },
  {
   "cell_type": "code",
   "execution_count": 3,
   "metadata": {
    "tags": []
   },
   "outputs": [
    {
     "output_type": "stream",
     "name": "stdout",
     "text": "Eliminamos el elemento (2), hijo izquierdo de la raiz:\n1\n3\n4\n5\n6\nResultado de buscar el elemento (4): True\nResultado de buscar el elemento (2): False\nEliminamos el nodo raiz (4):\n1\n3\n5\n6\nVolvemos a insertar el elemento 2\n1\n2\n3\n5\n6\n"
    }
   ],
   "source": [
    "print(\"Eliminamos el elemento (2), hijo izquierdo de la raiz:\")\n",
    "arbolito.eliminar(2)\n",
    "en_orden(arbolito.raiz)\n",
    "\n",
    "print(\"Resultado de buscar el elemento (4):\", arbolito.buscar(4))\n",
    "print(\"Resultado de buscar el elemento (2):\", arbolito.buscar(2))\n",
    "\n",
    "print(\"Eliminamos el nodo raiz (4):\")\n",
    "arbolito.eliminar(4)\n",
    "en_orden(arbolito.raiz)\n",
    "\n",
    "print(\"Volvemos a insertar el elemento 2\")\n",
    "arbolito.insertar(2)\n",
    "en_orden(arbolito.raiz)"
   ]
  }
 ]
}