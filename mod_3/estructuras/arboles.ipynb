{
 "metadata": {
  "language_info": {
   "codemirror_mode": {
    "name": "ipython",
    "version": 3
   },
   "file_extension": ".py",
   "mimetype": "text/x-python",
   "name": "python",
   "nbconvert_exporter": "python",
   "pygments_lexer": "ipython3",
   "version": "3.7.5-final"
  },
  "orig_nbformat": 2,
  "kernelspec": {
   "name": "python37564bitpyenvvenvd4b75a7901ba4a5292e75ea444303d15",
   "display_name": "Python 3.7.5 64-bit ('pyenv': venv)"
  }
 },
 "nbformat": 4,
 "nbformat_minor": 2,
 "cells": [
  {
   "cell_type": "markdown",
   "metadata": {},
   "source": [
    "# Árboles Binarios\n",
    "\n",
    "## Un breve paréntesis: grafos\n",
    "\n",
    "Para este punto del contenido, hay algo de lo que ya sabes, pero quizás no sabes que lo sabes: grafos. Es de esas cosas que ya has visto, pero no sabías cómo se les llamaba. Bueno, primero te daré una breve descripción de qué es un grafo, y seguro que recuerdas qué de lo que ya has hecho antes es un grafo:\n",
    "\n",
    "> **Grafo:** Conjunto de nodos unidos por aristas, comunmente representados como flechas o líneas, gráficamente, en el que un nodo puede apuntar a uno o más nodos. Estas aristas pueden ser dirigidas, donde un nodo apunta directamente a otro nodo, o no dirigidas, donde todos los nodos que se conectan por una arista apuntan entre sí, bilateralmente.\n",
    "\n",
    "![no_dirigido](https://upload.wikimedia.org/wikipedia/commons/6/67/Kaari_suuntaamaton_graafiteoria.png) ![dirigido](https://upload.wikimedia.org/wikipedia/commons/3/32/Kaari_suunnattu_graafiteoria.png)\n",
    "\n",
    "¿Te recuerda a algo? Todas las estructuras de datos en las que un nodo apunta a otro, con las que hemos trabajado, son grafos. Más precisamente, son grafos dirigidos unidireccionales; esto significa que todos los nodos apuntan sólo a un otro nodo, y en una sola dirección. Las listas ligadas, las pilas y colas, todas siguen el mismo principio de unidireccionalidad.\n",
    "\n",
    "Pero, como viene implícito en la definición, los grafos vienen en muchas formas y tamaños, y pueden representar muchas cosas distintas, dependiendo de cómo esté compuesto el grafo, y qué tipo de información contengan sus nodos, o qué representen.\n",
    "\n",
    "![grafo](https://upload.wikimedia.org/wikipedia/commons/5/5b/6n-graf.svg)\n",
    "\n",
    "Los grafos se pueden utilizar para muchas cosas distintas, las más notables cuando se trata de programación, casi siempre se relacionan con estructuras jerárquicas, o pueden tener aplicaciones relacionadas con mapas y sus derivados, como encontrar el camino más corto de un nodo a otro, si cada nodo representa una ciudad, y las aristas un camino.\n",
    "\n",
    "En este caso, nos vamos a enfocar en uno que es de los más comunes: árboles."
   ]
  },
  {
   "cell_type": "markdown",
   "metadata": {},
   "source": [
    "## Un tipo de grafo peculiar: Árboles\n",
    "\n",
    "Es un tanto largo explicar la importancia de los árboles y la clase de algoritmos en que se utilizan, pero casi todos están enfocados en ordenar jerárquicamente elementos, comúnmente para entender relaciones entre objetos, o hacer búsquedas rápidas de algún elemento en específico.\n",
    "\n",
    "Un ejemplo sencillo para entender la estructura de un árbol, es un árbol genealógico. Seguro que alguna vez lo has visto; esos dibujos donde están dos pares de abuelos, que tuvieron hijos, que a su vez tuvieron más hijos y así.\n",
    "\n",
    "![arbol_genealogico](https://cdn.pixabay.com/photo/2014/03/25/17/00/family-tree-297812_960_720.png)"
   ]
  },
  {
   "cell_type": "markdown",
   "metadata": {},
   "source": [
    "Bueno, pues con los árboles en programación es algo casi exactamente idéntico, con los detalles que hablamos sobre los grafos: los elementos del árbol son nodos y cada nodo tiene aristas que apuntan a uno o más de sus descendientes, todos los nodos \"hijos\" tiene exclusivamente **un nodo padre**, por lo que ningún nodo \"hermano\" comparte descendientes, o sea, no puede haber dos nodos distintos conectados a un mismo nodo descendiente. Dicho de otra forma, un nodo hijo no puede ser hijo del \"papá\" y del \"tío\" al mismo tiempo.\n",
    "\n",
    "Y dejando de lado esas relaciones familiares que podrían haber sido comunes en la edad media, nos concentraremos en un tipo de árbol específico: los árboles binarios.\n",
    "\n",
    "## Ahora sí, árboles binarios\n",
    "\n",
    "Los árboles binarios tienen una particularidad adicional a las que ya mencionamos de los árboles en general: pueden tener como **máximo** dos nodos descendientes, lo cual significa que cada nodo puede tener como mínimo 0 descendientes y como máximo dos.\n",
    "\n",
    "### Implementación en Python\n",
    "\n",
    "La implementación de un árbol en Python es casi idéntica a las de una lista ligada, sólo que al primer nodo, en lugar de llamarle \"cabeza\" o \"tope\" se le llama \"raíz\" (porque es donde empieza el árbol), y cada nodo, además del valor que contiene, en vez de tener un nodo \"siguiente\" tiene referencias a dos nodos; \"izquierda\" y \"derecha\", ambos inicializados como referencias vacías."
   ]
  },
  {
   "cell_type": "code",
   "execution_count": 1,
   "metadata": {},
   "outputs": [],
   "source": [
    "class Nodo:\n",
    "    def __init__(self, valor):\n",
    "        self.valor = valor\n",
    "        self.izquierda = None\n",
    "        self.derecha = None\n",
    "\n",
    "class Arbol:\n",
    "    def __init__(self, valor_raiz):\n",
    "        self.raiz = Nodo(valor_raiz)\n",
    "\n",
    "arbolito = Arbol(4)\n",
    "arbolito.raiz.izquierda = Nodo(2)\n",
    "arbolito.raiz.derecha = Nodo(6)\n",
    "arbolito.raiz.izquierda.izquierda = Nodo(1)\n",
    "arbolito.raiz.izquierda.derecha = Nodo(3)\n",
    "arbolito.raiz.derecha.izquierda = Nodo(5)"
   ]
  },
  {
   "cell_type": "markdown",
   "metadata": {},
   "source": [
    "Trata de imaginar en forma de grafo el árbol que se inicializó en el bloque de código anterior. Trata de dibujarlo antes de continuar leyendo.\n",
    "\n",
    "Ahora sí, si visualizamos el grafo que representa nuestro árbol, se vería de la siguiente manera\n",
    "\n",
    "```\n",
    "     4\n",
    "   /   \\\n",
    "  2     6\n",
    " / \\   /\n",
    "1   3 5\n",
    "\n",
    "```\n",
    "\n",
    "Este árbol cumple con la definición de un árbol binario:\n",
    "- Nodo 1: tiene dos nodos hijo (2 y 3)\n",
    "- Nodo 2: tiene dos nodos hijo (4 y 5)\n",
    "- Nodo 3: tiene un nodo hijo (6)\n",
    "- Nodos 4, 5 y 6: tienen 0 nodos hijo.\n",
    "\n",
    "Más específicamente, representa un árbol de búsqueda binaria, en el que cada nodo tiene como nodo izquierdo un valor menor a sí mismo, y como nodo derecho un valor mayor a sí mismo, que, como podrás notar, es el caso de este árbol, porque, por ejemplo, el nodo 2 tiene a la izquierda un \"1\" y a la derecha un \"3\", ambos cumplen la condición para que forme parte de un árbol binario. Al mismo tiempo, el nodo \"4\" en la raíz tiene a la izquierda un \"2\" y un nodo \"6\" a la derecha, y finalmente, el nodo \"6\" tiene el nodo \"5\", que es menor a \"6\".\n",
    "\n",
    "Todos los nodos del árbol tienen entre 0 y 2 hijos, ninguno tiene más. Como detalle adicional, a los nodos que están al final del árbol, en la parte más baja, se les llama \"hojas\". Como te darás cuenta, cuando hablamos de árboles en este contexto, los árboles se representan al revés que como normalmente los visualizamos; la raíz está en la parte más alta y las hojas en la parte más baja, pero si quieres verlo como normalmente lo harías, sólo tienes que voltear de cabeza el dibujo de tu árbol."
   ]
  },
  {
   "cell_type": "markdown",
   "metadata": {},
   "source": [
    "## Recorrer un árbol binario\n",
    "\n",
    "Ahora quizás pienses algo parecido que nos pasó cuando empezamos a crear las primeras listas ligadas ¿cómo sé hasta dónde llega mi árbol? ¿Tengo que escribir `arbol.izquierda.izquierda.izquierda...` hasta que encuentre un error? Y la respuesta, igual que entonces es: no. La diferencia con las listas ligadas es que, teniendo dos posibles caminos en cada nodo, nos da más de una manera de recorrer el árbol, los más comunes siendo\n",
    "\n",
    "- Pre-orden\n",
    "- Post-orden\n",
    "- En-orden\n",
    "\n",
    "Los tres recorridos son muy parecidos en su implementación, con ligeras diferencias en el código, pero cambian por completo cómo se visualizan los contenidos de los nodos."
   ]
  },
  {
   "cell_type": "markdown",
   "metadata": {},
   "source": [
    "### Recorrido En-orden\n",
    "\n",
    "El recorrido en-orden de un árbol binario imprime primero el contenido del sub-árbol izquierdo de cada nodo, después el contenido de sí mismo, y finalmente todo el contenido del sub-árbol derecho. Se le llama \"en-orden\" porque es común que los árboles tengan los valores más pequeños del lado izquierdo del árbol, y los valores mayores del lado derecho del árbol. En la siguiente lección profundizaremos en esa premisa, pero por el momento nos enfocaremos en recorrer el árbol.\n",
    "\n",
    "El algoritmo de recorrido en-orden de un árbol es de la siguiente manera:\n",
    "\n",
    "1. Visitar el nodo izquierdo (si no está vacío) y aplicar este algoritmo desde el principio\n",
    "2. Imprimir el contenido del nodo actual\n",
    "3. Visitar el nodo derecho (si no está vacío) y repetir desde el paso 1\n",
    "\n",
    "Para nuestro ejemplo del árbol anterior, el recorido en-orden imprimiría los nodos en esta secuencia:\n",
    "\n",
    "```\n",
    "     4\n",
    "   /   \\\n",
    "  2     6\n",
    " / \\   /\n",
    "1   3 5\n",
    "\n",
    "Recorrido en-orden:\n",
    "1, 2, 3, 4, 5, 6\n",
    "\n",
    "# Visualización paso por paso del algoritmo:\n",
    "\n",
    "-- Inicio --\n",
    "\n",
    "Nodo actual: 4\n",
    "Izquierda: 2\n",
    "Derecha: 6\n",
    "1. Visitar nodo izquierdo\n",
    "\n",
    "  Nodo actual: 2\n",
    "  Izquierda: 1\n",
    "  Derecha: 3\n",
    "  1. Visitar nodo izquierdo\n",
    "\n",
    "    Nodo actual: 1\n",
    "    Izquierda: Vacío\n",
    "    Derecha: Vacío\n",
    "    1. Visitar nodo izquierdo <- No se puede, no hay nodo izquierdo\n",
    "    2. Imprimir contenido: \"1\"\n",
    "    3. Visitar nodo derecho <- No se puede, no hay nodo derecho\n",
    "    # Regresa un nivel arriba en la recursión\n",
    "  \n",
    "  Nodo actual: 2\n",
    "  Izquierda: 1\n",
    "  Derecha: 3\n",
    "  2. Imprimir contenido actual: \"2\"\n",
    "  3. Visitar nodo derecho\n",
    "    \n",
    "    Nodo actual: 3\n",
    "    Izquierda: Vacío\n",
    "    Derecha: Vacío\n",
    "    1. Visitar nodo izquierdo <- No se puede, no hay nodo izquierdo\n",
    "    2. Imprimir contenido: \"3\"\n",
    "    3. Visitar nodo derecho <- No se puede, no hay nodo derecho\n",
    "    # Regresa un nivel arriba en la recursión\n",
    "  \n",
    "  Nodo actual: 2\n",
    "  Izquierda: 1\n",
    "  Derecha: 3\n",
    "  # Regresa un nivel arriba en la recursión\n",
    "\n",
    "Nodo actual: 4\n",
    "Izquierda: 2\n",
    "Derecha: 6\n",
    "2. Imprimir contenido: \"4\"\n",
    "3. Visitar nodo derecho\n",
    "\n",
    "  Nodo actual: 6\n",
    "  Izquierda: 5\n",
    "  Derecha: Vacío\n",
    "  1. Visitar nodo izquierdo\n",
    "\n",
    "    Nodo actual: 5\n",
    "    Izquierda: Vacío\n",
    "    Derecha: Vacío\n",
    "    1. Visitar nodo izquierdo <- No se puede, no hay nodo izquierdo\n",
    "    2. Imprimir contenido: \"5\"\n",
    "    3. Visitar nodo derecho <- No se puede, no hay nodo derecho\n",
    "    # Regresa un nivel arriba en la recursión\n",
    "\n",
    "  Nodo actual: 6\n",
    "  Izquierda: 5\n",
    "  Derecha: Vacío\n",
    "  2. Imprimir contenido: \"6\"\n",
    "  3. Visitar nodo derecho <- No se puede, no hay nodo derecho\n",
    "  # Regresa un nivel arriba en la recursión\n",
    "\n",
    "Nodo actual: 4\n",
    "Izquierda: 2\n",
    "Derecha: 6\n",
    "# Termina recursión\n",
    "\n",
    "-- Fin recorrido --\n",
    "```\n",
    "\n"
   ]
  },
  {
   "cell_type": "markdown",
   "metadata": {},
   "source": [
    "### Recorrido Pre-orden\n",
    "\n",
    "Este recorrido primero muestra el contenido del nodo actual antes de recorrer los sub-árboles izquierdo y derecho. El algoritmo es el siguiente:\n",
    "\n",
    "1. Imprimir el contenido del nodo actual\n",
    "2. Visitar el nodo izquierdo (si existe) y aplicar este algoritmo\n",
    "3. Visitar el nodo derecho (si existe) y aplicar este algoritmo\n",
    "\n",
    "\n",
    "```\n",
    "     4\n",
    "   /   \\\n",
    "  2     6\n",
    " / \\   /\n",
    "1   3 5\n",
    "\n",
    "Recorrido pre-orden:\n",
    "4, 2, 1, 3, 6, 5\n",
    "```\n",
    "\n",
    "### Recorrido Post-orden\n",
    "\n",
    "Quizás lo sepas desde el nombre, este es el opuesto del recorrido Pre-orden, que primero visita ambos nodos hijo antes de imprimir su propio contenido. El algoritmo es el siguiente:\n",
    "\n",
    "1. Visitar el nodo izquierdo (si existe) y aplicar este algoritmo\n",
    "2. Visitar el nodo derecho (si existe) y aplicar este algoritmo\n",
    "3. Imprimir el contenido del nodo actual\n",
    "\n",
    "```\n",
    "     4\n",
    "   /   \\\n",
    "  2     6\n",
    " / \\   /\n",
    "1   3 5\n",
    "\n",
    "Recorrido post-orden:\n",
    "1, 3, 2, 5, 6, 4\n",
    "```"
   ]
  },
  {
   "cell_type": "markdown",
   "metadata": {},
   "source": [
    "### Implementación en Python de recorridos\n",
    "\n",
    "Ahora vamos a implementar funciones que recorran los nodos de un árbol con cada algoritmo."
   ]
  },
  {
   "cell_type": "code",
   "execution_count": 2,
   "metadata": {
    "tags": []
   },
   "outputs": [
    {
     "output_type": "stream",
     "name": "stdout",
     "text": "Recorrido en orden de arbol:\n1\n2\n3\n4\n5\n6\n"
    }
   ],
   "source": [
    "def en_orden(nodo):\n",
    "    if nodo.izquierda is not None:\n",
    "        en_orden(nodo.izquierda)\n",
    "    print(nodo.valor)\n",
    "    if nodo.derecha is not None:\n",
    "        en_orden(nodo.derecha)\n",
    "\n",
    "print(\"Recorrido en orden de arbol:\")\n",
    "# El recorrido debería imprimir en el siguiente orden: 1, 2, 3, 4, 5, 6\n",
    "en_orden(arbolito.raiz)"
   ]
  },
  {
   "cell_type": "code",
   "execution_count": 3,
   "metadata": {
    "tags": []
   },
   "outputs": [
    {
     "output_type": "stream",
     "name": "stdout",
     "text": "Recorrido pre-orden de arbol:\n4\n2\n1\n3\n6\n5\n"
    }
   ],
   "source": [
    "def pre_orden(nodo):\n",
    "    print(nodo.valor)\n",
    "    if nodo.izquierda is not None:\n",
    "        pre_orden(nodo.izquierda)\n",
    "    if nodo.derecha is not None:\n",
    "        pre_orden(nodo.derecha)\n",
    "\n",
    "print(\"Recorrido pre-orden de arbol:\")\n",
    "# El recorrido debería imprimir en el siguiente orden: 4, 2, 1, 3, 6, 5\n",
    "pre_orden(arbolito.raiz)"
   ]
  },
  {
   "cell_type": "code",
   "execution_count": 4,
   "metadata": {
    "tags": []
   },
   "outputs": [
    {
     "output_type": "stream",
     "name": "stdout",
     "text": "Recorrido post-orden de arbol:\n1\n3\n2\n5\n6\n4\n"
    }
   ],
   "source": [
    "def post_orden(nodo):\n",
    "    if nodo.izquierda is not None:\n",
    "        post_orden(nodo.izquierda)\n",
    "    if nodo.derecha is not None:\n",
    "        post_orden(nodo.derecha)\n",
    "    print(nodo.valor)\n",
    "\n",
    "print(\"Recorrido post-orden de arbol:\")\n",
    "# El recorrido debería imprimir en el siguiente orden: 1, 3, 2, 5, 6, 4\n",
    "post_orden(arbolito.raiz)"
   ]
  }
 ]
}