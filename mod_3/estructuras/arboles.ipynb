{
 "metadata": {
  "language_info": {
   "codemirror_mode": {
    "name": "ipython",
    "version": 3
   },
   "file_extension": ".py",
   "mimetype": "text/x-python",
   "name": "python",
   "nbconvert_exporter": "python",
   "pygments_lexer": "ipython3",
   "version": 3
  },
  "orig_nbformat": 2
 },
 "nbformat": 4,
 "nbformat_minor": 2,
 "cells": [
  {
   "cell_type": "markdown",
   "metadata": {},
   "source": [
    "# Arboles binarios\n",
    "\n",
    "Para este punto del contenido, hay algo de lo que ya sabes, pero quizás no sabes que lo sabes: grafos. Es de esas cosas que ya has visto, pero no sabías cómo se les llamaba. Bueno, primero te daré una breve descripción de qué es un grafo, y seguro que recuerdas qué de lo que ya has hecho antes es un grafo:\n",
    "\n",
    "> **Grafo:** Conjunto de nodos unidos por aristas, comunmente representados como flechas, gráficamente, en el que un nodo puede apuntar a uno o más nodos. Estas aristas pueden ser dirigidas, donde un nodo apunta directamente a otro nodo, o no dirigidas, donde todos los nodos que se conectan por una arista apuntan entre sí, bilateralmente.\n",
    "\n",
    "<table>\n",
    "    <tr>\n",
    "        <td> <image src=\"https://upload.wikimedia.org/wikipedia/commons/6/67/Kaari_suuntaamaton_graafiteoria.png\" width=\"300\"/> </td>\n",
    "        <td> <image src=\"https://upload.wikimedia.org/wikipedia/commons/3/32/Kaari_suunnattu_graafiteoria.png\" width=\"300\"/> </td>\n",
    "    </tr>\n",
    "    <tr>\n",
    "        <td><a href=\"https://es.wikipedia.org/wiki/Grafo\">Grafo no dirigido</a></td>\n",
    "        <td><a href=\"https://es.wikipedia.org/wiki/Grafo\">Grafo dirigido</a></td>\n",
    "    </tr>\n",
    "</table>\n",
    "\n",
    "\n",
    "\n"
   ]
  }
 ]
}