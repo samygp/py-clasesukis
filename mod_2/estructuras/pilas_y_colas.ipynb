{
 "metadata": {
  "language_info": {
   "codemirror_mode": {
    "name": "ipython",
    "version": 3
   },
   "file_extension": ".py",
   "mimetype": "text/x-python",
   "name": "python",
   "nbconvert_exporter": "python",
   "pygments_lexer": "ipython3",
   "version": "3.7.5-final"
  },
  "orig_nbformat": 2,
  "kernelspec": {
   "name": "python37564bitpyenvvenvd4b75a7901ba4a5292e75ea444303d15",
   "display_name": "Python 3.7.5 64-bit ('pyenv': venv)"
  }
 },
 "nbformat": 4,
 "nbformat_minor": 2,
 "cells": [
  {
   "cell_type": "markdown",
   "metadata": {},
   "source": [
    "# Estructuras de datos: Pilas\n",
    "\n",
    "Si entendiste bien cómo funcionan las estructuras que guardan colecciones de elementos en los que están uno ligado al otro, con las listas ligadas, esta lección debería ser casi intuitiva, porque es mucho de lo mismo, pero con usos diferentes. Vas a conocer formas diferentes de utilizar estructuras que son muy similares a las listas ligadas.\n",
    "\n",
    "## Pilas\n",
    "\n",
    "Probablemente alguna vez en tu infancia jugaste con bloques de construcción, o incluso con piedras, ramas o cualquier cosa que encontrabas en el parque para apilarlos y hacer alguna especie de torre, o algo parecido, o por lo menos muchos hemos visto una pila de platos esperando a ser lavados. Si alguna vez hiciste eso, podría resultarte muy parecido imaginar las pilas (o \"stacks\" en inbglés) que utilizaremos.\n",
    "\n",
    "En programación, cuando se habla de pilas, nos referimos a una estructura de datos en la que cada elemento es representado por un nodo, igual que el de las listas ligadas, en los que cada nodo guarda una referencia a un nodo siguiente, pero en lugar de visualizarlo como un \"tren\" o como una línea horizontal, cada nodo está (por lo menos en nuestra imaginación) encima de otro nodo.\n",
    "\n",
    "Igual que en pilas de cosas en la vida real, si quitas un elemento que no sea el que está en la punta, o si quieres poner un elemento en medio de otros dos, lo más seguro es que la pila se caiga, o cuando menos se desestabilice mucho. Siguiendo ese mismo precepto, las pilas como estructura de datos se comportan de esa misma manera y sólo permiten dos operaciones, además de algún método para observar qué hay en el tope de la pila (peek/asomarse):\n",
    "\n",
    "- **Empujar (push):** Cuando apilamos un elemento en la punta o tope de la pila.\n",
    "- **Botar (pop):** Cuando botamos el elemento que está en la punta o tope de la pila.\n",
    "- **Peek:** Observar cuál es el valor del elemento en el tope de la pila.\n",
    "\n",
    "![pila](https://upload.wikimedia.org/wikipedia/commons/b/b4/Lifo_stack.png)\n",
    "\n",
    "Fundamentalmente eso es todo lo que hacen, así de simple es su función, y su comportamiento es más o menos al revés que el de las listas ligadas cuando se trata de añadir elementos. El algoritmo para hacer \"push\" a una pila, es el inverso que el de la lista ligada; en lugar de guardar siempre la referencia al principio de la lista ligada, guardamos la referencia al tope de la pila, y cada nodo guarda la referencia al nodo debajo de sí. Entonces, cuando tenemos un nodo, y hacemos \"push\", el nodo que acabamos de agregar se convierte en el tope de la pila, haciendo que tome de referencia como siguiente nodo el que anteriormente era el tope.\n",
    "\n",
    "El algoritmo para hacer pop, como te podrás imaginar, es el opuesto de push. Tomamos el tope de la pila, hacemos que pierda la referencia al siguiente elemento, y el nuevo tope de la pila es el que anteriormente era el penúltimo.\n",
    "\n",
    "> **Un pequeño paréntesis:** Probablemente encuentres ligeras variaciones en la implementación de la estructura de la pila si buscas en diferentes fuentes. Por ejemplo, algunos guardan sólo la referencia a la cabeza de la pila (o tope), y algunos otros a la base de la pila, otros a ambos. Simplemente dependerá de ti para saber, en el momento que las utilices e implementes, qué información es relevante para ti. Recuerda que todo el contenido de este curso es solamente una forma de darte a conocer los fundamentos de programación necesarios para que después de puedas especializar, y tú posiblemente encuentres maneras más específicas, o incluso más eficientes, de implementar todo lo que hasta ahora sabes, que es un buen tanto si llegaste a este punto y deberías tomar orgullo en eso."
   ]
  },
  {
   "cell_type": "markdown",
   "metadata": {},
   "source": [
    "### Implementando pilas en Python\n",
    "\n",
    "Si hiciste la práctica de la lección anterior, podemos empezar haciendo una clase que represente esta estructura, al igual que la básica clase para un nodo, que sólo guardará su propio valor y la referencia al nodo siguiente.\n",
    "\n",
    "Dentro de la clase Pila implementaremos también los métodos push, pop y peek."
   ]
  },
  {
   "cell_type": "code",
   "execution_count": 11,
   "metadata": {},
   "outputs": [],
   "source": [
    "class Nodo:\n",
    "    # El método \"__str__\" en una clase, al implementarlo, nos permite\n",
    "    # definir qué queremos que Python imprima cuando se utilice nuestro objeto al imprimirlo.\n",
    "    def __str__(self):\n",
    "        return str(self.valor)\n",
    "\n",
    "    def __init__(self, val):\n",
    "        self.valor = val\n",
    "        self.siguiente = None\n",
    "\n",
    "class Pila:\n",
    "    def __init__(self):\n",
    "        self.top = None\n",
    "    \n",
    "    def push(self, valor):\n",
    "        n = Nodo(valor) # Crear un nuevo nodo\n",
    "        n.siguiente = self.top # El nuevo nodo apunta al tope de la pila\n",
    "        self.top = n # El nuevo nodo se vuelve el nuevo tope de la pila\n",
    "    \n",
    "    def pop(self):\n",
    "        n = self.top\n",
    "        if n is not None:\n",
    "            self.top = n.siguiente # El penúltimo elemento se vuelve el nuevo tope de la pila\n",
    "            n.siguiente = None # Perdemos la referencia a la pila en el nodo que se retornará\n",
    "        return n\n",
    "    \n",
    "    def peek(self):\n",
    "        if self.top is not None:\n",
    "            return self.top\n",
    "        return None\n"
   ]
  },
  {
   "cell_type": "markdown",
   "metadata": {},
   "source": [
    "Tómate unos momentos para revisar el código que implementa la pila, no es muy complejo, de hecho es bastante más sencillo que el de una lista ligada, porque no hay ciclos. Y en esa simpleza es justo donde está el encanto y lo increíblemente útil y flexible que puede ser una pila.\n",
    "\n",
    "Hagamos una prueba para comprobar que esta implementación funciona."
   ]
  },
  {
   "cell_type": "code",
   "execution_count": 12,
   "metadata": {
    "tags": []
   },
   "outputs": [
    {
     "output_type": "stream",
     "name": "stdout",
     "text": "El tope de la fila es: 1\nEl tope de la fila es: 2\nEl tope de la fila es: 3\nBotando el último elemento: 3\nBotando el último elemento: 2\nBotando el último elemento: 1\nBotando el último elemento: None\n"
    }
   ],
   "source": [
    "p = Pila()\n",
    "p.push(1)\n",
    "print(\"El tope de la fila es:\", p.peek())\n",
    "p.push(2)\n",
    "print(\"El tope de la fila es:\", p.peek())\n",
    "p.push(3)\n",
    "print(\"El tope de la fila es:\", p.peek())\n",
    "\n",
    "print(\"Botando el último elemento:\", p.pop())\n",
    "print(\"Botando el último elemento:\", p.pop())\n",
    "print(\"Botando el último elemento:\", p.pop())\n",
    "print(\"Botando el último elemento:\", p.pop())"
   ]
  },
  {
   "cell_type": "markdown",
   "metadata": {},
   "source": [
    "Y con lo anterior, ya tienes una herramienta más en tu cinturón. Pero claro, una herramienta no es muy útil si no te dicen cómo se usa, o para qué te sirve.\n",
    "\n",
    "### Uso común de una pila: Evaluar paréntesis\n",
    "\n",
    "Si te preguntara: ¿Cómo harías un programa que evaluara si los paréntesis en una expresión aritmética están bien balanceados? Esto significaría que todos los paréntesis que abren, cierren, y que no haya un paréntesis de cierre si no hubo antes un paréntesis de apertura.\n",
    "\n",
    "A continuación algunos ejemplos:\n",
    "\n",
    "- `a * (b + c)` está bien balanceado, porque el paréntesis abre y cierra correctamente.\n",
    "- `((a + b) + c)` sí está bien balanceado.\n",
    "- `(a + b ) + c)` no está bien balanceado, porque no hay un número igual de paréntesis que abren y cierran, y el último paréntesis de cierre no tiene uno que le corresponda de apertura.\n",
    "\n",
    "Quizás una solución podría buscar que haya el mismo número de paréntesis que abran y cierren, pero hay un problema con eso, como en la siguiente expresión: `)a + b(`. Tiene un mismo número de paréntesis que abren y cierran, pero no están correctamente acomodados.\n",
    "\n",
    "Puedes tomarte un tiempo y tal vez obten"
   ]
  }
 ]
}