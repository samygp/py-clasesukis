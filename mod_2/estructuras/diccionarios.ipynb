{
 "metadata": {
  "language_info": {
   "codemirror_mode": {
    "name": "ipython",
    "version": 3
   },
   "file_extension": ".py",
   "mimetype": "text/x-python",
   "name": "python",
   "nbconvert_exporter": "python",
   "pygments_lexer": "ipython3",
   "version": "3.7.5-final"
  },
  "orig_nbformat": 2,
  "kernelspec": {
   "name": "python37564bitpyenvvenvd4b75a7901ba4a5292e75ea444303d15",
   "display_name": "Python 3.7.5 64-bit ('pyenv': venv)"
  }
 },
 "nbformat": 4,
 "nbformat_minor": 2,
 "cells": [
  {
   "cell_type": "markdown",
   "metadata": {},
   "source": [
    "# Estructuras de datos: Diccionarios / Hash tables\n",
    "\n",
    "En esta lección te voy a contar un poco sobre la estructura que es mi favorita: los que en Python específicamente se conoce como diccionarios, pero en la mayoría de los otros lenguajes se les llama mapas de hash (hash maps) o tablas de hash (hash tables). Para explicarlo, me parece más intuitivo empezarles llamando \"diccionarios\".\n",
    "\n",
    "Si alguna vez utilizaste un diccionario (espero que sí), recordarás que un diccionario es una lista de palabras ordenadas alfabéticamente en las que cada palabra tiene un significado. Cuando buscas una palabra, y la encuentras, después de los dos puntos \":\" obtienes la definición o definiciones de qué significa esa palabra. Así mismo, en la programación existen estructuras en las que puedes ligar una llave única, o nombre, con cualquier otro tipo de dato que define lo que debería contener cuando se busca la información relacionada a esa palabra.\n",
    "\n",
    "Esto significa que yo puedo, por ejemplo, guardar la relación entre el nombre de una persona y toda la información que representa a esa persona, y podemos a acceder a esa información usando como \"llave\" el nombre de esa persona. Puedes imaginarlo como una especie de arreglo en el que en lugar de referirte a los elementos que contiene por un índice numérico, el índice puede ser casi lo que tú quieras, más comunmente una cadena.\n",
    "\n",
    "## Sintaxis de un diccionario en Python\n",
    "\n",
    "Lo primero que tenemos que hacer, igual que con arreglos o con cualquier otra estructura, es inicializarlo, y puede inicializarse completamente vacío o con elementos por defecto, igual que los arreglos, y de hecho la sintaxis no es tan diferente.\n",
    "\n",
    "Para inicializar un diccionario sólo hace falta asignar a una variable unas llaves vacías (`{}`)."
   ]
  },
  {
   "cell_type": "code",
   "execution_count": 43,
   "metadata": {
    "tags": []
   },
   "outputs": [
    {
     "output_type": "stream",
     "name": "stdout",
     "text": "{}\n"
    }
   ],
   "source": [
    "mi_diccionario = {}\n",
    "print(mi_diccionario)"
   ]
  },
  {
   "cell_type": "markdown",
   "metadata": {},
   "source": [
    "Para asignar elementos esto es algo bastante más sencillo que con los arreglos, porque sólo tienes que asignar entre corchetes la cadena o valor que quieres utilizar como llave, y asignarle, con el signo \"`=`\" el valor que quieras (`diccionario[llave] = valor`). Y como sería casi evidente con esa sintaxis, la forma de acceder al valor que guarda un diccionario en una llave es escribiendo entre los corchetes el nombre de la llave, después del nombre de la variable que contiene tu diccionario (`diccionario[llave]`)"
   ]
  },
  {
   "cell_type": "code",
   "execution_count": 44,
   "metadata": {
    "tags": []
   },
   "outputs": [
    {
     "output_type": "stream",
     "name": "stdout",
     "text": "contiene una cadena\n12345\nTrue\n"
    }
   ],
   "source": [
    "mi_diccionario[\"una_cadena\"] = \"contiene una cadena\"\n",
    "print(mi_diccionario[\"una_cadena\"])\n",
    "\n",
    "mi_diccionario[\"un_numero\"] = 12345\n",
    "print(mi_diccionario[\"un_numero\"])\n",
    "\n",
    "mi_diccionario[\"un bool\"] = True\n",
    "print(mi_diccionario[\"un bool\"])"
   ]
  },
  {
   "cell_type": "markdown",
   "metadata": {},
   "source": [
    "Otra de las cosas que vuelven tan flexibles los diccionarios es que las llaves pueden ser de cualquier tipo de dato primitivo."
   ]
  },
  {
   "cell_type": "code",
   "execution_count": 45,
   "metadata": {
    "tags": []
   },
   "outputs": [
    {
     "output_type": "stream",
     "name": "stdout",
     "text": "La llave es True\nLa llave es un entero\nLa llave es un flotante\n"
    }
   ],
   "source": [
    "mi_diccionario[True] = \"La llave es True\"\n",
    "print(mi_diccionario[True])\n",
    "\n",
    "mi_diccionario[54321] = \"La llave es un entero\"\n",
    "print(mi_diccionario[54321])\n",
    "\n",
    "mi_diccionario[3.14] = \"La llave es un flotante\"\n",
    "print(mi_diccionario[3.14])"
   ]
  },
  {
   "cell_type": "markdown",
   "metadata": {},
   "source": [
    "### Sobreescritura y valores faltantes\n",
    "\n",
    "Ahora que vimos cómo declarar una variable que guarde un diccionario y cómo asignarle valores, podemos mencionar cuáles son los comportamientos peculiares en un diccionario en algunos casos comunes.\n",
    "\n",
    "Igual que en un arreglo, cuando nos referimos a nuestro diccionario utilizando un índice que existe, y le asignamos un valor, éste se sobreescribe y se descarta el valor anterior."
   ]
  },
  {
   "cell_type": "code",
   "execution_count": 46,
   "metadata": {
    "tags": []
   },
   "outputs": [
    {
     "output_type": "stream",
     "name": "stdout",
     "text": "Valor original\n9019\n"
    }
   ],
   "source": [
    "mi_diccionario[\"llave_nueva\"] = \"Valor original\"\n",
    "print(mi_diccionario[\"llave_nueva\"])\n",
    "\n",
    "mi_diccionario[\"llave_nueva\"] = 9019\n",
    "print(mi_diccionario[\"llave_nueva\"])"
   ]
  },
  {
   "cell_type": "markdown",
   "metadata": {},
   "source": [
    "Hay una cosa que no hemos mencionado hasta este punto: ¿qué pasa si intentamos acceder a una llave en nuestro diccionario que no existe todavía? La respuesta es algo que probablemente ya esperas: Python mostrará un enunciado de error."
   ]
  },
  {
   "cell_type": "code",
   "execution_count": 47,
   "metadata": {},
   "outputs": [
    {
     "output_type": "error",
     "ename": "KeyError",
     "evalue": "'llave que no existe'",
     "traceback": [
      "\u001b[0;31m---------------------------------------------------------------------------\u001b[0m",
      "\u001b[0;31mKeyError\u001b[0m                                  Traceback (most recent call last)",
      "\u001b[0;32m<ipython-input-47-86a101aa2227>\u001b[0m in \u001b[0;36m<module>\u001b[0;34m\u001b[0m\n\u001b[0;32m----> 1\u001b[0;31m \u001b[0mprint\u001b[0m\u001b[0;34m(\u001b[0m\u001b[0mmi_diccionario\u001b[0m\u001b[0;34m[\u001b[0m\u001b[0;34m\"llave que no existe\"\u001b[0m\u001b[0;34m]\u001b[0m\u001b[0;34m)\u001b[0m\u001b[0;34m\u001b[0m\u001b[0;34m\u001b[0m\u001b[0m\n\u001b[0m",
      "\u001b[0;31mKeyError\u001b[0m: 'llave que no existe'"
     ]
    }
   ],
   "source": [
    "print(mi_diccionario[\"llave que no existe\"])"
   ]
  },
  {
   "cell_type": "markdown",
   "metadata": {},
   "source": [
    "La forma de evitar esta clase de errores es primero revisando si la llave existe en nuestro diccionario, utilizando la palabra \"`in`\" para saber si un elemento está \"en\" nuestro diccionario. Esta comprobación devuelve un valor booleano."
   ]
  },
  {
   "cell_type": "code",
   "execution_count": 48,
   "metadata": {
    "tags": []
   },
   "outputs": [
    {
     "output_type": "stream",
     "name": "stdout",
     "text": "La llave ' uno ' existe en el diccionario\nLa llave ' dos ' no existe en el diccionario\n"
    }
   ],
   "source": [
    "def llave_existe(llave, diccionario):\n",
    "    if llave in diccionario:\n",
    "        print(\"La llave '\", llave, \"' existe en el diccionario\")\n",
    "    else:\n",
    "        print(\"La llave '\", llave, \"' no existe en el diccionario\")\n",
    "\n",
    "llave_A = \"uno\"\n",
    "llave_B = \"dos\"\n",
    "\n",
    "# Creamos una entrada para llave A, pero no para llave B\n",
    "mi_diccionario[llave_A] = \"cadena de prueba\"\n",
    "\n",
    "llave_existe(llave_A, mi_diccionario)\n",
    "llave_existe(llave_B, mi_diccionario)"
   ]
  },
  {
   "cell_type": "markdown",
   "metadata": {},
   "source": [
    "### Eliminar elementos de un diccionario\n",
    "\n",
    "La forma de remover elementos de un diccionario te resultará familiar, porque es casi idéntica a la de un arreglo, excepto que esta vez utilizarás llaves en vez de índices exclusivamente numéricos. Los diccionarios tienen un método llamado `pop` que recibe como parámetro el nombre de la llave que se desea remover. Pero ten cuidado, porque si intentas botar un elemento que no existe, igual que en los arreglos, Python arrojará un error."
   ]
  },
  {
   "cell_type": "code",
   "execution_count": 50,
   "metadata": {
    "tags": []
   },
   "outputs": [
    {
     "output_type": "stream",
     "name": "stdout",
     "text": "Vamos a eliminar este elemento\nLa llave ' elemento para eliminar ' no existe en el diccionario\n"
    },
    {
     "output_type": "error",
     "ename": "KeyError",
     "evalue": "'elemento para eliminar'",
     "traceback": [
      "\u001b[0;31m---------------------------------------------------------------------------\u001b[0m",
      "\u001b[0;31mKeyError\u001b[0m                                  Traceback (most recent call last)",
      "\u001b[0;32m<ipython-input-50-020a40479a1b>\u001b[0m in \u001b[0;36m<module>\u001b[0;34m\u001b[0m\n\u001b[1;32m     18\u001b[0m \u001b[0;31m# Y si lo intentamos eliminar sin preguntar primero si existe,\u001b[0m\u001b[0;34m\u001b[0m\u001b[0;34m\u001b[0m\u001b[0;34m\u001b[0m\u001b[0m\n\u001b[1;32m     19\u001b[0m \u001b[0;31m# Python arrojará un error\u001b[0m\u001b[0;34m\u001b[0m\u001b[0;34m\u001b[0m\u001b[0;34m\u001b[0m\u001b[0m\n\u001b[0;32m---> 20\u001b[0;31m \u001b[0mmi_diccionario\u001b[0m\u001b[0;34m.\u001b[0m\u001b[0mpop\u001b[0m\u001b[0;34m(\u001b[0m\u001b[0mllave_C\u001b[0m\u001b[0;34m)\u001b[0m\u001b[0;34m\u001b[0m\u001b[0;34m\u001b[0m\u001b[0m\n\u001b[0m",
      "\u001b[0;31mKeyError\u001b[0m: 'elemento para eliminar'"
     ]
    }
   ],
   "source": [
    "llave_C = \"elemento para eliminar\"\n",
    "\n",
    "mi_diccionario[llave_C] = \"Vamos a eliminar este elemento\"\n",
    "print(mi_diccionario[llave_C])\n",
    "\n",
    "if llave_C in mi_diccionario:\n",
    "    mi_diccionario.pop(llave_C) #Eliminamos la llave especificada\n",
    "else:\n",
    "    print(\"La llave '\", llave_C, \"' no existe en el diccionario\")\n",
    "\n",
    "# Como ya eliminamos ese elemento del diccionario, no podemos hacerlo de nuevo\n",
    "# porque la llave ya no existe\n",
    "if llave_C in mi_diccionario:\n",
    "    mi_diccionario.pop(llave_C)\n",
    "else:\n",
    "    print(\"La llave '\", llave_C, \"' no existe en el diccionario\")\n",
    "\n",
    "# Y si lo intentamos eliminar sin preguntar primero si existe,\n",
    "# Python arrojará un error\n",
    "mi_diccionario.pop(llave_C)"
   ]
  },
  {
   "cell_type": "markdown",
   "metadata": {},
   "source": [
    "### Iterar los elementos de un diccionario\n",
    "\n",
    "Hay varias formas de desplazarte entre todos los elementos que contiene un diccionario, además de directamente por una llave específica, pero principalmente son 3:\n",
    "\n",
    "- Iterando las llaves guardadas en el diccionario\n",
    "- Iterando la lista de valores (si no te interesan las llaves)\n",
    "- Iterar ambos al mismo tiempo (llaves y valores)\n",
    "\n",
    "Y todas se utilizan dentro de un ciclo `for ... in ... :`\n",
    "\n",
    "A continuación están los tres métodos.\n",
    "\n",
    "#### Iterar utilizando las llaves de un diccionario\n",
    "\n",
    "Para iterar las llaves de un diccionario se puede utilizar un ciclo \"`for`\" que defina `for [variable] in [diccionario]:` en el que la variable que usas como primer parámetro del ciclo for tomará el valor de cada llave.\n",
    "\n",
    "Adicionalmente, se puede guardar la lista de llaves en otra variable usando el método `keys` de los diccionarios, que regresa un arreglo con la lista de llaves existentes."
   ]
  },
  {
   "cell_type": "code",
   "execution_count": 55,
   "metadata": {
    "tags": []
   },
   "outputs": [
    {
     "output_type": "stream",
     "name": "stdout",
     "text": "Iterar las llaves directamente con un ciclo for\nLa llave ' una_cadena ' en el diccionario contiene el valor: contiene una cadena\nLa llave ' un_numero ' en el diccionario contiene el valor: 12345\nLa llave ' un bool ' en el diccionario contiene el valor: True\nLa llave ' True ' en el diccionario contiene el valor: La llave es True\nLa llave ' 54321 ' en el diccionario contiene el valor: La llave es un entero\nLa llave ' 3.14 ' en el diccionario contiene el valor: La llave es un flotante\nLa llave ' llave_nueva ' en el diccionario contiene el valor: 9019\nLa llave ' uno ' en el diccionario contiene el valor: cadena de prueba\n\nIterar la lista de llaves usando el método `keys`\n\nLista de llaves: dict_keys(['una_cadena', 'un_numero', 'un bool', True, 54321, 3.14, 'llave_nueva', 'uno']) \n\nLa llave ' una_cadena ' en el diccionario contiene el valor: contiene una cadena\nLa llave ' un_numero ' en el diccionario contiene el valor: 12345\nLa llave ' un bool ' en el diccionario contiene el valor: True\nLa llave ' True ' en el diccionario contiene el valor: La llave es True\nLa llave ' 54321 ' en el diccionario contiene el valor: La llave es un entero\nLa llave ' 3.14 ' en el diccionario contiene el valor: La llave es un flotante\nLa llave ' llave_nueva ' en el diccionario contiene el valor: 9019\nLa llave ' uno ' en el diccionario contiene el valor: cadena de prueba\n"
    }
   ],
   "source": [
    "print(\"Iterar las llaves directamente con un ciclo for\")\n",
    "# El siguiente ciclo hace que la variable \"llave\" tome el valor\n",
    "# de cada llave guardada en el diccionario\n",
    "for llave in mi_diccionario:\n",
    "    print(\"La llave '\", llave, \"' en el diccionario contiene el valor:\", mi_diccionario[llave])\n",
    "\n",
    "print(\"\\nIterar la lista de llaves usando el método `keys`\")\n",
    "lista_de_llaves = mi_diccionario.keys()\n",
    "print(\"\\nLista de llaves:\", lista_de_llaves, \"\\n\")\n",
    "# Y otra forma de iterar las llaves es con el método `keys` del diccionario\n",
    "for llave in lista_de_llaves:\n",
    "    print(\"La llave '\", llave, \"' en el diccionario contiene el valor:\", mi_diccionario[llave])"
   ]
  },
  {
   "cell_type": "markdown",
   "metadata": {},
   "source": [
    "#### Iterar los valores del diccionario\n",
    "\n",
    "Si solamente necesitas los valores y no necesitas las llaves, puedes utilizar el método `values` de los diccionarios para obtener un arreglo con los valores que guarda el diccionario."
   ]
  },
  {
   "cell_type": "code",
   "execution_count": 56,
   "metadata": {
    "tags": []
   },
   "outputs": [
    {
     "output_type": "stream",
     "name": "stdout",
     "text": "Lista de valores: dict_values(['contiene una cadena', 12345, True, 'La llave es True', 'La llave es un entero', 'La llave es un flotante', 9019, 'cadena de prueba']) \n\ncontiene una cadena\n12345\nTrue\nLa llave es True\nLa llave es un entero\nLa llave es un flotante\n9019\ncadena de prueba\n"
    }
   ],
   "source": [
    "valores = mi_diccionario.values()\n",
    "print(\"Lista de valores:\", valores, \"\\n\")\n",
    "for valor in valores:\n",
    "    print(valor)"
   ]
  },
  {
   "cell_type": "markdown",
   "metadata": {},
   "source": [
    "#### Iterar llaves y valores simultáneamente\n",
    "\n",
    "Y la tercera forma, un tanto peculiar, devuelve simultáneamente las llaves y valores de un diccionario. Esto se logra separando por comas los nombres de variables que vas a utilizar para asignar temporalmente cada llave y valor que guarda tu diccionario."
   ]
  },
  {
   "cell_type": "code",
   "execution_count": 57,
   "metadata": {
    "tags": []
   },
   "outputs": [
    {
     "output_type": "stream",
     "name": "stdout",
     "text": "La llave ' una_cadena ' guarda el valor: contiene una cadena\nLa llave ' un_numero ' guarda el valor: 12345\nLa llave ' un bool ' guarda el valor: True\nLa llave ' True ' guarda el valor: La llave es True\nLa llave ' 54321 ' guarda el valor: La llave es un entero\nLa llave ' 3.14 ' guarda el valor: La llave es un flotante\nLa llave ' llave_nueva ' guarda el valor: 9019\nLa llave ' uno ' guarda el valor: cadena de prueba\n"
    }
   ],
   "source": [
    "for llave, valor in mi_diccionario.items():\n",
    "    print(\"La llave '\", llave, \"' guarda el valor:\", valor)"
   ]
  }
 ]
}