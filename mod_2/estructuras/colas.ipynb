{
 "metadata": {
  "language_info": {
   "codemirror_mode": {
    "name": "ipython",
    "version": 3
   },
   "file_extension": ".py",
   "mimetype": "text/x-python",
   "name": "python",
   "nbconvert_exporter": "python",
   "pygments_lexer": "ipython3",
   "version": "3.7.5-final"
  },
  "orig_nbformat": 2,
  "kernelspec": {
   "name": "python37564bitpyenvvenvd4b75a7901ba4a5292e75ea444303d15",
   "display_name": "Python 3.7.5 64-bit ('pyenv': venv)"
  }
 },
 "nbformat": 4,
 "nbformat_minor": 2,
 "cells": [
  {
   "cell_type": "markdown",
   "metadata": {},
   "source": [
    "# Estructuras De Datos: Colas\n",
    "\n",
    "Si entendiste bien cómo funcionan las estructuras que guardan colecciones de elementos en los que están uno ligado al otro, con las listas ligadas, esta lección debería ser casi intuitiva, porque es mucho de lo mismo, pero con usos diferentes. Vas a conocer formas diferentes de utilizar estructuras que son muy similares a las listas ligadas.\n",
    "\n",
    "Hay algo con lo que seguro, seguro que sí estás familiarizado si alguna vez has ido a una tienda o al supermercado: alguna vez en tu vida te has formado en una cola. Es como de las cosas que sabes que simplemente son parte de la vida diaria, y si te detienes a reflexionarlo un poco, sabrás que son soluciones muy obvias para muchas cosas que podrían ser problemáticas si no les das **estructura**. En la vida cotidiana resuelven un problema que resulta evidente: la gente espera para recibir algo, y quien llegó primero, será quien sea atendido primero, por eso también a las colas (Queue, en inglés, se pronuncia como \"kiú\" en español) se les conoce como estructuras **\"FIFO\"** (First in, first out).\n",
    "\n",
    "El tipo de problemas que resuelven cuando se trata de computadoras es prácticamente el mismo que en la vida común, tienen relación con despachar información o procesos, en vez de personas. Por ejemplo, en una versión supersimplificada de cómo funciona todo, cuando en tu navegador de internet ingresas la URL de un sitio, tu solicitud llega a un servidor, que es quien atiende las solicitudes de toda la gente que quiere obtener esa página de internet, y en el mismo orden que llegan las solicitudes es como el servidor las despacha, porque las computadoras muy comunmente atienden una sola cosa a la vez, aunque parezca que hacen muchas cosas al mismo tiempo, es sólo que las hacen tan rápido intercalando entre una tarea y otra que parece que ejecutan todo al mismo tiempo.\n",
    "\n",
    "Terminando ese dato cultural, puedes suponer que esta estructura es muy común cuando se trata de atender solicitudes, o intercambiar entre una tarea y otra siendo \"justos\" porque tratamos de despachar primero al primero que llegó. Como mucho en las matemáticas y ciencias computacionales, y muchas cosas en esta vida, este tipo de herramienta no se aplica sólo en ese tipo de soluciones, sino en varias otras que no son tan obvias, pero igual funcionan maravillosamente. Por ejemplo, recientemente aprendí que puedo obtener un molido más consistente de café si uso un colador; los coladores normalmente los usamos cuando queremos filtrar pedazos sólidos que flotan en un líquido, pero en este caso puedo filtrar los pedazos de café que siguen siendo demasiado gruesos de entre los pedazos más finos, para después moler un poco más los pedazos grandes. Perdón si divagué mucho con eso, pero quería dar un ejemplo de cómo la misma herramienta puede servir en cosas que no parecerían evidentes u obvias (y me gusta mucho el café)."
   ]
  },
  {
   "cell_type": "markdown",
   "metadata": {},
   "source": [
    "## Implementar colas en Python\n",
    "\n",
    "Como mencioné al principio, la implementación de una cola es muy similar a la de una lista ligada; tenemos nodos que apuntan a un nodo siguiente, guardan un valor y cada elemento nuevo se inserta al final. Tienen una única diferencia: los elementos se eliminan secuencialmente, no especificamos qué elemento se quiere eliminar, todos los elementos que despachemos serán los que estén al principio de la fila. Al mismo tiempo, para ahorrarnos trabajo (y tiempo de procesamiento), podemos guardar las dos puntas de la cola: el nodeo del principio y el del final. El nodo del principio nos ayudará a saber cuál es el siguiente elemento a eliminar de la cola, y el elemento del final nos ayudará a saber dónde insertar un nuevo elemento.\n",
    "\n",
    "Las colas, entonces cuentan con dos operaciones fundamentales:\n",
    "\n",
    "- **Enqueue (encolar):** Para agregar un nuevo elemento al final de la cola.\n",
    "- **Dequeue (des-encolar):** Para despachar el elemento del principio de la cola.\n",
    "\n",
    "Como funciones auxiliares podemos añadir métodos que nos digan si está vacía la cola, y un método \"peek\" (asomarse) para saber cuál es el valor en el principio de la cola."
   ]
  },
  {
   "cell_type": "code",
   "execution_count": 1,
   "metadata": {},
   "outputs": [],
   "source": [
    "class Nodo:\n",
    "    def __init__(self, val):\n",
    "        self.valor = val\n",
    "        self.siguiente = None\n",
    "\n",
    "class Cola:\n",
    "    def __init__(self):\n",
    "        self.inicio = None\n",
    "        self.fin = None\n",
    "    \n",
    "    def vacia(self):\n",
    "        return self.inicio is None\n",
    "    \n",
    "    def peek(self):\n",
    "        if self.vacia():\n",
    "            return None\n",
    "        return self.inicio.valor\n",
    "    \n",
    "    def enqueue(self, valor):\n",
    "        n = Nodo(valor)\n",
    "        if self.vacia():\n",
    "            self.inicio = n\n",
    "            self.fin = n\n",
    "        else:\n",
    "            self.fin.siguiente = n # Apuntar el último elemento al nuevo nodo como siguiente\n",
    "            self.fin = n # El nuevo último nodo será el nuevo nodo\n",
    "    \n",
    "    def dequeue(self):\n",
    "        if self.vacia():\n",
    "            return None\n",
    "        n = self.inicio # Guardamos temporalmente el elemento del inicio\n",
    "        self.inicio = n.siguiente # Actualizamos cuál es el nuevo primer elemento de la cola\n",
    "        if n.siguiente is None:\n",
    "            # Si la cola sólo tenía un elemento (porque el siguiente es None)\n",
    "            # Actualizamos el fin de la cola para que sea vacío\n",
    "            self.fin = None\n",
    "        return n.valor"
   ]
  },
  {
   "cell_type": "code",
   "execution_count": 2,
   "metadata": {
    "tags": []
   },
   "outputs": [
    {
     "output_type": "stream",
     "name": "stdout",
     "text": "Siguiente persona en la cola: Pepito\n\nAgregamos nueva persona a la Cola\n\nSiguiente persona en la cola: Pepito\n\nDespachamos al principio de la cola: Pepito\nLa nueva siguiente persona en la cola: Laura\n\nAgregamos nueva persona a la Cola\n\nSiguiente persona en la cola: Laura\n\nDespachamos al principio de la cola: Laura\nLa nueva siguiente persona en la cola: Lucho\n\nDespachamos al principio de la cola: Lucho\nPara este punto la cola ya está vacía: None\n"
    }
   ],
   "source": [
    "# Creamos una nueva cola\n",
    "c = Cola()\n",
    "c.enqueue(\"Pepito\")\n",
    "print(\"Siguiente persona en la cola:\", c.peek())\n",
    "\n",
    "print(\"\\nAgregamos nueva persona a la Cola\")\n",
    "c.enqueue(\"Laura\")\n",
    "# Notarás que la siguiente persona en la cola sigue siendo Pepito,\n",
    "# porque no lo hemos despachado\n",
    "print(\"\\nSiguiente persona en la cola:\", c.peek())\n",
    "\n",
    "print(\"\\nDespachamos al principio de la cola:\", c.dequeue())\n",
    "print(\"La nueva siguiente persona en la cola:\", c.peek())\n",
    "\n",
    "print(\"\\nAgregamos nueva persona a la Cola\")\n",
    "c.enqueue(\"Lucho\")\n",
    "print(\"\\nSiguiente persona en la cola:\", c.peek())\n",
    "\n",
    "print(\"\\nDespachamos al principio de la cola:\", c.dequeue())\n",
    "print(\"La nueva siguiente persona en la cola:\", c.peek())\n",
    "\n",
    "print(\"\\nDespachamos al principio de la cola:\", c.dequeue())\n",
    "print(\"Para este punto la cola ya está vacía:\", c.peek())"
   ]
  }
 ]
}