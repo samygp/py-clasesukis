{
 "cells": [
  {
   "cell_type": "markdown",
   "metadata": {},
   "source": [
    "# Estructuras de datos: Listas Ligadas\n",
    "\n",
    "## ¿Qué es una estructura de datos?\n",
    "\n",
    "Cuando hablamos de **Estructuras de datos** en programación nos referimos a una manera de hacer un nuevo tipo de dato, que no es primitivo (`int`, `str`, `bool`, etc.), al que queremos darle un uso específico. Este nuevo tipo de dato puede estar compuesto por más de un dato primitivo internamente, que sea necesario para su comportamiento.\n",
    "\n",
    "Dependiendo del lenguaje de programación que decidas utilizar, habrá distintas maneras de definir una nueva estructura. En lenguajes como C, C++ y Golang se utiliza la palabra `struct` y dentro se definen los atributos que contienen. Pero tienen la particularidad de que, aunque suene parecido, **no son clases de objetos**, porque no tienen comportamiento incluído como parte de la definición del nuevo tipo de dato, son sólo eso: datos.\n",
    "\n",
    "Si lo escribiéramos en el lenguaje Go, una estructura se vería así:"
   ]
  },
  {
   "cell_type": "markdown",
   "metadata": {},
   "source": [
    "```go\n",
    "type MiEstructura struct {\n",
    "    numero int\n",
    "    cadena string\n",
    "}\n",
    "\n",
    "miVariable := MiEstructura{\n",
    "    numero: 14,\n",
    "    palabra: \"hola\"\n",
    "}\n",
    "fmt.Print(miVariable.numero) // Esto imprimiría \"14\"\n",
    "fmt.Print(miVariable.palabra) // Esto imprimiría \"hola\"\n",
    "miVariable.numero = 1 // Modifico el valor de \"numero\" en miVariable\n",
    "fmt.Print(miVariable.numero) // Ahora imprimiría \"1\"\n",
    "```"
   ]
  },
  {
   "cell_type": "markdown",
   "metadata": {},
   "source": [
    "En el ejemplo anterior primero se define el nuevo **tipo de dato** (`type`), que será una **estructura** (`struct`), y esa estructura contiene un entero llamado `numero` y una cadena llamado `palabra`. Después de definir esa estructura, guardamos en una variable una nueva instancia de esa estructura, inicializando los valores de \"numero\" y \"palabra\" a \"14\" y \"hola\" respectivamente. Como puedes notar, se puede acceder a los atributos de una estructura usando el punto, en una sintaxis `variable.atributo` igual que en Python. Podrás notar que, siendo una **estructura** y no un objeto no tiene métodos, y no tiene un constructor tampoco; la única sintaxis para crear la estructura y guardarla en una variable es referenciando el tipo de estructura (`MiEstructura` en este caso) y asignando los atributos directamente.\n",
    "\n",
    "Habiendo dicho eso, te pido una disculpa si suena confuso, porque de todas formas la única manera de hacer esto en Python es utilizando objetos, pero necesitaba dar esea explicación en detalle porque el significado de objetos y estructuras sí es diferente. Sin embargo, para hacerlo (por lo menos al principio) lo más cercano posible a la forma _tradicional_ de hacer estructuras, nuestros objetos de Python sólo guardarán atributos, y serán manipulados por otras funciones; o sea, nuestros objetos no tendrán métodos propios además del constructor (para inicializar los atributos), pero si entendiste la lección sobre POO, podrás fácilmente implementar estas estructuras con los métodos como parte de una clase."
   ]
  },
  {
   "cell_type": "markdown",
   "metadata": {},
   "source": [
    "## Listas Ligadas\n",
    "\n",
    "En la sección anterior mencionamos que las estructuras de datos son algo que definimos porque las necesitamos para un uso específico. Imagina que estás en los años 50, no existe Python, y no existien los arreglos (que por si te lo preguntabas, también son por sí mismos una estructura de datos), pero necesitas guardar en orden una secuencia de valores, como números, pero no quieres declarar una variable cada que necesites crear un elemento. La solución que le dieron en ese tiempo fue crear un dato que contenga dos números: uno será el valor que guarda, y el otro número será una referencia (o \"liga\") a otra dirección de memoria. A cada una de estas instancias de mi estructura les llamaremos \"nodos\" (imagínalos como capsulitas). La dirección de memoria empezará vacía, pero si quiero crear otro elemento, inicializaré un nuevo nodo, con un nuevo valor que quiero que guarde, y haré que mi nodo original guarde la dirección de memoria donde existe el nuevo nodo que acabo de crear.\n",
    "\n",
    "Dicho de una forma más breve: Un nodo contiene un número y una referencia a cuál es el siguiente nodo. Entonces puedo por ejemplo crear una lista de nodos en la que el primero contenga el número 12, el siguiente contenga el número 99, y el último guardará el 37. Este último nodo no guardará ninguna referencia.\n",
    "\n",
    "![lista](https://upload.wikimedia.org/wikipedia/commons/thumb/6/6d/Singly-linked-list.svg/408px-Singly-linked-list.svg.png)\n",
    "\n",
    "> Quizás te preguntes ¿por qué usaría listas ligadas si ahora sí existen los arreglos? A lo mejor te sorprenderá, o tal vez no, pero un buen ejemplo es la tecnología Blockchain que dio origen a Bitcoin y otros proyectos (mayormente de criptomonedas) donde cada bloque guarda, en su forma más básica, datos referentes a transacciones entre sus usuarios (puedes imaginarlo como una colección de elementos que indican \"Usuario A le envió 0.05 monedas a Usuario B\"), guarda una referencia al siguiente bloque, y guarda un \"*hash*\" (una especie de llave única), que combinada con el número del siguiente bloque comprueban la originalidad y validez de ese bloque. ¿Y por qué usan listas ligadas? La primera es porque el número identificador de cada bloque combinado con el Hash son la parte que garantiza que no son transacciones falsas, y que el bloque contiene información real, y la segunda: las Blockhain están hechas de muchas computadoras, no una sola, entonces no puedes guardar todos los bloques en una sola computadora, y se encuentran regados por todo el mundo, entonces necesitas una forma de, si buscas un bloque, saber preguntar \"cómo se llama\" y quién lo tiene.\n",
    "\n",
    "Por ejemplos como el anterior, sigue siendo relevante aprender de listas ligadas hoy en día; no sólo dieron pie en el pasado a cosas tan útiles como los arreglos, sino que son la base de cosas que actualmente siguen siendo innovadoras como las Blockchains."
   ]
  },
  {
   "cell_type": "markdown",
   "metadata": {},
   "source": [
    "### Crear una lista ligada en Python\n",
    "\n",
    "Para definir una lista ligada en Python primero debemos definir los elementos que la constituyen, los Nodos, entonces comenzaremos por definir una clase llamada nodo que guarde un número y una referencia. La referencia comenzará teniendo el valor nulo o vacío en Python: `None`."
   ]
  },
  {
   "cell_type": "code",
   "execution_count": 1,
   "metadata": {},
   "outputs": [],
   "source": [
    "class Nodo():\n",
    "    def __init__(self, valor):\n",
    "        self.valor = valor\n",
    "        self.siguiente = None"
   ]
  },
  {
   "cell_type": "markdown",
   "metadata": {},
   "source": [
    "Una vez definida nuestra estructura (clase, pues) podemos usar estos nodos para guardar referencias entre sí. Intentemos crear nodos que representen el ejemplo al inicio de esta sección. Llamaremos al primer nodo \"lista_ligada\" porque es donde comienza nuestra lista ligada."
   ]
  },
  {
   "cell_type": "code",
   "execution_count": 2,
   "metadata": {
    "tags": []
   },
   "outputs": [
    {
     "output_type": "stream",
     "name": "stdout",
     "text": "Valor del primer nodo: 12\nValor del segundo nodo: 99\nValor del tercer nodo: 37\nReferencia de memoria del primer nodo al segundo nodo: <__main__.Nodo object at 0x7f2dc0bd52d0>\nReferencia de memoria del segundo nodo al tercer nodo: <__main__.Nodo object at 0x7f2dc0bd5350>\nReferencia de memoria del tercer nodo: None\n"
    }
   ],
   "source": [
    "lista_ligada = Nodo(12)\n",
    "lista_ligada.siguiente = Nodo(99)\n",
    "lista_ligada.siguiente.siguiente = Nodo(37)\n",
    "\n",
    "print(\"Valor del primer nodo:\", lista_ligada.valor)\n",
    "print(\"Valor del segundo nodo:\", lista_ligada.siguiente.valor)\n",
    "print(\"Valor del tercer nodo:\", lista_ligada.siguiente.siguiente.valor)\n",
    "print(\"Referencia de memoria del primer nodo al segundo nodo:\", lista_ligada.siguiente)\n",
    "print(\"Referencia de memoria del segundo nodo al tercer nodo:\", lista_ligada.siguiente.siguiente)\n",
    "print(\"Referencia de memoria del tercer nodo:\", lista_ligada.siguiente.siguiente.siguiente)"
   ]
  },
  {
   "cell_type": "markdown",
   "metadata": {},
   "source": [
    "Puedes ver cómo el valor que guarda cada Nodo en su valor \"liga\" hace referencia a una dirección de memoria, cuyo número se representa en formato hexadecimal, y empieza con `0x`.\n",
    "\n",
    "Pero en lo anterior hay algo que comienza a parecer inconveniente ¿cómo sé hasta dónde llega la lista? ¿Cuántos elementos tiene si sólo conozco el nombre de la variable que apunta al primer elemento? ¿Sigo tratando de usar \"`.liga`\" hasta que en algún punto el valor sea `None` o Python arroje un error?\n",
    "\n",
    "Como buena parte de las cosas que a primera vista parecen inconvenientes cuando hablamos de algoritmos para lidiar con este tipo de cosas a veces inciertas, o con información que no tenemos de antemano que debemos encontrar (y para eso existen los algoritmos, evidentemente) la respuesta es: no. No es práctico ni útil seguir escribiendo `lista_ligada.liga.liga.liga.liga ...` hasta que Python te diga \"oye ¿no te has cansado todavía?\", y es en casos como este cuando podemos echar mano de nuestra amiga la **recursión**.\n",
    "\n",
    "#### Ejemplo: Obtener el valor en el último elemento de una lista ligada.\n",
    "\n",
    "Si queremos saber cuál es el valor guardado en el último elemento, algo que se puede hacer es usar una función que reciba como parámetro la referencia a un nodo, y revise si su valor de `liga` contiene un nodo o si no contiene nada (`None`).\n",
    "- Si nuestro nodo no contiene liga (`nodo.liga is None`) podemos regresar el valor contenido en el nodo.\n",
    "- Si nuestro nodo contiene un elemento siguiente en el atributo `liga`, entonces podemos llamar nuevamente a la función para que evalúe el siguiente nodo al que apunta.\n",
    "\n",
    "En el ejemplo a continuación reutilizaremos la variable `lista_ligada` para buscar el último valor contenido en esta lista, que debería ser `37`."
   ]
  },
  {
   "cell_type": "code",
   "execution_count": 3,
   "metadata": {
    "tags": []
   },
   "outputs": [
    {
     "output_type": "stream",
     "name": "stdout",
     "text": "37\n"
    }
   ],
   "source": [
    "def ultimo_valor(nodo):\n",
    "    if nodo.siguiente is None:\n",
    "        return nodo.valor\n",
    "    return ultimo_valor(nodo.siguiente)\n",
    "\n",
    "print(ultimo_valor(lista_ligada))"
   ]
  },
  {
   "cell_type": "markdown",
   "metadata": {},
   "source": [
    "#### Ejemplo: Contar elementos de una lista ligada\n",
    "\n",
    "Si analizas con cuidado el ejemplo anterior, podrás imaginar por dónde va la solución de este caso; para poder contar cuántos elementos tiene una lista ligada podemos usar dos parámetros en nuestra función recursiva: uno que haga referencia al nodo, y otro parámetro que nos sirva de contador para saber en qué índice nos encontramos actualmente.\n",
    "\n",
    "Como \"truco\" adicional, en Python podemos definir parámetros **opcionales**. Esto significa que cuando llamemos a nuestra función, podemos, o no, mandar un parámetro, y de todas maneras va a funcionar. Esto es porque en los parámetros que espera nuestra función podemos poner estos parámetros opcionales asignándoles un valor por default, como cuando asignas un valor cualquiera a una variable. Esto le dice a Python \"si no recibes este parámetro, dale este valor por defecto para usarlo dentro de la función\".\n",
    "\n",
    "Para el caso de nuestra función, definiremos el parámetro que nos sirve de índice como opcional, y tomará por defecto el valor \"1\", para que en la llamada principal de la función, utilicemos solamente la raíz de la lista ligada para que la función nos devuelva el valor de su longitud.\n",
    "\n",
    "- Si el nodo no tiene un siguiente elemento ligado, regresaremos la longitud que hayamos calculado hasta ese punto.\n",
    "- Si hay un siguiente nodo ligado, llamaremos recursivamente la función y aumentaremos el valor de la longitud en 1."
   ]
  },
  {
   "cell_type": "code",
   "execution_count": 4,
   "metadata": {
    "tags": []
   },
   "outputs": [
    {
     "output_type": "stream",
     "name": "stdout",
     "text": "La longitud de lista_ligada es: 3\n"
    }
   ],
   "source": [
    "def longitud_lista_ligada(nodo, longitud=1):\n",
    "    if nodo.siguiente is None:\n",
    "        return longitud\n",
    "    longitud += 1\n",
    "    return longitud_lista_ligada(nodo.siguiente, longitud)\n",
    "\n",
    "print(\"La longitud de lista_ligada es:\", longitud_lista_ligada(lista_ligada))"
   ]
  },
  {
   "cell_type": "markdown",
   "metadata": {},
   "source": [
    "### Iterar sin recursión\n",
    "\n",
    "Los ejemplos anteriores utilizan recursión para iterar una lista ligada. Aunque en algunas estructuras, como los árboles (de los que hablaremos después) es conveniente hacerlo de esta forma, en las listas ligadas no es tan necesario, y se pueden recorrer de forma iterativa (sin recursión).\n",
    "\n",
    "#### Imprimir todos los elementos de la lista\n",
    "\n",
    "Hagamos el ejemplo más simple posible para iterar la lista entera, imprimir cada elemento mientras encontremos un siguiente nodo."
   ]
  },
  {
   "cell_type": "code",
   "execution_count": 5,
   "metadata": {
    "tags": []
   },
   "outputs": [
    {
     "output_type": "stream",
     "name": "stdout",
     "text": "12\n99\n37\n"
    }
   ],
   "source": [
    "def imprimir_lista(nodo):\n",
    "    n = nodo #Variable que usaremos para iterar los nodos, empieza apuntando al primer nodo\n",
    "    while n is not None: #Mientras \"n\" sea un nodo (y no sea None)\n",
    "        print(n.valor)\n",
    "        n = n.siguiente #\"n\" ahora apuntará al valor que guarda en el atributo \"siguiente\"\n",
    "\n",
    "imprimir_lista(lista_ligada)"
   ]
  },
  {
   "cell_type": "markdown",
   "metadata": {},
   "source": [
    "#### Buscar un valor en la lista\n",
    "\n",
    "En el siguiente ejemplo recibiremos como parámetro el primer nodo de una lista ligada, y como segundo parámetro un valor que buscamos. Nuestra función retornará el índice del nodo en el que se encontró el valor, si existe; si no existe retornará `-1`"
   ]
  },
  {
   "cell_type": "code",
   "execution_count": 6,
   "metadata": {
    "tags": []
   },
   "outputs": [
    {
     "output_type": "stream",
     "name": "stdout",
     "text": "Indice del valor '37': 2\nIndice del valor '99': 1\nIndice del valor '100': -1\n"
    }
   ],
   "source": [
    "def buscar_valor(nodo, valor):\n",
    "    i = 0 #Variable para guardar el índice actual\n",
    "    n = nodo \n",
    "    while n is not None: \n",
    "        if n.valor == valor:\n",
    "            return i\n",
    "        i += 1\n",
    "        n = n.siguiente #Recorremos \"n\" al siguiente nodo\n",
    "    return -1 #Si no se encontró el valor dentro del ciclo, regresar \"-1\"\n",
    "\n",
    "print(\"Indice del valor '37':\", buscar_valor(lista_ligada, 37))\n",
    "print(\"Indice del valor '99':\", buscar_valor(lista_ligada, 99))\n",
    "print(\"Indice del valor '100':\", buscar_valor(lista_ligada, 100))"
   ]
  },
  {
   "cell_type": "markdown",
   "metadata": {},
   "source": [
    "## Agregar y eliminar elementos de una lista ligada\n",
    "\n",
    "Esta parte es la que puede ser un poco más pesada de esta lección, pero si lo entiendes, te servirá para casi todas las demás estructuras que usan referencias a un elemento siguiente como los árboles, pilas y colas.\n",
    "\n",
    "Empecemos por el algoritmo para insertar un elemento a una lista ligada, que si pusiste atención a los ejemplos anteriores, podrías deducir por tu propia cuenta cómo se hace.\n",
    "\n",
    "### Agregar un nuevo elemento\n",
    "\n",
    "1. Crear un nodo nuevo con el valor esperado.\n",
    "2. Si la lista está vacía (el primer nodo no existe), regresar el nuevo nodo creado\n",
    "3. Si la lista no está vacía, iterar la lista ligada hasta que el último elemento no apunte a un elemento siguiente.\n",
    "3. En el último elemento asignar a su atributo \"siguiente\" el nuevo nodo creado."
   ]
  },
  {
   "cell_type": "code",
   "execution_count": 7,
   "metadata": {
    "tags": []
   },
   "outputs": [
    {
     "output_type": "stream",
     "name": "stdout",
     "text": "mi_lista contiene:\n1\nAgregar nuevos nodos\nmi_lista contiene:\n1\n5\n8\n14\n18\n"
    }
   ],
   "source": [
    "def agregar_nodo(cabeza, valor):\n",
    "    nuevo_nodo = Nodo(valor)\n",
    "    if cabeza is None:\n",
    "        return nuevo_nodo\n",
    "    n = cabeza\n",
    "    while n.siguiente is not None:\n",
    "        n = n.siguiente\n",
    "    n.siguiente = nuevo_nodo\n",
    "    return cabeza\n",
    "\n",
    "mi_lista = agregar_nodo(None, 1) #Llamamos a la función usando \"None\" como cabeza, para indicar que la lista está vacía\n",
    "\n",
    "print(\"mi_lista contiene:\")\n",
    "imprimir_lista(mi_lista)\n",
    "\n",
    "print(\"Agregar nuevos nodos\")\n",
    "agregar_nodo(mi_lista, 5)\n",
    "agregar_nodo(mi_lista, 8)\n",
    "agregar_nodo(mi_lista, 14)\n",
    "agregar_nodo(mi_lista, 18)\n",
    "\n",
    "print(\"mi_lista contiene:\")\n",
    "imprimir_lista(mi_lista)"
   ]
  },
  {
   "cell_type": "markdown",
   "metadata": {},
   "source": [
    "### Remover un elemento\n",
    "\n",
    "La operación de agregar nuevos nodos a una lista es por la mayor parte sencilla, pero remover un nodo tiene más implicaciones, porque hay que tener más precauciones, ya que si uno de los elementos pierde la referencia al elemento siguiente, o en cualquier punto se rompe la cadena si removemos un elemento que forme parte de la lista, podemos perder el resto de la información contenida en la lista.\n",
    "\n",
    "Por ejemplo, tenemos una lista **`1 -> 2 -> 3 -> 4 -> None`**.\n",
    "Si queremos remover el elemento \"3\" de la lista, y solamente lo eliminamos, el elemento \"2\" perdería la referencia a los demás elementos de la liga, o sea que el elemento \"4\" se perdería.\n",
    "Para que esto no sucede tienen que suceder dos cosas:\n",
    "\n",
    "1. Tenemos que encontrar **qué elemento está antes del que buscamos**\n",
    "2. Hacer que ese elemento anterior cambie su atributo \"siguiente\" para que apunte al elemento que sigue del que queremos eliminar.\n",
    "3. Eliminar el nodo deseado\n",
    "\n",
    "La forma de eliminar objetos en Python es usando la palabra reservada `del` (abreviación de \"delete\" en inglés)\n",
    "\n",
    "Si el elemento que queremos eliminar es la cabeza de la lista, hay dos opciones:\n",
    "\n",
    "Opción A:\n",
    "1. Asignar el valor del segundo nodo al nodo de la cabeza\n",
    "2. Hacer que el nodo cabeza apunte al tercer elemento (\"siguiente\" del segundo elemento)\n",
    "\n",
    "Opción B:\n",
    "1. Hacer que el nodo cabeza sea el segundo elemento.\n",
    "2. Eliminar la cabeza original\n",
    "\n",
    "Por casos como este, normalmente estas funciones de listas ligadas se implementan retornando el nodo cabeza, para que la variable que lo contiene siempre apunte al primer nodo.\n",
    "\n",
    "Para este caso, por ser más sencillo, usaremos la opción B si el nodo que queremos eliminar es la cabeza."
   ]
  },
  {
   "cell_type": "code",
   "execution_count": 8,
   "metadata": {
    "tags": []
   },
   "outputs": [
    {
     "output_type": "stream",
     "name": "stdout",
     "text": "mi_lista contiene:\n1\n5\n8\n14\n18\nEliminar el valor: 5\n\n mi_lista contiene:\n1\n8\n14\n18\nEliminar el valor: 111\nNo se encontró el valor 111 en la lista\nEliminar el valor: 18\n\n mi_lista contiene:\n1\n8\n14\nEliminar el valor: 1\n\n mi_lista contiene:\n8\n14\nEliminar el valor: 8\nEliminar el valor: 14\nEliminar el valor: 1\nLa lista está vacía\n"
    }
   ],
   "source": [
    "def eliminar_nodo(cabeza, valor):\n",
    "    print(\"Eliminar el valor:\", valor)\n",
    "    if cabeza is None:\n",
    "        print(\"La lista está vacía\")\n",
    "        return cabeza\n",
    "    elif cabeza.valor == valor:\n",
    "        n = cabeza.siguiente\n",
    "        del cabeza\n",
    "        return n\n",
    "    anterior = cabeza #\"anterior\" guarda la referencia al nodo anterior al que buscamos\n",
    "    n = anterior.siguiente #\"n\" apuntará al nodo que buscamos\n",
    "    while n is not None and n.valor != valor:\n",
    "        anterior = n\n",
    "        n = n.siguiente\n",
    "    #Si encontramos el valor que buscamos\n",
    "    if n is not None:\n",
    "        anterior.siguiente = n.siguiente\n",
    "        del n\n",
    "    else:\n",
    "        print(\"No se encontró el valor\", valor, \"en la lista\")\n",
    "    return cabeza\n",
    "\n",
    "print(\" mi_lista contiene:\")\n",
    "imprimir_lista(mi_lista)\n",
    "\n",
    "mi_lista = eliminar_nodo(mi_lista, 5)\n",
    "\n",
    "print(\"\\n mi_lista contiene:\")\n",
    "imprimir_lista(mi_lista)\n",
    "\n",
    "mi_lista = eliminar_nodo(mi_lista, 111)\n",
    "mi_lista = eliminar_nodo(mi_lista, 18)\n",
    "\n",
    "print(\"\\n mi_lista contiene:\")\n",
    "imprimir_lista(mi_lista)\n",
    "\n",
    "mi_lista = eliminar_nodo(mi_lista, 1)\n",
    "\n",
    "print(\"\\n mi_lista contiene:\")\n",
    "imprimir_lista(mi_lista)\n",
    "\n",
    "mi_lista = eliminar_nodo(mi_lista, 8)\n",
    "mi_lista = eliminar_nodo(mi_lista, 14)\n",
    "mi_lista = eliminar_nodo(mi_lista, 1)"
   ]
  }
 ],
 "metadata": {
  "language_info": {
   "codemirror_mode": {
    "name": "ipython",
    "version": 3
   },
   "file_extension": ".py",
   "mimetype": "text/x-python",
   "name": "python",
   "nbconvert_exporter": "python",
   "pygments_lexer": "ipython3",
   "version": "3.7.5-final"
  },
  "orig_nbformat": 2,
  "kernelspec": {
   "name": "python37564bitpyenvvenvd4b75a7901ba4a5292e75ea444303d15",
   "display_name": "Python 3.7.5 64-bit ('pyenv': venv)"
  }
 },
 "nbformat": 4,
 "nbformat_minor": 2
}