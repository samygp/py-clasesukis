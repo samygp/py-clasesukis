{
 "cells": [
  {
   "cell_type": "markdown",
   "metadata": {},
   "source": [
    "# Estructuras de datos: Listas Ligadas\n",
    "\n",
    "## ¿Qué es una estructura de datos?\n",
    "\n",
    "Cuando hablamos de **Estructuras de datos** en programación nos referimos a una manera de hacer un nuevo tipo de dato, que no es primitivo (`int`, `str`, `bool`, etc.), al que queremos darle un uso específico. Este nuevo tipo de dato puede estar compuesto por más de un dato primitivo internamente, que sea necesario para su comportamiento.\n",
    "\n",
    "Dependiendo del lenguaje de programación que decidas utilizar, habrá distintas maneras de definir una nueva estructura. En lenguajes como C, C++ y Golang se utiliza la palabra `struct` y dentro se definen los atributos que contienen. Pero tienen la particularidad de que, aunque suene parecido, **no son clases de objetos**, porque no tienen comportamiento incluído como parte de la definición del nuevo tipo de dato, son sólo eso: datos.\n",
    "\n",
    "Si lo escribiéramos en el lenguaje Go, una estructura se vería así:"
   ]
  },
  {
   "cell_type": "markdown",
   "metadata": {},
   "source": [
    "```\n",
    "type MiEstructura struct {\n",
    "    numero int\n",
    "    cadena string\n",
    "}\n",
    "\n",
    "miVariable := MiEstructura{\n",
    "    numero: 14,\n",
    "    palabra: \"hola\"\n",
    "}\n",
    "fmt.Print(miVariable.numero) // Esto imprimiría \"14\"\n",
    "fmt.Print(miVariable.palabra) // Esto imprimiría \"hola\"\n",
    "miVariable.numero = 1 // Modifico el valor de \"numero\" en miVariable\n",
    "fmt.Print(miVariable.numero) // Ahora imprimiría \"1\"\n",
    "```"
   ]
  },
  {
   "cell_type": "markdown",
   "metadata": {},
   "source": [
    "En el ejemplo anterior primero se define el nuevo **tipo de dato** (`type`), que será una **estructura** (`struct`), y esa estructura contiene un entero llamado `numero` y una cadena llamado `palabra`. Después de definir esa estructura, guardamos en una variable una nueva instancia de esa estructura, inicializando los valores de \"numero\" y \"palabra\" a \"14\" y \"hola\" respectivamente. Como puedes notar, se puede acceder a los atributos de una estructura usando el punto, en una sintaxis `variable.atributo` igual que en Python. Podrás notar que, siendo una **estructura** y no un objeto no tiene métodos, y no tiene un constructor tampoco; la única sintaxis para crear la estructura y guardarla en una variable es referenciando el tipo de estructura (`MiEstructura` en este caso) y asignando los atributos directamente.\n",
    "\n",
    "Habiendo dicho eso, te pido una disculpa si suena confuso, porque de todas formas la única manera de hacer esto en Python es utilizando objetos, pero necesitaba dar esea explicación en detalle porque el significado de objetos y estructuras sí es diferente. Sin embargo, para hacerlo (por lo menos al principio) lo más cercano posible a la forma estricta de hacer estructuras, nuestros objetos de Python sólo guardarán atributos, y serán manipulados por otras funciones; o sea, nuestros objetos no tendrán métodos propios además del constructor (para inicializar los atributos). Después de haber explorado esa manera tradicional de trabajar con estructuras, usaremos el enfoque orientado a objetos.\n",
    "> **Nota:** Es importante que conozcas ambos, porque no todos los lenguajes son orientados a objetos."
   ]
  },
  {
   "cell_type": "markdown",
   "metadata": {},
   "source": [
    "## Listas Ligadas\n",
    "\n",
    "En la sección anterior mencionamos que las estructuras de datos son algo que definimos porque las necesitamos para un uso específico. Imagina que estás en los años 50, no existe Python, y no existien los arreglos (que por si te lo preguntabas, también son por sí mismos una estructura de datos), pero necesitas guardar en orden una secuencia de valores, como números, pero no quieres declarar una variable cada que necesites crear un elemento. La solución que le dieron en ese tiempo fue crear un dato que contenga dos números: uno será el valor que guarda, y el otro número será una referencia (o \"liga\") a otra dirección de memoria. A cada una de estas instancias de mi estructura les llamaremos \"nodos\" (imagínalos como capsulitas). La dirección de memoria empezará vacía, pero si quiero crear otro elemento, inicializaré un nuevo nodo, con un nuevo valor que quiero que guarde, y haré que mi nodo original guarde la dirección de memoria donde existe el nuevo nodo que acabo de crear.\n",
    "\n",
    "Dicho de una forma más breve: Un nodo contiene un número y una referencia a cuál es el siguiente nodo. Entonces puedo por ejemplo crear una lista de nodos en la que el primero contenga el número 12, el siguiente contenga el número 99, y el último guardará el 37. Este último nodo no guardará ninguna referencia.\n",
    "\n",
    "<figure>\n",
    "<img src=\"https://upload.wikimedia.org/wikipedia/commons/thumb/6/6d/Singly-linked-list.svg/408px-Singly-linked-list.svg.png\" style=\"background-color:white;\"/>\n",
    "<figcaption>Imagen de <a href=\"https://en.wikipedia.org/wiki/Linked_list\">Wikipedia</a></figcaption>\n",
    "</figure>\n",
    "\n",
    "> Quizás te preguntes ¿por qué usaría listas ligadas si ahora sí existen los arreglos? A lo mejor te sorprenderá, o tal vez no, pero un buen ejemplo es la tecnología Blockchain que dio origen a Bitcoin y otros proyectos (mayormente de criptomonedas) donde cada bloque guarda, en su forma más básica, datos referentes a transacciones entre sus usuarios (puedes imaginarlo como una colección de elementos que indican \"Usuario A le envió 0.05 monedas a Usuario B\"), guarda una referencia al siguiente bloque, y guarda un \"*hash*\" (una especie de llave única), que combinada con el número del siguiente bloque comprueban la originalidad y validez de ese bloque. ¿Y por qué usan listas ligadas? La primera es porque el número identificador de cada bloque combinado con el Hash son la parte que garantiza que no son transacciones falsas, y que el bloque contiene información real, y la segunda: las Blockhain están hechas de muchas computadoras, no una sola, entonces no puedes guardar todos los bloques en una sola computadora, y se encuentran regados por todo el mundo, entonces necesitas una forma de, si buscas un bloque, saber preguntar \"cómo se llama\" y quién lo tiene.\n",
    "\n",
    "Por ejemplos como el anterior, sigue siendo relevante aprender de listas ligadas hoy en día; no sólo dieron pie en el pasado a cosas tan útiles como los arreglos, sino que son la base de cosas que actualmente siguen siendo innovadoras como las Blockchains."
   ]
  },
  {
   "cell_type": "markdown",
   "metadata": {},
   "source": [
    "### Crear una lista ligada en Python\n",
    "\n",
    "Para definir una lista ligada en Python primero debemos definir los elementos que la constituyen, los Nodos, entonces comenzaremos por definir una clase llamada nodo que guarde un número y una referencia. La referencia comenzará teniendo el valor nulo o vacío en Python: `None`."
   ]
  },
  {
   "cell_type": "code",
   "execution_count": 1,
   "metadata": {},
   "outputs": [],
   "source": [
    "class Nodo():\n",
    "    def __init__(self, valor):\n",
    "        self.valor = valor\n",
    "        self.liga = None"
   ]
  },
  {
   "cell_type": "markdown",
   "metadata": {},
   "source": [
    "Una vez definida nuestra estructura (clase, pues) podemos usar estos nodos para guardar referencias entre sí. Intentemos crear nodos que representen el ejemplo al inicio de esta sección. Llamaremos al primer nodo \"lista_ligada\" porque es donde comienza nuestra lista ligada."
   ]
  },
  {
   "cell_type": "code",
   "execution_count": 4,
   "metadata": {},
   "outputs": [
    {
     "output_type": "stream",
     "name": "stdout",
     "text": "Valor del primer nodo: 12\nValor del segundo nodo: 99\nValor del tercer nodo: 37\nReferencia de memoria del primer nodo al segundo nodo: <__main__.Nodo object at 0x7fa8f5cce110>\nReferencia de memoria del segundo nodo al tercer nodo: <__main__.Nodo object at 0x7fa8f5cf2c90>\nReferencia de memoria del tercer nodo: None\n"
    }
   ],
   "source": [
    "lista_ligada = Nodo(12)\n",
    "lista_ligada.liga = Nodo(99)\n",
    "lista_ligada.liga.liga = Nodo(37)\n",
    "\n",
    "print(\"Valor del primer nodo:\", lista_ligada.valor)\n",
    "print(\"Valor del segundo nodo:\", lista_ligada.liga.valor)\n",
    "print(\"Valor del tercer nodo:\", lista_ligada.liga.liga.valor)\n",
    "print(\"Referencia de memoria del primer nodo al segundo nodo:\", lista_ligada.liga)\n",
    "print(\"Referencia de memoria del segundo nodo al tercer nodo:\", lista_ligada.liga.liga)\n",
    "print(\"Referencia de memoria del tercer nodo:\", lista_ligada.liga.liga.liga)"
   ]
  },
  {
   "cell_type": "markdown",
   "metadata": {},
   "source": [
    "Puedes ver cómo el valor que guarda cada Nodo en su valor \"liga\" hace referencia a una dirección de memoria, cuyo número se representa en formato hexadecimal, y empieza con `0x`.\n",
    "\n",
    "Pero en lo anterior hay algo que comienza a parecer inconveniente ¿cómo sé hasta dónde llega la lista? ¿Cuántos elementos tiene si sólo conozco el nombre de la variable que apunta al primer elemento? ¿Sigo tratando de usar \"`.liga`\" hasta que en algún punto el valor sea `None` o Python arroje un error?\n",
    "\n",
    "Como buena parte de las cosas que a primera vista parecen inconvenientes cuando hablamos de algoritmos para lidiar con este tipo de cosas a veces inciertas, o con información que no tenemos de antemano que debemos encontrar (y para eso existen los algoritmos, evidentemente) la respuesta es: no. No es práctico ni útil seguir escribiendo `lista_ligada.liga.liga.liga.liga ...` hasta que Python te diga \"oye ¿no te has cansado todavía?\", y es en casos como este cuando podemos echar mano de nuestra amiga la **recursión**.\n",
    "\n",
    "#### Ejemplo: Obtener el valor en el último elemento de una lista ligada.\n",
    "\n",
    "Si queremos saber cuál es el valor guardado en el último elemento, algo que se puede hacer es usar una función que reciba como parámetro la referencia a un nodo, y revise si su valor de `liga` contiene un nodo o si no contiene nada (`None`).\n",
    "- Si nuestro nodo no contiene liga (`nodo.liga is None`) podemos regresar el valor contenido en el nodo.\n",
    "- Si nuestro nodo contiene un elemento siguiente en el atributo `liga`, entonces podemos llamar nuevamente a la función para que evalúe el siguiente nodo al que apunta.\n",
    "\n",
    "En el ejemplo a continuación reutilizaremos la variable `lista_ligada` para buscar el último valor contenido en esta lista, que debería ser `37`."
   ]
  },
  {
   "cell_type": "code",
   "execution_count": 6,
   "metadata": {},
   "outputs": [
    {
     "output_type": "stream",
     "name": "stdout",
     "text": "37\n"
    }
   ],
   "source": [
    "def ultimo_valor(nodo):\n",
    "    if nodo.liga is None:\n",
    "        return nodo.valor\n",
    "    return ultimo_valor(nodo.liga)\n",
    "\n",
    "print(ultimo_valor(lista_ligada))"
   ]
  },
  {
   "cell_type": "markdown",
   "metadata": {},
   "source": [
    "#### Ejemplo: Contar elementos de una lista ligada\n",
    "\n",
    "Si analizas con cuidado el ejemplo anterior, podrás imaginar por dónde va la solución de este caso; para poder contar cuántos elementos tiene una lista ligada podemos usar dos parámetros en nuestra función recursiva: uno que haga referencia al nodo, y otro parámetro que nos sirva de contador para saber en qué índice nos encontramos actualmente.\n",
    "\n",
    "Como \"truco\" adicional, en Python podemos definir parámetros **opcionales**. Esto significa que cuando llamemos a nuestra función, podemos, o no, mandar un parámetro, y de todas maneras va a funcionar. Esto es porque en los parámetros que espera nuestra función podemos poner estos parámetros opcionales asignándoles un valor por default, como cuando asignas un valor cualquiera a una variable. Esto le dice a Python \"si no recibes este parámetro, dale este valor por defecto para usarlo dentro de la función\".\n",
    "\n",
    "Para el caso de nuestra función, definiremos el parámetro que nos sirve de índice como opcional, y tomará por defecto el valor \"1\", para que en la llamada principal de la función, utilicemos solamente la raíz de la lista ligada para que la función nos devuelva el valor de su longitud.\n",
    "\n",
    "- Si el nodo no tiene un siguiente elemento ligado, regresaremos la longitud que hayamos calculado hasta ese punto.\n",
    "- Si hay un siguiente nodo ligado, llamaremos recursivamente la función y aumentaremos el valor de la longitud en 1."
   ]
  },
  {
   "cell_type": "code",
   "execution_count": 7,
   "metadata": {},
   "outputs": [
    {
     "output_type": "stream",
     "name": "stdout",
     "text": "3\n"
    }
   ],
   "source": [
    "def longitud_lista_ligada(nodo, longitud=1):\n",
    "    if nodo.liga is None:\n",
    "        return longitud\n",
    "    longitud += 1\n",
    "    return longitud_lista_ligada(nodo.liga, longitud)\n",
    "\n",
    "print(\"La longitud de lista_ligada es:\", longitud_lista_ligada(lista_ligada))"
   ]
  }
 ],
 "metadata": {
  "language_info": {
   "codemirror_mode": {
    "name": "ipython",
    "version": 3
   },
   "file_extension": ".py",
   "mimetype": "text/x-python",
   "name": "python",
   "nbconvert_exporter": "python",
   "pygments_lexer": "ipython3",
   "version": "3.7.5-final"
  },
  "orig_nbformat": 2,
  "kernelspec": {
   "name": "python37564bitpyenvvenvd4b75a7901ba4a5292e75ea444303d15",
   "display_name": "Python 3.7.5 64-bit ('pyenv': venv)"
  }
 },
 "nbformat": 4,
 "nbformat_minor": 2
}