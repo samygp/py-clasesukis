{
 "cells": [
  {
   "cell_type": "markdown",
   "metadata": {},
   "source": [
    "# Programación orientada a objetos (POO)\n",
    "\n",
    "Deberías tomar orgullo en llegar hasta este punto. Si llegaste hasta aquí ya sabes lo básico de cómo hacer un programa, o sea, cómo hacer que tu programa haga cálculos, imprima cadenas, manipule y use listas, qué hacer con tus variables, cómo hacer funciones para no re-escribir código si lo vas a usar muchas veces.\n",
    "\n",
    "Hay que reconocer que para muchos no es fácil aprender todo eso, y lleva bastante dedicación entender todo esto si nunca antes habías programado. Te felicito por eso.\n",
    "\n",
    "Ahora debemos dar el siguiente paso, empezaremos con tópicos intermedios, que harán de tu programación algo más completo, que te darán las bases para hacer que tus programas puedan escalar hasta ser aplicaciones, capaces de mover datos de un lado a otro, hacer cálculos más complejos, todo esto mientras puedes abstraer tu lógica en entidades que tengan comportamiento bien definido y que interactúen entre sí, como tener una empresa con gente que hace cosas distintas, y cada persona es especialista en algo, pero puede colaborar con las demás.\n",
    "\n",
    "Esta forma (o más precisamente \"**paradigma**\") de pensar en esas \"entidades\" independientes en tu código que trabajan en conjunto mientras cada una hace sus propias tareas en las que es bueno se conoce como **Programación Orientada a Objetos** (POO)."
   ]
  },
  {
   "cell_type": "markdown",
   "metadata": {},
   "source": [
    "## Intuición\n",
    "\n",
    "Usemos una versión diferente del ejemplo de la empresa, usemos algo más pequeño para entender un poco mejor de qué se trata la POO. Imaginemo un restaurante pequeño.\n",
    "\n",
    "En nuestro restaurante tenemos diferente gente que trabaja en cosas muy específicas cada una. Las personas que trabajan en el restaurante son:\n",
    "\n",
    "1. Proveedor: Se encarga de conseguir insumos e ingredientes para preparar la comida y conseguir las bebidas.\n",
    "2. Cocinero: El cocinero se encarga de preparar la comida usando ingredientes que le trae el proveedor y entregar la comida al mesero.\n",
    "3. Mesero: Recibe las órdenes de los clientes, que le entrega al cocinero, para después llevar la comida a cada cliente. Finalmente cobra la cuenta y lleva dinero a la cajera.\n",
    "4. Cajera: Genera las cuentas para cada cliente y recibe el dinero que trae el mesero.\n",
    "\n",
    "Cada una de estas personas, además de tener sus actividades específicas, tienen **acciones** en común que todos pueden hacer. Por ejemplo, todos pueden **moverse**, y todos pueden **leer** (las comandas de comida, o la cuenta, o una factura).\n",
    "\n",
    "Al mismo tiempo, cada una tiene **atributos** que cambian de persona a persona, pero que sirven para **describir** a esa persona en específico (nombre, edad, estatura...).\n",
    "\n",
    "Finalmente, lo único que queda es que la **entidad** principal que agrupa a todas estas personas es, después de todo, el restaurante. Y podríamos visualizar todo esto así.\n",
    "\n",
    "<img src=\"../../res/mod_2/poo/restaurante_dibujo.png\" width=650/>"
   ]
  },
  {
   "cell_type": "markdown",
   "metadata": {},
   "source": [
    "Ahora que sabemos quiénes están involucrados, qué hacen y cómo son les podemos poner un nombre formal a lo que representa cada uno.\n",
    "\n",
    "Cada uno de los actores o entidades en este ejemplo se llaman **`clases`**. Todo lo que usamos para describir una clase, o los valores que nos dicen su estado actual, o qué lo caracteriza en un momento dado, se llaman **`atributos`**. Y lo que pueden hacer, las acciones, o cómo interactúan con otras clases, o con la información que reciben, es conocido como **`método`**.\n",
    "\n",
    "Dicho de otra forma, es una forma de agrupar variables (`atributos`) y funciones/subrutinas (`métodos`) bajo un mismo tipo (`clase`).\n",
    "\n",
    "## Lenguaje de Modelado Unificado (UML)\n",
    "\n",
    "El Lenguaje de Modelado Unificado (o UML, por sus siglas en inglés) es un \"lenguaje\" más bien pictográfico, que incluye las reglas de diagramas y representaciones gráficas para conceptos de programación orientada a objetos. En esta lección empezarás a conocer cómo se ven los llamados **`diagramas de clase`** (y cómo hacer los tuyos). Hay más de una herramienta en línea que te ayuda a dibujar estos diagramas, o los puedes hacer a mano (te recomiendo esto último si es la primera vez que lo haces).\n",
    "\n",
    "Con los diagramas de clase podremos explicar e ir incorporando cada uno de los conceptos de esta lección: **`clases, métodos y atributos`**, que en estos diagramas se distribuyen de la siguiente manera en cada caja que representa una misma clase:\n",
    "\n",
    "<img src=\"../../res/mod_2/poo/clase_ejemplo.png\" width=250/>"
   ]
  },
  {
   "cell_type": "markdown",
   "metadata": {},
   "source": [
    "## Clases\n",
    "\n",
    "Esta definición es muy breve, porque por sí sola no puede hacer mucho. Una clase es el nombre que le damos a una \"entidad\", y que contiene todo lo que describe sus características y las acciones que puede realizar. Por ejemplo, una clase llamada `Persona` nos podría servir como el diseño o \"plano\" de qué es una persona, qué hace y cómo se puede describir.\n",
    "\n",
    "Al proceso en el que nos concentramos en describir la idea de \"qué es\", \"de qué está hecho\" y \"qué hace\" se le conoce como \"abstracción\". En este proceso de abstraer una clase nos concentramos más en esas preguntas, pero no nos importa cómo se encuentra en este momento, o en los detalles específicos de qué está haciendo, sino, precisamente, cómo la podemos describir (o abstraer).\n",
    "\n",
    "Por ejemplo, una clase puede llamarse `Persona`, o puede llamarse `PersonaAdulta`, pero no debe escribirse `persona` o `persona_adulta`, porque la convención de usar minúsculas y juntar las palabras con guión bajo está reservada para los nombres de funciones.\n",
    "\n",
    "En el diagrama de clase, la primera sección solamente contiene el nombre de la clase.\n",
    "\n",
    "<img src=\"../../res/mod_2/poo/persona_1.png\" width=250/>"
   ]
  },
  {
   "cell_type": "markdown",
   "metadata": {},
   "source": [
    "## Atributos\n",
    "\n",
    "Los atributos de una clase son todo aquello que nos ayuda a describir su estado actual. Son variables que están estrictamente ligadas sólo a la clase, por lo que es sólo la clase la que debería tener acceso a estos atributos.\n",
    "\n",
    "Por ejemplo, podemos tener de atributos para una persona su nombre, edad y estado de ánimo. El nombre es poco probable que cambie, pero técnicamente es posible. La edad es algo que cambiará cada año el día de su cumpleaños. Y el estado de ánimo es algo que difícilmente se va a mantener igual por mucho tiempo, entonces puedes tener mucha certeza de que cambia y cambiará. \n",
    "\n",
    "Los atributos de una clase en el diagrama de clases se escriben en la sección del medio, con la primera parte de cada línea siendo el nombre del atributo, y la segunda parte, separada por dos puntos, contiene el tipo de dato que va a representar (`nombre_del_atributo: tipo_de_dato`). En el caso de nuestro diagrama lo representaremos de la siguiente forma:\n",
    "\n",
    "<img src=\"../../res/mod_2/poo/persona_2.png\" width=250/>"
   ]
  },
  {
   "cell_type": "markdown",
   "metadata": {},
   "source": [
    "## Métodos\n",
    "\n",
    "Los métodos de una clase son aquello que define qué es capaz de hacer nuestra clase. Son funciones y subrutinas que pueden recibir parámetros si interactúan con información externa (que no pertenece a la clase), o pueden no recibir parámetros si sólo necesitan información que está presente en los atributos de la clase.\n",
    "\n",
    "Estos métodos tienen el mismo propósito que cualquier otra función o subrutina: permitir comportamiento reutilizable para no reescribir un procedimiento cada vez que necesitemos realizar la misma operación (como buscar un elemento en una lista), con la única diferencia de que los métodos de una clase pueden acceder directamente a los atributos de esta misma clase.\n",
    "\n",
    "Por ejemplo, una persona puede saludar diciendo su propia información, o preguntar si la persona es mayor, menor o igual que otra persona comparando ambas edades, y que nos responda solamente el número. \n",
    "\n",
    "En el diagrama de clase se escribe en cada línea de la última sección el nombre de cada método, seguido por los parámetros que recibe y finalmente el tipo de dato que retorna (`nombre_funcion(parametros): tipo_de_dato`), o sin esta última parte si no retorna nada. Agregaremos estos dos ejemplos a nuestra clase.\n",
    "\n",
    "<img src=\"../../res/mod_2/poo/persona_3.png\" width=250/>"
   ]
  },
  {
   "cell_type": "markdown",
   "metadata": {},
   "source": [
    "## Objetos\n",
    "\n",
    "Una vez que tenemos definida una clase podemos comenzar a usar toda la funcionalidad que está incluída en ella. Lo único que queda por hacer para utilizarla es **`instanciar`** la clase. Instanciar, en POO, significa crear un **`objeto`** que está hecho con la definición de una clase. En un programa que sigue el paradigma de POO, como su nombre lo indica, se pueden utilizar múltiples objetos, y se pueden tener objetos de diferentes clases, y múltiples objetos de la misma clase.\n",
    "\n",
    "Los objetos que instanciamos a partir de una clase se pueden almacenar en variables, como cualquier otro tipo de dato. En el caso de Python **todo** es un objeto. Hay lenguajes que permiten tener variables que contienen datos primitivos (`int, float, bool`) que sólo son eso, un dato, pero no tiene ningún comportamiento asociado (no tiene métodos que lo manipulen). Pero como quizás hayas notado, por ejemplo, las listas de Python son un tipo de objeto, que tiene como atributos los elementos que contiene esa lista, y tiene métodos como `append` y `pop` que modifican el estado (los atributos) de la lista, agregando o quitando elementos de ella."
   ]
  },
  {
   "cell_type": "markdown",
   "metadata": {},
   "source": [
    "## Crear e instanciar una clase en Python\n",
    "\n",
    "La sintaxis en Python para declarar una clase es muy similar a definir una función. Se escribe la palabra reservada **`class`** (en vez de `def`) seguida de un espacio en blanco e inmediatamente el nombre que le daremos a nuestra clase, paréntesis que puede contener uno o más parámetros, y termina dos puntos para continuar con el código indentado que dará la funcionalidad a nuestra clase. El nombre de una clase, por convención, **debe** ser escrito con la primera letra en mayúscula, e intercalando mayúsculas y minúsculas si el nombre es de más de una palabra. Los paréntesis tienen una utilidad diferente a las funciones, pero es un tema que veremos en la siguiente lección, por lo que los usaremos vacíos en esta lección.\n",
    "\n",
    "Como en los ejemplos de esta lección iremos construyendo por partes nuestra clase `Persona`, en muchas ocasiones verás que se usa la directiva `pass`. Lo que `pass` hace es decirle al intérprete de Python \"no tengo contenido en este momento\", y se utiliza para cuando un bloque de código indentado todavía no tiene funcionalidad incluída, y sólo tenemos la parte externa (la definición).\n",
    "\n",
    "Para instanciar una clase que hayas definido en Python (y que no sea uno de los tipos de dato básicos como `int, float, bool, string`), y asignarla a una variable, utilizamos la clase como si fuera una función, usando el nombre de la clase, acompañado por paréntesis.\n",
    "\n",
    "Si quieres saber de qué tipo es una variable, puedes utilizar la función global `type` que te retornará el nombre de la clase a la que pertenece cada objeto."
   ]
  },
  {
   "cell_type": "code",
   "execution_count": 1,
   "metadata": {},
   "outputs": [
    {
     "output_type": "stream",
     "name": "stdout",
     "text": "La variable mi_cadena es de tipo: <class 'str'>\nLa variable mi_int es de tipo: <class 'int'>\nLa variable mi_float es de tipo: <class 'float'>\nLa variable mi_persona es de tipo: <class '__main__.Persona'>\n"
    }
   ],
   "source": [
    "# Definir la clase Persona\n",
    "class Persona():\n",
    "    pass\n",
    "\n",
    "mi_cadena = \"hola\"\n",
    "mi_int = 1\n",
    "mi_float = 4.1\n",
    "\n",
    "# Instanciar la clase en una variable\n",
    "mi_persona = Persona()\n",
    "\n",
    "print(\"La variable mi_cadena es de tipo:\", type(mi_cadena))\n",
    "print(\"La variable mi_int es de tipo:\", type(mi_int))\n",
    "print(\"La variable mi_float es de tipo:\", type(mi_float))\n",
    "print(\"La variable mi_persona es de tipo:\", type(mi_persona))"
   ]
  },
  {
   "cell_type": "markdown",
   "metadata": {},
   "source": [
    "### Constructor y atributos de clase\n",
    "\n",
    "Todas las clases en los lenguajes que permiten hacer POO deben incluír un `constructor`. El propósito de un constructor es decir qué pasa cuando estamos usando una de nuestras clases **antes** de que se guarde en una variable; o sea, qué pasa **mientras** se está creando nuestro objeto a partir de la clase, **antes** de que sea utilizable o que podamos acceder a sus atributos o métodos.\n",
    "\n",
    "En el caso específico de Python, es en el constructor donde también se generan los atributos de la clase y se les da un valor por default. Este valor puede ser definido en el constructor, o lo podemos recibir como parámetro del constructor.\n",
    "\n",
    "La sintaxis del constructor de una clase de Python es definiendo dentro de nuestra clase una función que se llame `__init__` (con dos guiones bajos al principio y al final), y recibiendo **por lo menos** un parámetro, que será la palabra reservada `self`. La palabra `self` se utiliza en **todos** los métodos que existen dentro de una clase, porque nos ayuda a decirle al intérprete de Python \"esta es un método de la clase, y usaré la palabra `self` para referir a todo lo que tenga que ver **conmigo mismo** (el objeto instanciado de la clase que está usando el método)\". Puede sonar un poco confuso, pero tendrá más sentido cuando veas los ejemplos más adelante relacionados con los atributos.\n",
    "\n",
    "Para este caso, agreguemos en nuestra clase un constructor que reciba como parámetros la edad y el nombre de una persona. Pero sólo definir el constructor no agrega los atributos que queremos, por lo que tenemos que asignarlos dentro del constructor a partir de los parámetros que recibimos. Para esto utilizaremos el objeto `self` y asignaremos un atributo con la misma sintaxis que definimos una variable, sólo que unida con un punto (`.`) a la variable `self`:  `self.nombre_del_atributo`. El valor del estado de ánimo será para todos por default \"feliz\".\n",
    "\n",
    "> **Nota:** si no se mandan los parámetros cuando instanciamos la clase, igual que con una función, Python arrojará un error si no recibió los parámetros necesarios.\n",
    "\n",
    "Los atributos de un objeto en Python son accesibles usando el nombre de tu variable y con un punto hacer referencia al atributo específico."
   ]
  },
  {
   "cell_type": "code",
   "execution_count": 2,
   "metadata": {},
   "outputs": [
    {
     "output_type": "stream",
     "name": "stdout",
     "text": "Nombre de mi_persona: Jeff\nEdad de mi_persona: 50\nÁnimo de mi_persona: feliz\n"
    }
   ],
   "source": [
    "class Persona():\n",
    "    # Definimos el constructor que reciba el nombre y edad como parámetros\n",
    "    def __init__(self, el_nombre, mi_edad):\n",
    "        self.nombre = el_nombre\n",
    "        self.edad = mi_edad\n",
    "        self.animo = \"feliz\"\n",
    "\n",
    "#Nota cómo el parámetro \"self\" del constructor es asumido por Python para que sea el mismo objeto, y no lo tenemos que incluir en los parámetros\n",
    "mi_persona = Persona(\"Jeff\", 50)\n",
    "\n",
    "print(\"Nombre de mi_persona:\", mi_persona.nombre)\n",
    "print(\"Edad de mi_persona:\", mi_persona.edad)\n",
    "print(\"Ánimo de mi_persona:\", mi_persona.animo)"
   ]
  },
  {
   "cell_type": "markdown",
   "metadata": {},
   "source": [
    "### Métodos\n",
    "\n",
    "Todos los métodos de una clase se definen con la misma sintaxis que el constructor: `def nombre_de_metodo( self, otros parametros ):` (requiere por default el parámetro `self`). Estos métodos pueden realizar todo lo que tenga que ver con el comportamiento de la clase, y tienen acceso a los parámetros que reciben y los propios atributos de la clase.\n",
    "\n",
    "Los métodos se pueden mandar a llamar similar a los atributos, pero agregando los paréntesis que pueden (o no) recibir parámetros que requiera el método.\n",
    "\n",
    "#### Agregar métodos para saludar y cambiar de ánimo"
   ]
  },
  {
   "cell_type": "code",
   "execution_count": 3,
   "metadata": {},
   "outputs": [
    {
     "output_type": "stream",
     "name": "stdout",
     "text": "Hola, soy Jeff. Tengo 50 años y me encuentro feliz\nHola, soy Jeff. Tengo 50 años y me encuentro confundido\n"
    }
   ],
   "source": [
    "class Persona():\n",
    "    def __init__(self, el_nombre, mi_edad):\n",
    "        self.nombre = el_nombre\n",
    "        self.edad = mi_edad\n",
    "        self.animo = \"feliz\"\n",
    "    \n",
    "    #Este método es una subrutina que sólo imprime una cadena\n",
    "    def saludar(self):\n",
    "        print(\"Hola, soy\", self.nombre + \". Tengo\", self.edad, \"años y me encuentro\", self.animo)\n",
    "    \n",
    "    #Este método es una subrutina que modifica el atributo \"animo\"\n",
    "    def cambiar_animo(self, animo_nuevo):\n",
    "        self.animo = animo_nuevo\n",
    "\n",
    "mi_persona = Persona(\"Jeff\", 50)\n",
    "mi_persona.saludar()\n",
    "\n",
    "#Ahora cambiamos el estado de ánimo de nuestra persona\n",
    "mi_persona.cambiar_animo(\"confundido\")\n",
    "mi_persona.saludar()"
   ]
  },
  {
   "cell_type": "markdown",
   "metadata": {},
   "source": [
    "#### Agregar métodos para comparar edad"
   ]
  },
  {
   "cell_type": "code",
   "execution_count": 4,
   "metadata": {},
   "outputs": [
    {
     "output_type": "stream",
     "name": "stdout",
     "text": "Hola, soy Jeff tengo 50 años y me encuentro feliz\nHola, soy Pietro tengo 35 años y me encuentro feliz\nJeff es mayor que Pietro\n"
    }
   ],
   "source": [
    "class Persona():\n",
    "    def __init__(self, el_nombre, mi_edad):\n",
    "        self.nombre = el_nombre\n",
    "        self.edad = mi_edad\n",
    "        self.animo = \"feliz\"\n",
    "    \n",
    "    def saludar(self):\n",
    "        print(\"Hola, soy\", self.nombre, \"tengo\", self.edad, \"años y me encuentro\", self.animo)\n",
    "    \n",
    "    def cambiar_animo(animo_nuevo):\n",
    "        self.animo = animo_nuevo\n",
    "    \n",
    "    def comparar_edad(self, otra_persona):\n",
    "        resultado = \"tiene la misma edad\"\n",
    "        if self.es_menor(otra_persona.edad):\n",
    "            resultado = \"es menor\"\n",
    "        elif self.es_mayor(otra_persona.edad):\n",
    "            resultado = \"es mayor\"\n",
    "        print(self.nombre, resultado, \"que\", otra_persona.nombre)\n",
    "\n",
    "    # Los siguientes dos métodos son funciones que comparan self.edad con otro número.\n",
    "    # Devuelve un booleano como resultado\n",
    "    def es_menor(self, edad):\n",
    "        return self.edad < edad\n",
    "\n",
    "    def es_mayor(self, edad):\n",
    "        return self.edad > edad\n",
    "\n",
    "jeff = Persona(\"Jeff\", 50)\n",
    "pietro = Persona(\"Pietro\", 35)\n",
    "\n",
    "jeff.saludar()\n",
    "pietro.saludar()\n",
    "\n",
    "jeff.comparar_edad(pietro)"
   ]
  }
 ],
 "metadata": {
  "language_info": {
   "codemirror_mode": {
    "name": "ipython",
    "version": 3
   },
   "file_extension": ".py",
   "mimetype": "text/x-python",
   "name": "python",
   "nbconvert_exporter": "python",
   "pygments_lexer": "ipython3",
   "version": "3.7.5-final"
  },
  "orig_nbformat": 2,
  "kernelspec": {
   "name": "python37564bitpyenvvenvd4b75a7901ba4a5292e75ea444303d15",
   "display_name": "Python 3.7.5 64-bit ('pyenv': venv)"
  }
 },
 "nbformat": 4,
 "nbformat_minor": 2
}