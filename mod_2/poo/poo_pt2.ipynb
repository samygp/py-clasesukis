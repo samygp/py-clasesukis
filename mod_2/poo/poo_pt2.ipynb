{
 "cells": [
  {
   "cell_type": "markdown",
   "metadata": {},
   "source": [
    "# POO: Herencia"
   ]
  },
  {
   "cell_type": "markdown",
   "metadata": {},
   "source": [
    "Retomando la primera lección sobre POO, recordarás que teníamos varias personas trabajando en el mismo restaurante. También recordarás que hicimos que todas esas personas tuvieran atributos y métodos en común; todos sabían saludar, todos tienen un nombre, edad, estatura, etc.\n",
    "\n",
    "Ahora continuaremos personalizando cada rol de los empleados del restaurante. Todas las personas en nuestro restaurante tenían responsabilidades diferentes, y eso implica que deben saber hacer cosas que son específicas para el trabajo de cada uno. En nuestro caso, eso significaría que necesitamos:\n",
    "\n",
    "- Una **clase** llamada `Cocinero`, que tiene dos **métodos**: `preparar comida` y `entregar comida`.\n",
    "- Una **clase** llamada `Proveedor`, que tiene un **método**: `entregar ingredientes`.\n",
    "- Una **clase** llamada `Cajero`, que además tiene dos **métodos**: `pagar ingredientes` y `entregar cuenta`.\n",
    "- Una **clase** llamada `Mesero`, que se extiende de `Persona`, y tiene dos **métodos**: `entregar comanda` y `entregar dinero de la cuenta`.\n",
    "\n",
    "Todo esto además de que cada uno de ellos deberían tener los mismos atributos que cualquier persona, y los mismos métodos, porque todos son personas. Pero se sentiría poco práctico repetir la implementación de los métodos \"saludar\" y los atributos de la clase `Persona` para cada una de las nuevas clases que necesitamos, sería bastante código para leer cada que hagamos un nuevo tipo de persona.\n",
    "\n",
    "Por fortuna, en Programación Orientada a Objetos existe un mecanismo que nos ayuda exactamente a eso: copiar todos los atributos y comportamientos de una clase a otra clase nueva, en la que solamente implementaremos el comportamiento específico de la nueva clase, y podemos asumir que ya contiene todo lo de la clase original de la que está copiando métodos y atributos. A esto se le conoce como **herencia**.\n",
    "\n",
    "A lo mejor has escuchado alguna vez sobre historias de alguien que \"heredó\" una fortuna por un pariente, quizás sus padres, que eran millonarios. Esto significa que esa persona que era millonaria le dió algo que le pertenecía (todos esos millones) a alguien más para que pudiera hacer uso de eso. Esto es básicamente lo mismo que queremos decir cuando hablamos de \"herencia\" en POO: clases a las que llamamos \"clases padre\" o \"super clase\" que heredan sus atributos y métodos a clases \"hijo\", a las que llamamos también **\"sub-clases\"**."
   ]
  },
  {
   "cell_type": "markdown",
   "metadata": {},
   "source": [
    "## Herencia de clases en Python\n",
    "\n",
    "Empecemos por implementar la clase \"Persona\" de la lección anterior, en su forma más simple, y agregaremos un pequeño mensaje en el constructor de la clase Persona, que nos servirá en los siguientes pasos para entender qué sucede cuando estamos heredando de una clase a otra."
   ]
  },
  {
   "cell_type": "code",
   "execution_count": 18,
   "metadata": {},
   "outputs": [],
   "source": [
    "class Persona():\n",
    "    def __init__(self, el_nombre, mi_edad):\n",
    "        print(\"Creando una nueva persona...\")\n",
    "        self.nombre = el_nombre\n",
    "        self.edad = mi_edad\n",
    "        self.animo = \"feliz\"\n",
    "        print(\"Creamos una nueva Persona con nombre y edad:\", self.nombre, self.edad)\n",
    "    \n",
    "    #Este método es una subrutina que sólo imprime una cadena\n",
    "    def saludar(self):\n",
    "        print(\"Hola, soy\", self.nombre + \". Tengo\", self.edad, \"años y me encuentro\", self.animo)\n",
    "    \n",
    "    #Este método es una subrutina que modifica el atributo \"animo\"\n",
    "    def cambiar_animo(self, animo_nuevo):\n",
    "        self.animo = animo_nuevo"
   ]
  },
  {
   "cell_type": "markdown",
   "metadata": {},
   "source": [
    "Para generar sub-clases en Python a partir de una clase base, la sintaxis es bastante simple. Lo primero que hay que hacer es usar en la definición de la sub-clase, como parámetro inmediatamente después del nombre, el nombre de la clase padre de la que queremos heredar. Por ejemplo, para crear la clase \"`Proveedor`\" que sólo tiene un método adicional llamado \"`entregar_ingredientes`\". Le agregaremos uno para comprar ingredientes, que llevará consigo antes de entregarlos.\n",
    "\n",
    "Además de agregar como parámetro el nombre de la super-clase, en el constructor de la clase nueva llamaremos un método llamado \"`super`\", este método lo que hace es obtener la referencia a la clase padre, para que podamos llamar al constructor (`__init__`) de la super-clase, y esto significa que también debemos utilizar los mismos parámetros en el método `__init__` de la nueva clase que en los de la clase padre. Puede que suene algo confuso, pero espero que en código se entienda más fácil."
   ]
  },
  {
   "cell_type": "code",
   "execution_count": 19,
   "metadata": {},
   "outputs": [],
   "source": [
    "class Proveedor(Persona): #Utilizamos \"Persona\" como parámetro que refiere a la super-clase\n",
    "    def __init__(self, nombre_proveedor, edad_proveedor): #Recibimos parámetros para \"nombre\" y \"edad\", igual que en la clase \"Persona\"\n",
    "        print(\"Construyendo un Proveedor...\")\n",
    "        super().__init__(nombre_proveedor, edad_proveedor)\n",
    "        self.ingredientes = []\n",
    "        print(\"Contruimos un Proveedor\")\n",
    "    \n",
    "    def comprar_ingredientes(self, ingredientes):\n",
    "        print(\"Comprando ingredientes:\", ingredientes)\n",
    "        for ing in ingredientes:\n",
    "            self.ingredientes.append(ing)\n",
    "\n",
    "    # El método entregar_comida espera como parámetros una lista de ingredientes para entregar.\n",
    "    def entregar_ingredientes(self):\n",
    "        print(\"Entregando ingredientes:\", self.ingredientes)\n",
    "        ingredientes = []\n",
    "        while len(self.ingredientes) > 0: # Al entregar ingredientes vaciamos los ingredientes que guarda el Proveedor\n",
    "            ingredientes.append(self.ingredientes.pop())\n",
    "        return ingredientes"
   ]
  },
  {
   "cell_type": "markdown",
   "metadata": {},
   "source": [
    "Con lo anterior ya quedó definida nuestra nueva clase `Proveedor` que extiende a la clase `Persona` y tiene además su propio comportamiento. Veamos cómo se utilizaría."
   ]
  },
  {
   "cell_type": "code",
   "execution_count": 20,
   "metadata": {
    "tags": []
   },
   "outputs": [
    {
     "output_type": "stream",
     "name": "stdout",
     "text": "Construyendo un Proveedor...\nCreando una nueva persona...\nCreamos una nueva Persona con nombre y edad: Jeff 50\nContruimos un Proveedor\nHola, soy Jeff. Tengo 50 años y me encuentro feliz\nComprando ingredientes: ['Tomate', 'Cebolla', 'Carne', 'Pan']\nEntregando ingredientes: ['Tomate', 'Cebolla', 'Carne', 'Pan']\nAhora el proveedor no tiene ingredientes: []\n"
    }
   ],
   "source": [
    "mi_proveedor = Proveedor(\"Jeff\", 50)\n",
    "\n",
    "mi_proveedor.saludar() # Llamamos al método \"saludar\" que es parte de la clase Persona\n",
    "\n",
    "mis_ingredientes = [\"Tomate\", \"Cebolla\", \"Carne\", \"Pan\"]\n",
    "\n",
    "mi_proveedor.comprar_ingredientes(mis_ingredientes)\n",
    "\n",
    "ing_recibidos = mi_proveedor.entregar_ingredientes()\n",
    "\n",
    "print(\"Ahora el proveedor no tiene ingredientes:\", mi_proveedor.ingredientes)"
   ]
  },
  {
   "cell_type": "markdown",
   "metadata": {},
   "source": [
    "Si quieres hacer un ejercicio para practicar más sobre herencia, puedes implementar por tu cuenta todos los métodos sugeridos en la lista del principio para cada una de las sub-clases de Personas."
   ]
  }
 ],
 "metadata": {
  "language_info": {
   "codemirror_mode": {
    "name": "ipython",
    "version": 3
   },
   "file_extension": ".py",
   "mimetype": "text/x-python",
   "name": "python",
   "nbconvert_exporter": "python",
   "pygments_lexer": "ipython3",
   "version": "3.7.5-final"
  },
  "orig_nbformat": 2,
  "kernelspec": {
   "name": "python37564bitpyenvvenvd4b75a7901ba4a5292e75ea444303d15",
   "display_name": "Python 3.7.5 64-bit ('pyenv': venv)"
  }
 },
 "nbformat": 4,
 "nbformat_minor": 2
}