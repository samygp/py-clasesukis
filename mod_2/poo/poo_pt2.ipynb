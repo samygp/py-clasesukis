{
 "cells": [
  {
   "cell_type": "markdown",
   "metadata": {},
   "source": [
    "# POO: Herencia"
   ]
  },
  {
   "cell_type": "markdown",
   "metadata": {},
   "source": [
    "Cuando llevamos el ejemplo del restaurante a su representación en forma de POO, lo que tenemos es lo siguiente:\n",
    "\n",
    "- Una **clase** llamada `Persona`, que tiene 3 **atributos**: `nombre` (cadena), `edad` (entero) y `estatura` (flotante).\n",
    "- Una **clase** llamada `Cocinero`, que se extiende de `Persona`, y que además tiene dos **métodos**: `preparar comida` y `entregar comida`.\n",
    "- Una **clase** llamada `Proveedor`, que extiende a `Persona` y tiene un **método**: `entregar ingredientes`.\n",
    "- Una **clase** llamada `Cajero`, que extiende a `Persona`, y que además tiene dos **métodos**: `pagar ingredientes` y `entregar cuenta`.\n",
    "- Una **clase** llamada `Mesero`, que se extiende de `Persona`, y tiene dos **métodos**: `entregar comanda` y `entregar dinero de la cuenta`."
   ]
  }
 ],
 "metadata": {
  "language_info": {
   "codemirror_mode": {
    "name": "ipython",
    "version": 3
   },
   "file_extension": ".py",
   "mimetype": "text/x-python",
   "name": "python",
   "nbconvert_exporter": "python",
   "pygments_lexer": "ipython3",
   "version": 3
  },
  "orig_nbformat": 2
 },
 "nbformat": 4,
 "nbformat_minor": 2
}