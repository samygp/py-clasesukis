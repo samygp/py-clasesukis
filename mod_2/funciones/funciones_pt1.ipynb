{
 "cells": [
  {
   "cell_type": "markdown",
   "metadata": {},
   "source": [
    "# Funciones y subrutinas\n",
    "\n",
    "Una de mis partes favoritas de la programación es que para hacer muchas veces la misma cosa no tienes que reescribir todo tu código para cada vez que lo quieras hacer. Algo así como en los ciclos `for` o `while` con todo el código que incluyen en su bloque indentado; ese código se ejecutará las veces que se repita el ciclo, en cada iteración, pero no tienes que reescribir las mismas operaciones para hacer algo por cada elemento en una lista.\n",
    "\n",
    "Una frase bien conocida es que los programadores en realidad no son gente tan trabajadora, sino que son sólo suficientemente astutos para ser lo más flojos posible sin que se note (siempre y cuando lo que hagan funcione bien, evidentemente). Otra de estas tantas formas de no trabajar de más nos lo provee la magia de las **funciones**.\n",
    "\n",
    "## ¿Qué es una función?\n",
    "\n",
    "En la escuela quizás hayas visto las funciones definidas en forma de ecuación, en la que del lado izquierdo le dan el nombre de `f(x)`, y del lado derecho de la ecuación tiene una expresión algebráica que hace algunas operaciones. Por ejemplo, en una función que calcula el doble de un número se vería así:\n",
    "\n",
    "```\n",
    "f(x) = 2x\n",
    "```\n",
    "\n",
    "En otras ocasiones quizás lo podrías haber visto expresado con una `y` en vez de `f(x)`:\n",
    "\n",
    "```\n",
    "y = 2x\n",
    "```\n",
    "\n",
    "La verdad es que, como en muchas otras cosas, quizás por tiempo o quizás porque nuestros propios profesores de escuela podrían no saberlo, no nos dicen la versión completa de esto. Las funciones no son así \"sólo porque sí\". La realidad es que son bastante más flexible de lo que te dirán en secundaria o bachillerato. Por ejemplo, no **deben** forzosamente llamarse `f(x)` o `y`, ni la `x` se debe llamar `x`, de hecho todas eso se pueden llamar como tú quieras. Por ejemplo, una función que define el cuadrado de un número (un número multiplicado por sí mismo) se podría definir de la siguiente forma:\n",
    "\n",
    "```\n",
    "cuadrado(numero) = numero * numero\n",
    "```\n",
    "\n",
    "Ahora, tiene algo de sentido que todo tenga nombres de una sóla letra para economizar espacio y simplificar su lectura, además de que la letra `f` hace una referencia bastante obvia a que se trata de una `función`.\n",
    "\n",
    "Entonces, cuando hablamos de programación (que quizás te hayas dado cuenta que tiene una relación estrecha con las matemáticas), una función, en un sentido más amplio, se podría definir - por lo menos en mis palabras - como:\n",
    "> **Función:** Nombre o etiqueta que le damos a un procedimiento que, a partir de los parámetros con los que opera, devuelve un resultado. "
   ]
  },
  {
   "cell_type": "markdown",
   "metadata": {},
   "source": [
    "### ¿Y para qué me serviría usar funciones?\n",
    "\n",
    "La respuesta rápida es: para no volver a escribir el procedimiento una y otra vez si queremos aplicarle a diferentes números o valores la misma serie de pasos, o el mismo procedimiento.\n",
    "\n",
    "Si queremos saber el cuadrado de 2, podríamos, usando el ejemplo anterior, escribir `cuadrado(2)`, y el resultado sería multiplicar `2 * 2`. A lo mejor para este ejemplo es hasta menos práctico escribir una función para calcular algo tan corto, pero en casos donde te dicen algo como \"calcula la mitad del cuadrado de un número multiplicado por el módulo de sí mismo entre un tercio del número\", la función se vería más o menos así:\n",
    "\n",
    "```\n",
    "resultado(x) = (x^2 * (x % (x/3)) / 2\n",
    "```\n",
    "\n",
    "Si te pidieran esa operación para tres números diferentes, digamos `3`, `6` y `999999`, sería más cómodo y legible escribir:\n",
    "\n",
    "```\n",
    "resultado(3)\n",
    "resultado(6)\n",
    "resultado(999999)\n",
    "```\n",
    "\n",
    "En lugar de  esto:\n",
    "\n",
    "```\n",
    "(3^2 * (3 % (3/3)) / 2\n",
    "(6^2 * (6 % (6/3)) / 2\n",
    "(999999^2 * (999999 % (999999/3)) / 2\n",
    "```\n",
    "\n",
    "Si utilizamos el nombre que le dimos a nuestra función, estamos expresando que le vamos a aplicar el mismo procedimiento al número que utilicemos como parámetro en esa función. Simplemente **estamos etiquetando/nombrando un procedimiento** y lo utilizamos las veces que queramos con ese nombre, en vez de todos los pasos."
   ]
  },
  {
   "cell_type": "markdown",
   "metadata": {},
   "source": [
    "### Partes de una función\n",
    "\n",
    "Antes de ver ejemplos más concretos hay que entender las tres partes que definen una función:\n",
    "\n",
    "1. **Nombre:** El nombre legible o \"amigable\" de la función con el que nos referiremos al proceso que realiza.\n",
    "2. **Parámetros:** Los valores independientes, o variables, que utiliza la función para realizar el procedimiento. Pueden ser 0, 1 o más.\n",
    "3. **Expresión/contenido:** Todos los pasos que realiza nuestra función para obtener un resultado.\n",
    "\n",
    "Vale la pena hacer énfasis en la última parte del punto `2` de la lista anterior: los parámetros \"pueden ser 0, 1 o más\". Por ejemplo, una función que siempre regresa el número 5 se podría definir como `f() = 5` y no tener ningún parámetro, una función que eleve un número `x` a la `y` potencia se puede definir como `f(x,y) = x ^ 2`. Las funciones son flexibles en cuántos parámetros reciben para realizar su procedimiento y devolver un resultado.\n",
    "\n",
    "```\n",
    " [Nombre]   [Parámetros]          [Contenido]\n",
    "    👇           👇                   👇\n",
    "mi_funcion(param1, param2): param1 * 2 + param2 * 5\n",
    "```"
   ]
  },
  {
   "cell_type": "markdown",
   "metadata": {},
   "source": [
    "## Funciones en Python\n",
    "\n",
    "Todo lo anterior es muy muy conveniente cuando estamos programando, porque la utilidad de todo esto es que nos permite \"empaquetar\" o, mejor dicho, \"**encapsular**\" código que contiene algún pedazo de la lógica de nuestro programa, para reutilizarlo en distintas partes del programa.\n",
    "\n",
    "La sintaxis en Python para definir funciones es la siguiente:\n",
    "\n",
    "```\n",
    "def nombre(parámetros):\n",
    "    <contenido indentado>\n",
    "    return <resultado>\n",
    "```\n",
    "\n",
    "La sintaxis, si lo notas, es muy similar a la definición matemática de una función, pero veamos por partes cómo es en Python.\n",
    "\n",
    "1. Escribimos la palabra reservada de Python `def`, para que sepa que estás queriendo `definir` una función.\n",
    "2. Después de `def` se escribe el nombre de la función, que puede ser lo que tú quieras, siguiendo las mismas reglas para nombrar variables: el nombre puede llevar cualquier letra o número, siempre y cuando no empiece con un número, y no contenga caracteres especiales (#, @, !, tildes, etc.).\n",
    "> **Nota:** se recomienda que todas las letras sean minúsculas, y que si quieres escribir más de una palabra, por ejemplo, `raiz cuadrada`, se unan las palabras con guión bajo `_` (`raiz_cuadrada`).\n",
    "3. Los parámetros de la función van encerrados entre paréntesis, inmediatamente después del nombre. E igual que en los ejemplos anteriores, pueden ser 0, 1 o más, separados por comas.\n",
    "> **Importante:** Los parámetros se utilizan dentro del código indentado de la función como variables, y sus nombres deben seguir las mismas reglas que para nombrar cualquier variable o función.\n",
    "4. La siguiente parte es el código que va en un bloque indentado, igual que en los enunciados de control de flujo (`for`, `while`, `if`). Aquí es donde realizarás todos los pasos intermedios antes de regresar un resultado.\n",
    "5. Finalmente, para regresar el resultado de tu función, se debe escribir la palabra reservada `return`, y a continuación el valor que deseas regresar; puede ser un número, string, booleano o cualquier variable que contenga un valor, y puede ser literalmente lo que tú quieras (incluso otra función).\n",
    "\n",
    "### Ejemplo: Regresar una cadena que contenga \"hola mundo!\""
   ]
  },
  {
   "cell_type": "code",
   "execution_count": 1,
   "metadata": {},
   "outputs": [
    {
     "output_type": "execute_result",
     "data": {
      "text/plain": "'hola mundo!'"
     },
     "metadata": {},
     "execution_count": 1
    }
   ],
   "source": [
    "def hola():\n",
    "    return \"hola mundo!\"\n",
    "\n",
    "hola()"
   ]
  },
  {
   "cell_type": "markdown",
   "metadata": {},
   "source": [
    "Como puedes ver en el ejemplo de arriba, la función no recibe ningún parámetro y regresa una cadena. El resultado de la función puede imprimirse directamente dentro de la función `print` o puedes guardarla en una variable.\n",
    "\n",
    "### Ejemplo: Escribir un saludo\n",
    "\n",
    "Esta función debe recibir como parámetro el nombre de una persona (que va a ser una cadena) y concatenar iuna cadena que contiene un saludo junto con el nombre."
   ]
  },
  {
   "cell_type": "code",
   "execution_count": 2,
   "metadata": {},
   "outputs": [
    {
     "output_type": "execute_result",
     "data": {
      "text/plain": "'Hola Booker!'"
     },
     "metadata": {},
     "execution_count": 2
    }
   ],
   "source": [
    "def saludo(nombre):\n",
    "    return \"Hola \" + nombre + \"!\"\n",
    "\n",
    "saludo('Booker')"
   ]
  },
  {
   "cell_type": "markdown",
   "metadata": {},
   "source": [
    "### Ejemplo: Doble de un número\n",
    "\n",
    "En este ejemplo vamos a utilizar como paso intermedio guardar el resultado de multiplicar un número por 2, y después vamos a retornar ese valor como resultado."
   ]
  },
  {
   "cell_type": "code",
   "execution_count": 3,
   "metadata": {},
   "outputs": [
    {
     "output_type": "execute_result",
     "data": {
      "text/plain": "20"
     },
     "metadata": {},
     "execution_count": 3
    }
   ],
   "source": [
    "def doble(num):\n",
    "    resultado = num * 2\n",
    "    return resultado\n",
    "\n",
    "doble(10)"
   ]
  },
  {
   "cell_type": "markdown",
   "metadata": {},
   "source": [
    "### Ejemplo: Elegir el menor de entre dos números\n",
    "\n",
    "Ahora vamos a utilizar como parámetros dos números distintos, y nuestra función retornará el menor de ellos."
   ]
  },
  {
   "cell_type": "code",
   "execution_count": 4,
   "metadata": {},
   "outputs": [
    {
     "output_type": "execute_result",
     "data": {
      "text/plain": "30"
     },
     "metadata": {},
     "execution_count": 4
    }
   ],
   "source": [
    "def el_menor(num1, num2):\n",
    "    # Por default, haremos que el primer número sea considerado el menor\n",
    "    resultado = num1 \n",
    "    if num2 < num1:\n",
    "        #Si el segundo número es menor que el primero, cambiaremos a que el resultado sea igual al segundo número\n",
    "        resultado = num2\n",
    "    return resultado\n",
    "\n",
    "el_menor(40, 30)"
   ]
  },
  {
   "cell_type": "markdown",
   "metadata": {},
   "source": [
    "Todos los ejemplos anteriores están pensados para dar ejemplos de diferentes formas de funciones muy básicas, que quizás no serían tan prácticas para utilizar en muchos casos, pero con eso podemos ahora continuar con ejemplos más reales.\n",
    "\n",
    "### Ejemplo: Encontrar el menor número de una lista\n",
    "\n",
    "En este caso vamos a escribir una función para encontrar el menor número de una lista, sin importar qué tan larga sea la lista. Este ejemplo ya se había utilizado en la primera lección sobre ciclos for ([puedes hacer click aquí para ir a la lección](./mod_1/control_de_flujo/for_pt1.ipynb)), pero ahora, encapsulándolo en una función, podemos reutilizar el mismo procedimiento en lugar de escribir el mismo ciclo para cada lista si lo queremos repetir en tres listas distintas (o cualquier número de listas)."
   ]
  },
  {
   "cell_type": "code",
   "execution_count": 5,
   "metadata": {},
   "outputs": [
    {
     "output_type": "stream",
     "name": "stdout",
     "text": "El menor número en la lista 1 es: -44\nEl menor número en la lista 2 es: -21\nEl menor número en la lista 3 es: 5\n"
    }
   ],
   "source": [
    "def el_menor(lista):\n",
    "    #Al inicio, el menor elemento podemos considerarlo por default como el primer elemento del arreglo\n",
    "    menor = lista[0]\n",
    "    for num in lista:\n",
    "        # Si encontramos un número menor que el que tenemos en la variable \"menor\", \"menor\" sera ahora igual a ese número\n",
    "        if num < menor:\n",
    "            menor = num\n",
    "    #Regresamos el menor número encontrado, guardado en la variable \"menor\"\n",
    "    return menor\n",
    "\n",
    "lista1 = [-44, -38, 48, 18, 42, -37, 48, -2, 25, 9, -18, -43, -9, -35, -34]\n",
    "lista2 = [-21, 0, -3, 48]\n",
    "lista3 = [5]\n",
    "\n",
    "print(\"El menor número en la lista 1 es:\", el_menor(lista1))\n",
    "print(\"El menor número en la lista 2 es:\", el_menor(lista2))\n",
    "print(\"El menor número en la lista 3 es:\", el_menor(lista3))"
   ]
  },
  {
   "cell_type": "markdown",
   "metadata": {},
   "source": [
    "## Subrutinas\n",
    "\n",
    "Hay un tipo peculiar de funciones en programación, a las que llamamos \"subrutinas\", y su sintaxis es exactamente igual, con una excepción: **no llevan la línea de código con `return`**. La única diferencia que tienen con las funciones normales que hemos visto antes es que **las subrutinas no regresan ningún valor**. Solamente realizan algún procedimiento interno, que normalmente está relacionado con imprimir algo, o realizar una operación de la que no nos importa el resultado final.\n",
    "\n",
    "### Ejemplo: Imprimir los elementos en cada índice de una lista"
   ]
  },
  {
   "cell_type": "code",
   "execution_count": 6,
   "metadata": {},
   "outputs": [
    {
     "output_type": "stream",
     "name": "stdout",
     "text": "El elemento en el índice 0 de la lista es: -44\nEl elemento en el índice 1 de la lista es: -38\nEl elemento en el índice 2 de la lista es: 48\nEl elemento en el índice 3 de la lista es: 18\nEl elemento en el índice 4 de la lista es: 42\nEl elemento en el índice 5 de la lista es: -37\nEl elemento en el índice 6 de la lista es: 48\nEl elemento en el índice 7 de la lista es: -2\nEl elemento en el índice 8 de la lista es: 25\nEl elemento en el índice 9 de la lista es: 9\nEl elemento en el índice 10 de la lista es: -18\nEl elemento en el índice 11 de la lista es: -43\nEl elemento en el índice 12 de la lista es: -9\nEl elemento en el índice 13 de la lista es: -35\nEl elemento en el índice 14 de la lista es: -34\n"
    }
   ],
   "source": [
    "def imprimir_lista(lista):\n",
    "    for i in range(len(lista)):\n",
    "        print(\"El elemento en el índice\", i, \"de la lista es:\", lista[i])\n",
    "\n",
    "imprimir_lista(lista1)"
   ]
  },
  {
   "cell_type": "markdown",
   "metadata": {},
   "source": [
    "## Funciones internas\n",
    "\n",
    "Una función, por extraño que suene, puede tener otras funciones dentro de sí misma. Esto es algo común cuando tienes una operación que quizás tenga muchos pasos, o sea difícil de leer, y se utiliza más de una vez.\n",
    "\n",
    "### Ejemplo: Separar pares e impares\n",
    "\n",
    "Vamos a reciclar otro de los ejercicios que se hicieron en otras lecciones. Separar una lista con números en dos listas; una lista que contenga todos los números pares y otra que contenga todos los números impares de la lista original."
   ]
  },
  {
   "cell_type": "code",
   "execution_count": 7,
   "metadata": {},
   "outputs": [
    {
     "output_type": "stream",
     "name": "stdout",
     "text": "Los números pares son: [2, 4, 6, 8]\nLos números impares son: [1, 3, 5, 7, 9]\n"
    }
   ],
   "source": [
    "def separar_numeros(lista):\n",
    "    # Definimos la función local \"es_par\" para evaluar si un número es par o no\n",
    "    def es_par(num):\n",
    "        return num % 2 == 0\n",
    "    pares = []\n",
    "    impares = []\n",
    "    for numero in lista:\n",
    "        # Es más legible usar la función \"es_par\" que la evaluación \"numero % 2 == 0\"\n",
    "        # Es como si pidieras \"sal\" o \"cloruro de sodio\". Es lo mismo, pero más entendible.\n",
    "        if es_par(numero):\n",
    "            pares.append(numero)\n",
    "        else:\n",
    "            impares.append(numero)\n",
    "    print(\"Los números pares son:\", pares)\n",
    "    print(\"Los números impares son:\", impares)\n",
    "\n",
    "separar_numeros([1,2,3,4,5,6,7,8,9])"
   ]
  },
  {
   "cell_type": "markdown",
   "metadata": {},
   "source": [
    "## Utilizar una función en otra función\n",
    "\n",
    "Otra ventaja grande de las funciones es que se puede utilizar una función dentro de otra función, aún si la segunda no está declarada **dentro** de la primera. La única condición para que esto funcione es que la función que será utilizada esté **definida antes** que la función que la va a utilizar, de la misma manera que no podemos utilizar una variable antes de que se le asigne un valor. Esto ocurre porque **Python se ejecuta línea por línea** y no revisa el código completo antes de ejecutarse, y si encuentra que se usa una variable o nombre de función que no ha sido declarada o definida antes, arrojará un error."
   ]
  },
  {
   "cell_type": "code",
   "execution_count": 8,
   "metadata": {},
   "outputs": [
    {
     "output_type": "error",
     "ename": "NameError",
     "evalue": "name 'una_variable' is not defined",
     "traceback": [
      "\u001b[0;31m---------------------------------------------------------------------------\u001b[0m",
      "\u001b[0;31mNameError\u001b[0m                                 Traceback (most recent call last)",
      "\u001b[0;32m<ipython-input-8-826ef4c51cef>\u001b[0m in \u001b[0;36m<module>\u001b[0;34m\u001b[0m\n\u001b[0;32m----> 1\u001b[0;31m \u001b[0mprint\u001b[0m\u001b[0;34m(\u001b[0m\u001b[0muna_variable\u001b[0m\u001b[0;34m)\u001b[0m\u001b[0;34m\u001b[0m\u001b[0;34m\u001b[0m\u001b[0m\n\u001b[0m\u001b[1;32m      2\u001b[0m \u001b[0muna_variable\u001b[0m \u001b[0;34m=\u001b[0m \u001b[0;36m1111\u001b[0m\u001b[0;34m\u001b[0m\u001b[0;34m\u001b[0m\u001b[0m\n",
      "\u001b[0;31mNameError\u001b[0m: name 'una_variable' is not defined"
     ]
    }
   ],
   "source": [
    "print(una_variable)\n",
    "una_variable = 1111"
   ]
  },
  {
   "cell_type": "code",
   "execution_count": 9,
   "metadata": {},
   "outputs": [
    {
     "output_type": "error",
     "ename": "NameError",
     "evalue": "name 'otra_funcion' is not defined",
     "traceback": [
      "\u001b[0;31m---------------------------------------------------------------------------\u001b[0m",
      "\u001b[0;31mNameError\u001b[0m                                 Traceback (most recent call last)",
      "\u001b[0;32m<ipython-input-9-1ef0e98d63d6>\u001b[0m in \u001b[0;36m<module>\u001b[0;34m\u001b[0m\n\u001b[1;32m      2\u001b[0m     \u001b[0motra_funcion\u001b[0m\u001b[0;34m(\u001b[0m\u001b[0;34m)\u001b[0m\u001b[0;34m\u001b[0m\u001b[0;34m\u001b[0m\u001b[0m\n\u001b[1;32m      3\u001b[0m \u001b[0;34m\u001b[0m\u001b[0m\n\u001b[0;32m----> 4\u001b[0;31m \u001b[0muna_funcion\u001b[0m\u001b[0;34m(\u001b[0m\u001b[0;34m)\u001b[0m\u001b[0;34m\u001b[0m\u001b[0;34m\u001b[0m\u001b[0m\n\u001b[0m\u001b[1;32m      5\u001b[0m \u001b[0;34m\u001b[0m\u001b[0m\n\u001b[1;32m      6\u001b[0m \u001b[0;32mdef\u001b[0m \u001b[0motra_funcion\u001b[0m\u001b[0;34m(\u001b[0m\u001b[0;34m)\u001b[0m\u001b[0;34m:\u001b[0m\u001b[0;34m\u001b[0m\u001b[0;34m\u001b[0m\u001b[0m\n",
      "\u001b[0;32m<ipython-input-9-1ef0e98d63d6>\u001b[0m in \u001b[0;36muna_funcion\u001b[0;34m()\u001b[0m\n\u001b[1;32m      1\u001b[0m \u001b[0;32mdef\u001b[0m \u001b[0muna_funcion\u001b[0m\u001b[0;34m(\u001b[0m\u001b[0;34m)\u001b[0m\u001b[0;34m:\u001b[0m\u001b[0;34m\u001b[0m\u001b[0;34m\u001b[0m\u001b[0m\n\u001b[0;32m----> 2\u001b[0;31m     \u001b[0motra_funcion\u001b[0m\u001b[0;34m(\u001b[0m\u001b[0;34m)\u001b[0m\u001b[0;34m\u001b[0m\u001b[0;34m\u001b[0m\u001b[0m\n\u001b[0m\u001b[1;32m      3\u001b[0m \u001b[0;34m\u001b[0m\u001b[0m\n\u001b[1;32m      4\u001b[0m \u001b[0muna_funcion\u001b[0m\u001b[0;34m(\u001b[0m\u001b[0;34m)\u001b[0m\u001b[0;34m\u001b[0m\u001b[0;34m\u001b[0m\u001b[0m\n\u001b[1;32m      5\u001b[0m \u001b[0;34m\u001b[0m\u001b[0m\n",
      "\u001b[0;31mNameError\u001b[0m: name 'otra_funcion' is not defined"
     ]
    }
   ],
   "source": [
    "def una_funcion():\n",
    "    otra_funcion()\n",
    "\n",
    "una_funcion()\n",
    "\n",
    "def otra_funcion():\n",
    "    print(\"Saludos\")"
   ]
  },
  {
   "cell_type": "markdown",
   "metadata": {},
   "source": [
    "El error anterior ocurrió porque `una_funcion` fue llamada antes de que se definiera `otra_funcion`, y a su vez `una_funcion` intentaba usar `otra_funcion` (que todavía no existía porque se define después de que `una_funcion` fue utilizada), pero si ambas funciones estubieran definidas antes de llamar `una_funcion`, esto funcionaría. Veamos cómo ocurriría esto:"
   ]
  },
  {
   "cell_type": "code",
   "execution_count": 10,
   "metadata": {},
   "outputs": [
    {
     "output_type": "stream",
     "name": "stdout",
     "text": "Esta es la función dos\nEsta es la función uno, después de ejecutar la función dos\n"
    }
   ],
   "source": [
    "def funcion_uno():\n",
    "    funcion_dos()\n",
    "    print(\"Esta es la función uno, después de ejecutar la función dos\")\n",
    "\n",
    "def funcion_dos():\n",
    "    print(\"Esta es la función dos\")\n",
    "\n",
    "funcion_uno()"
   ]
  }
 ],
 "metadata": {
  "language_info": {
   "codemirror_mode": {
    "name": "ipython",
    "version": 3
   },
   "file_extension": ".py",
   "mimetype": "text/x-python",
   "name": "python",
   "nbconvert_exporter": "python",
   "pygments_lexer": "ipython3",
   "version": "3.7.5-final"
  },
  "orig_nbformat": 2,
  "kernelspec": {
   "name": "python37564bitpyenvvenvd4b75a7901ba4a5292e75ea444303d15",
   "display_name": "Python 3.7.5 64-bit ('pyenv': venv)"
  }
 },
 "nbformat": 4,
 "nbformat_minor": 2
}