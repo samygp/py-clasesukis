{
 "cells": [
  {
   "cell_type": "markdown",
   "metadata": {},
   "source": [
    "# Alcance De Objetos En Python (Scope)\n",
    "\n",
    "Igual que en muchos lenguajes de programación, en Python todos los componentes de tu código (funciones, variables, objetos, etc.) tienen un cierto alcanze; esto es, sólo existen en un contexto determinado, pero no fuera de él.\n",
    "\n",
    "Es como cuando estás en tu grupo de amigos y tienen algún chiste o frase que sólo ustedes entienden, pero si se lo dices a alguien que no es parte de ese grupo de amigos, no lo va a entender. Lo mismo pasa en Python, sólo que en lugar de hablar de grupos de amigos hablamos de contextos en los que algo tiene un cierto \"alcance\", mejor conocido como \"**scope**\"."
   ]
  },
  {
   "cell_type": "markdown",
   "metadata": {},
   "source": [
    "## Scope Global\n",
    "\n",
    "El más amplio de estos contextos es el scope **global**. Esto es, el código que existe fuera de funciones, clases o cualquier clase de código encapsulado de Python (en otro momento hablaremos sobre las `clases`). Las variables y funciones que están declaradas podrán ser utilizadas en todas las demás partes del código. Por ejemplo, una variable declarada antes de una función puede ser utilizada dentro de la función."
   ]
  },
  {
   "cell_type": "code",
   "execution_count": 1,
   "metadata": {},
   "outputs": [
    {
     "output_type": "stream",
     "name": "stdout",
     "text": "hola\n"
    }
   ],
   "source": [
    "variable_global = \"hola\"\n",
    "\n",
    "def mostrar_variable1():\n",
    "    print(variable_global)\n",
    "\n",
    "mostrar_variable1()"
   ]
  },
  {
   "cell_type": "markdown",
   "metadata": {},
   "source": [
    "Lo curioso con las variables que pertenecen a este scope es que aunque se puedan utilizar dentro de alguna función, si esa función decide manipular la variable, esto creará una variable nueva con el mismo nombre, pero no se modificará la variable original. Pon atención a lo que ocurre en el siguiente ejemplo."
   ]
  },
  {
   "cell_type": "code",
   "execution_count": 2,
   "metadata": {},
   "outputs": [
    {
     "output_type": "stream",
     "name": "stdout",
     "text": "Adentro de la función: adios\nAfuera de la función hola\n"
    }
   ],
   "source": [
    "variable_global = \"hola\"\n",
    "\n",
    "def mostrar_variable2():\n",
    "    variable_global = \"adios\"\n",
    "    print(\"Adentro de la función:\", variable_global)\n",
    "\n",
    "mostrar_variable2()\n",
    "print(\"Afuera de la función\", variable_global)"
   ]
  },
  {
   "cell_type": "markdown",
   "metadata": {},
   "source": [
    "La recomendación general es **no utilizar variables globales** siempre que se pueda evitar. Todas las variables, preferentemente, deberían existir dentro de las funciones que las van a utilizar. Adicionalmente, si el código de una función en algún punto modifica el contenido de la variable global, y se utiliza antes de crear la copia de la variable global, Python arrojará un error, porque esto es algo que para el intérprete de Python no es válido (lo cuenta como si estuvieras utilizando una variable que todavía no existe)."
   ]
  },
  {
   "cell_type": "code",
   "execution_count": 3,
   "metadata": {},
   "outputs": [
    {
     "output_type": "error",
     "ename": "UnboundLocalError",
     "evalue": "local variable 'variable_global' referenced before assignment",
     "traceback": [
      "\u001b[0;31m---------------------------------------------------------------------------\u001b[0m",
      "\u001b[0;31mUnboundLocalError\u001b[0m                         Traceback (most recent call last)",
      "\u001b[0;32m<ipython-input-3-58d17b2fc5cd>\u001b[0m in \u001b[0;36m<module>\u001b[0;34m\u001b[0m\n\u001b[1;32m      5\u001b[0m     \u001b[0mvariable_global\u001b[0m \u001b[0;34m=\u001b[0m \u001b[0;34m\"adios\"\u001b[0m\u001b[0;34m\u001b[0m\u001b[0;34m\u001b[0m\u001b[0m\n\u001b[1;32m      6\u001b[0m \u001b[0;34m\u001b[0m\u001b[0m\n\u001b[0;32m----> 7\u001b[0;31m \u001b[0mmostrar_variable3\u001b[0m\u001b[0;34m(\u001b[0m\u001b[0;34m)\u001b[0m\u001b[0;34m\u001b[0m\u001b[0;34m\u001b[0m\u001b[0m\n\u001b[0m",
      "\u001b[0;32m<ipython-input-3-58d17b2fc5cd>\u001b[0m in \u001b[0;36mmostrar_variable3\u001b[0;34m()\u001b[0m\n\u001b[1;32m      2\u001b[0m \u001b[0;34m\u001b[0m\u001b[0m\n\u001b[1;32m      3\u001b[0m \u001b[0;32mdef\u001b[0m \u001b[0mmostrar_variable3\u001b[0m\u001b[0;34m(\u001b[0m\u001b[0;34m)\u001b[0m\u001b[0;34m:\u001b[0m\u001b[0;34m\u001b[0m\u001b[0;34m\u001b[0m\u001b[0m\n\u001b[0;32m----> 4\u001b[0;31m     \u001b[0mprint\u001b[0m\u001b[0;34m(\u001b[0m\u001b[0;34m\"Antes de modificar la variable:\"\u001b[0m\u001b[0;34m,\u001b[0m \u001b[0mvariable_global\u001b[0m\u001b[0;34m)\u001b[0m\u001b[0;34m\u001b[0m\u001b[0;34m\u001b[0m\u001b[0m\n\u001b[0m\u001b[1;32m      5\u001b[0m     \u001b[0mvariable_global\u001b[0m \u001b[0;34m=\u001b[0m \u001b[0;34m\"adios\"\u001b[0m\u001b[0;34m\u001b[0m\u001b[0;34m\u001b[0m\u001b[0m\n\u001b[1;32m      6\u001b[0m \u001b[0;34m\u001b[0m\u001b[0m\n",
      "\u001b[0;31mUnboundLocalError\u001b[0m: local variable 'variable_global' referenced before assignment"
     ]
    }
   ],
   "source": [
    "variable_global = \"hola\"\n",
    "\n",
    "def mostrar_variable3():\n",
    "    print(\"Antes de modificar la variable:\", variable_global)\n",
    "    variable_global = \"adios\"\n",
    "\n",
    "mostrar_variable3()"
   ]
  },
  {
   "cell_type": "markdown",
   "metadata": {},
   "source": [
    "## Scope de una función\n",
    "\n",
    "Las funciones tienen, como lo habrás notado en el ejemplo anterior, un scope diferente al global. A todas las variables que existen dentro del scope de una función se les llama `locales` (contraparte de las variables `globales`). Una variable `local` es aquella que existe dentro de una función, y sólo se puede utilizar en ella misma y en las funciones y estructuras que contenga dentro de sí.\n"
   ]
  },
  {
   "cell_type": "code",
   "execution_count": 4,
   "metadata": {},
   "outputs": [
    {
     "output_type": "stream",
     "name": "stdout",
     "text": "Dentro de la función secundaria: hola\n"
    }
   ],
   "source": [
    "def funcion_principal():\n",
    "    def funcion_secundaria():\n",
    "        print(\"Dentro de la función secundaria:\", otra_variable)\n",
    "    #Creamos la variable aquí\n",
    "    otra_variable = \"hola\"\n",
    "    funcion_secundaria()\n",
    "\n",
    "funcion_principal()"
   ]
  },
  {
   "cell_type": "markdown",
   "metadata": {},
   "source": [
    "Observa que aunque para cuando se definió la función `funcion_secundaria` la variable `otra_variable` no existía todavía se puede utilizar. Pero **atención:** esto significa que está operando como el scope global, pero en un contexto más específico y pequeño; el nuevo scope \"*global*\" es el de la `funcion_principal`, y como tal, tiene el mismo problema si intentas modificar una variable que no fue declarada en ese scope (el de la `funcion_secundaria`)."
   ]
  },
  {
   "cell_type": "code",
   "execution_count": 5,
   "metadata": {},
   "outputs": [
    {
     "output_type": "error",
     "ename": "UnboundLocalError",
     "evalue": "local variable 'otra_variable' referenced before assignment",
     "traceback": [
      "\u001b[0;31m---------------------------------------------------------------------------\u001b[0m",
      "\u001b[0;31mUnboundLocalError\u001b[0m                         Traceback (most recent call last)",
      "\u001b[0;32m<ipython-input-5-ab2c2bb0baaa>\u001b[0m in \u001b[0;36m<module>\u001b[0;34m\u001b[0m\n\u001b[1;32m      7\u001b[0m     \u001b[0mfuncion_secundaria\u001b[0m\u001b[0;34m(\u001b[0m\u001b[0;34m)\u001b[0m\u001b[0;34m\u001b[0m\u001b[0;34m\u001b[0m\u001b[0m\n\u001b[1;32m      8\u001b[0m \u001b[0;34m\u001b[0m\u001b[0m\n\u001b[0;32m----> 9\u001b[0;31m \u001b[0mfuncion_principal\u001b[0m\u001b[0;34m(\u001b[0m\u001b[0;34m)\u001b[0m\u001b[0;34m\u001b[0m\u001b[0;34m\u001b[0m\u001b[0m\n\u001b[0m",
      "\u001b[0;32m<ipython-input-5-ab2c2bb0baaa>\u001b[0m in \u001b[0;36mfuncion_principal\u001b[0;34m()\u001b[0m\n\u001b[1;32m      5\u001b[0m     \u001b[0;31m#Creamos la variable aquí\u001b[0m\u001b[0;34m\u001b[0m\u001b[0;34m\u001b[0m\u001b[0;34m\u001b[0m\u001b[0m\n\u001b[1;32m      6\u001b[0m     \u001b[0motra_variable\u001b[0m \u001b[0;34m=\u001b[0m \u001b[0;34m\"hola\"\u001b[0m\u001b[0;34m\u001b[0m\u001b[0;34m\u001b[0m\u001b[0m\n\u001b[0;32m----> 7\u001b[0;31m     \u001b[0mfuncion_secundaria\u001b[0m\u001b[0;34m(\u001b[0m\u001b[0;34m)\u001b[0m\u001b[0;34m\u001b[0m\u001b[0;34m\u001b[0m\u001b[0m\n\u001b[0m\u001b[1;32m      8\u001b[0m \u001b[0;34m\u001b[0m\u001b[0m\n\u001b[1;32m      9\u001b[0m \u001b[0mfuncion_principal\u001b[0m\u001b[0;34m(\u001b[0m\u001b[0;34m)\u001b[0m\u001b[0;34m\u001b[0m\u001b[0;34m\u001b[0m\u001b[0m\n",
      "\u001b[0;32m<ipython-input-5-ab2c2bb0baaa>\u001b[0m in \u001b[0;36mfuncion_secundaria\u001b[0;34m()\u001b[0m\n\u001b[1;32m      1\u001b[0m \u001b[0;32mdef\u001b[0m \u001b[0mfuncion_principal\u001b[0m\u001b[0;34m(\u001b[0m\u001b[0;34m)\u001b[0m\u001b[0;34m:\u001b[0m\u001b[0;34m\u001b[0m\u001b[0;34m\u001b[0m\u001b[0m\n\u001b[1;32m      2\u001b[0m     \u001b[0;32mdef\u001b[0m \u001b[0mfuncion_secundaria\u001b[0m\u001b[0;34m(\u001b[0m\u001b[0;34m)\u001b[0m\u001b[0;34m:\u001b[0m\u001b[0;34m\u001b[0m\u001b[0;34m\u001b[0m\u001b[0m\n\u001b[0;32m----> 3\u001b[0;31m         \u001b[0mprint\u001b[0m\u001b[0;34m(\u001b[0m\u001b[0;34m\"Dentro de la función secundaria:\"\u001b[0m\u001b[0;34m,\u001b[0m \u001b[0motra_variable\u001b[0m\u001b[0;34m)\u001b[0m\u001b[0;34m\u001b[0m\u001b[0;34m\u001b[0m\u001b[0m\n\u001b[0m\u001b[1;32m      4\u001b[0m         \u001b[0motra_variable\u001b[0m \u001b[0;34m=\u001b[0m \u001b[0;34m\"adios\"\u001b[0m\u001b[0;34m\u001b[0m\u001b[0;34m\u001b[0m\u001b[0m\n\u001b[1;32m      5\u001b[0m     \u001b[0;31m#Creamos la variable aquí\u001b[0m\u001b[0;34m\u001b[0m\u001b[0;34m\u001b[0m\u001b[0;34m\u001b[0m\u001b[0m\n",
      "\u001b[0;31mUnboundLocalError\u001b[0m: local variable 'otra_variable' referenced before assignment"
     ]
    }
   ],
   "source": [
    "def funcion_principal():\n",
    "    def funcion_secundaria():\n",
    "        print(\"Dentro de la función secundaria:\", otra_variable)\n",
    "        otra_variable = \"adios\"\n",
    "    #Creamos la variable aquí\n",
    "    otra_variable = \"hola\"\n",
    "    funcion_secundaria()\n",
    "\n",
    "funcion_principal()"
   ]
  },
  {
   "cell_type": "markdown",
   "metadata": {},
   "source": [
    "Y todas estas situaciones también se aplican cuando utilizamos parámetros dentro de nuestra función, los parámetros actúan prácticamente como variables locales en una función, y si el parámetro se edita dentro de la función secundaria, no afectará al valor que tiene en el scope de la función principal. Al mismo tiempo, si se edita el valor de esa variable en la función secundaria, pero se intenta hacer referencia a ella antes de editarla, Python arrojará el mismo error que antes."
   ]
  },
  {
   "cell_type": "code",
   "execution_count": 6,
   "metadata": {},
   "outputs": [
    {
     "output_type": "error",
     "ename": "UnboundLocalError",
     "evalue": "local variable 'parametro1' referenced before assignment",
     "traceback": [
      "\u001b[0;31m---------------------------------------------------------------------------\u001b[0m",
      "\u001b[0;31mUnboundLocalError\u001b[0m                         Traceback (most recent call last)",
      "\u001b[0;32m<ipython-input-6-6e11130fe393>\u001b[0m in \u001b[0;36m<module>\u001b[0;34m\u001b[0m\n\u001b[1;32m      5\u001b[0m     \u001b[0mfuncion_secundaria\u001b[0m\u001b[0;34m(\u001b[0m\u001b[0;34m)\u001b[0m\u001b[0;34m\u001b[0m\u001b[0;34m\u001b[0m\u001b[0m\n\u001b[1;32m      6\u001b[0m \u001b[0;34m\u001b[0m\u001b[0m\n\u001b[0;32m----> 7\u001b[0;31m \u001b[0mfuncion_principal\u001b[0m\u001b[0;34m(\u001b[0m\u001b[0;34m\"hola\"\u001b[0m\u001b[0;34m)\u001b[0m\u001b[0;34m\u001b[0m\u001b[0;34m\u001b[0m\u001b[0m\n\u001b[0m",
      "\u001b[0;32m<ipython-input-6-6e11130fe393>\u001b[0m in \u001b[0;36mfuncion_principal\u001b[0;34m(parametro1)\u001b[0m\n\u001b[1;32m      3\u001b[0m         \u001b[0mprint\u001b[0m\u001b[0;34m(\u001b[0m\u001b[0;34m\"Dentro de la función secundaria:\"\u001b[0m\u001b[0;34m,\u001b[0m \u001b[0mparametro1\u001b[0m\u001b[0;34m)\u001b[0m\u001b[0;34m\u001b[0m\u001b[0;34m\u001b[0m\u001b[0m\n\u001b[1;32m      4\u001b[0m         \u001b[0mparametro1\u001b[0m \u001b[0;34m=\u001b[0m \u001b[0;34m\"adios\"\u001b[0m\u001b[0;34m\u001b[0m\u001b[0;34m\u001b[0m\u001b[0m\n\u001b[0;32m----> 5\u001b[0;31m     \u001b[0mfuncion_secundaria\u001b[0m\u001b[0;34m(\u001b[0m\u001b[0;34m)\u001b[0m\u001b[0;34m\u001b[0m\u001b[0;34m\u001b[0m\u001b[0m\n\u001b[0m\u001b[1;32m      6\u001b[0m \u001b[0;34m\u001b[0m\u001b[0m\n\u001b[1;32m      7\u001b[0m \u001b[0mfuncion_principal\u001b[0m\u001b[0;34m(\u001b[0m\u001b[0;34m\"hola\"\u001b[0m\u001b[0;34m)\u001b[0m\u001b[0;34m\u001b[0m\u001b[0;34m\u001b[0m\u001b[0m\n",
      "\u001b[0;32m<ipython-input-6-6e11130fe393>\u001b[0m in \u001b[0;36mfuncion_secundaria\u001b[0;34m()\u001b[0m\n\u001b[1;32m      1\u001b[0m \u001b[0;32mdef\u001b[0m \u001b[0mfuncion_principal\u001b[0m\u001b[0;34m(\u001b[0m\u001b[0mparametro1\u001b[0m\u001b[0;34m)\u001b[0m\u001b[0;34m:\u001b[0m\u001b[0;34m\u001b[0m\u001b[0;34m\u001b[0m\u001b[0m\n\u001b[1;32m      2\u001b[0m     \u001b[0;32mdef\u001b[0m \u001b[0mfuncion_secundaria\u001b[0m\u001b[0;34m(\u001b[0m\u001b[0;34m)\u001b[0m\u001b[0;34m:\u001b[0m\u001b[0;34m\u001b[0m\u001b[0;34m\u001b[0m\u001b[0m\n\u001b[0;32m----> 3\u001b[0;31m         \u001b[0mprint\u001b[0m\u001b[0;34m(\u001b[0m\u001b[0;34m\"Dentro de la función secundaria:\"\u001b[0m\u001b[0;34m,\u001b[0m \u001b[0mparametro1\u001b[0m\u001b[0;34m)\u001b[0m\u001b[0;34m\u001b[0m\u001b[0;34m\u001b[0m\u001b[0m\n\u001b[0m\u001b[1;32m      4\u001b[0m         \u001b[0mparametro1\u001b[0m \u001b[0;34m=\u001b[0m \u001b[0;34m\"adios\"\u001b[0m\u001b[0;34m\u001b[0m\u001b[0;34m\u001b[0m\u001b[0m\n\u001b[1;32m      5\u001b[0m     \u001b[0mfuncion_secundaria\u001b[0m\u001b[0;34m(\u001b[0m\u001b[0;34m)\u001b[0m\u001b[0;34m\u001b[0m\u001b[0;34m\u001b[0m\u001b[0m\n",
      "\u001b[0;31mUnboundLocalError\u001b[0m: local variable 'parametro1' referenced before assignment"
     ]
    }
   ],
   "source": [
    "def funcion_principal(parametro1):\n",
    "    def funcion_secundaria():\n",
    "        print(\"Dentro de la función secundaria:\", parametro1)\n",
    "        parametro1 = \"adios\"\n",
    "    funcion_secundaria()\n",
    "\n",
    "funcion_principal(\"hola\")"
   ]
  },
  {
   "cell_type": "markdown",
   "metadata": {},
   "source": [
    "## Scope entre funciones\n",
    "\n",
    "No sé si para este punto ya adivinaste, pero queda la pregunta de si las variables pueden ser compartidas entre distintas funciones. La respuesta es sencilla: no. Si creamos una variable en una función y la queremos utilizar en otra función, Python mostrará un error si la variable no existe en la función donde se intenta utilizar, o si la función (la que intenta utilizar la variable) no está `definida` dentro de la función donde existe la variable."
   ]
  },
  {
   "cell_type": "code",
   "execution_count": 7,
   "metadata": {},
   "outputs": [
    {
     "output_type": "error",
     "ename": "NameError",
     "evalue": "name 'variable_de_otra_funcion' is not defined",
     "traceback": [
      "\u001b[0;31m---------------------------------------------------------------------------\u001b[0m",
      "\u001b[0;31mNameError\u001b[0m                                 Traceback (most recent call last)",
      "\u001b[0;32m<ipython-input-7-329d55c980e0>\u001b[0m in \u001b[0;36m<module>\u001b[0;34m\u001b[0m\n\u001b[1;32m      6\u001b[0m     \u001b[0mfuncion_a\u001b[0m\u001b[0;34m(\u001b[0m\u001b[0;34m)\u001b[0m\u001b[0;34m\u001b[0m\u001b[0;34m\u001b[0m\u001b[0m\n\u001b[1;32m      7\u001b[0m \u001b[0;34m\u001b[0m\u001b[0m\n\u001b[0;32m----> 8\u001b[0;31m \u001b[0motra_funcion\u001b[0m\u001b[0;34m(\u001b[0m\u001b[0;34m)\u001b[0m\u001b[0;34m\u001b[0m\u001b[0;34m\u001b[0m\u001b[0m\n\u001b[0m",
      "\u001b[0;32m<ipython-input-7-329d55c980e0>\u001b[0m in \u001b[0;36motra_funcion\u001b[0;34m()\u001b[0m\n\u001b[1;32m      4\u001b[0m \u001b[0;32mdef\u001b[0m \u001b[0motra_funcion\u001b[0m\u001b[0;34m(\u001b[0m\u001b[0;34m)\u001b[0m\u001b[0;34m:\u001b[0m\u001b[0;34m\u001b[0m\u001b[0;34m\u001b[0m\u001b[0m\n\u001b[1;32m      5\u001b[0m     \u001b[0mvariable_de_otra_funcion\u001b[0m \u001b[0;34m=\u001b[0m \u001b[0;34m\"hola\"\u001b[0m\u001b[0;34m\u001b[0m\u001b[0;34m\u001b[0m\u001b[0m\n\u001b[0;32m----> 6\u001b[0;31m     \u001b[0mfuncion_a\u001b[0m\u001b[0;34m(\u001b[0m\u001b[0;34m)\u001b[0m\u001b[0;34m\u001b[0m\u001b[0;34m\u001b[0m\u001b[0m\n\u001b[0m\u001b[1;32m      7\u001b[0m \u001b[0;34m\u001b[0m\u001b[0m\n\u001b[1;32m      8\u001b[0m \u001b[0motra_funcion\u001b[0m\u001b[0;34m(\u001b[0m\u001b[0;34m)\u001b[0m\u001b[0;34m\u001b[0m\u001b[0;34m\u001b[0m\u001b[0m\n",
      "\u001b[0;32m<ipython-input-7-329d55c980e0>\u001b[0m in \u001b[0;36mfuncion_a\u001b[0;34m()\u001b[0m\n\u001b[1;32m      1\u001b[0m \u001b[0;32mdef\u001b[0m \u001b[0mfuncion_a\u001b[0m\u001b[0;34m(\u001b[0m\u001b[0;34m)\u001b[0m\u001b[0;34m:\u001b[0m\u001b[0;34m\u001b[0m\u001b[0;34m\u001b[0m\u001b[0m\n\u001b[0;32m----> 2\u001b[0;31m     \u001b[0mprint\u001b[0m\u001b[0;34m(\u001b[0m\u001b[0mvariable_de_otra_funcion\u001b[0m\u001b[0;34m)\u001b[0m\u001b[0;34m\u001b[0m\u001b[0;34m\u001b[0m\u001b[0m\n\u001b[0m\u001b[1;32m      3\u001b[0m \u001b[0;34m\u001b[0m\u001b[0m\n\u001b[1;32m      4\u001b[0m \u001b[0;32mdef\u001b[0m \u001b[0motra_funcion\u001b[0m\u001b[0;34m(\u001b[0m\u001b[0;34m)\u001b[0m\u001b[0;34m:\u001b[0m\u001b[0;34m\u001b[0m\u001b[0;34m\u001b[0m\u001b[0m\n\u001b[1;32m      5\u001b[0m     \u001b[0mvariable_de_otra_funcion\u001b[0m \u001b[0;34m=\u001b[0m \u001b[0;34m\"hola\"\u001b[0m\u001b[0;34m\u001b[0m\u001b[0;34m\u001b[0m\u001b[0m\n",
      "\u001b[0;31mNameError\u001b[0m: name 'variable_de_otra_funcion' is not defined"
     ]
    }
   ],
   "source": [
    "def funcion_a():\n",
    "    print(variable_de_otra_funcion)\n",
    "\n",
    "def otra_funcion():\n",
    "    variable_de_otra_funcion = \"hola\"\n",
    "    funcion_a()\n",
    "\n",
    "otra_funcion()"
   ]
  },
  {
   "cell_type": "markdown",
   "metadata": {},
   "source": [
    "## Cómo utilizar los scopes correctamente\n",
    "\n",
    "La principal regla es utilizar exclusivamente parámetros cuando queremos utilizar un valor externo dentro de nuestras funciones, y sabiendo que, si intentamos editar el valor de ese parámetro, el valor que le asignemos no va a modificar el valor original de la variable que se utilizó como parámetro, es mejor que no los modifiquemos dentro de la misma variable. Si necesitamos editar el valor de la variable original usando una función, entonces se puede asignar a la misma variable el resultado de la función.\n",
    "\n",
    "### Ejemplo: Editar el valor de una variable usando una función"
   ]
  },
  {
   "cell_type": "code",
   "execution_count": 8,
   "metadata": {},
   "outputs": [
    {
     "output_type": "stream",
     "name": "stdout",
     "text": "Mi numero originalmente contiene: 5\nMi numero ahora modificado contiene: 15\n"
    }
   ],
   "source": [
    "def triplicar_numero(numero_original):\n",
    "    return numero_original * 3\n",
    "\n",
    "mi_numero = 5\n",
    "print(\"Mi numero originalmente contiene:\", mi_numero)\n",
    "\n",
    "#Asignamos a \"mi_numero\" el valor del resultado de la función\n",
    "mi_numero = triplicar_numero(mi_numero)\n",
    "\n",
    "print(\"Mi numero ahora modificado contiene:\", mi_numero)"
   ]
  }
 ],
 "metadata": {
  "language_info": {
   "codemirror_mode": {
    "name": "ipython",
    "version": 3
   },
   "file_extension": ".py",
   "mimetype": "text/x-python",
   "name": "python",
   "nbconvert_exporter": "python",
   "pygments_lexer": "ipython3",
   "version": "3.7.5-final"
  },
  "orig_nbformat": 2,
  "kernelspec": {
   "name": "python37564bitpyenvvenvd4b75a7901ba4a5292e75ea444303d15",
   "display_name": "Python 3.7.5 64-bit ('pyenv': venv)"
  }
 },
 "nbformat": 4,
 "nbformat_minor": 2
}