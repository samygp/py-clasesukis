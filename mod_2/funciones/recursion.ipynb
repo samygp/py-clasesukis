{
 "cells": [
  {
   "cell_type": "markdown",
   "metadata": {},
   "source": [
    "# Recursión\n",
    "\n",
    "Un chiste popular entre programadores es que:\n",
    "> \"Para entender qué es recursión primero tienes que entender qué es recursión\"\n",
    "\n",
    "Prometo que va a tener más sentido cuando termines esta lección (y quizás hasta se vuelva gracioso).\n",
    "\n",
    "En las lecciones de funciones anteriores revisamos el caso en el que puedes llamar una función desde otra función, pero hay un caso todavía más curioso: es posible mandar a llamar una función **dentro de sí misma**. Al fenómeno que ocurre al definir un proceso en el que uno o más de sus pasos hacen referencia a sí mismo (al procedimiento) es a lo que se le conoce como **recursión**."
   ]
  },
  {
   "cell_type": "markdown",
   "metadata": {},
   "source": [
    "## Intuición: Desencapsular matryoshkas\n",
    "\n",
    "Una vez vi esto explicado con las muñecas *matryoshka*, y creo que es una excelente forma de ponerlo.\n",
    "\n",
    "<img src=\"https://upload.wikimedia.org/wikipedia/commons/d/d2/Russian-Matroshka_no_bg.jpg\" alt=\"drawing\" width=\"300\"/>\n",
    "\n",
    "Imagina que queremos mostrar el color de cada muñeca que está contenida dentro de la otra Cada vez que sacamos una muñeca de la anterior es como hacer una llamada recursiva para obtener qué tiene adentro. Una forma de pseudo-código en la que podríamos representar sería así:\n",
    "\n",
    "#### Pseudocódigo\n",
    "```\n",
    "funcion sacar_muñeca( una_muñeca )\n",
    "    imprimir( una_muñeca[color] )\n",
    "    condicion: Si la muñeca NO está vacía\n",
    "        sacar_muñeca( una_muñeca[muñeca_interior] )\n",
    "\n",
    "variable: matryoshka = (\"verde\", (\"azul\", (\"rojo\")))\n",
    "\n",
    "#La matryoshka principal (la de afuera) es de color verde.\n",
    "#Dentro contiene una matryoshka azul, que a su vez contiene una matryoshka roja.\n",
    "\n",
    "sacar_muñeca( matryoshka )\n",
    "```\n",
    "\n",
    "#### Explicación\n",
    "Lo que sucederá en ese pseudocódigo es lo siguiente:\n",
    "\n",
    "1. Creamos las matryoshkas de colores\n",
    "2. Encapsulamos una matryoshka en otra, y esa matryoshka la encapsulamos en otra más grande\n",
    "3. Cuando usamos la función `sacar_muñeca`\n",
    "    - Imprimimos el color de la muñeca (como la verde fue la que dejamos hasta el final, imprimirá \"verde\")\n",
    "    - Revisamos si la muñeca no está vacía. Como la matryoshka grande contiene una matryoshka dentro:\n",
    "    - Obtenemos la matryoshka que contiene (`muñeca_interior` de `una_muñeca`).\n",
    "    - Usamos la función `sacar_muñeca` usando la `muñeca_interior`. <- Recursión\n",
    "        1. Imprimimos el color de la muñeca (la siguiente será \"azul\")\n",
    "        2. Revisamos si la muñeca no está vacía. Como la matryoshka mediana contiene una matryoshka dentro:\n",
    "        3. Obtenemos la matryoshka que contiene (`muñeca_interior` de `una_muñeca`).\n",
    "        4. Usamos la función `sacar_muñeca` usando la `muñeca_interior`. <- Recursión\n",
    "            - Imprimimos el color de la muñeca (\"rojo\")\n",
    "            - Revisamos si la muñeca no está vacía. Está vacía, y aquí termina la ejecución."
   ]
  },
  {
   "cell_type": "markdown",
   "metadata": {},
   "source": [
    "### Ejemplo: Color de Matryoshkas en Python\n",
    "\n",
    "Ahora replicaremos el ejemplo anterior en Python. Cada matryoshka será representada por una lista. El primer elemento de la lista será el color de la matryoshka, y si tiene un segundo elemento (`len(matryoshka) > 1`), el segundo elemento será otra matryoshka (otra lista de 1 o 2 elementos).\n",
    "\n",
    "Nuestra función recursiva irá sacando matryoshkas mientras no encuentre una matryoshka que no tenga otra en su interior."
   ]
  },
  {
   "cell_type": "code",
   "execution_count": 1,
   "metadata": {},
   "outputs": [
    {
     "output_type": "stream",
     "name": "stdout",
     "text": "Color de la matryoshka: verde\nColor de la matryoshka: azul\nColor de la matryoshka: rojo\n"
    }
   ],
   "source": [
    "def sacar_muneca( matryoshka ):\n",
    "    print(\"Color de la matryoshka:\", matryoshka[0])\n",
    "    if len(matryoshka) > 1:\n",
    "        sacar_muneca( matryoshka[1] )\n",
    "\n",
    "mat_roja = [\"rojo\"]\n",
    "mat_azul = [\"azul\", mat_roja]\n",
    "mat_principal = [\"verde\", mat_azul]\n",
    "\n",
    "sacar_muneca( mat_principal )"
   ]
  },
  {
   "cell_type": "markdown",
   "metadata": {},
   "source": [
    "### Ejemplo: Factoriales\n",
    "\n",
    "Los factoriales son una serie de multiplicaciones que se expresan de la siguiente forma: `n!`. Donde `n` es cualquier número y `!` es lo que indica que buscamos calcular el factorial de ese número.\n",
    "\n",
    "El factorial de un número se calcula multiplicando ese número por la multiplicación de todos los números anteriores hasta el `1`. Por ejemplo, el factorial de `3` se calcularía de la siguiente forma: `3! = 3 * 2 * 1`. Esto, al mismo tiempo podemos calcularlo recursivamente de la siguiente forma:\n",
    "\n",
    "1. Si el número es menor o igual a 1, retornar `1`.\n",
    "2. Si el número no es menor o igual a 1:\n",
    "    - Multiplicar el número por el resultado del factorial del número anterior"
   ]
  },
  {
   "cell_type": "code",
   "execution_count": 2,
   "metadata": {},
   "outputs": [
    {
     "output_type": "stream",
     "name": "stdout",
     "text": "6\n120\n3628800\n"
    }
   ],
   "source": [
    "def factorial(num):\n",
    "    if num <= 1:\n",
    "        return 1\n",
    "    return num * factorial(num - 1)\n",
    "\n",
    "print(factorial(3))\n",
    "print(factorial(5))\n",
    "print(factorial(10))"
   ]
  },
  {
   "cell_type": "markdown",
   "metadata": {},
   "source": [
    "## Casos base y condiciones de paro\n",
    "\n",
    "Hay algo en lo que se debe tener mucho cuidado cuando se utiliza recursión: **siempre** debemos definir un caso en el que nuestra función se detenga, o deje de hacer recursión. Los **casos base** son aquellos en los que se retorna un valor fijo, o no se regresa ningún valor, evitando así llamarse recursivamente. Análogamente, las **condiciones de paro** son aquellas condiciones que llevan a un caso base; si la condición de paro no se cumple, y no se evalúa uno de los casos base de una función, se llamará recursivamente a la función.\n",
    "\n",
    "Esto podría ser revoltoso de leer, pero afortunadamente podemos apoyarnos del ejemplo anterior.\n",
    "\n",
    "En el caso de los factoriales, la condición de paro es cuando el número es menor o igual a `1`. Si esta condición no estuviera en su lugar:\n",
    "\n",
    "- Cualquier número menor a 1 intentaría calcular su factorial (lo cual no es posible).\n",
    "- Cualquier factorial devolvería como resultado `0`, porque llegaría el punto en que el factorial involucre `0 * factorial(...)`, y cualquier número (por muchos que sean) multiplicando a `0`, siempre será igual a `0`.\n",
    "- Se llamaría infinitamente `factorial(num - 1)`, y esto significaría que el código nunca terminaría de calcularse; por lo menos hasta que la computadora exceda el número máximo posible en la pila de llamadas, o consuma toda su memoria.\n",
    "\n",
    "Por ejemplo, si removemos el caso base de la función, esto ocurriría para `3!`.\n",
    "\n",
    "- 3! = 3 * factorial(2) <- Recursión\n",
    "    - 2! = 2 * factorial(1) <- Recursión\n",
    "        - 1! = 1 * factorial(0) <- Recursión\n",
    "            - 0! = 0 * factorial(-1) <- Recursión\n",
    "                - etc."
   ]
  },
  {
   "cell_type": "markdown",
   "metadata": {},
   "source": [
    "### Ejemplo: Cuenta regresiva\n",
    "\n",
    "Para este ejemplo nuestro **caso base** será cuando el número que recibimos en la función sea igual a 0. Esta subrutina imprimirá el número que recibe como parámetro, y si el número es mayor a 0, llamaremos recursivamente a la subrutina, mandando como parámetro el mismo número, restándole 1.\n",
    "\n",
    "- Imprimir el número que recibimos como parámetro\n",
    "  - Si el número que recibimos es mayor a 0, llamar recursivamente la subrutina con `número - 1` como parámetro\n",
    "  - Si el número que recibimos es menor o igual a 0, no llamaremos recusrivamente la subrutina `<- Caso base`"
   ]
  },
  {
   "cell_type": "code",
   "execution_count": 2,
   "metadata": {},
   "outputs": [
    {
     "output_type": "stream",
     "name": "stdout",
     "text": "5\n4\n3\n2\n1\n0\n"
    }
   ],
   "source": [
    "def cuenta_regresiva(num):\n",
    "    print(num)\n",
    "    if num > 0:\n",
    "        cuenta_regresiva(num - 1)\n",
    "\n",
    "cuenta_regresiva(5)"
   ]
  },
  {
   "cell_type": "markdown",
   "metadata": {},
   "source": [
    "### Ejemplo: Secuencia de Fibonacci\n",
    "\n",
    "El ejemplo por excelencia para explicar recursión siempre es la secuencia de Fibonacci (y no podía defraudar a mis ancestros programadores sin mencionarla yo también). Esta secuencia de números (que no voy a explicar las implicaciones que tiene, ni de dónde viene, pero te prometo que sí tiene usos en la vida real, puedes buscarla en internet si tienes curiosidad), consiste de números enteros positivos, comenzando por el primer elemento, `1` (correspondiente al elemento `0`), seguido del elemento del índice `1`, que también es `1`, y a partir del tercer elemento, todos los siguientes números equivalen a la suma de los dos anteriores en esta secuencia, o sea que el tercer elemento será `1 + 1`, o sea `2`, el cuarto elemento será `2 + 1`, o sea `3`.\n",
    "\n",
    "Entonces, los primeros 5 números de la secuencia son: `[1, 1, 2, 3, 5]`.\n",
    "\n",
    "Si lo definimos en forma de función, llamándola `fib`, resulta en una función que recibe como parámetro el número del elemento que queremos calcular (elemento `0`, elemento `1`, etc.) y si la evaluamos para, por ejemplo, el quinto elemento de la secuencia (índice `4`), tendríamos `fib(4) = 5`, como vimos anteriormente.\n",
    "\n",
    "Y entonces ¿cómo se define esta función?\n",
    "Tenemos dos casos base, donde no calculamos nada:\n",
    "```\n",
    "fib(0) = 1\n",
    "fib(1) = 1\n",
    "```\n",
    "\n",
    "Pero es a partir del número `2` (tercer elemento) que la definición de la función cobra sentido. Si definimos como `n` el elemento que buscamos:\n",
    "\n",
    "```\n",
    "fib(n) = fib(n-2) + fib(n-1)\n",
    "```\n",
    "\n",
    "Esto significa que para `fib(4)` sucedería lo siguiente:\n",
    "\n",
    "> - fib(4) = fib(2) + fib(3) `<- Recursión`\n",
    "\n",
    "Y esto significa que para obtener `fib(4)` primero debemos serolver `fib(2)` y `fib(3)`.\n",
    "\n",
    "> - fib(2) = fib(0) + fib(1) `<- Recursión`\n",
    "    - fib(0) = 1\n",
    "    - fib(1) = 1\n",
    "\n",
    "Entonces obtenemos que `fib(2) = 2`. Ahora falta resolver `fib(3)`.\n",
    "\n",
    "> - fib(3) = fib(1) + fib(2) `<- Recursión`\n",
    "    - fib(1) = 1\n",
    "    - fib(2) = fib(0) + fib(1) `<- Recursión`\n",
    "      - fib(0) = 1\n",
    "      - fib(1) = 1\n",
    "\n",
    "Y con lo anterior obtenemos que `fib(1) = 1` y `fib(2) = 1 + 1`, por lo tanto `fib(3) = 1 + 2` lo que hace que `fib(3) = 3`.\n",
    "\n",
    "Así, finalmente podemos resolver `fib(4)`.\n",
    "\n",
    "```\n",
    "fib(3) = 3\n",
    "fib(2) = 2\n",
    "\n",
    "fib(4) = fib(2) + fib(3) -> fib(4) = 2 + 3\n",
    "fib(4) = 5\n",
    "```\n",
    "\n",
    "Veamos entonces cómo se vería esto en Python."
   ]
  },
  {
   "cell_type": "code",
   "execution_count": 1,
   "metadata": {},
   "outputs": [
    {
     "output_type": "stream",
     "name": "stdout",
     "text": "El número -1 no es válido para la secuencia Fibonacci\nfib(-1): 0\nfib(0): 1\nfib(1): 1\nfib(3): 3\nfib(5): 8\nfib(7): 21\nfib(10): 89\n"
    }
   ],
   "source": [
    "def fib(num):\n",
    "    # Si el número de elemento solicitado es negativo, mostrar un mensaje y regresar un \"0\"\n",
    "    if num < 0:\n",
    "        print(\"El número\", num,\"no es válido para la secuencia Fibonacci\")\n",
    "        return 0\n",
    "    # Si el elemento solicitado es el 0 o el 1, regresamos el número \"1\"\n",
    "    elif num == 0 or num == 1:\n",
    "        return 1\n",
    "    #Si ninguna de las dos situaciones se cumplió, regresar la suma de los dos elementos anteriores en la secuencia, llamando recursivamente a la función\n",
    "    return fib(num - 2) + fib(num - 1)\n",
    "\n",
    "print(\"fib(-1):\", fib(-1))\n",
    "print(\"fib(0):\", fib(0))\n",
    "print(\"fib(1):\", fib(1))\n",
    "print(\"fib(3):\", fib(3))\n",
    "print(\"fib(5):\", fib(5))\n",
    "print(\"fib(7):\", fib(7))\n",
    "print(\"fib(10):\", fib(10))"
   ]
  },
  {
   "cell_type": "markdown",
   "metadata": {},
   "source": [
    "\n",
    "\n",
    "Si pones atención en la función de la secuencia Fibonacci, mientras el número que reciba como parámetro sea mayor a `1` seguirá haciendo recursión con las llamadas a sí mismo `fib(num-1) + fib(num-2)` hay dos casos base:\n",
    "- Si el número que recibimos como parámetro es `1`, regresar como resultado: `1`\n",
    "- Si el número que recibimos como parámetro es `0`, regresar como resultado: `1`\n",
    "- Si el número que recibimos como parámetro es menor que `0`, regresar como resultado: `0`\n",
    "\n",
    "Estas condiciones son de suma importancia, porque si, por ejemplo, no hubiéramos definido  la condición en la que validemos si el número es menor que `0`, nuestra función seguiría llamándose recursivamente para `fib(-1)` o cualquier número menor a `0`. Si no existiera esa condición, nuestra función haría lo siguiente:\n",
    "\n",
    "> - fib(-1) = fib(-3) + fib(-2) <- Recursión\n",
    "    - fib(-3) = fib(-5) + fib(-4) <- Recursión\n",
    "      - fib(-5) = fib(-7) + fib(-6) <- Recursión\n",
    "        - etc.\n",
    "    - fib(-2) = fib(-4) + fib(-3)  <- Recursión\n",
    "      - fib(-4) = fib(-6) + fib(-5)  <- Recursión\n",
    "        - etc.\n",
    "\n",
    "Como la función nunca llegaría a la condición base (porque hay infinitos números menores a 1, y restando nunca se va a llegar a `0` ni a `1`) la función se llamaría a sí misma infinitamente para todos los números. Lo mismo ocurriría si hubiéramos olvidado definir la condición para cuando el número sea `0` o `1`.\n",
    "\n",
    "Definamos ahora otra función recursiva con una condición de paro más simple."
   ]
  },
  {
   "cell_type": "markdown",
   "metadata": {},
   "source": [
    "## Utilidad de la recursión\n",
    "\n",
    "En programación esto tiene usos muy interesantes, porque, como habrás visto en la lección sobre anidación, hay casos en los que tenemos cosas que contienen otras cosas similares; por ejemplo, listas que contienen otras listas, y a su vez, esas listas pueden contener más listas, hasta que llegas a un punto en el que por fin los elementos son algo que no sean listas (quizás números o cadenas). En casos como estos, muchas veces no sabemos realmente qué tan anidadas o embebidas están las listas, o sea, a cuántos niveles de profundidad tenemos que llegar para encontrar el contenido real de todas las listas de listas de listas, etc.\n",
    "\n",
    "Como este hay más ejemplos, y hay más de una estructura de datos que utiliza recursividad, pero hablaremos de ellas en otras lecciones. Por el momento utilicemos el ejemplo anterior para definir otra función recursiva.\n",
    "\n",
    "### Ejemplo: Desempaquetar listas de listas.\n",
    "\n",
    "El siguiente código contiene una lista principal que dentro contiene 3 listas, que a su vez cada una contiene 5 listas, en la que cada una de estas tiene 3 números. Trataremos de mostrar solamente los elementos numéricos, y no las listas; entonces nuestra función hará lo siguiente:\n",
    "- La función espera como parámetro una lista\n",
    "- Por cada elemento de la lista:\n",
    "  1. Si el elemento es de tipo numérico (`int`), imprimirlo\n",
    "  2. Si el elemento no es numérico, llamar a la misma función para imprimir los elementos de esta lista\n",
    "\n",
    "> **Nota:** Para saber si una variable o valor es de un determinado tipo, podemos utilizar la función `isinstance` que recibe como primer parámetro el valor a evaluar, y como segundo parámetro espera el tipo de dato contra el que lo queremos comparar, y de resultado regresa un booleano (`True`/`False`). Por ejemplo, para saber si `5` es un entero (`int`) el código sería `isinstance(5, int)`."
   ]
  },
  {
   "cell_type": "code",
   "execution_count": 3,
   "metadata": {},
   "outputs": [
    {
     "output_type": "stream",
     "name": "stdout",
     "text": "19\n20\n14\n15\n12\n1\n1\n16\n18\n9\n11\n4\n19\n5\n13\n4\n14\n9\n4\n19\n12\n12\n5\n7\n11\n5\n4\n13\n17\n5\n6\n10\n15\n1\n4\n19\n19\n8\n10\n5\n20\n2\n16\n16\n18\n"
    }
   ],
   "source": [
    "lista_de_listas = [\n",
    "    [[19, 20, 14], [15, 12, 1], [1, 16, 18], [9, 11, 4], [19, 5, 13]], \n",
    "    [[4, 14, 9], [4, 19, 12], [12, 5, 7], [11, 5, 4], [13, 17, 5]], \n",
    "    [[6, 10, 15], [1, 4, 19], [19, 8, 10], [5, 20, 2], [16, 16, 18]]\n",
    "]\n",
    "\n",
    "def desempaquetar(lista):\n",
    "    for elem in lista:\n",
    "        if isinstance(elem, int):\n",
    "            print(elem)\n",
    "        else:\n",
    "            desempaquetar(elem)\n",
    "\n",
    "desempaquetar(lista_de_listas)"
   ]
  }
 ],
 "metadata": {
  "language_info": {
   "codemirror_mode": {
    "name": "ipython",
    "version": 3
   },
   "file_extension": ".py",
   "mimetype": "text/x-python",
   "name": "python",
   "nbconvert_exporter": "python",
   "pygments_lexer": "ipython3",
   "version": "3.7.5-final"
  },
  "orig_nbformat": 2,
  "kernelspec": {
   "name": "python37564bitpyenvvenvd4b75a7901ba4a5292e75ea444303d15",
   "display_name": "Python 3.7.5 64-bit ('pyenv': venv)"
  }
 },
 "nbformat": 4,
 "nbformat_minor": 2
}