{
 "cells": [
  {
   "cell_type": "markdown",
   "metadata": {},
   "source": [
    "## Cómo funcionan estas prácticas\n",
    "\n",
    "La forma en que debes realizar estas prácticas es usando los bloques de código que te especifique el notebook para que ahí mismo agregues tu código, y completes cada ejercicio.\n",
    "\n",
    "Una vez que hayas completado el bloque de código, ejecuta ese recuadro utilizando el botón `>| Run` que se encuentra en el encabezado.\n",
    "\n",
    "Por ejemplo, en el recuadro de abajo corre el código para que Jupyter imprima el resultado:"
   ]
  },
  {
   "cell_type": "code",
   "execution_count": 1,
   "metadata": {},
   "outputs": [
    {
     "name": "stdout",
     "output_type": "stream",
     "text": [
      "Aquí voy a imprimir algo\n"
     ]
    }
   ],
   "source": [
    "print(\"Aquí voy a imprimir algo\")"
   ]
  },
  {
   "cell_type": "markdown",
   "metadata": {},
   "source": [
    "Frecuentemente encontrarás bloques de código en los ejercicios que al principio y al final del bloque dicen:\n",
    "```\n",
    "#***NO EDITAR***\n",
    "#Comprobación de los pasos anteriores\n",
    "```\n",
    "Estos bloques de código no tienen la intención de que les agregues algo, solamente se deben utilizar para ejecutarse, y que veas el resultado de salida, para saber si los pasos anteriores que ejecutaste son el resultado correcto.\n",
    "\n",
    "Aquí hay un ejemplo de cómo se vería el orden en que realizarás los ejercicios:\n",
    "\n",
    "- En el primer bloque, completa el código que se necesita según indique la instrucción.\n",
    "- En el bloque de comprobación, ejecútalo una vez que hayas ejecutado el bloque donde completaste el código.\n",
    "\n",
    "Originalmente, este `Ejercicio de prueba` está mal hecho (la variable no contiene el valor que debería). Entonces haz lo siguiente:\n",
    "\n",
    "1. Ejecútalo (el primer bloque) tal cual como está.\n",
    "2. Luego ejecuta el bloque de comprobación, para que veas el resultado cuando un ejercicio no tiene la respuesta correcta.\n",
    "\n",
    "Después, ya que veas qué muestra el bloque de comprobación cuando el resultado no es correcto:\n",
    "\n",
    "1. Corrige el código original para que la variable contenga el valor correcto (10)\n",
    "2. Después ejecuta el bloque de comprobación nuevamente."
   ]
  },
  {
   "cell_type": "markdown",
   "metadata": {},
   "source": [
    "### Ejercicio de prueba\n",
    "\n",
    "Crea una variable que contenga el número `10`. Esta variable debe llamarse `mi_variable`."
   ]
  },
  {
   "cell_type": "code",
   "execution_count": 4,
   "metadata": {},
   "outputs": [],
   "source": [
    "###Completa el código en este bloque\n",
    "\n",
    "mi_variable = 10\n",
    "\n",
    "###Ok, hasta aquí"
   ]
  },
  {
   "cell_type": "code",
   "execution_count": 5,
   "metadata": {},
   "outputs": [
    {
     "name": "stdout",
     "output_type": "stream",
     "text": [
      "Correcto, la variable contiene lo que se necesitaba\n"
     ]
    }
   ],
   "source": [
    "#***NO EDITAR***\n",
    "#Comprobación de los pasos anteriores\n",
    "if mi_variable == 10:\n",
    "    print(\"Correcto, la variable contiene lo que se necesitaba\")\n",
    "else:\n",
    "    print(f\"Incorrecto, el valor esperado era '10', y actualmente tiene asignado '{mi_variable}'\")\n",
    "#***NO EDITAR***\n",
    "#Comprobación de los pasos anteriores"
   ]
  },
  {
   "cell_type": "markdown",
   "metadata": {},
   "source": [
    "Ahora que sabes el formato en que se espera que resuelvas estas prácticas, comencemos."
   ]
  },
  {
   "cell_type": "markdown",
   "metadata": {},
   "source": [
    "### Ejercicio 1\n",
    "\n",
    "- Crea una variable de tipo booleano que contenga un `False`. Llama a esta variable `el_bool`\n",
    "- Crea una variable de tipo entero que contenga el valor `951` y llámala `mi_numero`\n",
    "- Crea una variable llamada `un_string`, que contenga el siguiente texto: Hola, este es mi primer pedazo de código"
   ]
  },
  {
   "cell_type": "code",
   "execution_count": null,
   "metadata": {},
   "outputs": [],
   "source": [
    "###Completa el código en este bloque\n",
    "\n",
    "###Ok, hasta aquí"
   ]
  },
  {
   "cell_type": "code",
   "execution_count": null,
   "metadata": {},
   "outputs": [],
   "source": [
    "#***NO EDITAR***\n",
    "#Comprobación de los pasos anteriores\n",
    "if el_bool == False:\n",
    "    print(\"Correcto, la variable contiene lo que se necesitaba\")\n",
    "else:\n",
    "    print(f\"Incorrecto, el valor esperado era 'False', y actualmente tiene asignado '{el_bool}'\")\n",
    "if mi_numero == 951:\n",
    "    print(\"Correcto, la variable contiene lo que se necesitaba\")\n",
    "else:\n",
    "    print(f\"Incorrecto, el valor esperado era '951', y actualmente tiene asignado '{mi_numero}'\")\n",
    "if un_string == \"Hola, este es mi primer pedazo de código\":\n",
    "    print(\"Correcto, la variable contiene lo que se necesitaba\")\n",
    "else:\n",
    "    print(f\"Incorrecto, el valor esperado era 'Hola, este es mi primer pedazo de código', y actualmente tiene asignado '{un_string}'\")\n",
    "#***NO EDITAR***\n",
    "#Comprobación de los pasos anteriores"
   ]
  },
  {
   "cell_type": "markdown",
   "metadata": {},
   "source": [
    "Imprime en la misma línea el valor guardado en `el_bool` y el valor guardado en `un_string`.\n",
    "En otra línea imprime el valor guardado en `mi_numero`."
   ]
  },
  {
   "cell_type": "code",
   "execution_count": null,
   "metadata": {},
   "outputs": [],
   "source": [
    "###Completa el código en este bloque\n",
    "\n",
    "###Ok, hasta aquí"
   ]
  }
 ],
 "metadata": {
  "kernelspec": {
   "display_name": "Python 3.7.2 64-bit ('pyenv': venv)",
   "language": "python",
   "name": "python37264bitpyenvvenvc673da5bded546ba9bf3ee42c3e4e2ae"
  },
  "language_info": {
   "codemirror_mode": {
    "name": "ipython",
    "version": 3
   },
   "file_extension": ".py",
   "mimetype": "text/x-python",
   "name": "python",
   "nbconvert_exporter": "python",
   "pygments_lexer": "ipython3",
   "version": "3.7.2"
  }
 },
 "nbformat": 4,
 "nbformat_minor": 4
}
