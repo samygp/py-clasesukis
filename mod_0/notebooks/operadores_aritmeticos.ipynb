{
 "cells": [
  {
   "cell_type": "markdown",
   "execution_count": null,
   "metadata": {},
   "outputs": [],
   "source": [
    "# Operadores aritméticos\n",
    "\n",
    "No es ningún secreto que las computadoras se utilizan fundamentalmente para hacer cálculos, y para hacer cálculos usamos números. Empecemos por ver la forma básica en que estas operaciones pueden ocurrir en Python.\n",
    "\n",
    "## Operaciones básicas, como en la primaria `+, -, *, /`\n",
    "\n",
    "Muchos recordamos las operaciones básicas aritméticas que alguna vez nos enseñaron: sumar, restar, multiplicar y dividir. Estas operaciones son muy fáciles de expresar en Python, porque se ven prácticamente igual que en papel.\n",
    "\n",
    "Para sumar, se utiliza el operador `+`, y a cada lado del signo debemos utilizar un número, o una variable que contenga un número.\n",
    "\n"
   ]
  },
  {
   "cell_type": "code",
   "execution_count": 1,
   "metadata": {},
   "outputs": [
    {
     "name": "stdout",
     "output_type": "stream",
     "text": "Sumar 1 + 2: 3\nSumar usando la variable 'un_numero' (2 + un_numero): 6\nEl resultado de sumar 'un_numero' + 9, guardado en 'otro_numero' 13\n"
    }
   ],
   "source": [
    "print(\"Sumar 1 + 2:\", 1 + 2)\n",
    "un_numero = 4\n",
    "print(\"Sumar usando la variable 'un_numero' (2 + un_numero):\", 2 + un_numero )\n",
    "otro_numero = un_numero + 9\n",
    "print(\"El resultado de sumar 'un_numero' + 9, guardado en 'otro_numero'\", otro_numero)"
   ]
  },
  {
   "cell_type": "markdown",
   "execution_count": null,
   "metadata": {},
   "outputs": [],
   "source": [
    "De la misma forma, se pueden utilizar los otros 3 operadores para restar, multiplicar y dividir, respectivamente.\n",
    "\n",
    "1. Para multiplicar (*)\n",
    "2. Para dividir (/)\n",
    "3. Para restar (-)"
   ]
  },
  {
   "cell_type": "code",
   "execution_count": 2,
   "metadata": {},
   "outputs": [
    {
     "name": "stdout",
     "output_type": "stream",
     "text": "un_numero - otro_numero: -9\nun_numero / otro_numero: 0.3076923076923077\nun_numero * otro_numero: 52\n"
    }
   ],
   "source": [
    "print(\"un_numero - otro_numero:\", un_numero - otro_numero)\n",
    "print(\"un_numero / otro_numero:\", un_numero / otro_numero)\n",
    "print(\"un_numero * otro_numero:\", un_numero * otro_numero)"
   ]
  },
  {
   "cell_type": "markdown",
   "execution_count": null,
   "metadata": {},
   "outputs": [],
   "source": [
    "## El curioso caso de las divisiones (diferencias entre `/` y `//`)\n",
    "\n",
    "Cuando se suman, restan o multiplican dos enteros, el resultado será un entero.\n",
    "Cuando se suman, restan o multiplican un entero y un flotante, o dos flotantes, el resultado será un flotante.\n",
    "Cuando se **divide** cualquier número entre otro, el resultado **siempre** será un flotante.\n",
    "\n",
    "Para obtener un resultado redondeado a entero cuando se divide, debemos utilizar otro operador: `//`."
   ]
  },
  {
   "cell_type": "code",
   "execution_count": 3,
   "metadata": {},
   "outputs": [
    {
     "name": "stdout",
     "output_type": "stream",
     "text": "otro_numero / un_numero 3.25\notro_numero // un_numero 3\n"
    }
   ],
   "source": [
    "print(\"otro_numero / un_numero\", otro_numero / un_numero)\n",
    "print(\"otro_numero // un_numero\", otro_numero // un_numero)"
   ]
  },
  {
   "cell_type": "markdown",
   "execution_count": null,
   "metadata": {},
   "outputs": [],
   "source": [
    "## Exponentes y potencias\n",
    "\n",
    "Un operador más que Python permite para operaciones algebráicas es el operador de potencia, que se representa en Python como un doble operador de multiplicación `**`.\n",
    "\n",
    "Se utiliza de la siguiente manera: el número o variable del lado izquierdo del operador `**` es el número base, y el número o variable que se utilice del lado derecho es el exponente.\n",
    "\n",
    "Por ejemplo, elevar 2 al cubo (2 a la 3ra potencia), en Python se escribe `2**3`.\n",
    "\n",
    "Súper sencillo, y es más fácil que representarlo escribiendo `2 * 2 * 2`"
   ]
  },
  {
   "cell_type": "code",
   "execution_count": 4,
   "metadata": {},
   "outputs": [
    {
     "name": "stdout",
     "output_type": "stream",
     "text": "3 a la 5: 243\n4 al cuadrado: 256\n"
    }
   ],
   "source": [
    "print(\"3 a la 5:\", 3 ** 5)\n",
    "print(\"4 al cuadrado:\", 4 ** 4)"
   ]
  },
  {
   "cell_type": "markdown",
   "execution_count": null,
   "metadata": {},
   "outputs": [],
   "source": [
    "\n",
    "## Operadores de acumulación `+=, -=, *=, /=, //=, **=`\n",
    "\n",
    "Habrá ocasiones en que quieras sumar el resultado de una operación en la misma variable, para no tener que crear un montón de variables y tampoco usar tanta memoria (recuerda que cada variable abarca espacios de memoria).\n",
    "\n",
    "Por ejemplo, tengo una variable `contador`, y le quiero sumar 1."
   ]
  },
  {
   "cell_type": "code",
   "execution_count": 5,
   "metadata": {},
   "outputs": [
    {
     "name": "stdout",
     "output_type": "stream",
     "text": "0\n1\n2\n"
    }
   ],
   "source": [
    "contador = 0\n",
    "print(contador)\n",
    "\n",
    "#A contador le sumo 1\n",
    "contador = contador + 1\n",
    "#Ahora contador vale 1\n",
    "print(contador)\n",
    "\n",
    "#A contador le sumo 1\n",
    "contador = contador + 1\n",
    "#Ahora contador vale 2\n",
    "print(contador)"
   ]
  },
  {
   "cell_type": "markdown",
   "execution_count": null,
   "metadata": {},
   "outputs": [],
   "source": [
    "Aquí vas a aprender de un nuevo operador: `+=`.\n",
    "Se utiliza `+=` cuando tienes una variable a la que le quieres agregar una cantidad. Hace lo mismo que la forma anterior, pero con mucho menos texto (comunmente llamado *\"syntactic sugar\"*, porque vuelve más \"dulce\" de leer el código)."
   ]
  },
  {
   "cell_type": "code",
   "execution_count": 6,
   "metadata": {},
   "outputs": [
    {
     "name": "stdout",
     "output_type": "stream",
     "text": "0\n1\n2\n"
    }
   ],
   "source": [
    "contador = 0\n",
    "print(contador)\n",
    "\n",
    "#A contador le sumo 1\n",
    "contador += 1\n",
    "#Ahora contador vale 1\n",
    "print(contador)\n",
    "\n",
    "#A contador le sumo 1\n",
    "contador += 1\n",
    "#Ahora contador vale 2\n",
    "print(contador)"
   ]
  },
  {
   "cell_type": "markdown",
   "execution_count": null,
   "metadata": {},
   "outputs": [],
   "source": [
    "Y esto maravillosamente aplica para todas las operaciones básicas aritméticas."
   ]
  },
  {
   "cell_type": "code",
   "execution_count": 7,
   "metadata": {},
   "outputs": [
    {
     "name": "stdout",
     "output_type": "stream",
     "text": "\nContador al reves:\n3\n2\n1\n0\n"
    }
   ],
   "source": [
    "print(\"\\nContador al reves:\")\n",
    "contador_al_reves = 3\n",
    "print(contador_al_reves)\n",
    "contador_al_reves -= 1\n",
    "print(contador_al_reves)\n",
    "contador_al_reves -= 1\n",
    "print(contador_al_reves)\n",
    "contador_al_reves -= 1\n",
    "print(contador_al_reves)"
   ]
  },
  {
   "cell_type": "code",
   "execution_count": 8,
   "metadata": {},
   "outputs": [
    {
     "name": "stdout",
     "output_type": "stream",
     "text": "\nDuplicador:\n2\n4\n8\n16\n"
    }
   ],
   "source": [
    "print(\"\\nDuplicador:\")\n",
    "duplicador = 2\n",
    "print(duplicador)\n",
    "duplicador *= 2 #Lo multiplico por 2 y lo guardo en la misma variable, ahora vale 2\n",
    "print(duplicador)\n",
    "duplicador *= 2 #Lo vuelvo a duplicar y lo guardo, ahora vale 4\n",
    "print(duplicador)\n",
    "duplicador *= 2 #Ahora vale 8\n",
    "print(duplicador)"
   ]
  },
  {
   "cell_type": "code",
   "execution_count": 9,
   "metadata": {},
   "outputs": [
    {
     "name": "stdout",
     "output_type": "stream",
     "text": "\nDividir cosito:\n27\n9.0\n3.0\n1.0\n"
    }
   ],
   "source": [
    "print(\"\\nDividir cosito:\")\n",
    "#Escribir el operador de multiplicación (*) dos veces significa\n",
    "#Elevar a la \"x\" potencia. Por ejemplo 3 ** 5 significa \"elevar 3 a la 5 potencia\"\n",
    "dividir_cosito = 3 ** 3\n",
    "print(dividir_cosito)\n",
    "dividir_cosito /= 3 #Lo divido entre 3 y lo guardo\n",
    "print(dividir_cosito)\n",
    "dividir_cosito /= 3 #Lo vuelvo a dividir entre 3\n",
    "print(dividir_cosito)\n",
    "dividir_cosito /= 3 #Lo vuelvo a dividir entre 3\n",
    "print(dividir_cosito)"
   ]
  }
 ],
 "metadata": {
  "file_extension": ".py",
  "kernelspec": {
   "display_name": "Python 3.7.2 64-bit ('pyenv': venv)",
   "language": "python",
   "name": "python37264bitpyenvvenv741dbc4229c94ea89598f7037c7bb955"
  },
  "language_info": {
   "codemirror_mode": {
    "name": "ipython",
    "version": 3
   },
   "file_extension": ".py",
   "mimetype": "text/x-python",
   "name": "python",
   "nbconvert_exporter": "python",
   "pygments_lexer": "ipython3",
   "version": "3.7.2-final"
  },
  "mimetype": "text/x-python",
  "name": "python",
  "npconvert_exporter": "python",
  "pygments_lexer": "ipython3",
  "version": 3
 },
 "nbformat": 4,
 "nbformat_minor": 2
}