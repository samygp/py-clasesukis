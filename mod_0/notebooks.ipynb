{
 "cells": [
  {
   "cell_type": "markdown",
   "metadata": {},
   "source": [
    "# Wilkommen\n",
    "\n",
    "## Introducción\n",
    "\n",
    "Felicidades por haber iniciado este curso. Me da gusto que tengas la oportunidad de dar tus primeros pasos para aprender a programar, y entender cómo funciona y de qué está hecho todo aquello que utilizamos en nuestras computadoras prácticamente todos los días.\n",
    "\n",
    "Entenderás conceptos que van desde lo más fundamental, como la manera en que las computadoras usan distintos tipos de datos (numéricos, caracteres, booleanos, etc.), cómo esos datos se pueden utilizar en conjunto para abstraer una estructura (como describir a una persona usando su edad y nombre, como parte de la misma cosa) y terminar en conceptos más avanzados que describen cómo esas estructuras se convierten en objetos, que pueden interactuar con otros objetos (como una persona que le dice su nombre a otra).\n",
    "\n",
    "Además, comenzarás a estructurar y entrenar una forma de resolver problemas, en las que te irás acostumbrando a describir paso a paso cómo resolver distintas situaciones, en qué orden se debe realizar cada paso, tomar distintos caminos dependiendo qué haya pasado durante ese proceso, y todo esto lo podrás abstraer en una palabra: **algoritmos**.\n",
    "\n",
    "Habiendo terminado el contenido incluído en el curso tendrás las habilidades necesarias para tomar el camino que quieras en el ecosistema de la programación. Por ejemplo, si te interesa la parte visual de diseñar aplicaciones, cómo se ven, cómo responde en un teléfono o en una computadora, no te resultará difícil comenzar a estudiar cursos especializados en desarrollo *front end*, o si te interesa más cómo mover información de un lado a otro y guardar montones de información en bases de datos, podrás empezar a estudiar desarrollo para *back-end*, o hacer parte de ambas para ser desarrollador *full-stack*.\n",
    "\n",
    "No son esos los únicos caminos, ni quiere decir que hagas todo lo que involucra cada uno: podrías especializarte en ciber-seguridad, en desarrollo de micro servicios, desarrollo para infraestructura, cómputo en la nube, ingeniería de datos, *machine learning*... es **muchísima** la variedad de caminos que alguien puede tomar sabiendo programación. Pero se comienza precísamente por eso: aprender a programar.\n",
    "\n",
    "Así que sin más preámbulo, veamos de qué trata todo esto.\n",
    "\n",
    "## ¿Qué es un programa?\n",
    "\n",
    "Piensa en un evento, digamos, la entrega de los premios Oscar. Los Oscares tienen un **programa**, ¿no? Esto significa que hay *algo* que describe qué va a pasar durante el evento, y en qué orden.\n",
    "\n",
    "Bueno, pues es prácticamente igual como podemos describir un programa cuando hablamos de computadoras. Un programa es la forma en que le decimos a una computadora qué tiene que hacer, y en qué orden. Le decimos paso por paso, operación por operación, qué queremos que realice, y qué esperamos como resultado.\n",
    "\n",
    "### Lenguajes de programación\n",
    "\n",
    "Ahora, cabe recordar que las computadoras no hablan español, ni inglés, y para cualquier fin práctico, no hablan ningún idioma humano. De hecho, no hablan. Podrán emitir un sonido a través de las bocinas, pero no es su \"idea\" hablar. Lo único que entienden las computadoras son corrientes eléctricas, que pasan por compuertas lógicas electrónicas, para traducirse en `1`s y `0`s.\n",
    "\n",
    "En una forma muy resumida, utilizan el sistema numérico binario (`1`s y `0`s) porque es lo que resulta más sencillo de interpretar con electricidad.\n",
    "\n",
    "Pero nosotros somos humanos, nosotros no hablamos binario, entonces ¿cómo decirle qué hacer a una computadora? La forma en que podemos comunicarle algo a una computadora es hablando en un **lenguaje** que entienda, algo intermedio que quizás no sea un idioma humano, pero tampoco son exclusivamente números. Un lenguaje de programación.\n",
    "\n",
    "Estos lenguajes de programación utilizan **código**, en una forma más entendible para una persona, que después la computadora puede traducir a binario para realizar todas las sumas y restas que requiere para que haga lo que esperamos."
   ]
  },
  {
   "cell_type": "markdown",
   "metadata": {},
   "source": [
    "## El material a utilizar\n",
    "\n",
    "Como te darás cuenta, esto está escrito en una herramienta peculiar, que separa por bloques el texto que se escribe, y que tiene botones en la parte superior. La herramienta que permite esto se llama `Jupyter notebook`, y cada documento que escribimos en `Jupyter` se llama un `notebook` (cuaderno). Pero hace bastantes más cosas que sólo mostrar texto, la principal peculiaridad es que permite ejecutar código\n",
    "\n",
    "Esto es porque nos permite escribir notas, mostrar imágenes y escribir código."
   ]
  }
 ],
 "metadata": {
  "kernelspec": {
   "display_name": "Python 3.7.2 64-bit ('pyenv': venv)",
   "language": "python",
   "name": "python37264bitpyenvvenvc673da5bded546ba9bf3ee42c3e4e2ae"
  },
  "language_info": {
   "codemirror_mode": {
    "name": "ipython",
    "version": 3
   },
   "file_extension": ".py",
   "mimetype": "text/x-python",
   "name": "python",
   "nbconvert_exporter": "python",
   "pygments_lexer": "ipython3",
   "version": "3.7.2"
  }
 },
 "nbformat": 4,
 "nbformat_minor": 4
}
