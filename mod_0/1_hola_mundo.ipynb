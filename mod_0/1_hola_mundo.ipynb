{
 "cells": [
  {
   "cell_type": "markdown",
   "metadata": {},
   "source": [
    "# Hola mundo\n",
    "\n",
    "Primero lo primero. Te confieso algo para empezar: hacer una interfaz gráfica bonita donde muestras cosas en tu pantalla que son clickeables, que parecen cajitas de texto, o cualquier cosa que se parece a los programas que regularmente utilizamos con mouse y teclado... eso lleva muchos pasos para hacer y al principio se siente complicado.\n",
    "\n",
    "\n",
    "## Imprimir\n",
    "\n",
    "Parecería contraintuitivo, pero lo más simple que se puede hacer para ver qué hace tu computadora mientras estás programando es solamente mostrar texto. Puede que se escuche simplón, pero de verdad es lo que vas a necesitar la mayoría de las veces, una forma rápida y que necesite pocos pasos de mostrarme información, para saber que mi programa, y (obviamente) mi computadora, hacen lo que yo espero.\n",
    "\n",
    "Para esto, Python tiene una función que se llama `print`. Para utilizar `print` se deben colocar paréntes después de escribir el nombre de esta operación, y dentro de los paréntesis debe haber texto, encerrado por comillas.\n",
    "\n",
    "Da click en el siguiente bloque de abajo para seleccionarlo, y luego da click en el botón en la parte superior que dice `>| Run`."
   ]
  },
  {
   "cell_type": "code",
   "execution_count": 1,
   "metadata": {},
   "outputs": [
    {
     "name": "stdout",
     "output_type": "stream",
     "text": [
      "Hola mundo!\n"
     ]
    }
   ],
   "source": [
    "print(\"Hola mundo!\")"
   ]
  },
  {
   "cell_type": "markdown",
   "metadata": {},
   "source": [
    "Python es muy flexible en el texto que puedes poner entre las comillas que imprimes. Podemos imprimir letras, símbolos especiales, números, casi cualquier cosa que se te ocurra."
   ]
  },
  {
   "cell_type": "code",
   "execution_count": 2,
   "metadata": {},
   "outputs": [
    {
     "name": "stdout",
     "output_type": "stream",
     "text": [
      "Este texto #tiene %$& muchos /) caracteres extraños, y {} permite poner tildes ` y letras con tilde.\n",
      "Gracias por su atención.\n"
     ]
    }
   ],
   "source": [
    "print(\"Este texto #tiene %$& muchos /) caracteres extraños, y {} permite poner tildes ` y letras con tilde.\")\n",
    "print(\"Gracias por su atención.\")"
   ]
  },
  {
   "cell_type": "markdown",
   "metadata": {},
   "source": [
    "Así mismo, Jupyter es un poco más flexible en cómo imprimir cosas. Si, por ejemplo, escribimos un número, lo va a imprimir como si hubiéramos usado `print`. Pero **atención** esto sólo sucede en Jupyter, si lo ejecutas en la consola de tu computadora, sólo se va a imprimir lo que pongas en un `print`."
   ]
  },
  {
   "cell_type": "code",
   "execution_count": 3,
   "metadata": {},
   "outputs": [
    {
     "data": {
      "text/plain": [
       "3"
      ]
     },
     "execution_count": 3,
     "metadata": {},
     "output_type": "execute_result"
    }
   ],
   "source": [
    "3"
   ]
  },
  {
   "cell_type": "code",
   "execution_count": 4,
   "metadata": {},
   "outputs": [
    {
     "data": {
      "text/plain": [
       "4.567"
      ]
     },
     "execution_count": 4,
     "metadata": {},
     "output_type": "execute_result"
    }
   ],
   "source": [
    "4.567"
   ]
  },
  {
   "cell_type": "markdown",
   "metadata": {},
   "source": [
    "Pero no todo lo que pongamos en la pantalla se va a imprimir. En todos los lenguajes de programación se pueden agregar **comentarios** al código. Los comentarios son exactamente eso: notas, pequeños textos que sirven para anotar algo que queremos recordar, o que le queremos decir a la persona que está leyendo el código.\n",
    "\n",
    "En Python los comentarios se escriben poniendo un `#` al principio de cada línea, o en seguida de donde termina nuestra línea. Lo importante es que todo lo que escribas después del `#` es un comentario, y ni en la terminal de tu computadora, ni en la salida de Jupyter se muestra el texto de un comentario."
   ]
  },
  {
   "cell_type": "code",
   "execution_count": 5,
   "metadata": {},
   "outputs": [
    {
     "name": "stdout",
     "output_type": "stream",
     "text": [
      "Esto es texto normal\n"
     ]
    }
   ],
   "source": [
    "#Esto es un comentario\n",
    "\n",
    "print(\"Esto es texto normal\") #Esto está después de un print\n",
    "\n",
    "#print(\"Esto no se va a imprimir\") <- no se va a imprimir porque el print está después de un #\n",
    "\n",
    "#Este es otro comentario que no se va a imprimir"
   ]
  },
  {
   "cell_type": "markdown",
   "metadata": {},
   "source": [
    "Y antes de continuar, un último truquito relacionado con `print`. Puedes escribir más de una cosa por línea si separas por comas cada cadena o cosa que quieras imprimier, y Python las separará con un espacio."
   ]
  },
  {
   "cell_type": "code",
   "execution_count": 6,
   "metadata": {},
   "outputs": [
    {
     "name": "stdout",
     "output_type": "stream",
     "text": [
      "Texto aquí 123 texto acá 987\n"
     ]
    }
   ],
   "source": [
    "#Voy a imprimir texto, luego un número, luego más texto y luego otro número\n",
    "print(\"Texto aquí\", 123, \"texto acá\", 987)"
   ]
  },
  {
   "cell_type": "markdown",
   "metadata": {},
   "source": [
    "## Tipos de datos\n",
    "\n",
    "Bueno, ahora que sabemos cómo mostrar información de qué hace nuestro programa. ¿Y luego qué? Antes de realmente entrar en qué puede hacer un programa, debemos entender qué usa una computadora para operar.\n",
    "\n",
    "Utilizar la palabra `dato` es muy ambiguo en la vida cotidiana, pero usualmente entendemos que significa \"un pedacito de información\" algo que \"simboliza\" una cosa.\n",
    "\n",
    "En programación los tipos de dato son cómo una computadora representa los valores que guarda en la memoria cuando corre un programa. Los tipos más básicos de dato que Python utiliza son los siguientes:\n",
    "\n",
    "- **int**: números enteros (sin punto decimal)\n",
    "- **float**: números de punto flotante (con punto decimal)\n",
    "- **bool**: valores que representan \"verdadero\" o \"falso\"\n",
    "- **string**: en español \"cadenas\", son cadenas de caracteres, o sea, texto\n",
    "\n",
    "¿Te parecen pocos? Sí, sí son, pero te tengo un dato muy cool: es prácticamente TODO lo que necesitas para programar casi lo que sea. A final de cuenta, todos los datos que vemos todos los días pueden ser representados por un dato de esos. Además de lo obvio de mostrar texto y números, por ejemplo:\n",
    "\n",
    "- Las imágenes son colecciones de números enteros o flotantes, que le dicen a tu computadora qué color mostrar (representado por cada número) en cada uno de los pixeles de tu pantalla.\n",
    "- Las cajitas como esta **-> <input type=\"checkbox\"/> <-** (puedes hacer click) guardan su valor como un `Verdadero`, si está marcada, y `Falso` si está vacía (sin marcar).\n",
    "\n",
    "En Python estos tipos de dato se escriben así:\n",
    "\n",
    "- **int**: escribes literalmente el número (1, 3, 9999, 10003)\n",
    "- **float**: escribes un número con punto decimal (4.3, 6.8, 88.73762)\n",
    "- **bool**: escribes `True` para representar \"verdadero\" y `False` para falso. **Importante:** Python es sensible a mayúsculas y minúsculas, y sólo funcionarán estos datos si escribes literalmente `True` o `False`\n",
    "- **string**: escribes texto entre comillas (`\"Hola\"`)"
   ]
  },
  {
   "cell_type": "code",
   "execution_count": 7,
   "metadata": {},
   "outputs": [
    {
     "name": "stdout",
     "output_type": "stream",
     "text": [
      "Esto es un Booleano: True\n",
      "Esto es un entero: 94\n",
      "Esto es un flotante: 3.14\n",
      "Esto es una cadena, obviamente\n"
     ]
    }
   ],
   "source": [
    "print(\"Esto es un Booleano:\", True)\n",
    "print(\"Esto es un entero:\", 94)\n",
    "print(\"Esto es un flotante:\", 3.14)\n",
    "print(\"Esto es una cadena,\", \"obviamente\")"
   ]
  },
  {
   "cell_type": "markdown",
   "metadata": {},
   "source": [
    "## Variables\n",
    "\n",
    "Todo lo que acabamos de mostrar anteriormente son valores **constantes** porque un número es un número, y, por ejemplo, `94` siempre será igual a `94`.\n",
    "\n",
    "Pero nadie en este mundo puede saber lo que calculará siempre, en cada momento de su vida, y de la misma forma para programar, no tiene sentido hacer una suma o una resta y guardar el resultado en alguna parte, si de antemano conociéramos el resultado.\n",
    "\n",
    "Las variables, creo yo, son de esas cosas que al principio es difícil poner en palabras que sean entendibles, pero mientras las vas usando va cobrando sentido y empiezas a tener tu forma de definir *qué es una variable*.\n",
    "\n",
    "Para fines prácticos comencemos con que, en Python, una variable es el nombre que le damos a algo que va a guardar un valor, el que nosotros queramos. Puede ser un entero, puede ser un float, puede ser un booleano o puede ser cadena, o puede ser simple y sencillamente lo que se te antoje (las maravillas de Python, ¿no?).\n",
    "\n",
    "Para usar variables, usamos una sintaxis así: `nombre = valor`, donde `valor` es el número, booleano o string que quieras guardar, y `nombre` puede ser cualquier palabra (una sola palabra), que puede estar compuesta por letras, números y el caracter de guión bajo (`_`). Esa palabra es el nombre que quieras darle por nombre a tu variable. Hay una lista de palabras que **no** se pueden (y evidentemente no se deben) utilizar como nombres de variables:\n",
    "\n",
    "|   |   |   |   |   |\n",
    "|:----:|:---:|:---:|:---:|:---:|\n",
    "|False | None| True|  and|   as|\n",
    "|assert|async|await|break|class|\n",
    "|continue|def|del|elif|else|\n",
    "|except|finally|for|from|global|\n",
    "|if|import|in|is|lambda|nonlocal|\n",
    "|not|or|pass|raise|return|\n",
    "|try|while|with|yield|\n",
    "\n",
    "Cualquier otra palabra que se te ocurra, es válida como variable, siempre y cuando empiece con una letra o guión bajo (no pueden empezar con número o ningún otro caracter que no sea letra o guión bajo)."
   ]
  },
  {
   "cell_type": "code",
   "execution_count": 8,
   "metadata": {},
   "outputs": [],
   "source": [
    "entero = 24\n",
    "un_flotante = 45.123\n",
    "un_booleano = True\n",
    "cadenita = \"Carmen, se me perdió la cadenita\""
   ]
  },
  {
   "cell_type": "markdown",
   "metadata": {},
   "source": [
    "Y bueno, asignar un valor a una variable, así como tal, pues no tiene mucha utilidad, y la consola no muestra nada cuando creas una variable y le asignas un valor. La pregunta ahora es \"¿para qué usaríamos estas variables?\". Bueno, una de las cosas más básicas que puedes hacer es imprimirlas, y las puedes usar como si fueran, tal cual, el valor que representan.\n",
    "\n",
    "**Nota:** en Jupyter, una vez que ejecutas un cuadro de código, las variables se pueden usar en cualquier otro bloque de código, es como si existieran en todos lados una vez que corres el bloque que las crea."
   ]
  },
  {
   "cell_type": "code",
   "execution_count": 9,
   "metadata": {},
   "outputs": [
    {
     "name": "stdout",
     "output_type": "stream",
     "text": [
      "Imprimir mi variable con el entero: 24\n",
      "Imprimir el flotante: 45.123\n"
     ]
    }
   ],
   "source": [
    "print(\"Imprimir mi variable con el entero:\", entero)\n",
    "print(\"Imprimir el flotante:\", un_flotante)"
   ]
  },
  {
   "cell_type": "code",
   "execution_count": 10,
   "metadata": {},
   "outputs": [
    {
     "data": {
      "text/plain": [
       "True"
      ]
     },
     "execution_count": 10,
     "metadata": {},
     "output_type": "execute_result"
    }
   ],
   "source": [
    "#Jupyter mostrará lo que contiene mi variable un_booleano\n",
    "un_booleano"
   ]
  },
  {
   "cell_type": "code",
   "execution_count": 11,
   "metadata": {},
   "outputs": [
    {
     "data": {
      "text/plain": [
       "'Carmen, se me perdió la cadenita'"
      ]
     },
     "execution_count": 11,
     "metadata": {},
     "output_type": "execute_result"
    }
   ],
   "source": [
    "#Y finalmente lo que contiene la variable \"cadenita\"\n",
    "cadenita"
   ]
  },
  {
   "cell_type": "markdown",
   "metadata": {},
   "source": [
    "### Para terminar\n",
    "\n",
    "Se diría que lo que contiene este notebook será suficiente para utilizar Jupyter, y saber cómo mostrar lo que está pasando en el código que escribes. Y todo el contenido del curso, basado en esto, te mostrará cómo lo que hicimos aquí es la raíz de tooodo lo demás que se puede hacer programando.\n",
    "\n",
    "Cada notebook de este curso está acompañado por otro notebook que contiene una práctica que te ayudará a fijar mejor el contenido que acabas de leer en cada lección. Ese notebook tendrá el mismo nombre que la lección, y termina con `_practica`. Por ejemplo, este notebook `1_hola_mundo` está junto a otro notebook llamado `1_hola_mundo_practica`, que te dará instrucciones para los ejercicios en los que practicarás lo contenido en este notebook.\n",
    "\n",
    "Sin más para esta lección, te invito a que completes la práctica de esta lección."
   ]
  }
 ],
 "metadata": {
  "kernelspec": {
   "display_name": "Python 3.7.2 64-bit ('pyenv': venv)",
   "language": "python",
   "name": "python37264bitpyenvvenvc673da5bded546ba9bf3ee42c3e4e2ae"
  },
  "language_info": {
   "codemirror_mode": {
    "name": "ipython",
    "version": 3
   },
   "file_extension": ".py",
   "mimetype": "text/x-python",
   "name": "python",
   "nbconvert_exporter": "python",
   "pygments_lexer": "ipython3",
   "version": "3.7.2"
  }
 },
 "nbformat": 4,
 "nbformat_minor": 4
}
